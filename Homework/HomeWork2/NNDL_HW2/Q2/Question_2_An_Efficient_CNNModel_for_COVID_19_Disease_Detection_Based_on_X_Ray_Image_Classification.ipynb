{
  "nbformat": 4,
  "nbformat_minor": 0,
  "metadata": {
    "colab": {
      "provenance": []
    },
    "kernelspec": {
      "name": "python3",
      "display_name": "Python 3"
    },
    "language_info": {
      "name": "python"
    },
    "accelerator": "TPU"
  },
  "cells": [
    {
      "cell_type": "markdown",
      "source": [
        "# Question 3 : An Efficient CNNModel for COVID-19 Disease Detection Based on X-Ray Image Classification\n"
      ],
      "metadata": {
        "id": "kIMfgi6-MtWM"
      }
    },
    {
      "cell_type": "markdown",
      "source": [
        "## Task :\n",
        "\n",
        "<ul>\n",
        "<li>Covid detection using CNN networks with low rate of falsy cases.</li>\n",
        "\n",
        "\n",
        "</ul>\n"
      ],
      "metadata": {
        "id": "7WZ5lHEFMzlD"
      }
    },
    {
      "cell_type": "markdown",
      "source": [
        "## Import Libraries"
      ],
      "metadata": {
        "id": "RDiferHvYWvZ"
      }
    },
    {
      "cell_type": "code",
      "execution_count": 1,
      "metadata": {
        "id": "A0B1JqmjLg9I"
      },
      "outputs": [],
      "source": [
        "import numpy as np\n",
        "import pandas as pd\n",
        "import matplotlib.pyplot as plt\n",
        "import cv2\n",
        "from sklearn.model_selection import train_test_split\n",
        "from sklearn.metrics import accuracy_score, classification_report, confusion_matrix\n",
        "from tensorflow import keras\n",
        "from tensorflow.keras import layers, models\n",
        "from tensorflow.keras.models import Sequential\n",
        "from keras.preprocessing.image import ImageDataGenerator\n",
        "import keras.utils as image\n",
        "from tensorflow.keras.layers import Conv2D, MaxPooling2D, Flatten, Dense, BatchNormalization, Dropout\n",
        "import os\n",
        "import seaborn as sns\n",
        "from tensorflow.keras.optimizers import Adam\n",
        "from tensorflow.keras.utils import to_categorical\n",
        "\n",
        "import shutil\n",
        "from google.colab import drive\n",
        "from google.colab import files\n"
      ]
    },
    {
      "cell_type": "markdown",
      "source": [
        "## Data collection and download"
      ],
      "metadata": {
        "id": "FRg0dFEyNe6q"
      }
    },
    {
      "cell_type": "markdown",
      "source": [
        " get the kaggle data-set"
      ],
      "metadata": {
        "id": "AJuZtxJZOHYx"
      }
    },
    {
      "cell_type": "code",
      "source": [
        "uploaded = files.upload()\n",
        "\n",
        "!mkdir -p ~/.kaggle\n",
        "!mv kaggle.json ~/.kaggle/\n",
        "!chmod 600 ~/.kaggle/kaggle.json\n",
        "!kaggle datasets download -d paultimothymooney/chest-xray-pneumonia\n",
        "!unzip -q chest-xray-pneumonia.zip"
      ],
      "metadata": {
        "colab": {
          "base_uri": "https://localhost:8080/",
          "height": 128
        },
        "id": "mkNGB2JoOKKD",
        "outputId": "670654b3-33ef-4716-bca6-597e8c5f124f"
      },
      "execution_count": 2,
      "outputs": [
        {
          "output_type": "display_data",
          "data": {
            "text/plain": [
              "<IPython.core.display.HTML object>"
            ],
            "text/html": [
              "\n",
              "     <input type=\"file\" id=\"files-5e3d369f-5d76-4f57-a2dd-05cd2f84b208\" name=\"files[]\" multiple disabled\n",
              "        style=\"border:none\" />\n",
              "     <output id=\"result-5e3d369f-5d76-4f57-a2dd-05cd2f84b208\">\n",
              "      Upload widget is only available when the cell has been executed in the\n",
              "      current browser session. Please rerun this cell to enable.\n",
              "      </output>\n",
              "      <script>// Copyright 2017 Google LLC\n",
              "//\n",
              "// Licensed under the Apache License, Version 2.0 (the \"License\");\n",
              "// you may not use this file except in compliance with the License.\n",
              "// You may obtain a copy of the License at\n",
              "//\n",
              "//      http://www.apache.org/licenses/LICENSE-2.0\n",
              "//\n",
              "// Unless required by applicable law or agreed to in writing, software\n",
              "// distributed under the License is distributed on an \"AS IS\" BASIS,\n",
              "// WITHOUT WARRANTIES OR CONDITIONS OF ANY KIND, either express or implied.\n",
              "// See the License for the specific language governing permissions and\n",
              "// limitations under the License.\n",
              "\n",
              "/**\n",
              " * @fileoverview Helpers for google.colab Python module.\n",
              " */\n",
              "(function(scope) {\n",
              "function span(text, styleAttributes = {}) {\n",
              "  const element = document.createElement('span');\n",
              "  element.textContent = text;\n",
              "  for (const key of Object.keys(styleAttributes)) {\n",
              "    element.style[key] = styleAttributes[key];\n",
              "  }\n",
              "  return element;\n",
              "}\n",
              "\n",
              "// Max number of bytes which will be uploaded at a time.\n",
              "const MAX_PAYLOAD_SIZE = 100 * 1024;\n",
              "\n",
              "function _uploadFiles(inputId, outputId) {\n",
              "  const steps = uploadFilesStep(inputId, outputId);\n",
              "  const outputElement = document.getElementById(outputId);\n",
              "  // Cache steps on the outputElement to make it available for the next call\n",
              "  // to uploadFilesContinue from Python.\n",
              "  outputElement.steps = steps;\n",
              "\n",
              "  return _uploadFilesContinue(outputId);\n",
              "}\n",
              "\n",
              "// This is roughly an async generator (not supported in the browser yet),\n",
              "// where there are multiple asynchronous steps and the Python side is going\n",
              "// to poll for completion of each step.\n",
              "// This uses a Promise to block the python side on completion of each step,\n",
              "// then passes the result of the previous step as the input to the next step.\n",
              "function _uploadFilesContinue(outputId) {\n",
              "  const outputElement = document.getElementById(outputId);\n",
              "  const steps = outputElement.steps;\n",
              "\n",
              "  const next = steps.next(outputElement.lastPromiseValue);\n",
              "  return Promise.resolve(next.value.promise).then((value) => {\n",
              "    // Cache the last promise value to make it available to the next\n",
              "    // step of the generator.\n",
              "    outputElement.lastPromiseValue = value;\n",
              "    return next.value.response;\n",
              "  });\n",
              "}\n",
              "\n",
              "/**\n",
              " * Generator function which is called between each async step of the upload\n",
              " * process.\n",
              " * @param {string} inputId Element ID of the input file picker element.\n",
              " * @param {string} outputId Element ID of the output display.\n",
              " * @return {!Iterable<!Object>} Iterable of next steps.\n",
              " */\n",
              "function* uploadFilesStep(inputId, outputId) {\n",
              "  const inputElement = document.getElementById(inputId);\n",
              "  inputElement.disabled = false;\n",
              "\n",
              "  const outputElement = document.getElementById(outputId);\n",
              "  outputElement.innerHTML = '';\n",
              "\n",
              "  const pickedPromise = new Promise((resolve) => {\n",
              "    inputElement.addEventListener('change', (e) => {\n",
              "      resolve(e.target.files);\n",
              "    });\n",
              "  });\n",
              "\n",
              "  const cancel = document.createElement('button');\n",
              "  inputElement.parentElement.appendChild(cancel);\n",
              "  cancel.textContent = 'Cancel upload';\n",
              "  const cancelPromise = new Promise((resolve) => {\n",
              "    cancel.onclick = () => {\n",
              "      resolve(null);\n",
              "    };\n",
              "  });\n",
              "\n",
              "  // Wait for the user to pick the files.\n",
              "  const files = yield {\n",
              "    promise: Promise.race([pickedPromise, cancelPromise]),\n",
              "    response: {\n",
              "      action: 'starting',\n",
              "    }\n",
              "  };\n",
              "\n",
              "  cancel.remove();\n",
              "\n",
              "  // Disable the input element since further picks are not allowed.\n",
              "  inputElement.disabled = true;\n",
              "\n",
              "  if (!files) {\n",
              "    return {\n",
              "      response: {\n",
              "        action: 'complete',\n",
              "      }\n",
              "    };\n",
              "  }\n",
              "\n",
              "  for (const file of files) {\n",
              "    const li = document.createElement('li');\n",
              "    li.append(span(file.name, {fontWeight: 'bold'}));\n",
              "    li.append(span(\n",
              "        `(${file.type || 'n/a'}) - ${file.size} bytes, ` +\n",
              "        `last modified: ${\n",
              "            file.lastModifiedDate ? file.lastModifiedDate.toLocaleDateString() :\n",
              "                                    'n/a'} - `));\n",
              "    const percent = span('0% done');\n",
              "    li.appendChild(percent);\n",
              "\n",
              "    outputElement.appendChild(li);\n",
              "\n",
              "    const fileDataPromise = new Promise((resolve) => {\n",
              "      const reader = new FileReader();\n",
              "      reader.onload = (e) => {\n",
              "        resolve(e.target.result);\n",
              "      };\n",
              "      reader.readAsArrayBuffer(file);\n",
              "    });\n",
              "    // Wait for the data to be ready.\n",
              "    let fileData = yield {\n",
              "      promise: fileDataPromise,\n",
              "      response: {\n",
              "        action: 'continue',\n",
              "      }\n",
              "    };\n",
              "\n",
              "    // Use a chunked sending to avoid message size limits. See b/62115660.\n",
              "    let position = 0;\n",
              "    do {\n",
              "      const length = Math.min(fileData.byteLength - position, MAX_PAYLOAD_SIZE);\n",
              "      const chunk = new Uint8Array(fileData, position, length);\n",
              "      position += length;\n",
              "\n",
              "      const base64 = btoa(String.fromCharCode.apply(null, chunk));\n",
              "      yield {\n",
              "        response: {\n",
              "          action: 'append',\n",
              "          file: file.name,\n",
              "          data: base64,\n",
              "        },\n",
              "      };\n",
              "\n",
              "      let percentDone = fileData.byteLength === 0 ?\n",
              "          100 :\n",
              "          Math.round((position / fileData.byteLength) * 100);\n",
              "      percent.textContent = `${percentDone}% done`;\n",
              "\n",
              "    } while (position < fileData.byteLength);\n",
              "  }\n",
              "\n",
              "  // All done.\n",
              "  yield {\n",
              "    response: {\n",
              "      action: 'complete',\n",
              "    }\n",
              "  };\n",
              "}\n",
              "\n",
              "scope.google = scope.google || {};\n",
              "scope.google.colab = scope.google.colab || {};\n",
              "scope.google.colab._files = {\n",
              "  _uploadFiles,\n",
              "  _uploadFilesContinue,\n",
              "};\n",
              "})(self);\n",
              "</script> "
            ]
          },
          "metadata": {}
        },
        {
          "output_type": "stream",
          "name": "stdout",
          "text": [
            "Saving kaggle.json to kaggle.json\n",
            "Downloading chest-xray-pneumonia.zip to /content\n",
            "100% 2.29G/2.29G [00:24<00:00, 116MB/s]\n",
            "100% 2.29G/2.29G [00:24<00:00, 99.7MB/s]\n"
          ]
        }
      ]
    },
    {
      "cell_type": "markdown",
      "source": [
        " get the github data-set"
      ],
      "metadata": {
        "id": "JYVgsM3OPakB"
      }
    },
    {
      "cell_type": "code",
      "source": [
        "!git clone https://github.com/ieee8023/covid-chestxray-dataset.git\n"
      ],
      "metadata": {
        "colab": {
          "base_uri": "https://localhost:8080/"
        },
        "id": "wovXmCzePLCh",
        "outputId": "b1f5f7e3-d3b4-4b6d-d7e7-342d2648a969"
      },
      "execution_count": 3,
      "outputs": [
        {
          "output_type": "stream",
          "name": "stdout",
          "text": [
            "Cloning into 'covid-chestxray-dataset'...\n",
            "remote: Enumerating objects: 3641, done.\u001b[K\n",
            "remote: Total 3641 (delta 0), reused 0 (delta 0), pack-reused 3641\u001b[K\n",
            "Receiving objects: 100% (3641/3641), 632.96 MiB | 35.45 MiB/s, done.\n",
            "Resolving deltas: 100% (1450/1450), done.\n",
            "Updating files: 100% (1174/1174), done.\n"
          ]
        }
      ]
    },
    {
      "cell_type": "markdown",
      "source": [
        "create data for positive samples (Github)"
      ],
      "metadata": {
        "id": "W-cLrNZRP4Ro"
      }
    },
    {
      "cell_type": "code",
      "source": [
        "FILE_PATH = \"/content/covid-chestxray-dataset/metadata.csv\"\n",
        "IMAGE_PATH = \"/content/covid-chestxray-dataset/images/\"\n"
      ],
      "metadata": {
        "id": "UzkKukqvP4Cg"
      },
      "execution_count": 12,
      "outputs": []
    },
    {
      "cell_type": "code",
      "source": [
        "df = pd.read_csv(FILE_PATH)\n",
        "print(df.shape)"
      ],
      "metadata": {
        "colab": {
          "base_uri": "https://localhost:8080/"
        },
        "id": "6JQlIPyRQaTo",
        "outputId": "12690ad8-46a2-4d8f-b6bc-ea813612ab33"
      },
      "execution_count": 13,
      "outputs": [
        {
          "output_type": "stream",
          "name": "stdout",
          "text": [
            "(950, 30)\n"
          ]
        }
      ]
    },
    {
      "cell_type": "code",
      "source": [
        "df.head()"
      ],
      "metadata": {
        "colab": {
          "base_uri": "https://localhost:8080/",
          "height": 620
        },
        "id": "H3nwS6BrRS33",
        "outputId": "972e4394-17eb-4c27-ea47-f3a78df22af5"
      },
      "execution_count": 14,
      "outputs": [
        {
          "output_type": "execute_result",
          "data": {
            "text/plain": [
              "  patientid  offset sex   age                   finding RT_PCR_positive  \\\n",
              "0         2     0.0   M  65.0  Pneumonia/Viral/COVID-19               Y   \n",
              "1         2     3.0   M  65.0  Pneumonia/Viral/COVID-19               Y   \n",
              "2         2     5.0   M  65.0  Pneumonia/Viral/COVID-19               Y   \n",
              "3         2     6.0   M  65.0  Pneumonia/Viral/COVID-19               Y   \n",
              "4         4     0.0   F  52.0  Pneumonia/Viral/COVID-19               Y   \n",
              "\n",
              "  survival intubated intubation_present went_icu  ...              date  \\\n",
              "0        Y         N                  N        N  ...  January 22, 2020   \n",
              "1        Y         N                  N        N  ...  January 25, 2020   \n",
              "2        Y         N                  N        N  ...  January 27, 2020   \n",
              "3        Y         N                  N        N  ...  January 28, 2020   \n",
              "4      NaN         N                  N        N  ...  January 25, 2020   \n",
              "\n",
              "                                            location  folder  \\\n",
              "0        Cho Ray Hospital, Ho Chi Minh City, Vietnam  images   \n",
              "1        Cho Ray Hospital, Ho Chi Minh City, Vietnam  images   \n",
              "2        Cho Ray Hospital, Ho Chi Minh City, Vietnam  images   \n",
              "3        Cho Ray Hospital, Ho Chi Minh City, Vietnam  images   \n",
              "4  Changhua Christian Hospital, Changhua City, Ta...  images   \n",
              "\n",
              "                                            filename                   doi  \\\n",
              "0  auntminnie-a-2020_01_28_23_51_6665_2020_01_28_...  10.1056/nejmc2001272   \n",
              "1  auntminnie-b-2020_01_28_23_51_6665_2020_01_28_...  10.1056/nejmc2001272   \n",
              "2  auntminnie-c-2020_01_28_23_51_6665_2020_01_28_...  10.1056/nejmc2001272   \n",
              "3  auntminnie-d-2020_01_28_23_51_6665_2020_01_28_...  10.1056/nejmc2001272   \n",
              "4                              nejmc2001573_f1a.jpeg  10.1056/NEJMc2001573   \n",
              "\n",
              "                                                 url  license  \\\n",
              "0  https://www.nejm.org/doi/full/10.1056/NEJMc200...      NaN   \n",
              "1  https://www.nejm.org/doi/full/10.1056/NEJMc200...      NaN   \n",
              "2  https://www.nejm.org/doi/full/10.1056/NEJMc200...      NaN   \n",
              "3  https://www.nejm.org/doi/full/10.1056/NEJMc200...      NaN   \n",
              "4  https://www.nejm.org/doi/full/10.1056/NEJMc200...      NaN   \n",
              "\n",
              "                                      clinical_notes other_notes Unnamed: 29  \n",
              "0  On January 22, 2020, a 65-year-old man with a ...         NaN         NaN  \n",
              "1  On January 22, 2020, a 65-year-old man with a ...         NaN         NaN  \n",
              "2  On January 22, 2020, a 65-year-old man with a ...         NaN         NaN  \n",
              "3  On January 22, 2020, a 65-year-old man with a ...         NaN         NaN  \n",
              "4   diffuse infiltrates in the bilateral lower lungs         NaN         NaN  \n",
              "\n",
              "[5 rows x 30 columns]"
            ],
            "text/html": [
              "\n",
              "  <div id=\"df-84a28d30-5fac-48eb-a345-e22c81740697\" class=\"colab-df-container\">\n",
              "    <div>\n",
              "<style scoped>\n",
              "    .dataframe tbody tr th:only-of-type {\n",
              "        vertical-align: middle;\n",
              "    }\n",
              "\n",
              "    .dataframe tbody tr th {\n",
              "        vertical-align: top;\n",
              "    }\n",
              "\n",
              "    .dataframe thead th {\n",
              "        text-align: right;\n",
              "    }\n",
              "</style>\n",
              "<table border=\"1\" class=\"dataframe\">\n",
              "  <thead>\n",
              "    <tr style=\"text-align: right;\">\n",
              "      <th></th>\n",
              "      <th>patientid</th>\n",
              "      <th>offset</th>\n",
              "      <th>sex</th>\n",
              "      <th>age</th>\n",
              "      <th>finding</th>\n",
              "      <th>RT_PCR_positive</th>\n",
              "      <th>survival</th>\n",
              "      <th>intubated</th>\n",
              "      <th>intubation_present</th>\n",
              "      <th>went_icu</th>\n",
              "      <th>...</th>\n",
              "      <th>date</th>\n",
              "      <th>location</th>\n",
              "      <th>folder</th>\n",
              "      <th>filename</th>\n",
              "      <th>doi</th>\n",
              "      <th>url</th>\n",
              "      <th>license</th>\n",
              "      <th>clinical_notes</th>\n",
              "      <th>other_notes</th>\n",
              "      <th>Unnamed: 29</th>\n",
              "    </tr>\n",
              "  </thead>\n",
              "  <tbody>\n",
              "    <tr>\n",
              "      <th>0</th>\n",
              "      <td>2</td>\n",
              "      <td>0.0</td>\n",
              "      <td>M</td>\n",
              "      <td>65.0</td>\n",
              "      <td>Pneumonia/Viral/COVID-19</td>\n",
              "      <td>Y</td>\n",
              "      <td>Y</td>\n",
              "      <td>N</td>\n",
              "      <td>N</td>\n",
              "      <td>N</td>\n",
              "      <td>...</td>\n",
              "      <td>January 22, 2020</td>\n",
              "      <td>Cho Ray Hospital, Ho Chi Minh City, Vietnam</td>\n",
              "      <td>images</td>\n",
              "      <td>auntminnie-a-2020_01_28_23_51_6665_2020_01_28_...</td>\n",
              "      <td>10.1056/nejmc2001272</td>\n",
              "      <td>https://www.nejm.org/doi/full/10.1056/NEJMc200...</td>\n",
              "      <td>NaN</td>\n",
              "      <td>On January 22, 2020, a 65-year-old man with a ...</td>\n",
              "      <td>NaN</td>\n",
              "      <td>NaN</td>\n",
              "    </tr>\n",
              "    <tr>\n",
              "      <th>1</th>\n",
              "      <td>2</td>\n",
              "      <td>3.0</td>\n",
              "      <td>M</td>\n",
              "      <td>65.0</td>\n",
              "      <td>Pneumonia/Viral/COVID-19</td>\n",
              "      <td>Y</td>\n",
              "      <td>Y</td>\n",
              "      <td>N</td>\n",
              "      <td>N</td>\n",
              "      <td>N</td>\n",
              "      <td>...</td>\n",
              "      <td>January 25, 2020</td>\n",
              "      <td>Cho Ray Hospital, Ho Chi Minh City, Vietnam</td>\n",
              "      <td>images</td>\n",
              "      <td>auntminnie-b-2020_01_28_23_51_6665_2020_01_28_...</td>\n",
              "      <td>10.1056/nejmc2001272</td>\n",
              "      <td>https://www.nejm.org/doi/full/10.1056/NEJMc200...</td>\n",
              "      <td>NaN</td>\n",
              "      <td>On January 22, 2020, a 65-year-old man with a ...</td>\n",
              "      <td>NaN</td>\n",
              "      <td>NaN</td>\n",
              "    </tr>\n",
              "    <tr>\n",
              "      <th>2</th>\n",
              "      <td>2</td>\n",
              "      <td>5.0</td>\n",
              "      <td>M</td>\n",
              "      <td>65.0</td>\n",
              "      <td>Pneumonia/Viral/COVID-19</td>\n",
              "      <td>Y</td>\n",
              "      <td>Y</td>\n",
              "      <td>N</td>\n",
              "      <td>N</td>\n",
              "      <td>N</td>\n",
              "      <td>...</td>\n",
              "      <td>January 27, 2020</td>\n",
              "      <td>Cho Ray Hospital, Ho Chi Minh City, Vietnam</td>\n",
              "      <td>images</td>\n",
              "      <td>auntminnie-c-2020_01_28_23_51_6665_2020_01_28_...</td>\n",
              "      <td>10.1056/nejmc2001272</td>\n",
              "      <td>https://www.nejm.org/doi/full/10.1056/NEJMc200...</td>\n",
              "      <td>NaN</td>\n",
              "      <td>On January 22, 2020, a 65-year-old man with a ...</td>\n",
              "      <td>NaN</td>\n",
              "      <td>NaN</td>\n",
              "    </tr>\n",
              "    <tr>\n",
              "      <th>3</th>\n",
              "      <td>2</td>\n",
              "      <td>6.0</td>\n",
              "      <td>M</td>\n",
              "      <td>65.0</td>\n",
              "      <td>Pneumonia/Viral/COVID-19</td>\n",
              "      <td>Y</td>\n",
              "      <td>Y</td>\n",
              "      <td>N</td>\n",
              "      <td>N</td>\n",
              "      <td>N</td>\n",
              "      <td>...</td>\n",
              "      <td>January 28, 2020</td>\n",
              "      <td>Cho Ray Hospital, Ho Chi Minh City, Vietnam</td>\n",
              "      <td>images</td>\n",
              "      <td>auntminnie-d-2020_01_28_23_51_6665_2020_01_28_...</td>\n",
              "      <td>10.1056/nejmc2001272</td>\n",
              "      <td>https://www.nejm.org/doi/full/10.1056/NEJMc200...</td>\n",
              "      <td>NaN</td>\n",
              "      <td>On January 22, 2020, a 65-year-old man with a ...</td>\n",
              "      <td>NaN</td>\n",
              "      <td>NaN</td>\n",
              "    </tr>\n",
              "    <tr>\n",
              "      <th>4</th>\n",
              "      <td>4</td>\n",
              "      <td>0.0</td>\n",
              "      <td>F</td>\n",
              "      <td>52.0</td>\n",
              "      <td>Pneumonia/Viral/COVID-19</td>\n",
              "      <td>Y</td>\n",
              "      <td>NaN</td>\n",
              "      <td>N</td>\n",
              "      <td>N</td>\n",
              "      <td>N</td>\n",
              "      <td>...</td>\n",
              "      <td>January 25, 2020</td>\n",
              "      <td>Changhua Christian Hospital, Changhua City, Ta...</td>\n",
              "      <td>images</td>\n",
              "      <td>nejmc2001573_f1a.jpeg</td>\n",
              "      <td>10.1056/NEJMc2001573</td>\n",
              "      <td>https://www.nejm.org/doi/full/10.1056/NEJMc200...</td>\n",
              "      <td>NaN</td>\n",
              "      <td>diffuse infiltrates in the bilateral lower lungs</td>\n",
              "      <td>NaN</td>\n",
              "      <td>NaN</td>\n",
              "    </tr>\n",
              "  </tbody>\n",
              "</table>\n",
              "<p>5 rows × 30 columns</p>\n",
              "</div>\n",
              "    <div class=\"colab-df-buttons\">\n",
              "\n",
              "  <div class=\"colab-df-container\">\n",
              "    <button class=\"colab-df-convert\" onclick=\"convertToInteractive('df-84a28d30-5fac-48eb-a345-e22c81740697')\"\n",
              "            title=\"Convert this dataframe to an interactive table.\"\n",
              "            style=\"display:none;\">\n",
              "\n",
              "  <svg xmlns=\"http://www.w3.org/2000/svg\" height=\"24px\" viewBox=\"0 -960 960 960\">\n",
              "    <path d=\"M120-120v-720h720v720H120Zm60-500h600v-160H180v160Zm220 220h160v-160H400v160Zm0 220h160v-160H400v160ZM180-400h160v-160H180v160Zm440 0h160v-160H620v160ZM180-180h160v-160H180v160Zm440 0h160v-160H620v160Z\"/>\n",
              "  </svg>\n",
              "    </button>\n",
              "\n",
              "  <style>\n",
              "    .colab-df-container {\n",
              "      display:flex;\n",
              "      gap: 12px;\n",
              "    }\n",
              "\n",
              "    .colab-df-convert {\n",
              "      background-color: #E8F0FE;\n",
              "      border: none;\n",
              "      border-radius: 50%;\n",
              "      cursor: pointer;\n",
              "      display: none;\n",
              "      fill: #1967D2;\n",
              "      height: 32px;\n",
              "      padding: 0 0 0 0;\n",
              "      width: 32px;\n",
              "    }\n",
              "\n",
              "    .colab-df-convert:hover {\n",
              "      background-color: #E2EBFA;\n",
              "      box-shadow: 0px 1px 2px rgba(60, 64, 67, 0.3), 0px 1px 3px 1px rgba(60, 64, 67, 0.15);\n",
              "      fill: #174EA6;\n",
              "    }\n",
              "\n",
              "    .colab-df-buttons div {\n",
              "      margin-bottom: 4px;\n",
              "    }\n",
              "\n",
              "    [theme=dark] .colab-df-convert {\n",
              "      background-color: #3B4455;\n",
              "      fill: #D2E3FC;\n",
              "    }\n",
              "\n",
              "    [theme=dark] .colab-df-convert:hover {\n",
              "      background-color: #434B5C;\n",
              "      box-shadow: 0px 1px 3px 1px rgba(0, 0, 0, 0.15);\n",
              "      filter: drop-shadow(0px 1px 2px rgba(0, 0, 0, 0.3));\n",
              "      fill: #FFFFFF;\n",
              "    }\n",
              "  </style>\n",
              "\n",
              "    <script>\n",
              "      const buttonEl =\n",
              "        document.querySelector('#df-84a28d30-5fac-48eb-a345-e22c81740697 button.colab-df-convert');\n",
              "      buttonEl.style.display =\n",
              "        google.colab.kernel.accessAllowed ? 'block' : 'none';\n",
              "\n",
              "      async function convertToInteractive(key) {\n",
              "        const element = document.querySelector('#df-84a28d30-5fac-48eb-a345-e22c81740697');\n",
              "        const dataTable =\n",
              "          await google.colab.kernel.invokeFunction('convertToInteractive',\n",
              "                                                    [key], {});\n",
              "        if (!dataTable) return;\n",
              "\n",
              "        const docLinkHtml = 'Like what you see? Visit the ' +\n",
              "          '<a target=\"_blank\" href=https://colab.research.google.com/notebooks/data_table.ipynb>data table notebook</a>'\n",
              "          + ' to learn more about interactive tables.';\n",
              "        element.innerHTML = '';\n",
              "        dataTable['output_type'] = 'display_data';\n",
              "        await google.colab.output.renderOutput(dataTable, element);\n",
              "        const docLink = document.createElement('div');\n",
              "        docLink.innerHTML = docLinkHtml;\n",
              "        element.appendChild(docLink);\n",
              "      }\n",
              "    </script>\n",
              "  </div>\n",
              "\n",
              "\n",
              "<div id=\"df-6fb59c6e-fa9f-441c-aad8-850840d8c80d\">\n",
              "  <button class=\"colab-df-quickchart\" onclick=\"quickchart('df-6fb59c6e-fa9f-441c-aad8-850840d8c80d')\"\n",
              "            title=\"Suggest charts\"\n",
              "            style=\"display:none;\">\n",
              "\n",
              "<svg xmlns=\"http://www.w3.org/2000/svg\" height=\"24px\"viewBox=\"0 0 24 24\"\n",
              "     width=\"24px\">\n",
              "    <g>\n",
              "        <path d=\"M19 3H5c-1.1 0-2 .9-2 2v14c0 1.1.9 2 2 2h14c1.1 0 2-.9 2-2V5c0-1.1-.9-2-2-2zM9 17H7v-7h2v7zm4 0h-2V7h2v10zm4 0h-2v-4h2v4z\"/>\n",
              "    </g>\n",
              "</svg>\n",
              "  </button>\n",
              "\n",
              "<style>\n",
              "  .colab-df-quickchart {\n",
              "      --bg-color: #E8F0FE;\n",
              "      --fill-color: #1967D2;\n",
              "      --hover-bg-color: #E2EBFA;\n",
              "      --hover-fill-color: #174EA6;\n",
              "      --disabled-fill-color: #AAA;\n",
              "      --disabled-bg-color: #DDD;\n",
              "  }\n",
              "\n",
              "  [theme=dark] .colab-df-quickchart {\n",
              "      --bg-color: #3B4455;\n",
              "      --fill-color: #D2E3FC;\n",
              "      --hover-bg-color: #434B5C;\n",
              "      --hover-fill-color: #FFFFFF;\n",
              "      --disabled-bg-color: #3B4455;\n",
              "      --disabled-fill-color: #666;\n",
              "  }\n",
              "\n",
              "  .colab-df-quickchart {\n",
              "    background-color: var(--bg-color);\n",
              "    border: none;\n",
              "    border-radius: 50%;\n",
              "    cursor: pointer;\n",
              "    display: none;\n",
              "    fill: var(--fill-color);\n",
              "    height: 32px;\n",
              "    padding: 0;\n",
              "    width: 32px;\n",
              "  }\n",
              "\n",
              "  .colab-df-quickchart:hover {\n",
              "    background-color: var(--hover-bg-color);\n",
              "    box-shadow: 0 1px 2px rgba(60, 64, 67, 0.3), 0 1px 3px 1px rgba(60, 64, 67, 0.15);\n",
              "    fill: var(--button-hover-fill-color);\n",
              "  }\n",
              "\n",
              "  .colab-df-quickchart-complete:disabled,\n",
              "  .colab-df-quickchart-complete:disabled:hover {\n",
              "    background-color: var(--disabled-bg-color);\n",
              "    fill: var(--disabled-fill-color);\n",
              "    box-shadow: none;\n",
              "  }\n",
              "\n",
              "  .colab-df-spinner {\n",
              "    border: 2px solid var(--fill-color);\n",
              "    border-color: transparent;\n",
              "    border-bottom-color: var(--fill-color);\n",
              "    animation:\n",
              "      spin 1s steps(1) infinite;\n",
              "  }\n",
              "\n",
              "  @keyframes spin {\n",
              "    0% {\n",
              "      border-color: transparent;\n",
              "      border-bottom-color: var(--fill-color);\n",
              "      border-left-color: var(--fill-color);\n",
              "    }\n",
              "    20% {\n",
              "      border-color: transparent;\n",
              "      border-left-color: var(--fill-color);\n",
              "      border-top-color: var(--fill-color);\n",
              "    }\n",
              "    30% {\n",
              "      border-color: transparent;\n",
              "      border-left-color: var(--fill-color);\n",
              "      border-top-color: var(--fill-color);\n",
              "      border-right-color: var(--fill-color);\n",
              "    }\n",
              "    40% {\n",
              "      border-color: transparent;\n",
              "      border-right-color: var(--fill-color);\n",
              "      border-top-color: var(--fill-color);\n",
              "    }\n",
              "    60% {\n",
              "      border-color: transparent;\n",
              "      border-right-color: var(--fill-color);\n",
              "    }\n",
              "    80% {\n",
              "      border-color: transparent;\n",
              "      border-right-color: var(--fill-color);\n",
              "      border-bottom-color: var(--fill-color);\n",
              "    }\n",
              "    90% {\n",
              "      border-color: transparent;\n",
              "      border-bottom-color: var(--fill-color);\n",
              "    }\n",
              "  }\n",
              "</style>\n",
              "\n",
              "  <script>\n",
              "    async function quickchart(key) {\n",
              "      const quickchartButtonEl =\n",
              "        document.querySelector('#' + key + ' button');\n",
              "      quickchartButtonEl.disabled = true;  // To prevent multiple clicks.\n",
              "      quickchartButtonEl.classList.add('colab-df-spinner');\n",
              "      try {\n",
              "        const charts = await google.colab.kernel.invokeFunction(\n",
              "            'suggestCharts', [key], {});\n",
              "      } catch (error) {\n",
              "        console.error('Error during call to suggestCharts:', error);\n",
              "      }\n",
              "      quickchartButtonEl.classList.remove('colab-df-spinner');\n",
              "      quickchartButtonEl.classList.add('colab-df-quickchart-complete');\n",
              "    }\n",
              "    (() => {\n",
              "      let quickchartButtonEl =\n",
              "        document.querySelector('#df-6fb59c6e-fa9f-441c-aad8-850840d8c80d button');\n",
              "      quickchartButtonEl.style.display =\n",
              "        google.colab.kernel.accessAllowed ? 'block' : 'none';\n",
              "    })();\n",
              "  </script>\n",
              "</div>\n",
              "    </div>\n",
              "  </div>\n"
            ]
          },
          "metadata": {},
          "execution_count": 14
        }
      ]
    },
    {
      "cell_type": "code",
      "source": [
        "DIR_NORMAL = os.path.join(PARENT_DIR, \"Normal\")\n",
        "TARGET_DIR_COVID = os.path.join(PARENT_DIR, \"Covid\")\n",
        "PARENT_DIR = \"/content/Dataset\""
      ],
      "metadata": {
        "id": "hKX9IaBiVBhd"
      },
      "execution_count": 17,
      "outputs": []
    },
    {
      "cell_type": "code",
      "source": [
        "\n",
        "\n",
        "if not os.path.exists(PARENT_DIR):\n",
        "    os.mkdir(PARENT_DIR)\n",
        "    print(\"Parent directory created\")\n",
        "\n",
        "if not os.path.exists(TARGET_DIR_COVID):\n",
        "    os.mkdir(TARGET_DIR_COVID)\n",
        "    print(\"Covid folder created\")\n",
        "if not os.path.exists(DIR_NORMAL):\n",
        "    os.mkdir(DIR_NORMAL)\n",
        "    print(\"Normal directory created\")\n"
      ],
      "metadata": {
        "colab": {
          "base_uri": "https://localhost:8080/"
        },
        "id": "_6iUPM3hRnbO",
        "outputId": "898e930e-129b-412c-a857-7dfd48411d6e"
      },
      "execution_count": 18,
      "outputs": [
        {
          "output_type": "stream",
          "name": "stdout",
          "text": [
            "Parent directory created\n",
            "Covid folder created\n",
            "Normal directory created\n"
          ]
        }
      ]
    },
    {
      "cell_type": "markdown",
      "source": [
        "### Of 178 images, 136 X-ray images belonged to confirmed COVID-19 patients and other 42 images belonged to normal or people with other diseases\n",
        "\n",
        "### Analysis of X-Ray Images by Medical Experts. A deep analysis was done on the X-ray images by medical specialists. Out of 135 X-ray images of confirmed COVID-19 patients,only a set of 90 X-ray images was selected as a perfect candidate to train the models."
      ],
      "metadata": {
        "id": "EUgo5T7-WNAz"
      }
    },
    {
      "cell_type": "code",
      "source": [
        "# if os.path.exists(TARGET_DIR_COVID):\n",
        "#     shutil.rmtree(TARGET_DIR_COVID)\n",
        "#     print(f\"{TARGET_DIR_COVID} folder cleared\")\n",
        "\n",
        "# if os.path.exists(DIR_NORMAL):\n",
        "#     shutil.rmtree(DIR_NORMAL)\n",
        "#     print(f\"{DIR_NORMAL} folder cleared\")"
      ],
      "metadata": {
        "colab": {
          "base_uri": "https://localhost:8080/"
        },
        "id": "Ph_cFqEFe5Sf",
        "outputId": "d456b526-b0dc-40bd-b071-00c588ae191d"
      },
      "execution_count": null,
      "outputs": [
        {
          "output_type": "stream",
          "name": "stdout",
          "text": [
            "/content/Dataset/Covid folder cleared\n",
            "/content/Dataset/Normal folder cleared\n"
          ]
        }
      ]
    },
    {
      "cell_type": "code",
      "source": [
        "cnt_covid = 0\n",
        "\n",
        "max_images_covid = 90\n",
        "\n",
        "for i, row in df.iterrows():\n",
        "    filename = row[\"filename\"]\n",
        "    image_path = os.path.join(IMAGE_PATH, filename)\n",
        "\n",
        "    if row[\"finding\"] == \"Pneumonia/Viral/COVID-19\" and row[\"view\"] == \"PA\" and cnt_covid < max_images_covid:\n",
        "        image_copy_path = os.path.join(TARGET_DIR_COVID, f\"covid_{cnt_covid}.png\")\n",
        "        shutil.copy2(image_path, image_copy_path)\n",
        "        cnt_covid += 1\n",
        "\n",
        "        if cnt_covid >= max_images_covid:\n",
        "            break\n",
        "\n",
        "\n",
        "print(f\"{cnt_covid} COVID-19 images (renamed) copied to {TARGET_DIR_COVID}\")"
      ],
      "metadata": {
        "colab": {
          "base_uri": "https://localhost:8080/"
        },
        "id": "dAYfI2sCS2Xl",
        "outputId": "874d666e-347f-4ebf-a320-e833a110cb85"
      },
      "execution_count": null,
      "outputs": [
        {
          "output_type": "stream",
          "name": "stdout",
          "text": [
            "90 COVID-19 images (renamed) copied to /content/Dataset/Covid\n"
          ]
        }
      ]
    },
    {
      "cell_type": "code",
      "source": [
        "cnt_normal = 0\n",
        "max_images_normal = 42\n",
        "for i, row in df.iterrows():\n",
        "    filename = row[\"filename\"]\n",
        "    image_path = os.path.join(IMAGE_PATH, filename)\n",
        "\n",
        "    if row[\"finding\"] != \"Pneumonia/Viral/COVID-19\" and cnt_normal < max_images_normal:\n",
        "        image_copy_path = os.path.join(DIR_NORMAL, f\"normal_{cnt_normal}.png\")\n",
        "        shutil.copy2(image_path, image_copy_path)\n",
        "        cnt_normal += 1\n",
        "\n",
        "    if  cnt_normal >= max_images_normal:\n",
        "        break\n",
        "\n",
        "print(f\"{cnt_normal} normal images copied to {DIR_NORMAL}\")"
      ],
      "metadata": {
        "colab": {
          "base_uri": "https://localhost:8080/"
        },
        "id": "dy6-n9-5VZ7U",
        "outputId": "a92d395a-7aed-4721-f210-cc00911b8b28"
      },
      "execution_count": 19,
      "outputs": [
        {
          "output_type": "stream",
          "name": "stdout",
          "text": [
            "42 normal images copied to /content/Dataset/Normal\n"
          ]
        }
      ]
    },
    {
      "cell_type": "markdown",
      "source": [
        "### Balancing Dataset Classes: COVID-19 cases, 136 normal chest X-ray images have been used. Extra X-ray images were downloaded from Kaggle"
      ],
      "metadata": {
        "id": "0eyLr9sTXKrM"
      }
    },
    {
      "cell_type": "code",
      "source": [
        "ADDITIONAL_NORMAL_DIR = \"/content/chest_xray/train/NORMAL\"\n",
        "\n",
        "cnt_additional_normal = 0\n",
        "\n",
        "max_additional_normal_images = 136\n",
        "\n",
        "for filename in os.listdir(ADDITIONAL_NORMAL_DIR):\n",
        "    if cnt_additional_normal >= max_additional_normal_images:\n",
        "        break\n",
        "\n",
        "    image_path = os.path.join(ADDITIONAL_NORMAL_DIR, filename)\n",
        "    image_copy_path = os.path.join(DIR_NORMAL, f\"normal_{cnt_additional_normal + max_images_normal}.png\")\n",
        "\n",
        "    shutil.copy2(image_path, image_copy_path)\n",
        "    cnt_additional_normal += 1\n",
        "\n",
        "print(f\"{cnt_additional_normal} additional normal images copied to {DIR_NORMAL}\")\n"
      ],
      "metadata": {
        "colab": {
          "base_uri": "https://localhost:8080/"
        },
        "id": "rX9iJEV9XU_q",
        "outputId": "34ab03f6-247e-41de-f42f-e6c1a1ba06a4"
      },
      "execution_count": 20,
      "outputs": [
        {
          "output_type": "stream",
          "name": "stdout",
          "text": [
            "136 additional normal images copied to /content/Dataset/Normal\n"
          ]
        }
      ]
    },
    {
      "cell_type": "markdown",
      "source": [
        "## Data Augmentation"
      ],
      "metadata": {
        "id": "BcpDmcnsYZ7a"
      }
    },
    {
      "cell_type": "code",
      "source": [
        "# if os.path.exists(TARGET_DIR_COVID):\n",
        "#     shutil.rmtree(TARGET_DIR_COVID)\n",
        "#     print(f\"{TARGET_DIR_COVID} folder cleared\")"
      ],
      "metadata": {
        "colab": {
          "base_uri": "https://localhost:8080/"
        },
        "id": "1amJm0SUnAhm",
        "outputId": "26bfee2e-b5cf-4d73-eab1-0cd9b22ae64d"
      },
      "execution_count": null,
      "outputs": [
        {
          "output_type": "stream",
          "name": "stdout",
          "text": [
            "/content/Dataset/Covid folder cleared\n"
          ]
        }
      ]
    },
    {
      "cell_type": "code",
      "source": [
        "cnt_covid = 0\n",
        "\n",
        "max_images_covid = 90\n",
        "\n",
        "max_horizontal_flip = 90\n",
        "max_rotation_90 = 90\n",
        "max_rotation_180 = 90\n",
        "max_rotation_270 = 90\n",
        "\n",
        "datagen_horizontal_flip = ImageDataGenerator(horizontal_flip=True)\n",
        "datagen_rotation_90 = ImageDataGenerator(rotation_range=90)\n",
        "datagen_rotation_180 = ImageDataGenerator(rotation_range=180)\n",
        "datagen_rotation_270 = ImageDataGenerator(rotation_range=270)\n",
        "\n",
        "for i, row in df.iterrows():\n",
        "    if row[\"finding\"] == \"Pneumonia/Viral/COVID-19\" and row[\"view\"] == \"PA\" and cnt_covid < max_images_covid:\n",
        "        original_image_path = os.path.join(IMAGE_PATH, row[\"filename\"])\n",
        "        original_image_copy_path = os.path.join(TARGET_DIR_COVID, f\"covid_{cnt_covid}.png\")\n",
        "        shutil.copy2(original_image_path, original_image_copy_path)\n",
        "        cnt_covid += 1\n",
        "\n",
        "        if cnt_covid >= max_images_covid:\n",
        "            break\n",
        "\n",
        "        img = image.load_img(original_image_path)\n",
        "        x = image.img_to_array(img)\n",
        "        x = x.reshape((1,) + x.shape)\n",
        "\n",
        "        i = 0\n",
        "        for batch in datagen_horizontal_flip.flow(x, batch_size=1, save_to_dir=TARGET_DIR_COVID, save_prefix=f\"aug_hflip_{cnt_covid}\", save_format=\"png\"):\n",
        "            i += 1\n",
        "            if i >= max_horizontal_flip:\n",
        "                break\n",
        "\n",
        "        i = 0\n",
        "        for batch in datagen_rotation_90.flow(x, batch_size=1, save_to_dir=TARGET_DIR_COVID, save_prefix=f\"aug_rot90_{cnt_covid}\", save_format=\"png\"):\n",
        "            i += 1\n",
        "            if i >= max_rotation_90:\n",
        "                break\n",
        "\n",
        "        i = 0\n",
        "        for batch in datagen_rotation_180.flow(x, batch_size=1, save_to_dir=TARGET_DIR_COVID, save_prefix=f\"aug_rot180_{cnt_covid}\", save_format=\"png\"):\n",
        "            i += 1\n",
        "            if i >= max_rotation_180:\n",
        "                break\n",
        "\n",
        "        i = 0\n",
        "        for batch in datagen_rotation_270.flow(x, batch_size=1, save_to_dir=TARGET_DIR_COVID, save_prefix=f\"aug_rot270_{cnt_covid}\", save_format=\"png\"):\n",
        "            i += 1\n",
        "            if i >= max_rotation_270:\n",
        "                break\n"
      ],
      "metadata": {
        "colab": {
          "base_uri": "https://localhost:8080/",
          "height": 441
        },
        "id": "R8iuR264fpGz",
        "outputId": "7929917d-5af1-4e1b-df7a-00a0e5d4d4fb"
      },
      "execution_count": 21,
      "outputs": [
        {
          "output_type": "error",
          "ename": "KeyboardInterrupt",
          "evalue": "ignored",
          "traceback": [
            "\u001b[0;31m---------------------------------------------------------------------------\u001b[0m",
            "\u001b[0;31mKeyboardInterrupt\u001b[0m                         Traceback (most recent call last)",
            "\u001b[0;32m<ipython-input-21-1ea6f46b622f>\u001b[0m in \u001b[0;36m<cell line: 15>\u001b[0;34m()\u001b[0m\n\u001b[1;32m     40\u001b[0m \u001b[0;34m\u001b[0m\u001b[0m\n\u001b[1;32m     41\u001b[0m         \u001b[0mi\u001b[0m \u001b[0;34m=\u001b[0m \u001b[0;36m0\u001b[0m\u001b[0;34m\u001b[0m\u001b[0;34m\u001b[0m\u001b[0m\n\u001b[0;32m---> 42\u001b[0;31m         \u001b[0;32mfor\u001b[0m \u001b[0mbatch\u001b[0m \u001b[0;32min\u001b[0m \u001b[0mdatagen_rotation_180\u001b[0m\u001b[0;34m.\u001b[0m\u001b[0mflow\u001b[0m\u001b[0;34m(\u001b[0m\u001b[0mx\u001b[0m\u001b[0;34m,\u001b[0m \u001b[0mbatch_size\u001b[0m\u001b[0;34m=\u001b[0m\u001b[0;36m1\u001b[0m\u001b[0;34m,\u001b[0m \u001b[0msave_to_dir\u001b[0m\u001b[0;34m=\u001b[0m\u001b[0mTARGET_DIR_COVID\u001b[0m\u001b[0;34m,\u001b[0m \u001b[0msave_prefix\u001b[0m\u001b[0;34m=\u001b[0m\u001b[0;34mf\"aug_rot180_{cnt_covid}\"\u001b[0m\u001b[0;34m,\u001b[0m \u001b[0msave_format\u001b[0m\u001b[0;34m=\u001b[0m\u001b[0;34m\"png\"\u001b[0m\u001b[0;34m)\u001b[0m\u001b[0;34m:\u001b[0m\u001b[0;34m\u001b[0m\u001b[0;34m\u001b[0m\u001b[0m\n\u001b[0m\u001b[1;32m     43\u001b[0m             \u001b[0mi\u001b[0m \u001b[0;34m+=\u001b[0m \u001b[0;36m1\u001b[0m\u001b[0;34m\u001b[0m\u001b[0;34m\u001b[0m\u001b[0m\n\u001b[1;32m     44\u001b[0m             \u001b[0;32mif\u001b[0m \u001b[0mi\u001b[0m \u001b[0;34m>=\u001b[0m \u001b[0mmax_rotation_180\u001b[0m\u001b[0;34m:\u001b[0m\u001b[0;34m\u001b[0m\u001b[0;34m\u001b[0m\u001b[0m\n",
            "\u001b[0;32m/usr/local/lib/python3.10/dist-packages/keras/preprocessing/image.py\u001b[0m in \u001b[0;36m__next__\u001b[0;34m(self, *args, **kwargs)\u001b[0m\n\u001b[1;32m    154\u001b[0m \u001b[0;34m\u001b[0m\u001b[0m\n\u001b[1;32m    155\u001b[0m     \u001b[0;32mdef\u001b[0m \u001b[0m__next__\u001b[0m\u001b[0;34m(\u001b[0m\u001b[0mself\u001b[0m\u001b[0;34m,\u001b[0m \u001b[0;34m*\u001b[0m\u001b[0margs\u001b[0m\u001b[0;34m,\u001b[0m \u001b[0;34m**\u001b[0m\u001b[0mkwargs\u001b[0m\u001b[0;34m)\u001b[0m\u001b[0;34m:\u001b[0m\u001b[0;34m\u001b[0m\u001b[0;34m\u001b[0m\u001b[0m\n\u001b[0;32m--> 156\u001b[0;31m         \u001b[0;32mreturn\u001b[0m \u001b[0mself\u001b[0m\u001b[0;34m.\u001b[0m\u001b[0mnext\u001b[0m\u001b[0;34m(\u001b[0m\u001b[0;34m*\u001b[0m\u001b[0margs\u001b[0m\u001b[0;34m,\u001b[0m \u001b[0;34m**\u001b[0m\u001b[0mkwargs\u001b[0m\u001b[0;34m)\u001b[0m\u001b[0;34m\u001b[0m\u001b[0;34m\u001b[0m\u001b[0m\n\u001b[0m\u001b[1;32m    157\u001b[0m \u001b[0;34m\u001b[0m\u001b[0m\n\u001b[1;32m    158\u001b[0m     \u001b[0;32mdef\u001b[0m \u001b[0mnext\u001b[0m\u001b[0;34m(\u001b[0m\u001b[0mself\u001b[0m\u001b[0;34m)\u001b[0m\u001b[0;34m:\u001b[0m\u001b[0;34m\u001b[0m\u001b[0;34m\u001b[0m\u001b[0m\n",
            "\u001b[0;32m/usr/local/lib/python3.10/dist-packages/keras/preprocessing/image.py\u001b[0m in \u001b[0;36mnext\u001b[0;34m(self)\u001b[0m\n\u001b[1;32m    166\u001b[0m         \u001b[0;31m# The transformation of images is not under thread lock\u001b[0m\u001b[0;34m\u001b[0m\u001b[0;34m\u001b[0m\u001b[0m\n\u001b[1;32m    167\u001b[0m         \u001b[0;31m# so it can be done in parallel\u001b[0m\u001b[0;34m\u001b[0m\u001b[0;34m\u001b[0m\u001b[0m\n\u001b[0;32m--> 168\u001b[0;31m         \u001b[0;32mreturn\u001b[0m \u001b[0mself\u001b[0m\u001b[0;34m.\u001b[0m\u001b[0m_get_batches_of_transformed_samples\u001b[0m\u001b[0;34m(\u001b[0m\u001b[0mindex_array\u001b[0m\u001b[0;34m)\u001b[0m\u001b[0;34m\u001b[0m\u001b[0;34m\u001b[0m\u001b[0m\n\u001b[0m\u001b[1;32m    169\u001b[0m \u001b[0;34m\u001b[0m\u001b[0m\n\u001b[1;32m    170\u001b[0m     \u001b[0;32mdef\u001b[0m \u001b[0m_get_batches_of_transformed_samples\u001b[0m\u001b[0;34m(\u001b[0m\u001b[0mself\u001b[0m\u001b[0;34m,\u001b[0m \u001b[0mindex_array\u001b[0m\u001b[0;34m)\u001b[0m\u001b[0;34m:\u001b[0m\u001b[0;34m\u001b[0m\u001b[0;34m\u001b[0m\u001b[0m\n",
            "\u001b[0;32m/usr/local/lib/python3.10/dist-packages/keras/preprocessing/image.py\u001b[0m in \u001b[0;36m_get_batches_of_transformed_samples\u001b[0;34m(self, index_array)\u001b[0m\n\u001b[1;32m    799\u001b[0m             \u001b[0mx\u001b[0m \u001b[0;34m=\u001b[0m \u001b[0mself\u001b[0m\u001b[0;34m.\u001b[0m\u001b[0mx\u001b[0m\u001b[0;34m[\u001b[0m\u001b[0mj\u001b[0m\u001b[0;34m]\u001b[0m\u001b[0;34m\u001b[0m\u001b[0;34m\u001b[0m\u001b[0m\n\u001b[1;32m    800\u001b[0m             \u001b[0mparams\u001b[0m \u001b[0;34m=\u001b[0m \u001b[0mself\u001b[0m\u001b[0;34m.\u001b[0m\u001b[0mimage_data_generator\u001b[0m\u001b[0;34m.\u001b[0m\u001b[0mget_random_transform\u001b[0m\u001b[0;34m(\u001b[0m\u001b[0mx\u001b[0m\u001b[0;34m.\u001b[0m\u001b[0mshape\u001b[0m\u001b[0;34m)\u001b[0m\u001b[0;34m\u001b[0m\u001b[0;34m\u001b[0m\u001b[0m\n\u001b[0;32m--> 801\u001b[0;31m             x = self.image_data_generator.apply_transform(\n\u001b[0m\u001b[1;32m    802\u001b[0m                 \u001b[0mx\u001b[0m\u001b[0;34m.\u001b[0m\u001b[0mastype\u001b[0m\u001b[0;34m(\u001b[0m\u001b[0mself\u001b[0m\u001b[0;34m.\u001b[0m\u001b[0mdtype\u001b[0m\u001b[0;34m)\u001b[0m\u001b[0;34m,\u001b[0m \u001b[0mparams\u001b[0m\u001b[0;34m\u001b[0m\u001b[0;34m\u001b[0m\u001b[0m\n\u001b[1;32m    803\u001b[0m             )\n",
            "\u001b[0;32m/usr/local/lib/python3.10/dist-packages/keras/preprocessing/image.py\u001b[0m in \u001b[0;36mapply_transform\u001b[0;34m(self, x, transform_parameters)\u001b[0m\n\u001b[1;32m   2009\u001b[0m         \u001b[0mimg_channel_axis\u001b[0m \u001b[0;34m=\u001b[0m \u001b[0mself\u001b[0m\u001b[0;34m.\u001b[0m\u001b[0mchannel_axis\u001b[0m \u001b[0;34m-\u001b[0m \u001b[0;36m1\u001b[0m\u001b[0;34m\u001b[0m\u001b[0;34m\u001b[0m\u001b[0m\n\u001b[1;32m   2010\u001b[0m \u001b[0;34m\u001b[0m\u001b[0m\n\u001b[0;32m-> 2011\u001b[0;31m         x = apply_affine_transform(\n\u001b[0m\u001b[1;32m   2012\u001b[0m             \u001b[0mx\u001b[0m\u001b[0;34m,\u001b[0m\u001b[0;34m\u001b[0m\u001b[0;34m\u001b[0m\u001b[0m\n\u001b[1;32m   2013\u001b[0m             \u001b[0mtransform_parameters\u001b[0m\u001b[0;34m.\u001b[0m\u001b[0mget\u001b[0m\u001b[0;34m(\u001b[0m\u001b[0;34m\"theta\"\u001b[0m\u001b[0;34m,\u001b[0m \u001b[0;36m0\u001b[0m\u001b[0;34m)\u001b[0m\u001b[0;34m,\u001b[0m\u001b[0;34m\u001b[0m\u001b[0;34m\u001b[0m\u001b[0m\n",
            "\u001b[0;32m/usr/local/lib/python3.10/dist-packages/keras/preprocessing/image.py\u001b[0m in \u001b[0;36mapply_affine_transform\u001b[0;34m(x, theta, tx, ty, shear, zx, zy, row_axis, col_axis, channel_axis, fill_mode, cval, order)\u001b[0m\n\u001b[1;32m   2607\u001b[0m         \u001b[0mfinal_offset\u001b[0m \u001b[0;34m=\u001b[0m \u001b[0mtransform_matrix\u001b[0m\u001b[0;34m[\u001b[0m\u001b[0;34m:\u001b[0m\u001b[0;36m2\u001b[0m\u001b[0;34m,\u001b[0m \u001b[0;36m2\u001b[0m\u001b[0;34m]\u001b[0m\u001b[0;34m\u001b[0m\u001b[0;34m\u001b[0m\u001b[0m\n\u001b[1;32m   2608\u001b[0m \u001b[0;34m\u001b[0m\u001b[0m\n\u001b[0;32m-> 2609\u001b[0;31m         channel_images = [\n\u001b[0m\u001b[1;32m   2610\u001b[0m             ndimage.interpolation.affine_transform(\n\u001b[1;32m   2611\u001b[0m                 \u001b[0mx_channel\u001b[0m\u001b[0;34m,\u001b[0m\u001b[0;34m\u001b[0m\u001b[0;34m\u001b[0m\u001b[0m\n",
            "\u001b[0;32m/usr/local/lib/python3.10/dist-packages/keras/preprocessing/image.py\u001b[0m in \u001b[0;36m<listcomp>\u001b[0;34m(.0)\u001b[0m\n\u001b[1;32m   2608\u001b[0m \u001b[0;34m\u001b[0m\u001b[0m\n\u001b[1;32m   2609\u001b[0m         channel_images = [\n\u001b[0;32m-> 2610\u001b[0;31m             ndimage.interpolation.affine_transform(\n\u001b[0m\u001b[1;32m   2611\u001b[0m                 \u001b[0mx_channel\u001b[0m\u001b[0;34m,\u001b[0m\u001b[0;34m\u001b[0m\u001b[0;34m\u001b[0m\u001b[0m\n\u001b[1;32m   2612\u001b[0m                 \u001b[0mfinal_affine_matrix\u001b[0m\u001b[0;34m,\u001b[0m\u001b[0;34m\u001b[0m\u001b[0;34m\u001b[0m\u001b[0m\n",
            "\u001b[0;32m/usr/local/lib/python3.10/dist-packages/scipy/ndimage/_interpolation.py\u001b[0m in \u001b[0;36maffine_transform\u001b[0;34m(input, matrix, offset, output_shape, output, order, mode, cval, prefilter)\u001b[0m\n\u001b[1;32m    612\u001b[0m                              mode, cval, npad, False)\n\u001b[1;32m    613\u001b[0m     \u001b[0;32melse\u001b[0m\u001b[0;34m:\u001b[0m\u001b[0;34m\u001b[0m\u001b[0;34m\u001b[0m\u001b[0m\n\u001b[0;32m--> 614\u001b[0;31m         _nd_image.geometric_transform(filtered, None, None, matrix, offset,\n\u001b[0m\u001b[1;32m    615\u001b[0m                                       \u001b[0moutput\u001b[0m\u001b[0;34m,\u001b[0m \u001b[0morder\u001b[0m\u001b[0;34m,\u001b[0m \u001b[0mmode\u001b[0m\u001b[0;34m,\u001b[0m \u001b[0mcval\u001b[0m\u001b[0;34m,\u001b[0m \u001b[0mnpad\u001b[0m\u001b[0;34m,\u001b[0m \u001b[0;32mNone\u001b[0m\u001b[0;34m,\u001b[0m\u001b[0;34m\u001b[0m\u001b[0;34m\u001b[0m\u001b[0m\n\u001b[1;32m    616\u001b[0m                                       None)\n",
            "\u001b[0;31mKeyboardInterrupt\u001b[0m: "
          ]
        }
      ]
    },
    {
      "cell_type": "code",
      "source": [
        "TRAIN_PATH = \"/content/Dataset\"\n",
        "VALIDATION_PATH = \"/content/chest_xray/val/\""
      ],
      "metadata": {
        "id": "MleC5rlsY-AJ"
      },
      "execution_count": 23,
      "outputs": []
    },
    {
      "cell_type": "markdown",
      "source": [
        "### Model Architecture"
      ],
      "metadata": {
        "id": "BmbcJiJPZyBQ"
      }
    },
    {
      "cell_type": "code",
      "source": [
        "model = Sequential()\n",
        "\n",
        "model.add(Conv2D(64,kernel_size=(3,3),activation=\"relu\",input_shape=(150,150,3)))\n",
        "model.add(MaxPooling2D(pool_size=(2, 2)))\n",
        "model.add(BatchNormalization(axis=-1))\n",
        "model.add(Dropout(0.2))\n",
        "\n",
        "model.add(Conv2D(64,(3,3),activation=\"relu\"))\n",
        "model.add(MaxPooling2D(pool_size=(2, 2)))\n",
        "model.add(BatchNormalization(axis=-1))\n",
        "model.add(Dropout(0.2))\n",
        "\n",
        "model.add(Conv2D(128,(3,3),activation=\"relu\"))\n",
        "model.add(MaxPooling2D(pool_size=(2, 2)))\n",
        "model.add(BatchNormalization(axis=-1))\n",
        "model.add(Dropout(0.2))\n",
        "\n",
        "model.add(Conv2D(128,(3,3),activation=\"relu\"))\n",
        "model.add(MaxPooling2D(pool_size=(2, 2)))\n",
        "model.add(BatchNormalization(axis=-1))\n",
        "model.add(Dropout(0.2))\n",
        "\n",
        "model.add(Conv2D(256,(3,3),activation=\"relu\"))\n",
        "model.add(MaxPooling2D(pool_size=(2, 2)))\n",
        "model.add(BatchNormalization(axis=-1))\n",
        "model.add(Dropout(0.2))\n",
        "\n",
        "\n",
        "# model.add(Conv2D(256,(3,3),activation=\"relu\"))\n",
        "# model.add(MaxPooling2D(pool_size=(2, 2)))\n",
        "# model.add(BatchNormalization(axis=-1))\n",
        "# model.add(Dropout(0.2))\n",
        "\n",
        "model.add(Flatten())\n",
        "model.add(Dense(512,activation=\"relu\"))\n",
        "model.add(BatchNormalization(axis=-1))\n",
        "model.add(Dense(256,activation=\"relu\"))\n",
        "model.add(BatchNormalization(axis=-1))\n",
        "model.add(Dense(1,activation=\"sigmoid\"))\n",
        "\n",
        "model.compile(loss=keras.losses.binary_crossentropy,optimizer = \"adam\",metrics=[\"accuracy\"])"
      ],
      "metadata": {
        "id": "dnML0EB3Z0Wn"
      },
      "execution_count": 38,
      "outputs": []
    },
    {
      "cell_type": "code",
      "source": [
        "model.summary()\n"
      ],
      "metadata": {
        "id": "UJpDLfkQaFnB",
        "colab": {
          "base_uri": "https://localhost:8080/"
        },
        "outputId": "5492ab16-59fc-4942-e0a7-9bb126faf5ce"
      },
      "execution_count": 39,
      "outputs": [
        {
          "output_type": "stream",
          "name": "stdout",
          "text": [
            "Model: \"sequential_3\"\n",
            "_________________________________________________________________\n",
            " Layer (type)                Output Shape              Param #   \n",
            "=================================================================\n",
            " conv2d_17 (Conv2D)          (None, 148, 148, 64)      1792      \n",
            "                                                                 \n",
            " max_pooling2d_15 (MaxPoolin  (None, 74, 74, 64)       0         \n",
            " g2D)                                                            \n",
            "                                                                 \n",
            " batch_normalization_17 (Bat  (None, 74, 74, 64)       256       \n",
            " chNormalization)                                                \n",
            "                                                                 \n",
            " dropout_15 (Dropout)        (None, 74, 74, 64)        0         \n",
            "                                                                 \n",
            " conv2d_18 (Conv2D)          (None, 72, 72, 64)        36928     \n",
            "                                                                 \n",
            " max_pooling2d_16 (MaxPoolin  (None, 36, 36, 64)       0         \n",
            " g2D)                                                            \n",
            "                                                                 \n",
            " batch_normalization_18 (Bat  (None, 36, 36, 64)       256       \n",
            " chNormalization)                                                \n",
            "                                                                 \n",
            " dropout_16 (Dropout)        (None, 36, 36, 64)        0         \n",
            "                                                                 \n",
            " conv2d_19 (Conv2D)          (None, 34, 34, 128)       73856     \n",
            "                                                                 \n",
            " max_pooling2d_17 (MaxPoolin  (None, 17, 17, 128)      0         \n",
            " g2D)                                                            \n",
            "                                                                 \n",
            " batch_normalization_19 (Bat  (None, 17, 17, 128)      512       \n",
            " chNormalization)                                                \n",
            "                                                                 \n",
            " dropout_17 (Dropout)        (None, 17, 17, 128)       0         \n",
            "                                                                 \n",
            " conv2d_20 (Conv2D)          (None, 15, 15, 128)       147584    \n",
            "                                                                 \n",
            " max_pooling2d_18 (MaxPoolin  (None, 7, 7, 128)        0         \n",
            " g2D)                                                            \n",
            "                                                                 \n",
            " batch_normalization_20 (Bat  (None, 7, 7, 128)        512       \n",
            " chNormalization)                                                \n",
            "                                                                 \n",
            " dropout_18 (Dropout)        (None, 7, 7, 128)         0         \n",
            "                                                                 \n",
            " conv2d_21 (Conv2D)          (None, 5, 5, 256)         295168    \n",
            "                                                                 \n",
            " max_pooling2d_19 (MaxPoolin  (None, 2, 2, 256)        0         \n",
            " g2D)                                                            \n",
            "                                                                 \n",
            " batch_normalization_21 (Bat  (None, 2, 2, 256)        1024      \n",
            " chNormalization)                                                \n",
            "                                                                 \n",
            " dropout_19 (Dropout)        (None, 2, 2, 256)         0         \n",
            "                                                                 \n",
            " flatten_1 (Flatten)         (None, 1024)              0         \n",
            "                                                                 \n",
            " dense_3 (Dense)             (None, 512)               524800    \n",
            "                                                                 \n",
            " batch_normalization_22 (Bat  (None, 512)              2048      \n",
            " chNormalization)                                                \n",
            "                                                                 \n",
            " dense_4 (Dense)             (None, 256)               131328    \n",
            "                                                                 \n",
            " batch_normalization_23 (Bat  (None, 256)              1024      \n",
            " chNormalization)                                                \n",
            "                                                                 \n",
            " dense_5 (Dense)             (None, 1)                 257       \n",
            "                                                                 \n",
            "=================================================================\n",
            "Total params: 1,217,345\n",
            "Trainable params: 1,214,529\n",
            "Non-trainable params: 2,816\n",
            "_________________________________________________________________\n"
          ]
        }
      ]
    },
    {
      "cell_type": "markdown",
      "source": [
        "#### train model"
      ],
      "metadata": {
        "id": "emadIx_Gaf1w"
      }
    },
    {
      "cell_type": "code",
      "source": [
        "from keras.preprocessing import image\n",
        "\n",
        "train_datagen = image.ImageDataGenerator(\n",
        "    rescale = 1./255,\n",
        "    shear_range = 0.2,\n",
        ")\n",
        "test_dataset = image.ImageDataGenerator(rescale = 1./255)"
      ],
      "metadata": {
        "id": "NNuQjaKNah0n"
      },
      "execution_count": 40,
      "outputs": []
    },
    {
      "cell_type": "code",
      "source": [
        "train_generator = train_datagen.flow_from_directory(\n",
        "    '/content/Dataset/',\n",
        "    target_size = (150,150),\n",
        "    batch_size = 32,\n",
        "    class_mode = 'binary'\n",
        ")"
      ],
      "metadata": {
        "colab": {
          "base_uri": "https://localhost:8080/"
        },
        "id": "netdGe6KbC13",
        "outputId": "5b2a68e9-4d24-4824-be52-cda3e3f19bdc"
      },
      "execution_count": 41,
      "outputs": [
        {
          "output_type": "stream",
          "name": "stdout",
          "text": [
            "Found 2884 images belonging to 2 classes.\n"
          ]
        }
      ]
    },
    {
      "cell_type": "code",
      "source": [
        "train_generator.class_indices\n"
      ],
      "metadata": {
        "colab": {
          "base_uri": "https://localhost:8080/"
        },
        "id": "EygePxkkbbVO",
        "outputId": "6b9122ed-dbfe-4599-97d5-c07740e8b40a"
      },
      "execution_count": 42,
      "outputs": [
        {
          "output_type": "execute_result",
          "data": {
            "text/plain": [
              "{'Covid': 0, 'Normal': 1}"
            ]
          },
          "metadata": {},
          "execution_count": 42
        }
      ]
    },
    {
      "cell_type": "code",
      "source": [
        "validation_generator = test_dataset.flow_from_directory(\n",
        "    '/content/chest_xray/val/',\n",
        "    target_size = (150,150),\n",
        "    batch_size = 32,\n",
        "    class_mode = 'binary'\n",
        ")"
      ],
      "metadata": {
        "colab": {
          "base_uri": "https://localhost:8080/"
        },
        "id": "T2iMUuzob_FW",
        "outputId": "ed06c94e-125d-4842-f02a-bac5507346fc"
      },
      "execution_count": 43,
      "outputs": [
        {
          "output_type": "stream",
          "name": "stdout",
          "text": [
            "Found 16 images belonging to 2 classes.\n"
          ]
        }
      ]
    },
    {
      "cell_type": "markdown",
      "source": [
        "#### Fit The Model"
      ],
      "metadata": {
        "id": "O2iN1OX3cYQV"
      }
    },
    {
      "cell_type": "code",
      "source": [
        "hist = model.fit_generator(\n",
        "    train_generator,\n",
        "    steps_per_epoch = 8,\n",
        "    epochs = 50,\n",
        "    validation_data = validation_generator,\n",
        "    validation_steps = 2\n",
        ")"
      ],
      "metadata": {
        "colab": {
          "base_uri": "https://localhost:8080/"
        },
        "id": "TTmW6wwRcby0",
        "outputId": "b5b612f9-d690-4897-e2e2-55dc9e08eac8"
      },
      "execution_count": 44,
      "outputs": [
        {
          "output_type": "stream",
          "name": "stderr",
          "text": [
            "<ipython-input-44-5f1480d09954>:1: UserWarning: `Model.fit_generator` is deprecated and will be removed in a future version. Please use `Model.fit`, which supports generators.\n",
            "  hist = model.fit_generator(\n"
          ]
        },
        {
          "output_type": "stream",
          "name": "stdout",
          "text": [
            "Epoch 1/50\n",
            "8/8 [==============================] - ETA: 0s - loss: 0.8417 - accuracy: 0.5273"
          ]
        },
        {
          "output_type": "stream",
          "name": "stderr",
          "text": [
            "WARNING:tensorflow:Your input ran out of data; interrupting training. Make sure that your dataset or generator can generate at least `steps_per_epoch * epochs` batches (in this case, 2 batches). You may need to use the repeat() function when building your dataset.\n"
          ]
        },
        {
          "output_type": "stream",
          "name": "stdout",
          "text": [
            "\b\b\b\b\b\b\b\b\b\b\b\b\b\b\b\b\b\b\b\b\b\b\b\b\b\b\b\b\b\b\b\b\b\b\b\b\b\b\b\b\b\b\b\b\b\b\b\b\b\b\b\b\b\b\b\b\b\b\b\b\b\b\b\b\b\b\b\b\b\b\b\b\b\b\b\b\b\b\b\b\r8/8 [==============================] - 49s 5s/step - loss: 0.8417 - accuracy: 0.5273 - val_loss: 0.6971 - val_accuracy: 0.5000\n",
            "Epoch 2/50\n",
            "8/8 [==============================] - 44s 5s/step - loss: 0.5558 - accuracy: 0.7070\n",
            "Epoch 3/50\n",
            "8/8 [==============================] - 50s 5s/step - loss: 0.4853 - accuracy: 0.7930\n",
            "Epoch 4/50\n",
            "8/8 [==============================] - 43s 5s/step - loss: 0.2935 - accuracy: 0.9062\n",
            "Epoch 5/50\n",
            "8/8 [==============================] - 44s 5s/step - loss: 0.3067 - accuracy: 0.9258\n",
            "Epoch 6/50\n",
            "8/8 [==============================] - 40s 5s/step - loss: 0.3557 - accuracy: 0.8904\n",
            "Epoch 7/50\n",
            "8/8 [==============================] - 43s 5s/step - loss: 0.2374 - accuracy: 0.9414\n",
            "Epoch 8/50\n",
            "8/8 [==============================] - 44s 5s/step - loss: 0.1404 - accuracy: 0.9844\n",
            "Epoch 9/50\n",
            "8/8 [==============================] - 44s 5s/step - loss: 0.1337 - accuracy: 0.9766\n",
            "Epoch 10/50\n",
            "8/8 [==============================] - 43s 5s/step - loss: 0.0923 - accuracy: 0.9844\n",
            "Epoch 11/50\n",
            "8/8 [==============================] - 43s 5s/step - loss: 0.1964 - accuracy: 0.9609\n",
            "Epoch 12/50\n",
            "8/8 [==============================] - 43s 5s/step - loss: 0.1209 - accuracy: 0.9609\n",
            "Epoch 13/50\n",
            "8/8 [==============================] - 51s 6s/step - loss: 0.1226 - accuracy: 0.9844\n",
            "Epoch 14/50\n",
            "8/8 [==============================] - 43s 5s/step - loss: 0.1353 - accuracy: 0.9844\n",
            "Epoch 15/50\n",
            "8/8 [==============================] - 43s 5s/step - loss: 0.0789 - accuracy: 0.9805\n",
            "Epoch 16/50\n",
            "8/8 [==============================] - 44s 5s/step - loss: 0.0621 - accuracy: 1.0000\n",
            "Epoch 17/50\n",
            "8/8 [==============================] - 44s 5s/step - loss: 0.0772 - accuracy: 0.9805\n",
            "Epoch 18/50\n",
            "8/8 [==============================] - 43s 5s/step - loss: 0.0443 - accuracy: 1.0000\n",
            "Epoch 19/50\n",
            "8/8 [==============================] - 43s 5s/step - loss: 0.1037 - accuracy: 0.9805\n",
            "Epoch 20/50\n",
            "8/8 [==============================] - 44s 5s/step - loss: 0.0824 - accuracy: 0.9727\n",
            "Epoch 21/50\n",
            "8/8 [==============================] - 44s 5s/step - loss: 0.0976 - accuracy: 0.9844\n",
            "Epoch 22/50\n",
            "8/8 [==============================] - 43s 5s/step - loss: 0.0315 - accuracy: 1.0000\n",
            "Epoch 23/50\n",
            "8/8 [==============================] - 51s 6s/step - loss: 0.0737 - accuracy: 0.9961\n",
            "Epoch 24/50\n",
            "8/8 [==============================] - 45s 5s/step - loss: 0.0433 - accuracy: 0.9961\n",
            "Epoch 25/50\n",
            "8/8 [==============================] - 44s 5s/step - loss: 0.0533 - accuracy: 1.0000\n",
            "Epoch 26/50\n",
            "8/8 [==============================] - 44s 5s/step - loss: 0.0290 - accuracy: 0.9961\n",
            "Epoch 27/50\n",
            "8/8 [==============================] - 43s 5s/step - loss: 0.0227 - accuracy: 1.0000\n",
            "Epoch 28/50\n",
            "8/8 [==============================] - 43s 5s/step - loss: 0.0135 - accuracy: 1.0000\n",
            "Epoch 29/50\n",
            "8/8 [==============================] - 38s 5s/step - loss: 0.0233 - accuracy: 0.9956\n",
            "Epoch 30/50\n",
            "8/8 [==============================] - 43s 5s/step - loss: 0.0354 - accuracy: 1.0000\n",
            "Epoch 31/50\n",
            "8/8 [==============================] - 43s 5s/step - loss: 0.0178 - accuracy: 1.0000\n",
            "Epoch 32/50\n",
            "8/8 [==============================] - 43s 5s/step - loss: 0.0293 - accuracy: 0.9961\n",
            "Epoch 33/50\n",
            "8/8 [==============================] - 41s 5s/step - loss: 0.0216 - accuracy: 1.0000\n",
            "Epoch 34/50\n",
            "8/8 [==============================] - 53s 6s/step - loss: 0.0071 - accuracy: 1.0000\n",
            "Epoch 35/50\n",
            "8/8 [==============================] - 43s 5s/step - loss: 0.0153 - accuracy: 1.0000\n",
            "Epoch 36/50\n",
            "8/8 [==============================] - 43s 5s/step - loss: 0.0163 - accuracy: 1.0000\n",
            "Epoch 37/50\n",
            "8/8 [==============================] - 43s 5s/step - loss: 0.0079 - accuracy: 1.0000\n",
            "Epoch 38/50\n",
            "8/8 [==============================] - 43s 5s/step - loss: 0.1110 - accuracy: 0.9727\n",
            "Epoch 39/50\n",
            "8/8 [==============================] - 43s 5s/step - loss: 0.0540 - accuracy: 0.9922\n",
            "Epoch 40/50\n",
            "8/8 [==============================] - 43s 5s/step - loss: 0.0372 - accuracy: 0.9961\n",
            "Epoch 41/50\n",
            "8/8 [==============================] - 44s 5s/step - loss: 0.0272 - accuracy: 1.0000\n",
            "Epoch 42/50\n",
            "8/8 [==============================] - 51s 6s/step - loss: 0.0252 - accuracy: 0.9922\n",
            "Epoch 43/50\n",
            "8/8 [==============================] - 44s 5s/step - loss: 0.0287 - accuracy: 0.9961\n",
            "Epoch 44/50\n",
            "8/8 [==============================] - 44s 5s/step - loss: 0.0238 - accuracy: 1.0000\n",
            "Epoch 45/50\n",
            "8/8 [==============================] - 43s 5s/step - loss: 0.0174 - accuracy: 0.9961\n",
            "Epoch 46/50\n",
            "8/8 [==============================] - 42s 5s/step - loss: 0.0183 - accuracy: 0.9961\n",
            "Epoch 47/50\n",
            "8/8 [==============================] - 42s 5s/step - loss: 0.0206 - accuracy: 0.9961\n",
            "Epoch 48/50\n",
            "8/8 [==============================] - 42s 5s/step - loss: 0.0238 - accuracy: 0.9961\n",
            "Epoch 49/50\n",
            "8/8 [==============================] - 38s 5s/step - loss: 0.0173 - accuracy: 0.9956\n",
            "Epoch 50/50\n",
            "8/8 [==============================] - 43s 5s/step - loss: 0.0206 - accuracy: 1.0000\n"
          ]
        }
      ]
    },
    {
      "cell_type": "markdown",
      "source": [
        "Plot the loss and accuracy"
      ],
      "metadata": {
        "id": "DEuadsDbaBEM"
      }
    },
    {
      "cell_type": "code",
      "source": [
        "plt.figure(figsize=(12, 6))\n",
        "plt.subplot(1, 2, 1)\n",
        "plt.plot(hist.history['loss'], label='Train')\n",
        "plt.plot(hist.history['val_loss'], label='Validation')\n",
        "plt.title('Model Loss')\n",
        "plt.xlabel('Epoch')\n",
        "plt.ylabel('Loss')\n",
        "plt.legend(loc='upper right')\n",
        "\n",
        "plt.subplot(1, 2, 2)\n",
        "plt.plot(hist.history['accuracy'], label='Train')\n",
        "plt.plot(hist.history['val_accuracy'], label='Validation')\n",
        "plt.title('Model Accuracy')\n",
        "plt.xlabel('Epoch')\n",
        "plt.ylabel('Accuracy')\n",
        "plt.legend(loc='lower right')"
      ],
      "metadata": {
        "colab": {
          "base_uri": "https://localhost:8080/",
          "height": 582
        },
        "id": "x04XJ__tYbYI",
        "outputId": "e42d54ec-5e33-483d-a016-1a740e29954b"
      },
      "execution_count": 52,
      "outputs": [
        {
          "output_type": "execute_result",
          "data": {
            "text/plain": [
              "<matplotlib.legend.Legend at 0x78962c196aa0>"
            ]
          },
          "metadata": {},
          "execution_count": 52
        },
        {
          "output_type": "display_data",
          "data": {
            "text/plain": [
              "<Figure size 1200x600 with 2 Axes>"
            ],
            "image/png": "[encoded data removed]"
          },
          "metadata": {}
        }
      ]
    },
    {
      "cell_type": "markdown",
      "source": [
        "## Evaluation\n",
        "#### Evaluate the trained network on the test data and report the Accuracy,Precision, Specificity, Sensitivity and 1F score. Draw the confusion matrix"
      ],
      "metadata": {
        "id": "JYkxfwxiaHYd"
      }
    },
    {
      "cell_type": "code",
      "source": [
        "test_set_path = '/content/test_set/'\n",
        "normal_images_path = '/content/Dataset/Normal/'\n",
        "covid_images_path = '/content/Dataset/Covid/'"
      ],
      "metadata": {
        "id": "G4JntGWgcORN"
      },
      "execution_count": 91,
      "outputs": []
    },
    {
      "cell_type": "code",
      "source": [
        "if os.path.exists(test_set_path):\n",
        "    shutil.rmtree(test_set_path)\n",
        "    print(f\"{test_set_path} folder cleared\")\n"
      ],
      "metadata": {
        "colab": {
          "base_uri": "https://localhost:8080/"
        },
        "id": "t6WUsTJXgwUp",
        "outputId": "264850c1-e22b-4b95-8cc8-aad8249f886f"
      },
      "execution_count": 92,
      "outputs": [
        {
          "output_type": "stream",
          "name": "stdout",
          "text": [
            "/content/test_set/ folder cleared\n"
          ]
        }
      ]
    },
    {
      "cell_type": "code",
      "source": [
        "os.makedirs(test_set_path, exist_ok=True)\n"
      ],
      "metadata": {
        "id": "s4Xz4_hfepHD"
      },
      "execution_count": 93,
      "outputs": []
    },
    {
      "cell_type": "code",
      "source": [
        "normal_test_path = os.path.join(test_set_path, 'NORMAL')\n",
        "os.makedirs(normal_test_path, exist_ok=True)\n",
        "normal_images = os.listdir(normal_images_path)[:50]\n",
        "for img in normal_images:\n",
        "    img_path = os.path.join(normal_images_path, img)\n",
        "    shutil.copy2(img_path, os.path.join(normal_test_path, img))\n"
      ],
      "metadata": {
        "id": "Lm-oSVzOerY7"
      },
      "execution_count": 94,
      "outputs": []
    },
    {
      "cell_type": "code",
      "source": [
        "covid_test_path = os.path.join(test_set_path, 'COVID')\n",
        "os.makedirs(covid_test_path, exist_ok=True)\n",
        "covid_images = os.listdir(covid_images_path)[:50]\n",
        "for img in covid_images:\n",
        "    img_path = os.path.join(covid_images_path, img)\n",
        "    shutil.copy2(img_path, os.path.join(covid_test_path, img))"
      ],
      "metadata": {
        "id": "ZB_ruD1Xe4Kj"
      },
      "execution_count": 95,
      "outputs": []
    },
    {
      "cell_type": "code",
      "source": [
        "test_datagen = ImageDataGenerator(rescale=1./255)\n",
        "\n",
        "test_generator = test_datagen.flow_from_directory(\n",
        "    test_set_path,\n",
        "    target_size=(150, 150),\n",
        "    batch_size=32,\n",
        "    class_mode='binary'\n",
        ")"
      ],
      "metadata": {
        "colab": {
          "base_uri": "https://localhost:8080/"
        },
        "id": "-ezxu8dde65x",
        "outputId": "15392e71-2ef0-4737-cf52-7d3bf42e071a"
      },
      "execution_count": 96,
      "outputs": [
        {
          "output_type": "stream",
          "name": "stdout",
          "text": [
            "Found 100 images belonging to 2 classes.\n"
          ]
        }
      ]
    },
    {
      "cell_type": "code",
      "source": [
        "y_pred = model.predict_generator(test_generator)\n",
        "\n",
        "y_pred_binary = np.round(y_pred)\n",
        "\n",
        "y_true = test_generator.classes\n",
        "\n",
        "conf_mat = confusion_matrix(y_true, y_pred_binary)\n",
        "\n",
        "report = classification_report(y_true, y_pred_binary, target_names=test_generator.class_indices, output_dict=True)\n",
        "\n",
        "precision_normal = report['NORMAL']['precision']\n",
        "recall_normal = report['NORMAL']['recall']\n",
        "f1_score_normal = report['NORMAL']['f1-score']\n",
        "accuracy = report['accuracy']\n",
        "\n",
        "specificity_normal = conf_mat[0, 0] / (conf_mat[0, 0] + conf_mat[0, 1])\n",
        "\n",
        "print(\"Confusion Matrix:\")\n",
        "print(conf_mat)\n",
        "print(\"\\nClassification Report:\")\n",
        "print(classification_report(y_true, y_pred_binary, target_names=test_generator.class_indices))\n",
        "\n",
        "print(f\"Accuracy: {accuracy:.4f}\")\n",
        "print(f\"Precision (NORMAL): {precision_normal:.4f}\")\n",
        "print(f\"Recall / Sensitivity(NORMAL): {recall_normal:.4f}\")\n",
        "print(f\"F1 Score (NORMAL): {f1_score_normal:.4f}\")\n",
        "print(f\"Specificity (NORMAL): {specificity_normal:.4f}\")\n",
        "\n",
        "sns.heatmap(conf_mat, annot=True, fmt=\"d\", cmap=\"Blues\", xticklabels=test_generator.class_indices, yticklabels=test_generator.class_indices)\n",
        "plt.title('Confusion Matrix')\n",
        "plt.xlabel('Predicted')\n",
        "plt.ylabel('True')\n",
        "plt.show()\n"
      ],
      "metadata": {
        "colab": {
          "base_uri": "https://localhost:8080/",
          "height": 873
        },
        "id": "XOmMiV1GfCUr",
        "outputId": "28cbd299-491d-467c-e955-bb552f22a089"
      },
      "execution_count": 97,
      "outputs": [
        {
          "output_type": "stream",
          "name": "stderr",
          "text": [
            "<ipython-input-97-61cab6f7f816>:1: UserWarning: `Model.predict_generator` is deprecated and will be removed in a future version. Please use `Model.predict`, which supports generators.\n",
            "  y_pred = model.predict_generator(test_generator)\n"
          ]
        },
        {
          "output_type": "stream",
          "name": "stdout",
          "text": [
            "Confusion Matrix:\n",
            "[[43  7]\n",
            " [39 11]]\n",
            "\n",
            "Classification Report:\n",
            "              precision    recall  f1-score   support\n",
            "\n",
            "       COVID       0.52      0.86      0.65        50\n",
            "      NORMAL       0.61      0.22      0.32        50\n",
            "\n",
            "    accuracy                           0.54       100\n",
            "   macro avg       0.57      0.54      0.49       100\n",
            "weighted avg       0.57      0.54      0.49       100\n",
            "\n",
            "Accuracy: 0.5400\n",
            "Precision (NORMAL): 0.6111\n",
            "Recall / Sensitivity(NORMAL): 0.2200\n",
            "F1 Score (NORMAL): 0.3235\n",
            "Specificity (NORMAL): 0.8600\n"
          ]
        },
        {
          "output_type": "display_data",
          "data": {
            "text/plain": [
              "<Figure size 640x480 with 2 Axes>"
            ],
            "image/png": "[encoded data removed]"
          },
          "metadata": {}
        }
      ]
    }
  ]
}