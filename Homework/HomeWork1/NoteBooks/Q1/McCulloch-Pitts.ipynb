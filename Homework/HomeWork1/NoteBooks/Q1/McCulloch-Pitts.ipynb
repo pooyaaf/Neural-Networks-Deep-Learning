{
 "cells": [
  {
   "cell_type": "markdown",
   "metadata": {},
   "source": [
    "# Question 1: McCulloch-Pitts Neuron\n"
   ]
  },
  {
   "cell_type": "markdown",
   "metadata": {},
   "source": [
    "## Task :\n",
    "\n",
    "The task is to design a McCulloch-Pitts Neural Network such that it can seperate 7 segment digits between 6 to 9.\n",
    "\n",
    "In part one we should do it with no hidden layers and in part two we should use one hidden layers.\n"
   ]
  },
  {
   "cell_type": "markdown",
   "metadata": {},
   "source": [
    "## Model Architecture\n",
    "\n",
    "![image.png](Images/Q1-Mccullonch-Pitts.png)\n",
    "\n",
    "Let's choose $\\Theta = 0$ for the neuron's threshhold.The activation function of each output neuron is :\n",
    "\n",
    "$$\n",
    "d_{i}(net_{i}) = {sign}(net_{i}) =   \\left\\{\n",
    "\\begin{array}{ll}\n",
    "      1 & net_{i}>\\Theta \\\\\n",
    "      0 & net_{i}=\\Theta \\\\\n",
    "      -1 & net_{i}<\\Theta \\\\\n",
    "\\end{array}\n",
    "\\right.\n",
    "$$\n",
    "\n",
    "The weights and biases of each output neuron are adjusted according to their coefficient in the line equation.\n"
   ]
  },
  {
   "cell_type": "code",
   "execution_count": 171,
   "metadata": {},
   "outputs": [],
   "source": [
    "import numpy as np\n",
    "import pandas as pd\n"
   ]
  },
  {
   "cell_type": "markdown",
   "metadata": {},
   "source": [
    "## NN with no hidden layers\n"
   ]
  },
  {
   "cell_type": "markdown",
   "metadata": {},
   "source": [
    "#### Forward Propagation\n",
    "\n",
    "$$\n",
    "\\begin{bmatrix} d_1 \\\\ d_2 \\\\ d_3 \\\\ d_4 \\end{bmatrix}\n",
    "= {sign}(\\begin{bmatrix} w_{11} && w_{12} && w_{13} && w_{14} && w_{15} && w_{16} && w_{17} \\\\ w_{21} && w_{22} && w_{23} && w_{24} && w_{25} && w_{26} && w_{27}  \\\\ w_{31} && w_{32} && w_{33} && w_{34} && w_{35} && w_{36} && w_{37} \\\\  w_{41} && w_{42} && w_{43} && w_{44} && w_{45} && w_{46} && w_{47}  \\end{bmatrix}\n",
    "\\begin{bmatrix} x \\\\ y \\end{bmatrix}\n",
    "+ \\begin{bmatrix} b_{1} \\\\ b_{2} \\\\ b_{3} \\\\ b_{4} \\end{bmatrix})\n",
    "$$\n"
   ]
  },
  {
   "cell_type": "code",
   "execution_count": 172,
   "metadata": {},
   "outputs": [],
   "source": [
    "class NeuralNetwork:\n",
    "    def __init__(self, weights, biases):\n",
    "        self.weights = weights\n",
    "        self.biases = biases\n",
    "\n",
    "    def forward(self, x):\n",
    "        mult = np.sign(np.dot(self.weights, x) + self.biases)\n",
    "        return mult\n",
    "\n",
    "    def predict(self, input_data):\n",
    "        predicted_digits = []\n",
    "        for x in input_data:\n",
    "            output = self.forward(x)\n",
    "            predicted_digit = None\n",
    "            if output[0] == 1:\n",
    "                predicted_digit = 6\n",
    "            elif output[1] == 1:\n",
    "                predicted_digit = 7\n",
    "            elif output[2] == 1:\n",
    "                predicted_digit = 8\n",
    "            elif output[3] == 1:\n",
    "                predicted_digit = 9\n",
    "            predicted_digits.append(predicted_digit)\n",
    "        return np.array(predicted_digits)\n"
   ]
  },
  {
   "cell_type": "code",
   "execution_count": 173,
   "metadata": {},
   "outputs": [],
   "source": [
    "# Define the weights and biases based on the settings you provided\n",
    "weights = np.array([\n",
    "    [1, 0, 1, 1, 1, 1, 1],  # Weight vector for O1 (6)\n",
    "    [1, 1, 1, 0, 0, 0, 0],  # Weight vector for O2 (7)\n",
    "    [1, 1, 1, 1, 1, 1, 0],  # Weight vector for O3 (8)\n",
    "    [1, 1, 0, 1, 1, 1, 0]   # Weight vector for O4 (9)\n",
    "])\n",
    "\n",
    "biases = np.array([-3, -2, -6, -3])  # Threshold values for O1, O2, O3, O4\n"
   ]
  },
  {
   "cell_type": "code",
   "execution_count": 174,
   "metadata": {},
   "outputs": [],
   "source": [
    "# Create the neural network model\n",
    "model = NeuralNetwork(weights, biases)\n"
   ]
  },
  {
   "cell_type": "code",
   "execution_count": 175,
   "metadata": {},
   "outputs": [
    {
     "name": "stdout",
     "output_type": "stream",
     "text": [
      "Predicted Digits: [6 7 6 6]\n"
     ]
    }
   ],
   "source": [
    "input_data = [\n",
    "    [1, 0, 1, 1, 1, 1, 1],  # Weight vector for O1 (6)\n",
    "    [1, 1, 1, 0, 0, 0, 0],  # Weight vector for O2 (7)\n",
    "    [1, 1, 1, 1, 1, 1, 0],  # Weight vector for O3 (8)\n",
    "    [1, 1, 0, 1, 1, 1, 0]   # Weight vector for O4 (9)\n",
    "]\n",
    "\n",
    "predicted_digits = model.predict(input_data)\n",
    "print(\"Predicted Digits:\", predicted_digits)\n"
   ]
  },
  {
   "cell_type": "markdown",
   "metadata": {},
   "source": [
    "## NN with one hidden layer\n"
   ]
  }
 ],
 "metadata": {
  "kernelspec": {
   "display_name": "Python 3",
   "language": "python",
   "name": "python3"
  },
  "language_info": {
   "codemirror_mode": {
    "name": "ipython",
    "version": 3
   },
   "file_extension": ".py",
   "mimetype": "text/x-python",
   "name": "python",
   "nbconvert_exporter": "python",
   "pygments_lexer": "ipython3",
   "version": "3.11.6"
  }
 },
 "nbformat": 4,
 "nbformat_minor": 2
}
