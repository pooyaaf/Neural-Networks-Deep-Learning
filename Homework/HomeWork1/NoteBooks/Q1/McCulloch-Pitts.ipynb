{
 "cells": [
  {
   "cell_type": "markdown",
   "metadata": {},
   "source": [
    "# Question 1: McCulloch-Pitts Neuron\n"
   ]
  },
  {
   "cell_type": "markdown",
   "metadata": {},
   "source": [
    "## Task :\n",
    "\n",
    "The task is to design a McCulloch-Pitts Neural Network such that it can separate 7 segment digits between 6 and 9.\n",
    "\n",
    "In part one we should do it with no hidden layers and in part two we should use one hidden layer.\n"
   ]
  },
  {
   "cell_type": "markdown",
   "metadata": {},
   "source": [
    "## Model Architecture\n",
    "\n",
    "![image.png](Images/Q1-Mccullonch-Pitts.png)\n",
    "\n",
    "Let's choose $\\Theta = 0$ for the neuron's threshold. The activation function of each output neuron is :\n",
    "\n",
    "$$\n",
    "d_{i}(net_{i}) = {sign}(net_{i}) =   \\left\\{\n",
    "\\begin{array}{ll}\n",
    "      1 & net_{i}>\\Theta \\\\\n",
    "      0 & net_{i}=\\Theta \\\\\n",
    "      -1 & net_{i}<\\Theta \\\\\n",
    "\\end{array}\n",
    "\\right.\n",
    "$$\n",
    "\n",
    "The weights and biases of each output neuron are adjusted according to their coefficient in the line equation.\n"
   ]
  },
  {
   "cell_type": "code",
   "execution_count": 350,
   "metadata": {},
   "outputs": [],
   "source": [
    "import numpy as np\n",
    "import pandas as pd\n"
   ]
  },
  {
   "cell_type": "markdown",
   "metadata": {},
   "source": [
    "## NN with no hidden layers\n"
   ]
  },
  {
   "cell_type": "markdown",
   "metadata": {},
   "source": [
    "#### Forward Propagation\n",
    "\n",
    "$$\n",
    "\\begin{bmatrix} d_1 \\\\ d_2 \\\\ d_3 \\\\ d_4 \\end{bmatrix}\n",
    "= {sign}(\\begin{bmatrix} w_{11} && w_{12} && w_{13} && w_{14} && w_{15} && w_{16} && w_{17} \\\\ w_{21} && w_{22} && w_{23} && w_{24} && w_{25} && w_{26} && w_{27}  \\\\ w_{31} && w_{32} && w_{33} && w_{34} && w_{35} && w_{36} && w_{37} \\\\  w_{41} && w_{42} && w_{43} && w_{44} && w_{45} && w_{46} && w_{47}  \\end{bmatrix}\n",
    "\\begin{bmatrix} x \\\\ y \\end{bmatrix}\n",
    "+ \\begin{bmatrix} b_{1} \\\\ b_{2} \\\\ b_{3} \\\\ b_{4} \\end{bmatrix})\n",
    "$$\n"
   ]
  },
  {
   "cell_type": "code",
   "execution_count": 351,
   "metadata": {},
   "outputs": [],
   "source": [
    "class NeuralNetwork:\n",
    "    def __init__(self, weights, threshold):\n",
    "        self.weights = weights\n",
    "        self.threshold = threshold\n",
    "\n",
    "    def forward(self, inputs):\n",
    "        # mult = np.sign(np.dot(self.weights, x) + self.biases)\n",
    "        mult = sum(w * x for w, x in zip(self.weights, inputs))\n",
    "        result = self.activate(mult)\n",
    "        return result\n",
    "\n",
    "    def activate(self, mult) -> bool:\n",
    "        return 1 if mult >= self.threshold else 0\n"
   ]
  },
  {
   "cell_type": "code",
   "execution_count": 352,
   "metadata": {},
   "outputs": [],
   "source": [
    "# Define the weights and biases based on the settings you provided\n",
    "weights_Q6 = [2, -9, 2, 2, 2, 2, 2]  # Weight vector for O1 (6)\n",
    "weights_Q7 = [1, 1, 1, -10, -10, -10, -10]  # Weight vector for O2 (7)\n",
    "weights_Q8 = [1, 1, 1, 1, 1, 1, 1]  # Weight vector for O3 (8)\n",
    "weights_Q9 = [1, 1, 1, 1, -10, 1, 1]   # Weight vector for O4 (9)\n",
    "\n",
    "threshold_Q6 = 7\n",
    "threshold_Q7 = 3\n",
    "threshold_Q8 = 7\n",
    "threshold_Q9 = 6\n"
   ]
  },
  {
   "cell_type": "code",
   "execution_count": 353,
   "metadata": {},
   "outputs": [],
   "source": [
    "inputs = [[1, 0, 1, 1, 1, 1, 1],  # Weight vector for O1 (6)\n",
    "          [1, 1, 1, 0, 0, 0, 0],  # Weight vector for O1 (7)\n",
    "          [1, 1, 1, 1, 1, 1, 1],  # Weight vector for O1 (8)\n",
    "          [1, 1, 1, 1, 0, 1, 1]  # Weight vector for O1 (9)\n",
    "          ]\n"
   ]
  },
  {
   "cell_type": "code",
   "execution_count": 354,
   "metadata": {},
   "outputs": [
    {
     "name": "stdout",
     "output_type": "stream",
     "text": [
      "[1, 0, 0, 0]\n",
      "[0, 1, 0, 0]\n",
      "[0, 0, 1, 0]\n",
      "[0, 0, 0, 1]\n"
     ]
    }
   ],
   "source": [
    "\n",
    "\n",
    "Neuron1 = NeuralNetwork(weights_Q6, threshold_Q6)\n",
    "Neuron2 = NeuralNetwork(weights_Q7, threshold_Q7)\n",
    "Neuron3 = NeuralNetwork(weights_Q8, threshold_Q8)\n",
    "Neuron4 = NeuralNetwork(weights_Q9, threshold_Q9)\n",
    "\n",
    "for i in range(4):\n",
    "    print([Neuron1.forward(inputs[i]),\n",
    "           Neuron2.forward(inputs[i]),\n",
    "           Neuron3.forward(inputs[i]),\n",
    "           Neuron4.forward(inputs[i])\n",
    "           ]\n",
    "          )\n",
    "# predicted_digits = model.predict(input_data)\n",
    "# print(\"Predicted Digits:\", predicted_digits)\n"
   ]
  },
  {
   "cell_type": "markdown",
   "metadata": {},
   "source": [
    "## NN with one hidden layer\n"
   ]
  },
  {
   "cell_type": "markdown",
   "metadata": {},
   "source": [
    "Considering two neurons for hidden layer based on below figure.\n"
   ]
  },
  {
   "cell_type": "markdown",
   "metadata": {},
   "source": [
    "<img src=\"Images/hidden.png\">\n"
   ]
  },
  {
   "cell_type": "code",
   "execution_count": 355,
   "metadata": {},
   "outputs": [],
   "source": [
    "# Threshold\n",
    "th_layer1 = 4\n",
    "# Weights:\n",
    "weights_hidden_1 = [1, 1, 0, 0, 0, 1, 1]\n",
    "weights_hidden_2 = [0, 0, 1, 1, 1, 0, 1]\n",
    "\n",
    "Hidden_neuron_1 = NeuralNetwork(weights_hidden_1, th_layer1)\n",
    "Hidden_neuron_2 = NeuralNetwork(weights_hidden_2, th_layer1)\n"
   ]
  },
  {
   "cell_type": "code",
   "execution_count": 356,
   "metadata": {},
   "outputs": [],
   "source": [
    "# Threshold\n",
    "final_th1 = 1\n",
    "final_th2 = 0\n",
    "final_th3 = 2\n",
    "final_th4 = 1\n",
    "# Weights\n",
    "weights_final_1 = [-1, 1]\n",
    "weights_final_2 = [-1, -1]\n",
    "weights_final_3 = [1, 1]\n",
    "weights_final_4 = [1, -1]\n",
    "\n",
    "\n",
    "final_neuron_1 = NeuralNetwork(weights_final_1, final_th1)\n",
    "final_neuron_2 = NeuralNetwork(weights_final_2, final_th2)\n",
    "final_neuron_3 = NeuralNetwork(weights_final_3, final_th3)\n",
    "final_neuron_4 = NeuralNetwork(weights_final_4, final_th4)\n"
   ]
  },
  {
   "cell_type": "code",
   "execution_count": 357,
   "metadata": {},
   "outputs": [
    {
     "name": "stdout",
     "output_type": "stream",
     "text": [
      "[1, 0, 0, 0]\n",
      "[0, 1, 0, 0]\n",
      "[0, 0, 1, 0]\n",
      "[0, 0, 0, 1]\n"
     ]
    }
   ],
   "source": [
    "for i in range(4):\n",
    "\n",
    "    output_hidden = [Hidden_neuron_1.forward(inputs[i]),\n",
    "                     Hidden_neuron_2.forward(inputs[i])\n",
    "                     ]\n",
    "\n",
    "    print([final_neuron_1.forward(output_hidden),\n",
    "           final_neuron_2.forward(output_hidden),\n",
    "           final_neuron_3.forward(output_hidden),\n",
    "           final_neuron_4.forward(output_hidden)\n",
    "           ])\n"
   ]
  }
 ],
 "metadata": {
  "kernelspec": {
   "display_name": "Python 3",
   "language": "python",
   "name": "python3"
  },
  "language_info": {
   "codemirror_mode": {
    "name": "ipython",
    "version": 3
   },
   "file_extension": ".py",
   "mimetype": "text/x-python",
   "name": "python",
   "nbconvert_exporter": "python",
   "pygments_lexer": "ipython3",
   "version": "3.11.6"
  }
 },
 "nbformat": 4,
 "nbformat_minor": 2
}
