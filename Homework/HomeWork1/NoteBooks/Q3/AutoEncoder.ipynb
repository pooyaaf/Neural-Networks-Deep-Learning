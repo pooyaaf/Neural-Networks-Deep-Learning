{
 "cells": [
  {
   "cell_type": "markdown",
   "metadata": {},
   "source": [
    "# Question 1: AutoEncoders\n"
   ]
  },
  {
   "cell_type": "markdown",
   "metadata": {},
   "source": [
    "## Task :\n",
    "\n",
    "<ul>\n",
    "<li>DAC: Deep Autoencoder-based Clustering.</li>\n",
    "</ul>\n"
   ]
  },
  {
   "cell_type": "markdown",
   "metadata": {},
   "source": [
    "## Suggested Model\n",
    "\n",
    "Figure 1 shows an overview of our deep autoencoder-based clustering framework. There\n",
    "are two main steps: training and clustering testing. In the training step, a deep autoencoder with an encoder and a decoder is trained using the training set. Here a flattened\n",
    "input vector is fed into the multilayer deep encoder which has a low dimensional learned\n",
    "representation. This learned representation is further fed into a decoder that tries to recover an output of the same size as the input. The training process of this autoencoder\n",
    "tries to reconstruct the input as much as possible. In the following clustering step, we\n",
    "apply the autoencoder to the testing set. The output of the encoder (learned representations) is then fed to a classic K-Means algorithm to do clustering. The learned low\n",
    "dimensional representation vector contains key information of the given input, and thus\n",
    "yield better clustering results.\n",
    "\n",
    "- Source-paper: DAC: Deep Autoencoder-based Clustering, a General Deep Learning Framework of Representation Learning\n"
   ]
  },
  {
   "cell_type": "markdown",
   "metadata": {},
   "source": [
    "<img src=\"Images/Q3-model.png\" width = 500>\n"
   ]
  }
 ],
 "metadata": {
  "language_info": {
   "name": "python"
  }
 },
 "nbformat": 4,
 "nbformat_minor": 2
}
