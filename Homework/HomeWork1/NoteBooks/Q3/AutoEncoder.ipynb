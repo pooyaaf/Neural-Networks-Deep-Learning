{
  "cells": [
    {
      "cell_type": "markdown",
      "metadata": {
        "id": "0bzlnpwqjO_L"
      },
      "source": [
        "# Question 1: AutoEncoders\n"
      ]
    },
    {
      "cell_type": "markdown",
      "metadata": {
        "id": "Gq0sUFvHMqW2"
      },
      "source": [
        "## Task :\n",
        "\n",
        "<ul>\n",
        "<li>DAC: Deep Autoencoder-based Clustering.</li>\n",
        "</ul>\n"
      ]
    },
    {
      "cell_type": "markdown",
      "source": [
        "## Suggested Model\n",
        "\n",
        "Figure 1 shows an overview of our deep autoencoder-based clustering framework. There\n",
        "are two main steps: training and clustering testing. In the training step, a deep autoencoder with an encoder and a decoder is trained using the training set. Here a flattened\n",
        "input vector is fed into the multilayer deep encoder which has a low dimensional learned\n",
        "representation. This learned representation is further fed into a decoder that tries to recover an output of the same size as the input. The training process of this autoencoder\n",
        "tries to reconstruct the input as much as possible. In the following clustering step, we\n",
        "apply the autoencoder to the testing set. The output of the encoder (learned representations) is then fed to a classic K-Means algorithm to do clustering. The learned low\n",
        "dimensional representation vector contains key information of the given input, and thus\n",
        "yield better clustering results.\n",
        "\n",
        "- Source-paper: DAC: Deep Autoencoder-based Clustering, a General Deep Learning Framework of Representation Learning\n"
      ],
      "metadata": {
        "id": "kmk5CpYyCiX0"
      }
    },
    {
      "cell_type": "markdown",
      "source": [
        "<img src=\"Images/Q3-model.png\" width = 500>\n"
      ],
      "metadata": {
        "id": "ioyR9THBCoKI"
      }
    },
    {
      "cell_type": "markdown",
      "source": [
        "## Importing libraries\n"
      ],
      "metadata": {
        "id": "-kNqATzlCtp_"
      }
    },
    {
      "cell_type": "code",
      "execution_count": 1,
      "metadata": {
        "id": "lK1PvyQyO_8V"
      },
      "outputs": [],
      "source": [
        "#import libraries\n",
        "import keras\n",
        "from keras.layers import Input, Dense\n",
        "from keras.models import Model\n",
        "from keras.datasets import mnist\n",
        "import numpy as np\n",
        "import matplotlib.pyplot as plt\n",
        "from keras.optimizers import Adam\n",
        "import keras.backend as K"
      ]
    },
    {
      "cell_type": "code",
      "execution_count": 2,
      "metadata": {
        "id": "GdgfdAmUPhU8",
        "colab": {
          "base_uri": "https://localhost:8080/"
        },
        "outputId": "73447bf3-bd26-4f0c-e4e0-2c947661126d"
      },
      "outputs": [
        {
          "output_type": "stream",
          "name": "stdout",
          "text": [
            "Downloading data from https://storage.googleapis.com/tensorflow/tf-keras-datasets/mnist.npz\n",
            "11490434/11490434 [==============================] - 0s 0us/step\n"
          ]
        }
      ],
      "source": [
        "#download dataset\n",
        "(images_train, label_train),(images_test,label_test) = mnist.load_data()"
      ]
    },
    {
      "cell_type": "markdown",
      "metadata": {
        "id": "thDIRA1NNA9y"
      },
      "source": [
        "# Plot 5 random data of our dataset"
      ]
    },
    {
      "cell_type": "code",
      "execution_count": 3,
      "metadata": {
        "id": "AHgix1yKP2kE",
        "colab": {
          "base_uri": "https://localhost:8080/",
          "height": 187
        },
        "outputId": "761c8f39-698d-411f-d4d1-d0a9291eb9f7"
      },
      "outputs": [
        {
          "output_type": "stream",
          "name": "stdout",
          "text": [
            "[26761, 7967, 29486, 16447, 59359]\n"
          ]
        },
        {
          "output_type": "display_data",
          "data": {
            "text/plain": [
              "<Figure size 1000x1000 with 5 Axes>"
            ],
            "image/png": "[encoded data removed]"
          },
          "metadata": {}
        }
      ],
      "source": [
        "#show mnist dataset\n",
        "import random\n",
        "class_names = ['0', '1', '2', '3', '4',\n",
        "               '5', '6', '7', '8', '9']\n",
        "plt.figure(figsize=(10,10))\n",
        "\n",
        "rand_list=[]\n",
        "for i in range(5):\n",
        "    rand_list.append(random.randint(0,60000))\n",
        "print(rand_list)\n",
        "\n",
        "j=0\n",
        "for i in rand_list:\n",
        "  plt.subplot(5,5,j+1)\n",
        "  plt.xticks([])\n",
        "  plt.yticks([])\n",
        "  plt.imshow(images_train[i])\n",
        "  j=j+1\n",
        "plt.show()"
      ]
    },
    {
      "cell_type": "markdown",
      "metadata": {
        "id": "enFfPVKvNHbG"
      },
      "source": [
        "# Normalization"
      ]
    },
    {
      "cell_type": "code",
      "execution_count": 4,
      "metadata": {
        "id": "hB1-KVJ0Q3dg"
      },
      "outputs": [],
      "source": [
        "#data normalization\n",
        "train_images = images_train.astype('float32')/255\n",
        "test_images = images_test.astype('float32')/255\n",
        "\n",
        "train_images = train_images.reshape((len(train_images), np.prod(train_images.shape[1:])))\n",
        "test_images = test_images.reshape((len(test_images), np.prod(test_images.shape[1:])))"
      ]
    },
    {
      "cell_type": "markdown",
      "metadata": {
        "id": "6u-XnzU6NRSD"
      },
      "source": [
        "## 1.Designing Deep Auto Encoder Cluster Model ( based on given figure )\n"
      ]
    },
    {
      "cell_type": "code",
      "execution_count": 5,
      "metadata": {
        "id": "C3i9p5unR_-7"
      },
      "outputs": [],
      "source": [
        "#auto_encoder\n",
        "input_size = 784      #input size\n",
        "hidden_size1 = 512    #Number of neurons in the first layer\n",
        "hidden_size2 = 128    #Number of neurons in the second layer\n",
        "hidden_size3 = 32    #Number of neurons in the third layer\n",
        "latent_size = 10      #latent size\n",
        "\n",
        "#encoder and decoder\n",
        "input_img = Input(shape = (input_size,))\n",
        "hidden_layer_1 = Dense(hidden_size1, activation = \"relu\")(input_img)\n",
        "hidden_layer_2 = Dense(hidden_size2, activation = \"tanh\")(hidden_layer_1)\n",
        "hidden_layer_3 = Dense(hidden_size3, activation = \"tanh\")(hidden_layer_2)\n",
        "#latent space\n",
        "latent_layer = Dense(latent_size)(hidden_layer_3)\n",
        "hidden_layer_4 = Dense(hidden_size3, activation = \"tanh\")(latent_layer)\n",
        "hidden_layer_5 = Dense(hidden_size2, activation = \"tanh\")(hidden_layer_4)\n",
        "hidden_layer_6 = Dense(hidden_size1, activation = \"tanh\")(hidden_layer_5)\n",
        "output_layer = Dense(input_size, activation = \"sigmoid\")(hidden_layer_6)\n",
        "\n",
        "autoencoder = Model(input_img, output_layer)"
      ]
    },
    {
      "cell_type": "code",
      "execution_count": 6,
      "metadata": {
        "id": "8Dtn9tB0Jw-7"
      },
      "outputs": [],
      "source": [
        "#encoder model\n",
        "encoder = Model(input_img, latent_layer)"
      ]
    },
    {
      "cell_type": "markdown",
      "metadata": {
        "id": "JsMDLYwVNZcv"
      },
      "source": [
        "## 2. Import, Normalize, and Train Data\n"
      ]
    },
    {
      "cell_type": "code",
      "execution_count": 7,
      "metadata": {
        "id": "Cr4T2_C7UbfJ"
      },
      "outputs": [],
      "source": [
        "#compile the model\n",
        "#fit the model with adam optimizer and binary cross entropy\n",
        "# autoencoder.compile(optimizer = \"adam\", loss = \"binary_crossentropy\")\n",
        "def custom_loss(y_true, y_pred):\n",
        "    # Calculate the Mean Squared Error (MSE)\n",
        "    mse = K.mean(K.square(y_true - y_pred))\n",
        "\n",
        "    # Add regularization term: 0.00001 * MSE\n",
        "    custom_loss = mse + 0.00001 * mse\n",
        "\n",
        "    return custom_loss\n",
        "\n",
        "custom_optimizer = Adam(learning_rate=0.003)\n",
        "autoencoder.compile(optimizer=custom_optimizer, loss=custom_loss)"
      ]
    },
    {
      "cell_type": "code",
      "execution_count": 8,
      "metadata": {
        "id": "LogPCFRsU1SE",
        "colab": {
          "base_uri": "https://localhost:8080/"
        },
        "outputId": "5cebf598-bb49-4078-9ac4-43429fbfe71f"
      },
      "outputs": [
        {
          "output_type": "stream",
          "name": "stdout",
          "text": [
            "Epoch 1/50\n",
            "1875/1875 [==============================] - 23s 6ms/step - loss: 0.0355 - val_loss: 0.0238\n",
            "Epoch 2/50\n",
            "1875/1875 [==============================] - 8s 4ms/step - loss: 0.0228 - val_loss: 0.0212\n",
            "Epoch 3/50\n",
            "1875/1875 [==============================] - 9s 5ms/step - loss: 0.0205 - val_loss: 0.0195\n",
            "Epoch 4/50\n",
            "1875/1875 [==============================] - 7s 4ms/step - loss: 0.0195 - val_loss: 0.0185\n",
            "Epoch 5/50\n",
            "1875/1875 [==============================] - 8s 4ms/step - loss: 0.0189 - val_loss: 0.0184\n",
            "Epoch 6/50\n",
            "1875/1875 [==============================] - 8s 4ms/step - loss: 0.0184 - val_loss: 0.0182\n",
            "Epoch 7/50\n",
            "1875/1875 [==============================] - 8s 4ms/step - loss: 0.0181 - val_loss: 0.0185\n",
            "Epoch 8/50\n",
            "1875/1875 [==============================] - 8s 4ms/step - loss: 0.0179 - val_loss: 0.0176\n",
            "Epoch 9/50\n",
            "1875/1875 [==============================] - 8s 4ms/step - loss: 0.0178 - val_loss: 0.0174\n",
            "Epoch 10/50\n",
            "1875/1875 [==============================] - 8s 4ms/step - loss: 0.0175 - val_loss: 0.0173\n",
            "Epoch 11/50\n",
            "1875/1875 [==============================] - 8s 4ms/step - loss: 0.0173 - val_loss: 0.0173\n",
            "Epoch 12/50\n",
            "1875/1875 [==============================] - 8s 4ms/step - loss: 0.0172 - val_loss: 0.0173\n",
            "Epoch 13/50\n",
            "1875/1875 [==============================] - 10s 5ms/step - loss: 0.0171 - val_loss: 0.0169\n",
            "Epoch 14/50\n",
            "1875/1875 [==============================] - 8s 4ms/step - loss: 0.0169 - val_loss: 0.0169\n",
            "Epoch 15/50\n",
            "1875/1875 [==============================] - 8s 4ms/step - loss: 0.0169 - val_loss: 0.0176\n",
            "Epoch 16/50\n",
            "1875/1875 [==============================] - 8s 4ms/step - loss: 0.0168 - val_loss: 0.0171\n",
            "Epoch 17/50\n",
            "1875/1875 [==============================] - 8s 4ms/step - loss: 0.0167 - val_loss: 0.0175\n",
            "Epoch 18/50\n",
            "1875/1875 [==============================] - 8s 4ms/step - loss: 0.0167 - val_loss: 0.0169\n",
            "Epoch 19/50\n",
            "1875/1875 [==============================] - 8s 4ms/step - loss: 0.0165 - val_loss: 0.0165\n",
            "Epoch 20/50\n",
            "1875/1875 [==============================] - 8s 4ms/step - loss: 0.0165 - val_loss: 0.0172\n",
            "Epoch 21/50\n",
            "1875/1875 [==============================] - 8s 4ms/step - loss: 0.0165 - val_loss: 0.0169\n",
            "Epoch 22/50\n",
            "1875/1875 [==============================] - 8s 4ms/step - loss: 0.0165 - val_loss: 0.0171\n",
            "Epoch 23/50\n",
            "1875/1875 [==============================] - 8s 4ms/step - loss: 0.0164 - val_loss: 0.0174\n",
            "Epoch 24/50\n",
            "1875/1875 [==============================] - 7s 4ms/step - loss: 0.0163 - val_loss: 0.0168\n",
            "Epoch 25/50\n",
            "1875/1875 [==============================] - 8s 4ms/step - loss: 0.0162 - val_loss: 0.0165\n",
            "Epoch 26/50\n",
            "1875/1875 [==============================] - 8s 4ms/step - loss: 0.0163 - val_loss: 0.0170\n",
            "Epoch 27/50\n",
            "1875/1875 [==============================] - 7s 4ms/step - loss: 0.0162 - val_loss: 0.0166\n",
            "Epoch 28/50\n",
            "1875/1875 [==============================] - 8s 4ms/step - loss: 0.0162 - val_loss: 0.0163\n",
            "Epoch 29/50\n",
            "1875/1875 [==============================] - 8s 4ms/step - loss: 0.0161 - val_loss: 0.0164\n",
            "Epoch 30/50\n",
            "1875/1875 [==============================] - 8s 4ms/step - loss: 0.0161 - val_loss: 0.0168\n",
            "Epoch 31/50\n",
            "1875/1875 [==============================] - 8s 4ms/step - loss: 0.0160 - val_loss: 0.0167\n",
            "Epoch 32/50\n",
            "1875/1875 [==============================] - 8s 5ms/step - loss: 0.0160 - val_loss: 0.0162\n",
            "Epoch 33/50\n",
            "1875/1875 [==============================] - 7s 4ms/step - loss: 0.0160 - val_loss: 0.0163\n",
            "Epoch 34/50\n",
            "1875/1875 [==============================] - 8s 4ms/step - loss: 0.0160 - val_loss: 0.0167\n",
            "Epoch 35/50\n",
            "1875/1875 [==============================] - 9s 5ms/step - loss: 0.0159 - val_loss: 0.0164\n",
            "Epoch 36/50\n",
            "1875/1875 [==============================] - 7s 4ms/step - loss: 0.0159 - val_loss: 0.0160\n",
            "Epoch 37/50\n",
            "1875/1875 [==============================] - 8s 4ms/step - loss: 0.0159 - val_loss: 0.0164\n",
            "Epoch 38/50\n",
            "1875/1875 [==============================] - 9s 5ms/step - loss: 0.0158 - val_loss: 0.0157\n",
            "Epoch 39/50\n",
            "1875/1875 [==============================] - 8s 4ms/step - loss: 0.0159 - val_loss: 0.0164\n",
            "Epoch 40/50\n",
            "1875/1875 [==============================] - 8s 4ms/step - loss: 0.0158 - val_loss: 0.0170\n",
            "Epoch 41/50\n",
            "1875/1875 [==============================] - 8s 4ms/step - loss: 0.0158 - val_loss: 0.0163\n",
            "Epoch 42/50\n",
            "1875/1875 [==============================] - 8s 4ms/step - loss: 0.0158 - val_loss: 0.0159\n",
            "Epoch 43/50\n",
            "1875/1875 [==============================] - 8s 4ms/step - loss: 0.0157 - val_loss: 0.0159\n",
            "Epoch 44/50\n",
            "1875/1875 [==============================] - 9s 5ms/step - loss: 0.0157 - val_loss: 0.0165\n",
            "Epoch 45/50\n",
            "1875/1875 [==============================] - 8s 4ms/step - loss: 0.0157 - val_loss: 0.0163\n",
            "Epoch 46/50\n",
            "1875/1875 [==============================] - 8s 4ms/step - loss: 0.0156 - val_loss: 0.0162\n",
            "Epoch 47/50\n",
            "1875/1875 [==============================] - 8s 4ms/step - loss: 0.0157 - val_loss: 0.0159\n",
            "Epoch 48/50\n",
            "1875/1875 [==============================] - 8s 4ms/step - loss: 0.0157 - val_loss: 0.0163\n",
            "Epoch 49/50\n",
            "1875/1875 [==============================] - 8s 4ms/step - loss: 0.0157 - val_loss: 0.0158\n",
            "Epoch 50/50\n",
            "1875/1875 [==============================] - 8s 4ms/step - loss: 0.0156 - val_loss: 0.0163\n"
          ]
        },
        {
          "output_type": "execute_result",
          "data": {
            "text/plain": [
              "<keras.src.callbacks.History at 0x7d7f23d3e440>"
            ]
          },
          "metadata": {},
          "execution_count": 8
        }
      ],
      "source": [
        "#fit the model with 100 epochs\n",
        "autoencoder.fit(train_images, train_images, epochs =50, shuffle = True, validation_data = (test_images, test_images))"
      ]
    },
    {
      "cell_type": "markdown",
      "metadata": {
        "id": "HsCeNtHPNqIo"
      },
      "source": [
        "# Evaluate the Auto-encoder"
      ]
    },
    {
      "cell_type": "code",
      "execution_count": 9,
      "metadata": {
        "id": "cOVeykWgWCJ6",
        "colab": {
          "base_uri": "https://localhost:8080/"
        },
        "outputId": "e9becc92-5b5c-471c-f277-45a9cb6c2a66"
      },
      "outputs": [
        {
          "output_type": "stream",
          "name": "stdout",
          "text": [
            "313/313 [==============================] - 1s 2ms/step\n"
          ]
        }
      ],
      "source": [
        "#predict test data with model\n",
        "encoded_img = autoencoder.predict(test_images)"
      ]
    },
    {
      "cell_type": "code",
      "execution_count": 10,
      "metadata": {
        "id": "dzNicIbQWMwz",
        "colab": {
          "base_uri": "https://localhost:8080/",
          "height": 285
        },
        "outputId": "61fdb12a-7558-48a4-8d4b-08468e41ae91"
      },
      "outputs": [
        {
          "output_type": "display_data",
          "data": {
            "text/plain": [
              "<Figure size 2000x400 with 20 Axes>"
            ],
            "image/png": "[encoded data removed]"
          },
          "metadata": {}
        }
      ],
      "source": [
        "#Display actual test images and images made with model\n",
        "n = 10\n",
        "plt.figure(figsize=(20, 4))\n",
        "for i in range(n):\n",
        "    # Original data\n",
        "    ax = plt.subplot(2, n, i + 1)\n",
        "    plt.imshow(test_images[i].reshape(28, 28))\n",
        "    plt.gray()\n",
        "    ax.get_xaxis().set_visible(False)\n",
        "    ax.get_yaxis().set_visible(False)\n",
        "    # Display reconstruction\n",
        "    ax = plt.subplot(2, n, i + 1 + n)\n",
        "    plt.imshow(encoded_img[i].reshape(28, 28))\n",
        "    plt.gray()\n",
        "    ax.get_xaxis().set_visible(False)\n",
        "    ax.get_yaxis().set_visible(False)\n",
        "plt.show()"
      ]
    },
    {
      "cell_type": "markdown",
      "source": [
        "## 3. Clustering, Using K-Means algorithm\n"
      ],
      "metadata": {
        "id": "XriZis-1BGeX"
      }
    },
    {
      "cell_type": "code",
      "source": [
        "from sklearn.cluster import KMeans"
      ],
      "metadata": {
        "id": "9TKafY_EBIB-"
      },
      "execution_count": 11,
      "outputs": []
    },
    {
      "cell_type": "code",
      "source": [
        "encoded_train = encoder.predict(train_images)\n",
        "encoded_test = encoder.predict(test_images)"
      ],
      "metadata": {
        "id": "0ogd2njlBsrZ",
        "colab": {
          "base_uri": "https://localhost:8080/"
        },
        "outputId": "2eebe895-0b37-4445-ac3b-88f542e1acc7"
      },
      "execution_count": 12,
      "outputs": [
        {
          "output_type": "stream",
          "name": "stdout",
          "text": [
            "1875/1875 [==============================] - 3s 2ms/step\n",
            "313/313 [==============================] - 1s 2ms/step\n"
          ]
        }
      ]
    },
    {
      "cell_type": "code",
      "source": [
        "import numpy as np\n",
        "n_clusters = 10\n",
        "\n",
        "encoded_train_combined = np.column_stack((encoded_train, label_train))\n",
        "encoded_test_combined = np.column_stack((encoded_test, label_test))\n",
        "kmeans = KMeans(n_clusters=n_clusters, random_state=0)\n",
        "kmeans.fit(encoded_train_combined)\n",
        "cluster_labels_test = kmeans.predict(encoded_test_combined)"
      ],
      "metadata": {
        "id": "vBz019QaB3MF",
        "colab": {
          "base_uri": "https://localhost:8080/"
        },
        "outputId": "1f227eca-4894-4267-f947-e8d43c874ccb"
      },
      "execution_count": 13,
      "outputs": [
        {
          "output_type": "stream",
          "name": "stderr",
          "text": [
            "/usr/local/lib/python3.10/dist-packages/sklearn/cluster/_kmeans.py:870: FutureWarning: The default value of `n_init` will change from 10 to 'auto' in 1.4. Set the value of `n_init` explicitly to suppress the warning\n",
            "  warnings.warn(\n"
          ]
        }
      ]
    },
    {
      "cell_type": "code",
      "source": [
        "from sklearn.metrics import accuracy_score"
      ],
      "metadata": {
        "id": "bI2mFN3IWik7"
      },
      "execution_count": 14,
      "outputs": []
    },
    {
      "cell_type": "code",
      "source": [
        "cluster_to_label_mapping = {}\n",
        "for i in range(n_clusters):\n",
        "    cluster_indices = np.where(cluster_labels_test == i)[0]\n",
        "    true_labels = encoded_test_combined[cluster_indices, -1]\n",
        "    most_common_label = np.bincount(true_labels.astype(int)).argmax()\n",
        "    cluster_to_label_mapping[i] = most_common_label\n",
        "\n",
        "predicted_labels_test = [cluster_to_label_mapping[cluster] for cluster in cluster_labels_test]\n",
        "accuracy_test = accuracy_score(label_test, predicted_labels_test)\n",
        "print(f\"Test clustering accuracy: {accuracy_test * 100:.2f}%\")"
      ],
      "metadata": {
        "id": "22GFQcBNV7UJ",
        "colab": {
          "base_uri": "https://localhost:8080/"
        },
        "outputId": "eef16f61-faac-4fef-b356-f9c2e1fd5aaf"
      },
      "execution_count": 15,
      "outputs": [
        {
          "output_type": "stream",
          "name": "stdout",
          "text": [
            "Test clustering accuracy: 96.18%\n"
          ]
        }
      ]
    },
    {
      "cell_type": "markdown",
      "source": [
        "Adjusted Rand Index (ARI)"
      ],
      "metadata": {
        "id": "4RoQb2Cf9rTr"
      }
    },
    {
      "cell_type": "code",
      "source": [
        "from sklearn.metrics import adjusted_rand_score\n",
        "\n",
        "# Calculate the Adjusted Rand Index (ARI)\n",
        "ari = adjusted_rand_score(label_test, predicted_labels_test)\n",
        "\n",
        "print(f\"Adjusted Rand Index (ARI): {ari:.4f}\")"
      ],
      "metadata": {
        "id": "wIEgzXVC9qBG",
        "colab": {
          "base_uri": "https://localhost:8080/"
        },
        "outputId": "4d4914d1-2805-49d2-bc3d-c21461130721"
      },
      "execution_count": 16,
      "outputs": [
        {
          "output_type": "stream",
          "name": "stdout",
          "text": [
            "Adjusted Rand Index (ARI): 0.9189\n"
          ]
        }
      ]
    }
  ],
  "metadata": {
    "accelerator": "GPU",
    "colab": {
      "gpuType": "T4",
      "provenance": []
    },
    "kernelspec": {
      "display_name": "Python 3",
      "name": "python3"
    },
    "language_info": {
      "name": "python"
    }
  },
  "nbformat": 4,
  "nbformat_minor": 0
}