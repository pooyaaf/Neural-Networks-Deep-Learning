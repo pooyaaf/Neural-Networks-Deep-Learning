{
  "nbformat": 4,
  "nbformat_minor": 0,
  "metadata": {
    "colab": {
      "provenance": []
    },
    "kernelspec": {
      "name": "python3",
      "display_name": "Python 3"
    },
    "language_info": {
      "name": "python"
    }
  },
  "cells": [
    {
      "cell_type": "code",
      "execution_count": null,
      "metadata": {
        "id": "qd9L5MZDHkd3"
      },
      "outputs": [],
      "source": [
        "with open(\"SemEval2010_task8_all_data/SemEval2010_task8_training/TRAIN_FILE.TXT\") as f:\n",
        "    train_file = f.readlines()"
      ]
    },
    {
      "cell_type": "code",
      "source": [
        "def prepare_dataset(raw):\n",
        "    sentences, relations = [], []\n",
        "    to_replace = [(\"\\\"\", \"\"), (\"\\n\", \"\"), (\"<\", \" <\"), (\">\", \"> \")]\n",
        "    last_was_sentence = False\n",
        "    for line in raw:\n",
        "        sl = line.split(\"\\t\")\n",
        "        if last_was_sentence:\n",
        "            relations.append(sl[0].split(\"(\")[0].replace(\"\\n\", \"\"))\n",
        "            last_was_sentence = False\n",
        "        if sl[0].isdigit():\n",
        "            sent = sl[1]\n",
        "            for rp in to_replace:\n",
        "                sent = sent.replace(rp[0], rp[1])\n",
        "            sentences.append(sent)\n",
        "            last_was_sentence = True\n",
        "    print(\"Found {} sentences\".format(len(sentences)))\n",
        "    return sentences, relations\n",
        "\n",
        "\n",
        "def Labeler(relations):\n",
        "    Label=[]\n",
        "    for i in relations:\n",
        "        if i=='Entity-Destination':\n",
        "            Label.append(0)\n",
        "        if i=='Entity-Origin':\n",
        "            Label.append(1)\n",
        "        if i=='Component-Whole':\n",
        "            Label.append(2)\n",
        "        if i=='Member-Collection':\n",
        "            Label.append(3)\n",
        "        if i=='Other':\n",
        "            Label.append(4)\n",
        "        if i=='Message-Topic':\n",
        "            Label.append(5)\n",
        "        if i=='Content-Container':\n",
        "            Label.append(6)\n",
        "        if i=='Instrument-Agency':\n",
        "            Label.append(7)\n",
        "        if i=='Product-Producer':\n",
        "            Label.append(8)\n",
        "        if i=='Cause-Effect':\n",
        "            Label.append(9)\n",
        "    return Label"
      ],
      "metadata": {
        "id": "nHhxbd2pHntl"
      },
      "execution_count": null,
      "outputs": []
    }
  ]
}