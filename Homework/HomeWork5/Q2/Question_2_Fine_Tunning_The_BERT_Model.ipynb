{
  "nbformat": 4,
  "nbformat_minor": 0,
  "metadata": {
    "colab": {
      "provenance": [],
      "gpuType": "T4"
    },
    "kernelspec": {
      "name": "python3",
      "display_name": "Python 3"
    },
    "language_info": {
      "name": "python"
    },
    "widgets": {
      "application/vnd.jupyter.widget-state+json": {
        "b37a98c734164d9b8fe74fba8e7ed1bd": {
          "model_module": "@jupyter-widgets/controls",
          "model_name": "HBoxModel",
          "model_module_version": "1.5.0",
          "state": {
            "_dom_classes": [],
            "_model_module": "@jupyter-widgets/controls",
            "_model_module_version": "1.5.0",
            "_model_name": "HBoxModel",
            "_view_count": null,
            "_view_module": "@jupyter-widgets/controls",
            "_view_module_version": "1.5.0",
            "_view_name": "HBoxView",
            "box_style": "",
            "children": [
              "IPY_MODEL_a3a61136f6b84b1ebb6ef0e0817e72e5",
              "IPY_MODEL_61c05c81c8eb456995238b898b73beff",
              "IPY_MODEL_679b826ce7144939a5646bc943e84c08"
            ],
            "layout": "IPY_MODEL_6efe16666e7d423f90723467449e813d"
          }
        },
        "a3a61136f6b84b1ebb6ef0e0817e72e5": {
          "model_module": "@jupyter-widgets/controls",
          "model_name": "HTMLModel",
          "model_module_version": "1.5.0",
          "state": {
            "_dom_classes": [],
            "_model_module": "@jupyter-widgets/controls",
            "_model_module_version": "1.5.0",
            "_model_name": "HTMLModel",
            "_view_count": null,
            "_view_module": "@jupyter-widgets/controls",
            "_view_module_version": "1.5.0",
            "_view_name": "HTMLView",
            "description": "",
            "description_tooltip": null,
            "layout": "IPY_MODEL_861f6946a9a549d2bd450aae0e7e8f26",
            "placeholder": "​",
            "style": "IPY_MODEL_38262ccf09ea45988f54cd0248109887",
            "value": "config.json: 100%"
          }
        },
        "61c05c81c8eb456995238b898b73beff": {
          "model_module": "@jupyter-widgets/controls",
          "model_name": "FloatProgressModel",
          "model_module_version": "1.5.0",
          "state": {
            "_dom_classes": [],
            "_model_module": "@jupyter-widgets/controls",
            "_model_module_version": "1.5.0",
            "_model_name": "FloatProgressModel",
            "_view_count": null,
            "_view_module": "@jupyter-widgets/controls",
            "_view_module_version": "1.5.0",
            "_view_name": "ProgressView",
            "bar_style": "success",
            "description": "",
            "description_tooltip": null,
            "layout": "IPY_MODEL_dcc37212544741599fdd5db307d8a7ff",
            "max": 434,
            "min": 0,
            "orientation": "horizontal",
            "style": "IPY_MODEL_22c78a3ea25b49158e01bee2b22f244b",
            "value": 434
          }
        },
        "679b826ce7144939a5646bc943e84c08": {
          "model_module": "@jupyter-widgets/controls",
          "model_name": "HTMLModel",
          "model_module_version": "1.5.0",
          "state": {
            "_dom_classes": [],
            "_model_module": "@jupyter-widgets/controls",
            "_model_module_version": "1.5.0",
            "_model_name": "HTMLModel",
            "_view_count": null,
            "_view_module": "@jupyter-widgets/controls",
            "_view_module_version": "1.5.0",
            "_view_name": "HTMLView",
            "description": "",
            "description_tooltip": null,
            "layout": "IPY_MODEL_626858b3e0d64ccca5561be25009818c",
            "placeholder": "​",
            "style": "IPY_MODEL_1b0b83e79a5e4ad1bd0e628860c29b08",
            "value": " 434/434 [00:00&lt;00:00, 25.7kB/s]"
          }
        },
        "6efe16666e7d423f90723467449e813d": {
          "model_module": "@jupyter-widgets/base",
          "model_name": "LayoutModel",
          "model_module_version": "1.2.0",
          "state": {
            "_model_module": "@jupyter-widgets/base",
            "_model_module_version": "1.2.0",
            "_model_name": "LayoutModel",
            "_view_count": null,
            "_view_module": "@jupyter-widgets/base",
            "_view_module_version": "1.2.0",
            "_view_name": "LayoutView",
            "align_content": null,
            "align_items": null,
            "align_self": null,
            "border": null,
            "bottom": null,
            "display": null,
            "flex": null,
            "flex_flow": null,
            "grid_area": null,
            "grid_auto_columns": null,
            "grid_auto_flow": null,
            "grid_auto_rows": null,
            "grid_column": null,
            "grid_gap": null,
            "grid_row": null,
            "grid_template_areas": null,
            "grid_template_columns": null,
            "grid_template_rows": null,
            "height": null,
            "justify_content": null,
            "justify_items": null,
            "left": null,
            "margin": null,
            "max_height": null,
            "max_width": null,
            "min_height": null,
            "min_width": null,
            "object_fit": null,
            "object_position": null,
            "order": null,
            "overflow": null,
            "overflow_x": null,
            "overflow_y": null,
            "padding": null,
            "right": null,
            "top": null,
            "visibility": null,
            "width": null
          }
        },
        "861f6946a9a549d2bd450aae0e7e8f26": {
          "model_module": "@jupyter-widgets/base",
          "model_name": "LayoutModel",
          "model_module_version": "1.2.0",
          "state": {
            "_model_module": "@jupyter-widgets/base",
            "_model_module_version": "1.2.0",
            "_model_name": "LayoutModel",
            "_view_count": null,
            "_view_module": "@jupyter-widgets/base",
            "_view_module_version": "1.2.0",
            "_view_name": "LayoutView",
            "align_content": null,
            "align_items": null,
            "align_self": null,
            "border": null,
            "bottom": null,
            "display": null,
            "flex": null,
            "flex_flow": null,
            "grid_area": null,
            "grid_auto_columns": null,
            "grid_auto_flow": null,
            "grid_auto_rows": null,
            "grid_column": null,
            "grid_gap": null,
            "grid_row": null,
            "grid_template_areas": null,
            "grid_template_columns": null,
            "grid_template_rows": null,
            "height": null,
            "justify_content": null,
            "justify_items": null,
            "left": null,
            "margin": null,
            "max_height": null,
            "max_width": null,
            "min_height": null,
            "min_width": null,
            "object_fit": null,
            "object_position": null,
            "order": null,
            "overflow": null,
            "overflow_x": null,
            "overflow_y": null,
            "padding": null,
            "right": null,
            "top": null,
            "visibility": null,
            "width": null
          }
        },
        "38262ccf09ea45988f54cd0248109887": {
          "model_module": "@jupyter-widgets/controls",
          "model_name": "DescriptionStyleModel",
          "model_module_version": "1.5.0",
          "state": {
            "_model_module": "@jupyter-widgets/controls",
            "_model_module_version": "1.5.0",
            "_model_name": "DescriptionStyleModel",
            "_view_count": null,
            "_view_module": "@jupyter-widgets/base",
            "_view_module_version": "1.2.0",
            "_view_name": "StyleView",
            "description_width": ""
          }
        },
        "dcc37212544741599fdd5db307d8a7ff": {
          "model_module": "@jupyter-widgets/base",
          "model_name": "LayoutModel",
          "model_module_version": "1.2.0",
          "state": {
            "_model_module": "@jupyter-widgets/base",
            "_model_module_version": "1.2.0",
            "_model_name": "LayoutModel",
            "_view_count": null,
            "_view_module": "@jupyter-widgets/base",
            "_view_module_version": "1.2.0",
            "_view_name": "LayoutView",
            "align_content": null,
            "align_items": null,
            "align_self": null,
            "border": null,
            "bottom": null,
            "display": null,
            "flex": null,
            "flex_flow": null,
            "grid_area": null,
            "grid_auto_columns": null,
            "grid_auto_flow": null,
            "grid_auto_rows": null,
            "grid_column": null,
            "grid_gap": null,
            "grid_row": null,
            "grid_template_areas": null,
            "grid_template_columns": null,
            "grid_template_rows": null,
            "height": null,
            "justify_content": null,
            "justify_items": null,
            "left": null,
            "margin": null,
            "max_height": null,
            "max_width": null,
            "min_height": null,
            "min_width": null,
            "object_fit": null,
            "object_position": null,
            "order": null,
            "overflow": null,
            "overflow_x": null,
            "overflow_y": null,
            "padding": null,
            "right": null,
            "top": null,
            "visibility": null,
            "width": null
          }
        },
        "22c78a3ea25b49158e01bee2b22f244b": {
          "model_module": "@jupyter-widgets/controls",
          "model_name": "ProgressStyleModel",
          "model_module_version": "1.5.0",
          "state": {
            "_model_module": "@jupyter-widgets/controls",
            "_model_module_version": "1.5.0",
            "_model_name": "ProgressStyleModel",
            "_view_count": null,
            "_view_module": "@jupyter-widgets/base",
            "_view_module_version": "1.2.0",
            "_view_name": "StyleView",
            "bar_color": null,
            "description_width": ""
          }
        },
        "626858b3e0d64ccca5561be25009818c": {
          "model_module": "@jupyter-widgets/base",
          "model_name": "LayoutModel",
          "model_module_version": "1.2.0",
          "state": {
            "_model_module": "@jupyter-widgets/base",
            "_model_module_version": "1.2.0",
            "_model_name": "LayoutModel",
            "_view_count": null,
            "_view_module": "@jupyter-widgets/base",
            "_view_module_version": "1.2.0",
            "_view_name": "LayoutView",
            "align_content": null,
            "align_items": null,
            "align_self": null,
            "border": null,
            "bottom": null,
            "display": null,
            "flex": null,
            "flex_flow": null,
            "grid_area": null,
            "grid_auto_columns": null,
            "grid_auto_flow": null,
            "grid_auto_rows": null,
            "grid_column": null,
            "grid_gap": null,
            "grid_row": null,
            "grid_template_areas": null,
            "grid_template_columns": null,
            "grid_template_rows": null,
            "height": null,
            "justify_content": null,
            "justify_items": null,
            "left": null,
            "margin": null,
            "max_height": null,
            "max_width": null,
            "min_height": null,
            "min_width": null,
            "object_fit": null,
            "object_position": null,
            "order": null,
            "overflow": null,
            "overflow_x": null,
            "overflow_y": null,
            "padding": null,
            "right": null,
            "top": null,
            "visibility": null,
            "width": null
          }
        },
        "1b0b83e79a5e4ad1bd0e628860c29b08": {
          "model_module": "@jupyter-widgets/controls",
          "model_name": "DescriptionStyleModel",
          "model_module_version": "1.5.0",
          "state": {
            "_model_module": "@jupyter-widgets/controls",
            "_model_module_version": "1.5.0",
            "_model_name": "DescriptionStyleModel",
            "_view_count": null,
            "_view_module": "@jupyter-widgets/base",
            "_view_module_version": "1.2.0",
            "_view_name": "StyleView",
            "description_width": ""
          }
        },
        "5a052291d3a54b43b001781dab61e79e": {
          "model_module": "@jupyter-widgets/controls",
          "model_name": "HBoxModel",
          "model_module_version": "1.5.0",
          "state": {
            "_dom_classes": [],
            "_model_module": "@jupyter-widgets/controls",
            "_model_module_version": "1.5.0",
            "_model_name": "HBoxModel",
            "_view_count": null,
            "_view_module": "@jupyter-widgets/controls",
            "_view_module_version": "1.5.0",
            "_view_name": "HBoxView",
            "box_style": "",
            "children": [
              "IPY_MODEL_d99c90dd72a24beebcd15dd7ba8323aa",
              "IPY_MODEL_e5422587e5a841b19606835d08e1b149",
              "IPY_MODEL_f4ce6014b0a64368acbdc90a6da56ddd"
            ],
            "layout": "IPY_MODEL_07877b5746434c9c94e1203b493be6fa"
          }
        },
        "d99c90dd72a24beebcd15dd7ba8323aa": {
          "model_module": "@jupyter-widgets/controls",
          "model_name": "HTMLModel",
          "model_module_version": "1.5.0",
          "state": {
            "_dom_classes": [],
            "_model_module": "@jupyter-widgets/controls",
            "_model_module_version": "1.5.0",
            "_model_name": "HTMLModel",
            "_view_count": null,
            "_view_module": "@jupyter-widgets/controls",
            "_view_module_version": "1.5.0",
            "_view_name": "HTMLView",
            "description": "",
            "description_tooltip": null,
            "layout": "IPY_MODEL_4044087f84bb4a41a993f848665601a2",
            "placeholder": "​",
            "style": "IPY_MODEL_7295b8ef98984a2d89015f00d58837b5",
            "value": "vocab.txt: 100%"
          }
        },
        "e5422587e5a841b19606835d08e1b149": {
          "model_module": "@jupyter-widgets/controls",
          "model_name": "FloatProgressModel",
          "model_module_version": "1.5.0",
          "state": {
            "_dom_classes": [],
            "_model_module": "@jupyter-widgets/controls",
            "_model_module_version": "1.5.0",
            "_model_name": "FloatProgressModel",
            "_view_count": null,
            "_view_module": "@jupyter-widgets/controls",
            "_view_module_version": "1.5.0",
            "_view_name": "ProgressView",
            "bar_style": "success",
            "description": "",
            "description_tooltip": null,
            "layout": "IPY_MODEL_f285bcd75d044ed5921db7548d297deb",
            "max": 1215509,
            "min": 0,
            "orientation": "horizontal",
            "style": "IPY_MODEL_dab3f14b14eb4e32a50fcca580d3ca0e",
            "value": 1215509
          }
        },
        "f4ce6014b0a64368acbdc90a6da56ddd": {
          "model_module": "@jupyter-widgets/controls",
          "model_name": "HTMLModel",
          "model_module_version": "1.5.0",
          "state": {
            "_dom_classes": [],
            "_model_module": "@jupyter-widgets/controls",
            "_model_module_version": "1.5.0",
            "_model_name": "HTMLModel",
            "_view_count": null,
            "_view_module": "@jupyter-widgets/controls",
            "_view_module_version": "1.5.0",
            "_view_name": "HTMLView",
            "description": "",
            "description_tooltip": null,
            "layout": "IPY_MODEL_0b83157b292545b48198410691138bde",
            "placeholder": "​",
            "style": "IPY_MODEL_062874dba88f4d7f97627907a1964baa",
            "value": " 1.22M/1.22M [00:00&lt;00:00, 10.8MB/s]"
          }
        },
        "07877b5746434c9c94e1203b493be6fa": {
          "model_module": "@jupyter-widgets/base",
          "model_name": "LayoutModel",
          "model_module_version": "1.2.0",
          "state": {
            "_model_module": "@jupyter-widgets/base",
            "_model_module_version": "1.2.0",
            "_model_name": "LayoutModel",
            "_view_count": null,
            "_view_module": "@jupyter-widgets/base",
            "_view_module_version": "1.2.0",
            "_view_name": "LayoutView",
            "align_content": null,
            "align_items": null,
            "align_self": null,
            "border": null,
            "bottom": null,
            "display": null,
            "flex": null,
            "flex_flow": null,
            "grid_area": null,
            "grid_auto_columns": null,
            "grid_auto_flow": null,
            "grid_auto_rows": null,
            "grid_column": null,
            "grid_gap": null,
            "grid_row": null,
            "grid_template_areas": null,
            "grid_template_columns": null,
            "grid_template_rows": null,
            "height": null,
            "justify_content": null,
            "justify_items": null,
            "left": null,
            "margin": null,
            "max_height": null,
            "max_width": null,
            "min_height": null,
            "min_width": null,
            "object_fit": null,
            "object_position": null,
            "order": null,
            "overflow": null,
            "overflow_x": null,
            "overflow_y": null,
            "padding": null,
            "right": null,
            "top": null,
            "visibility": null,
            "width": null
          }
        },
        "4044087f84bb4a41a993f848665601a2": {
          "model_module": "@jupyter-widgets/base",
          "model_name": "LayoutModel",
          "model_module_version": "1.2.0",
          "state": {
            "_model_module": "@jupyter-widgets/base",
            "_model_module_version": "1.2.0",
            "_model_name": "LayoutModel",
            "_view_count": null,
            "_view_module": "@jupyter-widgets/base",
            "_view_module_version": "1.2.0",
            "_view_name": "LayoutView",
            "align_content": null,
            "align_items": null,
            "align_self": null,
            "border": null,
            "bottom": null,
            "display": null,
            "flex": null,
            "flex_flow": null,
            "grid_area": null,
            "grid_auto_columns": null,
            "grid_auto_flow": null,
            "grid_auto_rows": null,
            "grid_column": null,
            "grid_gap": null,
            "grid_row": null,
            "grid_template_areas": null,
            "grid_template_columns": null,
            "grid_template_rows": null,
            "height": null,
            "justify_content": null,
            "justify_items": null,
            "left": null,
            "margin": null,
            "max_height": null,
            "max_width": null,
            "min_height": null,
            "min_width": null,
            "object_fit": null,
            "object_position": null,
            "order": null,
            "overflow": null,
            "overflow_x": null,
            "overflow_y": null,
            "padding": null,
            "right": null,
            "top": null,
            "visibility": null,
            "width": null
          }
        },
        "7295b8ef98984a2d89015f00d58837b5": {
          "model_module": "@jupyter-widgets/controls",
          "model_name": "DescriptionStyleModel",
          "model_module_version": "1.5.0",
          "state": {
            "_model_module": "@jupyter-widgets/controls",
            "_model_module_version": "1.5.0",
            "_model_name": "DescriptionStyleModel",
            "_view_count": null,
            "_view_module": "@jupyter-widgets/base",
            "_view_module_version": "1.2.0",
            "_view_name": "StyleView",
            "description_width": ""
          }
        },
        "f285bcd75d044ed5921db7548d297deb": {
          "model_module": "@jupyter-widgets/base",
          "model_name": "LayoutModel",
          "model_module_version": "1.2.0",
          "state": {
            "_model_module": "@jupyter-widgets/base",
            "_model_module_version": "1.2.0",
            "_model_name": "LayoutModel",
            "_view_count": null,
            "_view_module": "@jupyter-widgets/base",
            "_view_module_version": "1.2.0",
            "_view_name": "LayoutView",
            "align_content": null,
            "align_items": null,
            "align_self": null,
            "border": null,
            "bottom": null,
            "display": null,
            "flex": null,
            "flex_flow": null,
            "grid_area": null,
            "grid_auto_columns": null,
            "grid_auto_flow": null,
            "grid_auto_rows": null,
            "grid_column": null,
            "grid_gap": null,
            "grid_row": null,
            "grid_template_areas": null,
            "grid_template_columns": null,
            "grid_template_rows": null,
            "height": null,
            "justify_content": null,
            "justify_items": null,
            "left": null,
            "margin": null,
            "max_height": null,
            "max_width": null,
            "min_height": null,
            "min_width": null,
            "object_fit": null,
            "object_position": null,
            "order": null,
            "overflow": null,
            "overflow_x": null,
            "overflow_y": null,
            "padding": null,
            "right": null,
            "top": null,
            "visibility": null,
            "width": null
          }
        },
        "dab3f14b14eb4e32a50fcca580d3ca0e": {
          "model_module": "@jupyter-widgets/controls",
          "model_name": "ProgressStyleModel",
          "model_module_version": "1.5.0",
          "state": {
            "_model_module": "@jupyter-widgets/controls",
            "_model_module_version": "1.5.0",
            "_model_name": "ProgressStyleModel",
            "_view_count": null,
            "_view_module": "@jupyter-widgets/base",
            "_view_module_version": "1.2.0",
            "_view_name": "StyleView",
            "bar_color": null,
            "description_width": ""
          }
        },
        "0b83157b292545b48198410691138bde": {
          "model_module": "@jupyter-widgets/base",
          "model_name": "LayoutModel",
          "model_module_version": "1.2.0",
          "state": {
            "_model_module": "@jupyter-widgets/base",
            "_model_module_version": "1.2.0",
            "_model_name": "LayoutModel",
            "_view_count": null,
            "_view_module": "@jupyter-widgets/base",
            "_view_module_version": "1.2.0",
            "_view_name": "LayoutView",
            "align_content": null,
            "align_items": null,
            "align_self": null,
            "border": null,
            "bottom": null,
            "display": null,
            "flex": null,
            "flex_flow": null,
            "grid_area": null,
            "grid_auto_columns": null,
            "grid_auto_flow": null,
            "grid_auto_rows": null,
            "grid_column": null,
            "grid_gap": null,
            "grid_row": null,
            "grid_template_areas": null,
            "grid_template_columns": null,
            "grid_template_rows": null,
            "height": null,
            "justify_content": null,
            "justify_items": null,
            "left": null,
            "margin": null,
            "max_height": null,
            "max_width": null,
            "min_height": null,
            "min_width": null,
            "object_fit": null,
            "object_position": null,
            "order": null,
            "overflow": null,
            "overflow_x": null,
            "overflow_y": null,
            "padding": null,
            "right": null,
            "top": null,
            "visibility": null,
            "width": null
          }
        },
        "062874dba88f4d7f97627907a1964baa": {
          "model_module": "@jupyter-widgets/controls",
          "model_name": "DescriptionStyleModel",
          "model_module_version": "1.5.0",
          "state": {
            "_model_module": "@jupyter-widgets/controls",
            "_model_module_version": "1.5.0",
            "_model_name": "DescriptionStyleModel",
            "_view_count": null,
            "_view_module": "@jupyter-widgets/base",
            "_view_module_version": "1.2.0",
            "_view_name": "StyleView",
            "description_width": ""
          }
        },
        "127c0c31d13d42f8912dafce1c6175b2": {
          "model_module": "@jupyter-widgets/controls",
          "model_name": "HBoxModel",
          "model_module_version": "1.5.0",
          "state": {
            "_dom_classes": [],
            "_model_module": "@jupyter-widgets/controls",
            "_model_module_version": "1.5.0",
            "_model_name": "HBoxModel",
            "_view_count": null,
            "_view_module": "@jupyter-widgets/controls",
            "_view_module_version": "1.5.0",
            "_view_name": "HBoxView",
            "box_style": "",
            "children": [
              "IPY_MODEL_a1ecef11f11544609f5c6375273ecb9e",
              "IPY_MODEL_548452f1c7b54573b70bf4db6c6978e9",
              "IPY_MODEL_294410952a4845e9a80b3d0e14e36b62"
            ],
            "layout": "IPY_MODEL_a6751643ecae42d5ab86f4e7d4b2154d"
          }
        },
        "a1ecef11f11544609f5c6375273ecb9e": {
          "model_module": "@jupyter-widgets/controls",
          "model_name": "HTMLModel",
          "model_module_version": "1.5.0",
          "state": {
            "_dom_classes": [],
            "_model_module": "@jupyter-widgets/controls",
            "_model_module_version": "1.5.0",
            "_model_name": "HTMLModel",
            "_view_count": null,
            "_view_module": "@jupyter-widgets/controls",
            "_view_module_version": "1.5.0",
            "_view_name": "HTMLView",
            "description": "",
            "description_tooltip": null,
            "layout": "IPY_MODEL_9d2eef4671df4bb5ba1d8edabd12bb53",
            "placeholder": "​",
            "style": "IPY_MODEL_dcbf42102e4e47ed8b1285ef6d9ef1e4",
            "value": "pytorch_model.bin: 100%"
          }
        },
        "548452f1c7b54573b70bf4db6c6978e9": {
          "model_module": "@jupyter-widgets/controls",
          "model_name": "FloatProgressModel",
          "model_module_version": "1.5.0",
          "state": {
            "_dom_classes": [],
            "_model_module": "@jupyter-widgets/controls",
            "_model_module_version": "1.5.0",
            "_model_name": "FloatProgressModel",
            "_view_count": null,
            "_view_module": "@jupyter-widgets/controls",
            "_view_module_version": "1.5.0",
            "_view_name": "ProgressView",
            "bar_style": "success",
            "description": "",
            "description_tooltip": null,
            "layout": "IPY_MODEL_fffca2ab083341d3a94fd0517ac1cb79",
            "max": 654186735,
            "min": 0,
            "orientation": "horizontal",
            "style": "IPY_MODEL_296868c5f04f4439a5516ffae3624893",
            "value": 654186735
          }
        },
        "294410952a4845e9a80b3d0e14e36b62": {
          "model_module": "@jupyter-widgets/controls",
          "model_name": "HTMLModel",
          "model_module_version": "1.5.0",
          "state": {
            "_dom_classes": [],
            "_model_module": "@jupyter-widgets/controls",
            "_model_module_version": "1.5.0",
            "_model_name": "HTMLModel",
            "_view_count": null,
            "_view_module": "@jupyter-widgets/controls",
            "_view_module_version": "1.5.0",
            "_view_name": "HTMLView",
            "description": "",
            "description_tooltip": null,
            "layout": "IPY_MODEL_1f18c329431740bbb30dc7de93c2b588",
            "placeholder": "​",
            "style": "IPY_MODEL_faebcd017651452d8642d1a8fe16afff",
            "value": " 654M/654M [00:20&lt;00:00, 29.9MB/s]"
          }
        },
        "a6751643ecae42d5ab86f4e7d4b2154d": {
          "model_module": "@jupyter-widgets/base",
          "model_name": "LayoutModel",
          "model_module_version": "1.2.0",
          "state": {
            "_model_module": "@jupyter-widgets/base",
            "_model_module_version": "1.2.0",
            "_model_name": "LayoutModel",
            "_view_count": null,
            "_view_module": "@jupyter-widgets/base",
            "_view_module_version": "1.2.0",
            "_view_name": "LayoutView",
            "align_content": null,
            "align_items": null,
            "align_self": null,
            "border": null,
            "bottom": null,
            "display": null,
            "flex": null,
            "flex_flow": null,
            "grid_area": null,
            "grid_auto_columns": null,
            "grid_auto_flow": null,
            "grid_auto_rows": null,
            "grid_column": null,
            "grid_gap": null,
            "grid_row": null,
            "grid_template_areas": null,
            "grid_template_columns": null,
            "grid_template_rows": null,
            "height": null,
            "justify_content": null,
            "justify_items": null,
            "left": null,
            "margin": null,
            "max_height": null,
            "max_width": null,
            "min_height": null,
            "min_width": null,
            "object_fit": null,
            "object_position": null,
            "order": null,
            "overflow": null,
            "overflow_x": null,
            "overflow_y": null,
            "padding": null,
            "right": null,
            "top": null,
            "visibility": null,
            "width": null
          }
        },
        "9d2eef4671df4bb5ba1d8edabd12bb53": {
          "model_module": "@jupyter-widgets/base",
          "model_name": "LayoutModel",
          "model_module_version": "1.2.0",
          "state": {
            "_model_module": "@jupyter-widgets/base",
            "_model_module_version": "1.2.0",
            "_model_name": "LayoutModel",
            "_view_count": null,
            "_view_module": "@jupyter-widgets/base",
            "_view_module_version": "1.2.0",
            "_view_name": "LayoutView",
            "align_content": null,
            "align_items": null,
            "align_self": null,
            "border": null,
            "bottom": null,
            "display": null,
            "flex": null,
            "flex_flow": null,
            "grid_area": null,
            "grid_auto_columns": null,
            "grid_auto_flow": null,
            "grid_auto_rows": null,
            "grid_column": null,
            "grid_gap": null,
            "grid_row": null,
            "grid_template_areas": null,
            "grid_template_columns": null,
            "grid_template_rows": null,
            "height": null,
            "justify_content": null,
            "justify_items": null,
            "left": null,
            "margin": null,
            "max_height": null,
            "max_width": null,
            "min_height": null,
            "min_width": null,
            "object_fit": null,
            "object_position": null,
            "order": null,
            "overflow": null,
            "overflow_x": null,
            "overflow_y": null,
            "padding": null,
            "right": null,
            "top": null,
            "visibility": null,
            "width": null
          }
        },
        "dcbf42102e4e47ed8b1285ef6d9ef1e4": {
          "model_module": "@jupyter-widgets/controls",
          "model_name": "DescriptionStyleModel",
          "model_module_version": "1.5.0",
          "state": {
            "_model_module": "@jupyter-widgets/controls",
            "_model_module_version": "1.5.0",
            "_model_name": "DescriptionStyleModel",
            "_view_count": null,
            "_view_module": "@jupyter-widgets/base",
            "_view_module_version": "1.2.0",
            "_view_name": "StyleView",
            "description_width": ""
          }
        },
        "fffca2ab083341d3a94fd0517ac1cb79": {
          "model_module": "@jupyter-widgets/base",
          "model_name": "LayoutModel",
          "model_module_version": "1.2.0",
          "state": {
            "_model_module": "@jupyter-widgets/base",
            "_model_module_version": "1.2.0",
            "_model_name": "LayoutModel",
            "_view_count": null,
            "_view_module": "@jupyter-widgets/base",
            "_view_module_version": "1.2.0",
            "_view_name": "LayoutView",
            "align_content": null,
            "align_items": null,
            "align_self": null,
            "border": null,
            "bottom": null,
            "display": null,
            "flex": null,
            "flex_flow": null,
            "grid_area": null,
            "grid_auto_columns": null,
            "grid_auto_flow": null,
            "grid_auto_rows": null,
            "grid_column": null,
            "grid_gap": null,
            "grid_row": null,
            "grid_template_areas": null,
            "grid_template_columns": null,
            "grid_template_rows": null,
            "height": null,
            "justify_content": null,
            "justify_items": null,
            "left": null,
            "margin": null,
            "max_height": null,
            "max_width": null,
            "min_height": null,
            "min_width": null,
            "object_fit": null,
            "object_position": null,
            "order": null,
            "overflow": null,
            "overflow_x": null,
            "overflow_y": null,
            "padding": null,
            "right": null,
            "top": null,
            "visibility": null,
            "width": null
          }
        },
        "296868c5f04f4439a5516ffae3624893": {
          "model_module": "@jupyter-widgets/controls",
          "model_name": "ProgressStyleModel",
          "model_module_version": "1.5.0",
          "state": {
            "_model_module": "@jupyter-widgets/controls",
            "_model_module_version": "1.5.0",
            "_model_name": "ProgressStyleModel",
            "_view_count": null,
            "_view_module": "@jupyter-widgets/base",
            "_view_module_version": "1.2.0",
            "_view_name": "StyleView",
            "bar_color": null,
            "description_width": ""
          }
        },
        "1f18c329431740bbb30dc7de93c2b588": {
          "model_module": "@jupyter-widgets/base",
          "model_name": "LayoutModel",
          "model_module_version": "1.2.0",
          "state": {
            "_model_module": "@jupyter-widgets/base",
            "_model_module_version": "1.2.0",
            "_model_name": "LayoutModel",
            "_view_count": null,
            "_view_module": "@jupyter-widgets/base",
            "_view_module_version": "1.2.0",
            "_view_name": "LayoutView",
            "align_content": null,
            "align_items": null,
            "align_self": null,
            "border": null,
            "bottom": null,
            "display": null,
            "flex": null,
            "flex_flow": null,
            "grid_area": null,
            "grid_auto_columns": null,
            "grid_auto_flow": null,
            "grid_auto_rows": null,
            "grid_column": null,
            "grid_gap": null,
            "grid_row": null,
            "grid_template_areas": null,
            "grid_template_columns": null,
            "grid_template_rows": null,
            "height": null,
            "justify_content": null,
            "justify_items": null,
            "left": null,
            "margin": null,
            "max_height": null,
            "max_width": null,
            "min_height": null,
            "min_width": null,
            "object_fit": null,
            "object_position": null,
            "order": null,
            "overflow": null,
            "overflow_x": null,
            "overflow_y": null,
            "padding": null,
            "right": null,
            "top": null,
            "visibility": null,
            "width": null
          }
        },
        "faebcd017651452d8642d1a8fe16afff": {
          "model_module": "@jupyter-widgets/controls",
          "model_name": "DescriptionStyleModel",
          "model_module_version": "1.5.0",
          "state": {
            "_model_module": "@jupyter-widgets/controls",
            "_model_module_version": "1.5.0",
            "_model_name": "DescriptionStyleModel",
            "_view_count": null,
            "_view_module": "@jupyter-widgets/base",
            "_view_module_version": "1.2.0",
            "_view_name": "StyleView",
            "description_width": ""
          }
        },
        "71c7a07a22744ce6991bfbfba3a2419b": {
          "model_module": "@jupyter-widgets/controls",
          "model_name": "HBoxModel",
          "model_module_version": "1.5.0",
          "state": {
            "_dom_classes": [],
            "_model_module": "@jupyter-widgets/controls",
            "_model_module_version": "1.5.0",
            "_model_name": "HBoxModel",
            "_view_count": null,
            "_view_module": "@jupyter-widgets/controls",
            "_view_module_version": "1.5.0",
            "_view_name": "HBoxView",
            "box_style": "",
            "children": [
              "IPY_MODEL_2eaaecafa4014ac19c59c95c16288b9f",
              "IPY_MODEL_100ac83b33214b5a85f8a6e4dfc8cc16",
              "IPY_MODEL_061711bd67bc44c9a04a9a8a85af675d"
            ],
            "layout": "IPY_MODEL_7398d30d3da84defb6e09062db732d7f"
          }
        },
        "2eaaecafa4014ac19c59c95c16288b9f": {
          "model_module": "@jupyter-widgets/controls",
          "model_name": "HTMLModel",
          "model_module_version": "1.5.0",
          "state": {
            "_dom_classes": [],
            "_model_module": "@jupyter-widgets/controls",
            "_model_module_version": "1.5.0",
            "_model_name": "HTMLModel",
            "_view_count": null,
            "_view_module": "@jupyter-widgets/controls",
            "_view_module_version": "1.5.0",
            "_view_name": "HTMLView",
            "description": "",
            "description_tooltip": null,
            "layout": "IPY_MODEL_00f632828cb74818a287a274dbc52ed7",
            "placeholder": "​",
            "style": "IPY_MODEL_a14505ecb3e640e8998a16cdc00e6b5f",
            "value": "pytorch_model.bin: 100%"
          }
        },
        "100ac83b33214b5a85f8a6e4dfc8cc16": {
          "model_module": "@jupyter-widgets/controls",
          "model_name": "FloatProgressModel",
          "model_module_version": "1.5.0",
          "state": {
            "_dom_classes": [],
            "_model_module": "@jupyter-widgets/controls",
            "_model_module_version": "1.5.0",
            "_model_name": "FloatProgressModel",
            "_view_count": null,
            "_view_module": "@jupyter-widgets/controls",
            "_view_module_version": "1.5.0",
            "_view_name": "ProgressView",
            "bar_style": "success",
            "description": "",
            "description_tooltip": null,
            "layout": "IPY_MODEL_8d75a244120e45ea8979d0c0cf599eb9",
            "max": 654186735,
            "min": 0,
            "orientation": "horizontal",
            "style": "IPY_MODEL_eff8e5ca54d44e87bf150bc39d7e072e",
            "value": 654186735
          }
        },
        "061711bd67bc44c9a04a9a8a85af675d": {
          "model_module": "@jupyter-widgets/controls",
          "model_name": "HTMLModel",
          "model_module_version": "1.5.0",
          "state": {
            "_dom_classes": [],
            "_model_module": "@jupyter-widgets/controls",
            "_model_module_version": "1.5.0",
            "_model_name": "HTMLModel",
            "_view_count": null,
            "_view_module": "@jupyter-widgets/controls",
            "_view_module_version": "1.5.0",
            "_view_name": "HTMLView",
            "description": "",
            "description_tooltip": null,
            "layout": "IPY_MODEL_34a35b4e3d274561a6fcca7f3060fa11",
            "placeholder": "​",
            "style": "IPY_MODEL_c40e1c59ba7440e7b359684b34d12672",
            "value": " 654M/654M [00:11&lt;00:00, 57.8MB/s]"
          }
        },
        "7398d30d3da84defb6e09062db732d7f": {
          "model_module": "@jupyter-widgets/base",
          "model_name": "LayoutModel",
          "model_module_version": "1.2.0",
          "state": {
            "_model_module": "@jupyter-widgets/base",
            "_model_module_version": "1.2.0",
            "_model_name": "LayoutModel",
            "_view_count": null,
            "_view_module": "@jupyter-widgets/base",
            "_view_module_version": "1.2.0",
            "_view_name": "LayoutView",
            "align_content": null,
            "align_items": null,
            "align_self": null,
            "border": null,
            "bottom": null,
            "display": null,
            "flex": null,
            "flex_flow": null,
            "grid_area": null,
            "grid_auto_columns": null,
            "grid_auto_flow": null,
            "grid_auto_rows": null,
            "grid_column": null,
            "grid_gap": null,
            "grid_row": null,
            "grid_template_areas": null,
            "grid_template_columns": null,
            "grid_template_rows": null,
            "height": null,
            "justify_content": null,
            "justify_items": null,
            "left": null,
            "margin": null,
            "max_height": null,
            "max_width": null,
            "min_height": null,
            "min_width": null,
            "object_fit": null,
            "object_position": null,
            "order": null,
            "overflow": null,
            "overflow_x": null,
            "overflow_y": null,
            "padding": null,
            "right": null,
            "top": null,
            "visibility": null,
            "width": null
          }
        },
        "00f632828cb74818a287a274dbc52ed7": {
          "model_module": "@jupyter-widgets/base",
          "model_name": "LayoutModel",
          "model_module_version": "1.2.0",
          "state": {
            "_model_module": "@jupyter-widgets/base",
            "_model_module_version": "1.2.0",
            "_model_name": "LayoutModel",
            "_view_count": null,
            "_view_module": "@jupyter-widgets/base",
            "_view_module_version": "1.2.0",
            "_view_name": "LayoutView",
            "align_content": null,
            "align_items": null,
            "align_self": null,
            "border": null,
            "bottom": null,
            "display": null,
            "flex": null,
            "flex_flow": null,
            "grid_area": null,
            "grid_auto_columns": null,
            "grid_auto_flow": null,
            "grid_auto_rows": null,
            "grid_column": null,
            "grid_gap": null,
            "grid_row": null,
            "grid_template_areas": null,
            "grid_template_columns": null,
            "grid_template_rows": null,
            "height": null,
            "justify_content": null,
            "justify_items": null,
            "left": null,
            "margin": null,
            "max_height": null,
            "max_width": null,
            "min_height": null,
            "min_width": null,
            "object_fit": null,
            "object_position": null,
            "order": null,
            "overflow": null,
            "overflow_x": null,
            "overflow_y": null,
            "padding": null,
            "right": null,
            "top": null,
            "visibility": null,
            "width": null
          }
        },
        "a14505ecb3e640e8998a16cdc00e6b5f": {
          "model_module": "@jupyter-widgets/controls",
          "model_name": "DescriptionStyleModel",
          "model_module_version": "1.5.0",
          "state": {
            "_model_module": "@jupyter-widgets/controls",
            "_model_module_version": "1.5.0",
            "_model_name": "DescriptionStyleModel",
            "_view_count": null,
            "_view_module": "@jupyter-widgets/base",
            "_view_module_version": "1.2.0",
            "_view_name": "StyleView",
            "description_width": ""
          }
        },
        "8d75a244120e45ea8979d0c0cf599eb9": {
          "model_module": "@jupyter-widgets/base",
          "model_name": "LayoutModel",
          "model_module_version": "1.2.0",
          "state": {
            "_model_module": "@jupyter-widgets/base",
            "_model_module_version": "1.2.0",
            "_model_name": "LayoutModel",
            "_view_count": null,
            "_view_module": "@jupyter-widgets/base",
            "_view_module_version": "1.2.0",
            "_view_name": "LayoutView",
            "align_content": null,
            "align_items": null,
            "align_self": null,
            "border": null,
            "bottom": null,
            "display": null,
            "flex": null,
            "flex_flow": null,
            "grid_area": null,
            "grid_auto_columns": null,
            "grid_auto_flow": null,
            "grid_auto_rows": null,
            "grid_column": null,
            "grid_gap": null,
            "grid_row": null,
            "grid_template_areas": null,
            "grid_template_columns": null,
            "grid_template_rows": null,
            "height": null,
            "justify_content": null,
            "justify_items": null,
            "left": null,
            "margin": null,
            "max_height": null,
            "max_width": null,
            "min_height": null,
            "min_width": null,
            "object_fit": null,
            "object_position": null,
            "order": null,
            "overflow": null,
            "overflow_x": null,
            "overflow_y": null,
            "padding": null,
            "right": null,
            "top": null,
            "visibility": null,
            "width": null
          }
        },
        "eff8e5ca54d44e87bf150bc39d7e072e": {
          "model_module": "@jupyter-widgets/controls",
          "model_name": "ProgressStyleModel",
          "model_module_version": "1.5.0",
          "state": {
            "_model_module": "@jupyter-widgets/controls",
            "_model_module_version": "1.5.0",
            "_model_name": "ProgressStyleModel",
            "_view_count": null,
            "_view_module": "@jupyter-widgets/base",
            "_view_module_version": "1.2.0",
            "_view_name": "StyleView",
            "bar_color": null,
            "description_width": ""
          }
        },
        "34a35b4e3d274561a6fcca7f3060fa11": {
          "model_module": "@jupyter-widgets/base",
          "model_name": "LayoutModel",
          "model_module_version": "1.2.0",
          "state": {
            "_model_module": "@jupyter-widgets/base",
            "_model_module_version": "1.2.0",
            "_model_name": "LayoutModel",
            "_view_count": null,
            "_view_module": "@jupyter-widgets/base",
            "_view_module_version": "1.2.0",
            "_view_name": "LayoutView",
            "align_content": null,
            "align_items": null,
            "align_self": null,
            "border": null,
            "bottom": null,
            "display": null,
            "flex": null,
            "flex_flow": null,
            "grid_area": null,
            "grid_auto_columns": null,
            "grid_auto_flow": null,
            "grid_auto_rows": null,
            "grid_column": null,
            "grid_gap": null,
            "grid_row": null,
            "grid_template_areas": null,
            "grid_template_columns": null,
            "grid_template_rows": null,
            "height": null,
            "justify_content": null,
            "justify_items": null,
            "left": null,
            "margin": null,
            "max_height": null,
            "max_width": null,
            "min_height": null,
            "min_width": null,
            "object_fit": null,
            "object_position": null,
            "order": null,
            "overflow": null,
            "overflow_x": null,
            "overflow_y": null,
            "padding": null,
            "right": null,
            "top": null,
            "visibility": null,
            "width": null
          }
        },
        "c40e1c59ba7440e7b359684b34d12672": {
          "model_module": "@jupyter-widgets/controls",
          "model_name": "DescriptionStyleModel",
          "model_module_version": "1.5.0",
          "state": {
            "_model_module": "@jupyter-widgets/controls",
            "_model_module_version": "1.5.0",
            "_model_name": "DescriptionStyleModel",
            "_view_count": null,
            "_view_module": "@jupyter-widgets/base",
            "_view_module_version": "1.2.0",
            "_view_name": "StyleView",
            "description_width": ""
          }
        }
      }
    },
    "accelerator": "GPU"
  },
  "cells": [
    {
      "cell_type": "markdown",
      "source": [
        "# Question 2:  BERT model fine tunning\n",
        "\n",
        "**BERT** is state of art model in lots of LLM tasks.\n",
        "Model:\n",
        "* [ParsBert](https://huggingface.co/HooshvareLab/bert-base-parsbert-uncased)\n",
        "\n",
        "Dataset:\n",
        "* [FarsTails](https://github.com/dml-qom/FarsTail)\n",
        "\n",
        "Papers used for this project:\n",
        "* [What Would Elsa Do? Freezing Layers During Transformer Fine-Tuning](https://arxiv.org/abs/1911.03090).\n",
        "* [Are Sixteen Heads Really Better than One?](https://arxiv.org/abs/1905.10650).\n",
        "\n"
      ],
      "metadata": {
        "id": "EecB5bVa7PGu"
      }
    },
    {
      "cell_type": "markdown",
      "source": [
        "## Libraries"
      ],
      "metadata": {
        "id": "hQag8Xdp8Sz9"
      }
    },
    {
      "cell_type": "code",
      "source": [
        "import numpy as np\n",
        "import pandas as pd\n",
        "import matplotlib.pyplot as plt\n",
        "import cv2\n",
        "\n",
        "import librosa\n",
        "import os\n",
        "import seaborn as sns\n",
        "from sklearn.model_selection import train_test_split\n",
        "\n",
        "import shutil\n",
        "from google.colab import drive\n",
        "from google.colab import files\n",
        "\n",
        "import requests\n",
        "import zipfile\n",
        "import io\n",
        "\n",
        "from transformers import AutoTokenizer\n",
        "from transformers import TFAutoModelForSequenceClassification\n",
        "import tensorflow as tf\n",
        "import re\n",
        "import unicodedata\n",
        "\n",
        "\n",
        "from sklearn.metrics import confusion_matrix, classification_report, f1_score, recall_score, accuracy_score\n",
        "from sklearn.metrics import accuracy_score, f1_score, confusion_matrix\n",
        "\n",
        "from transformers.modeling_outputs import BaseModelOutputWithPastAndCrossAttentions\n",
        "import torch.optim as optim\n",
        "from transformers import BertModel\n",
        "import torch\n"
      ],
      "metadata": {
        "id": "Z8gfsjuD7Wvs"
      },
      "execution_count": 1,
      "outputs": []
    },
    {
      "cell_type": "markdown",
      "source": [
        "## 2-1-1. Preprocess"
      ],
      "metadata": {
        "id": "4PEWwc5Y8i3M"
      }
    },
    {
      "cell_type": "markdown",
      "source": [
        "In this exercise, we will get to know the BERT transformer model and we will analyze and analyze it. In this regard, various experiments have been designed on the task of inferring natural language, which we will discuss below. Use the ParsBERT model to perform tasks in all stages.\n",
        "\n",
        "\n",
        "Use the FarsTail dataset for all the mentioned tasks. Provide statistical information including the distribution of classes and length of sentences (based on the number of tokens) of this dataset and describe your preprocessing methods."
      ],
      "metadata": {
        "id": "kuv3pAMa9Z1z"
      }
    },
    {
      "cell_type": "markdown",
      "source": [
        "### 2-1-1-1. Download and load dataset"
      ],
      "metadata": {
        "id": "mukuodta8ov1"
      }
    },
    {
      "cell_type": "code",
      "source": [
        "url = 'https://github.com/dml-qom/FarsTail/archive/refs/heads/master.zip'\n",
        "\n",
        "request = requests.get(url, allow_redirects=True)\n",
        "\n",
        "zip_file = zipfile.ZipFile(io.BytesIO(request.content))\n",
        "\n",
        "target_directory = '/content/FarsTail_dataset'\n",
        "\n",
        "zip_file.extractall(target_directory)\n",
        "\n",
        "print(f'The FarsTails dataset has been successfully downloaded and extracted to {target_directory}.')\n"
      ],
      "metadata": {
        "colab": {
          "base_uri": "https://localhost:8080/"
        },
        "id": "SqSYLzWF8oCM",
        "outputId": "be98858c-fed0-4c24-f64b-76826292a686"
      },
      "execution_count": 2,
      "outputs": [
        {
          "output_type": "stream",
          "name": "stdout",
          "text": [
            "The FarsTails dataset has been successfully downloaded and extracted to /content/FarsTail_dataset.\n"
          ]
        }
      ]
    },
    {
      "cell_type": "markdown",
      "source": [
        "### 2-1-1-2. Creating Train, Test, Validation DF"
      ],
      "metadata": {
        "id": "YVVq88N79e9T"
      }
    },
    {
      "cell_type": "code",
      "source": [
        "train_data = pd.read_csv('/content/FarsTail_dataset/FarsTail-master/data/Train-word.csv', sep='\\t')\n",
        "val_data = pd.read_csv('/content/FarsTail_dataset/FarsTail-master/data/Val-word.csv', sep='\\t')\n",
        "test_data = pd.read_csv('/content/FarsTail_dataset/FarsTail-master/data/Test-word.csv', sep='\\t')"
      ],
      "metadata": {
        "id": "XxGdiOOv8weR"
      },
      "execution_count": 3,
      "outputs": []
    },
    {
      "cell_type": "code",
      "source": [
        "train_data.head()"
      ],
      "metadata": {
        "colab": {
          "base_uri": "https://localhost:8080/",
          "height": 206
        },
        "id": "4OPammpE9pkT",
        "outputId": "c06ff2ba-bb1b-4708-aa68-5c03a6632886"
      },
      "execution_count": null,
      "outputs": [
        {
          "output_type": "execute_result",
          "data": {
            "text/plain": [
              "                                             premise  \\\n",
              "0  اولین انتقال و نفوذ طبیعی فرهنگ و تمدن اسلامی ...   \n",
              "1  اولین انتقال و نفوذ طبیعی فرهنگ و تمدن اسلامی ...   \n",
              "2  اولین انتقال و نفوذ طبیعی فرهنگ و تمدن اسلامی ...   \n",
              "3  ویژگی های هنر عصر اموی: ۱- تلفیقی بودن ۲- بازن...   \n",
              "4  ویژگی های هنر عصر اموی: ۱- تلفیقی بودن ۲- بازن...   \n",
              "\n",
              "                                          hypothesis label  \n",
              "0  نخستین انتقال و نفوذ طبیعی فرهنگ و تمدن اسلامی...     e  \n",
              "1  کانون های جغرافیایی مصر، اندلس و شام، نخستین ر...     c  \n",
              "2  سیسیل بعد از اسپانیا بزرگ ترین کانونی بود که ه...     n  \n",
              "3  نقاشی های تزئینی و تندیس های بی‌کیفیت، یکی از ...     e  \n",
              "4  با کیفیت بودن تندیس های دوره اموی، یکی از ویژگ...     c  "
            ],
            "text/html": [
              "\n",
              "  <div id=\"df-f633d790-918e-418e-b37d-8e5ad71c9fd4\" class=\"colab-df-container\">\n",
              "    <div>\n",
              "<style scoped>\n",
              "    .dataframe tbody tr th:only-of-type {\n",
              "        vertical-align: middle;\n",
              "    }\n",
              "\n",
              "    .dataframe tbody tr th {\n",
              "        vertical-align: top;\n",
              "    }\n",
              "\n",
              "    .dataframe thead th {\n",
              "        text-align: right;\n",
              "    }\n",
              "</style>\n",
              "<table border=\"1\" class=\"dataframe\">\n",
              "  <thead>\n",
              "    <tr style=\"text-align: right;\">\n",
              "      <th></th>\n",
              "      <th>premise</th>\n",
              "      <th>hypothesis</th>\n",
              "      <th>label</th>\n",
              "    </tr>\n",
              "  </thead>\n",
              "  <tbody>\n",
              "    <tr>\n",
              "      <th>0</th>\n",
              "      <td>اولین انتقال و نفوذ طبیعی فرهنگ و تمدن اسلامی ...</td>\n",
              "      <td>نخستین انتقال و نفوذ طبیعی فرهنگ و تمدن اسلامی...</td>\n",
              "      <td>e</td>\n",
              "    </tr>\n",
              "    <tr>\n",
              "      <th>1</th>\n",
              "      <td>اولین انتقال و نفوذ طبیعی فرهنگ و تمدن اسلامی ...</td>\n",
              "      <td>کانون های جغرافیایی مصر، اندلس و شام، نخستین ر...</td>\n",
              "      <td>c</td>\n",
              "    </tr>\n",
              "    <tr>\n",
              "      <th>2</th>\n",
              "      <td>اولین انتقال و نفوذ طبیعی فرهنگ و تمدن اسلامی ...</td>\n",
              "      <td>سیسیل بعد از اسپانیا بزرگ ترین کانونی بود که ه...</td>\n",
              "      <td>n</td>\n",
              "    </tr>\n",
              "    <tr>\n",
              "      <th>3</th>\n",
              "      <td>ویژگی های هنر عصر اموی: ۱- تلفیقی بودن ۲- بازن...</td>\n",
              "      <td>نقاشی های تزئینی و تندیس های بی‌کیفیت، یکی از ...</td>\n",
              "      <td>e</td>\n",
              "    </tr>\n",
              "    <tr>\n",
              "      <th>4</th>\n",
              "      <td>ویژگی های هنر عصر اموی: ۱- تلفیقی بودن ۲- بازن...</td>\n",
              "      <td>با کیفیت بودن تندیس های دوره اموی، یکی از ویژگ...</td>\n",
              "      <td>c</td>\n",
              "    </tr>\n",
              "  </tbody>\n",
              "</table>\n",
              "</div>\n",
              "    <div class=\"colab-df-buttons\">\n",
              "\n",
              "  <div class=\"colab-df-container\">\n",
              "    <button class=\"colab-df-convert\" onclick=\"convertToInteractive('df-f633d790-918e-418e-b37d-8e5ad71c9fd4')\"\n",
              "            title=\"Convert this dataframe to an interactive table.\"\n",
              "            style=\"display:none;\">\n",
              "\n",
              "  <svg xmlns=\"http://www.w3.org/2000/svg\" height=\"24px\" viewBox=\"0 -960 960 960\">\n",
              "    <path d=\"M120-120v-720h720v720H120Zm60-500h600v-160H180v160Zm220 220h160v-160H400v160Zm0 220h160v-160H400v160ZM180-400h160v-160H180v160Zm440 0h160v-160H620v160ZM180-180h160v-160H180v160Zm440 0h160v-160H620v160Z\"/>\n",
              "  </svg>\n",
              "    </button>\n",
              "\n",
              "  <style>\n",
              "    .colab-df-container {\n",
              "      display:flex;\n",
              "      gap: 12px;\n",
              "    }\n",
              "\n",
              "    .colab-df-convert {\n",
              "      background-color: #E8F0FE;\n",
              "      border: none;\n",
              "      border-radius: 50%;\n",
              "      cursor: pointer;\n",
              "      display: none;\n",
              "      fill: #1967D2;\n",
              "      height: 32px;\n",
              "      padding: 0 0 0 0;\n",
              "      width: 32px;\n",
              "    }\n",
              "\n",
              "    .colab-df-convert:hover {\n",
              "      background-color: #E2EBFA;\n",
              "      box-shadow: 0px 1px 2px rgba(60, 64, 67, 0.3), 0px 1px 3px 1px rgba(60, 64, 67, 0.15);\n",
              "      fill: #174EA6;\n",
              "    }\n",
              "\n",
              "    .colab-df-buttons div {\n",
              "      margin-bottom: 4px;\n",
              "    }\n",
              "\n",
              "    [theme=dark] .colab-df-convert {\n",
              "      background-color: #3B4455;\n",
              "      fill: #D2E3FC;\n",
              "    }\n",
              "\n",
              "    [theme=dark] .colab-df-convert:hover {\n",
              "      background-color: #434B5C;\n",
              "      box-shadow: 0px 1px 3px 1px rgba(0, 0, 0, 0.15);\n",
              "      filter: drop-shadow(0px 1px 2px rgba(0, 0, 0, 0.3));\n",
              "      fill: #FFFFFF;\n",
              "    }\n",
              "  </style>\n",
              "\n",
              "    <script>\n",
              "      const buttonEl =\n",
              "        document.querySelector('#df-f633d790-918e-418e-b37d-8e5ad71c9fd4 button.colab-df-convert');\n",
              "      buttonEl.style.display =\n",
              "        google.colab.kernel.accessAllowed ? 'block' : 'none';\n",
              "\n",
              "      async function convertToInteractive(key) {\n",
              "        const element = document.querySelector('#df-f633d790-918e-418e-b37d-8e5ad71c9fd4');\n",
              "        const dataTable =\n",
              "          await google.colab.kernel.invokeFunction('convertToInteractive',\n",
              "                                                    [key], {});\n",
              "        if (!dataTable) return;\n",
              "\n",
              "        const docLinkHtml = 'Like what you see? Visit the ' +\n",
              "          '<a target=\"_blank\" href=https://colab.research.google.com/notebooks/data_table.ipynb>data table notebook</a>'\n",
              "          + ' to learn more about interactive tables.';\n",
              "        element.innerHTML = '';\n",
              "        dataTable['output_type'] = 'display_data';\n",
              "        await google.colab.output.renderOutput(dataTable, element);\n",
              "        const docLink = document.createElement('div');\n",
              "        docLink.innerHTML = docLinkHtml;\n",
              "        element.appendChild(docLink);\n",
              "      }\n",
              "    </script>\n",
              "  </div>\n",
              "\n",
              "\n",
              "<div id=\"df-7df87cf0-d11d-40d3-8dd0-97245fd56212\">\n",
              "  <button class=\"colab-df-quickchart\" onclick=\"quickchart('df-7df87cf0-d11d-40d3-8dd0-97245fd56212')\"\n",
              "            title=\"Suggest charts\"\n",
              "            style=\"display:none;\">\n",
              "\n",
              "<svg xmlns=\"http://www.w3.org/2000/svg\" height=\"24px\"viewBox=\"0 0 24 24\"\n",
              "     width=\"24px\">\n",
              "    <g>\n",
              "        <path d=\"M19 3H5c-1.1 0-2 .9-2 2v14c0 1.1.9 2 2 2h14c1.1 0 2-.9 2-2V5c0-1.1-.9-2-2-2zM9 17H7v-7h2v7zm4 0h-2V7h2v10zm4 0h-2v-4h2v4z\"/>\n",
              "    </g>\n",
              "</svg>\n",
              "  </button>\n",
              "\n",
              "<style>\n",
              "  .colab-df-quickchart {\n",
              "      --bg-color: #E8F0FE;\n",
              "      --fill-color: #1967D2;\n",
              "      --hover-bg-color: #E2EBFA;\n",
              "      --hover-fill-color: #174EA6;\n",
              "      --disabled-fill-color: #AAA;\n",
              "      --disabled-bg-color: #DDD;\n",
              "  }\n",
              "\n",
              "  [theme=dark] .colab-df-quickchart {\n",
              "      --bg-color: #3B4455;\n",
              "      --fill-color: #D2E3FC;\n",
              "      --hover-bg-color: #434B5C;\n",
              "      --hover-fill-color: #FFFFFF;\n",
              "      --disabled-bg-color: #3B4455;\n",
              "      --disabled-fill-color: #666;\n",
              "  }\n",
              "\n",
              "  .colab-df-quickchart {\n",
              "    background-color: var(--bg-color);\n",
              "    border: none;\n",
              "    border-radius: 50%;\n",
              "    cursor: pointer;\n",
              "    display: none;\n",
              "    fill: var(--fill-color);\n",
              "    height: 32px;\n",
              "    padding: 0;\n",
              "    width: 32px;\n",
              "  }\n",
              "\n",
              "  .colab-df-quickchart:hover {\n",
              "    background-color: var(--hover-bg-color);\n",
              "    box-shadow: 0 1px 2px rgba(60, 64, 67, 0.3), 0 1px 3px 1px rgba(60, 64, 67, 0.15);\n",
              "    fill: var(--button-hover-fill-color);\n",
              "  }\n",
              "\n",
              "  .colab-df-quickchart-complete:disabled,\n",
              "  .colab-df-quickchart-complete:disabled:hover {\n",
              "    background-color: var(--disabled-bg-color);\n",
              "    fill: var(--disabled-fill-color);\n",
              "    box-shadow: none;\n",
              "  }\n",
              "\n",
              "  .colab-df-spinner {\n",
              "    border: 2px solid var(--fill-color);\n",
              "    border-color: transparent;\n",
              "    border-bottom-color: var(--fill-color);\n",
              "    animation:\n",
              "      spin 1s steps(1) infinite;\n",
              "  }\n",
              "\n",
              "  @keyframes spin {\n",
              "    0% {\n",
              "      border-color: transparent;\n",
              "      border-bottom-color: var(--fill-color);\n",
              "      border-left-color: var(--fill-color);\n",
              "    }\n",
              "    20% {\n",
              "      border-color: transparent;\n",
              "      border-left-color: var(--fill-color);\n",
              "      border-top-color: var(--fill-color);\n",
              "    }\n",
              "    30% {\n",
              "      border-color: transparent;\n",
              "      border-left-color: var(--fill-color);\n",
              "      border-top-color: var(--fill-color);\n",
              "      border-right-color: var(--fill-color);\n",
              "    }\n",
              "    40% {\n",
              "      border-color: transparent;\n",
              "      border-right-color: var(--fill-color);\n",
              "      border-top-color: var(--fill-color);\n",
              "    }\n",
              "    60% {\n",
              "      border-color: transparent;\n",
              "      border-right-color: var(--fill-color);\n",
              "    }\n",
              "    80% {\n",
              "      border-color: transparent;\n",
              "      border-right-color: var(--fill-color);\n",
              "      border-bottom-color: var(--fill-color);\n",
              "    }\n",
              "    90% {\n",
              "      border-color: transparent;\n",
              "      border-bottom-color: var(--fill-color);\n",
              "    }\n",
              "  }\n",
              "</style>\n",
              "\n",
              "  <script>\n",
              "    async function quickchart(key) {\n",
              "      const quickchartButtonEl =\n",
              "        document.querySelector('#' + key + ' button');\n",
              "      quickchartButtonEl.disabled = true;  // To prevent multiple clicks.\n",
              "      quickchartButtonEl.classList.add('colab-df-spinner');\n",
              "      try {\n",
              "        const charts = await google.colab.kernel.invokeFunction(\n",
              "            'suggestCharts', [key], {});\n",
              "      } catch (error) {\n",
              "        console.error('Error during call to suggestCharts:', error);\n",
              "      }\n",
              "      quickchartButtonEl.classList.remove('colab-df-spinner');\n",
              "      quickchartButtonEl.classList.add('colab-df-quickchart-complete');\n",
              "    }\n",
              "    (() => {\n",
              "      let quickchartButtonEl =\n",
              "        document.querySelector('#df-7df87cf0-d11d-40d3-8dd0-97245fd56212 button');\n",
              "      quickchartButtonEl.style.display =\n",
              "        google.colab.kernel.accessAllowed ? 'block' : 'none';\n",
              "    })();\n",
              "  </script>\n",
              "</div>\n",
              "\n",
              "    </div>\n",
              "  </div>\n"
            ]
          },
          "metadata": {},
          "execution_count": 6
        }
      ]
    },
    {
      "cell_type": "code",
      "source": [
        "val_data.head()"
      ],
      "metadata": {
        "colab": {
          "base_uri": "https://localhost:8080/",
          "height": 206
        },
        "id": "VbDRPWJS9qZ-",
        "outputId": "88f29163-7ef6-4586-a52b-bf09a7a87055"
      },
      "execution_count": null,
      "outputs": [
        {
          "output_type": "execute_result",
          "data": {
            "text/plain": [
              "                                             premise  \\\n",
              "0  یکی از سرآمدانی که بر تارک علمی مدرسه اسکندریه...   \n",
              "1  یکی از سرآمدانی که بر تارک علمی مدرسه اسکندریه...   \n",
              "2  یکی از سرآمدانی که بر تارک علمی مدرسه اسکندریه...   \n",
              "3  تاریخ پزشکی یونانی با بقراط معروف است. آثار طب...   \n",
              "4  تاریخ پزشکی یونانی با بقراط معروف است. آثار طب...   \n",
              "\n",
              "                                          hypothesis label  \n",
              "0  کتاب مگیستی (المجسطی) از آثار بطلمیوس است و از...     e  \n",
              "1  المجسطی (مگیستی)، یکی از کتاب های هرون از مکتب...     c  \n",
              "2  ترجمه المجسطی، پایه تهیه جداول نجومی گردید که ...     n  \n",
              "3            کتاب کلمات قصار یا فصول، اثر بقراط است.     e  \n",
              "4         جالینوس، نویسنده کتاب کلمات قصار بوده است.     c  "
            ],
            "text/html": [
              "\n",
              "  <div id=\"df-10579d7e-3aa3-4a6c-aa3a-75fbdb078f6e\" class=\"colab-df-container\">\n",
              "    <div>\n",
              "<style scoped>\n",
              "    .dataframe tbody tr th:only-of-type {\n",
              "        vertical-align: middle;\n",
              "    }\n",
              "\n",
              "    .dataframe tbody tr th {\n",
              "        vertical-align: top;\n",
              "    }\n",
              "\n",
              "    .dataframe thead th {\n",
              "        text-align: right;\n",
              "    }\n",
              "</style>\n",
              "<table border=\"1\" class=\"dataframe\">\n",
              "  <thead>\n",
              "    <tr style=\"text-align: right;\">\n",
              "      <th></th>\n",
              "      <th>premise</th>\n",
              "      <th>hypothesis</th>\n",
              "      <th>label</th>\n",
              "    </tr>\n",
              "  </thead>\n",
              "  <tbody>\n",
              "    <tr>\n",
              "      <th>0</th>\n",
              "      <td>یکی از سرآمدانی که بر تارک علمی مدرسه اسکندریه...</td>\n",
              "      <td>کتاب مگیستی (المجسطی) از آثار بطلمیوس است و از...</td>\n",
              "      <td>e</td>\n",
              "    </tr>\n",
              "    <tr>\n",
              "      <th>1</th>\n",
              "      <td>یکی از سرآمدانی که بر تارک علمی مدرسه اسکندریه...</td>\n",
              "      <td>المجسطی (مگیستی)، یکی از کتاب های هرون از مکتب...</td>\n",
              "      <td>c</td>\n",
              "    </tr>\n",
              "    <tr>\n",
              "      <th>2</th>\n",
              "      <td>یکی از سرآمدانی که بر تارک علمی مدرسه اسکندریه...</td>\n",
              "      <td>ترجمه المجسطی، پایه تهیه جداول نجومی گردید که ...</td>\n",
              "      <td>n</td>\n",
              "    </tr>\n",
              "    <tr>\n",
              "      <th>3</th>\n",
              "      <td>تاریخ پزشکی یونانی با بقراط معروف است. آثار طب...</td>\n",
              "      <td>کتاب کلمات قصار یا فصول، اثر بقراط است.</td>\n",
              "      <td>e</td>\n",
              "    </tr>\n",
              "    <tr>\n",
              "      <th>4</th>\n",
              "      <td>تاریخ پزشکی یونانی با بقراط معروف است. آثار طب...</td>\n",
              "      <td>جالینوس، نویسنده کتاب کلمات قصار بوده است.</td>\n",
              "      <td>c</td>\n",
              "    </tr>\n",
              "  </tbody>\n",
              "</table>\n",
              "</div>\n",
              "    <div class=\"colab-df-buttons\">\n",
              "\n",
              "  <div class=\"colab-df-container\">\n",
              "    <button class=\"colab-df-convert\" onclick=\"convertToInteractive('df-10579d7e-3aa3-4a6c-aa3a-75fbdb078f6e')\"\n",
              "            title=\"Convert this dataframe to an interactive table.\"\n",
              "            style=\"display:none;\">\n",
              "\n",
              "  <svg xmlns=\"http://www.w3.org/2000/svg\" height=\"24px\" viewBox=\"0 -960 960 960\">\n",
              "    <path d=\"M120-120v-720h720v720H120Zm60-500h600v-160H180v160Zm220 220h160v-160H400v160Zm0 220h160v-160H400v160ZM180-400h160v-160H180v160Zm440 0h160v-160H620v160ZM180-180h160v-160H180v160Zm440 0h160v-160H620v160Z\"/>\n",
              "  </svg>\n",
              "    </button>\n",
              "\n",
              "  <style>\n",
              "    .colab-df-container {\n",
              "      display:flex;\n",
              "      gap: 12px;\n",
              "    }\n",
              "\n",
              "    .colab-df-convert {\n",
              "      background-color: #E8F0FE;\n",
              "      border: none;\n",
              "      border-radius: 50%;\n",
              "      cursor: pointer;\n",
              "      display: none;\n",
              "      fill: #1967D2;\n",
              "      height: 32px;\n",
              "      padding: 0 0 0 0;\n",
              "      width: 32px;\n",
              "    }\n",
              "\n",
              "    .colab-df-convert:hover {\n",
              "      background-color: #E2EBFA;\n",
              "      box-shadow: 0px 1px 2px rgba(60, 64, 67, 0.3), 0px 1px 3px 1px rgba(60, 64, 67, 0.15);\n",
              "      fill: #174EA6;\n",
              "    }\n",
              "\n",
              "    .colab-df-buttons div {\n",
              "      margin-bottom: 4px;\n",
              "    }\n",
              "\n",
              "    [theme=dark] .colab-df-convert {\n",
              "      background-color: #3B4455;\n",
              "      fill: #D2E3FC;\n",
              "    }\n",
              "\n",
              "    [theme=dark] .colab-df-convert:hover {\n",
              "      background-color: #434B5C;\n",
              "      box-shadow: 0px 1px 3px 1px rgba(0, 0, 0, 0.15);\n",
              "      filter: drop-shadow(0px 1px 2px rgba(0, 0, 0, 0.3));\n",
              "      fill: #FFFFFF;\n",
              "    }\n",
              "  </style>\n",
              "\n",
              "    <script>\n",
              "      const buttonEl =\n",
              "        document.querySelector('#df-10579d7e-3aa3-4a6c-aa3a-75fbdb078f6e button.colab-df-convert');\n",
              "      buttonEl.style.display =\n",
              "        google.colab.kernel.accessAllowed ? 'block' : 'none';\n",
              "\n",
              "      async function convertToInteractive(key) {\n",
              "        const element = document.querySelector('#df-10579d7e-3aa3-4a6c-aa3a-75fbdb078f6e');\n",
              "        const dataTable =\n",
              "          await google.colab.kernel.invokeFunction('convertToInteractive',\n",
              "                                                    [key], {});\n",
              "        if (!dataTable) return;\n",
              "\n",
              "        const docLinkHtml = 'Like what you see? Visit the ' +\n",
              "          '<a target=\"_blank\" href=https://colab.research.google.com/notebooks/data_table.ipynb>data table notebook</a>'\n",
              "          + ' to learn more about interactive tables.';\n",
              "        element.innerHTML = '';\n",
              "        dataTable['output_type'] = 'display_data';\n",
              "        await google.colab.output.renderOutput(dataTable, element);\n",
              "        const docLink = document.createElement('div');\n",
              "        docLink.innerHTML = docLinkHtml;\n",
              "        element.appendChild(docLink);\n",
              "      }\n",
              "    </script>\n",
              "  </div>\n",
              "\n",
              "\n",
              "<div id=\"df-d65454af-9558-4e25-a984-87120019dcd0\">\n",
              "  <button class=\"colab-df-quickchart\" onclick=\"quickchart('df-d65454af-9558-4e25-a984-87120019dcd0')\"\n",
              "            title=\"Suggest charts\"\n",
              "            style=\"display:none;\">\n",
              "\n",
              "<svg xmlns=\"http://www.w3.org/2000/svg\" height=\"24px\"viewBox=\"0 0 24 24\"\n",
              "     width=\"24px\">\n",
              "    <g>\n",
              "        <path d=\"M19 3H5c-1.1 0-2 .9-2 2v14c0 1.1.9 2 2 2h14c1.1 0 2-.9 2-2V5c0-1.1-.9-2-2-2zM9 17H7v-7h2v7zm4 0h-2V7h2v10zm4 0h-2v-4h2v4z\"/>\n",
              "    </g>\n",
              "</svg>\n",
              "  </button>\n",
              "\n",
              "<style>\n",
              "  .colab-df-quickchart {\n",
              "      --bg-color: #E8F0FE;\n",
              "      --fill-color: #1967D2;\n",
              "      --hover-bg-color: #E2EBFA;\n",
              "      --hover-fill-color: #174EA6;\n",
              "      --disabled-fill-color: #AAA;\n",
              "      --disabled-bg-color: #DDD;\n",
              "  }\n",
              "\n",
              "  [theme=dark] .colab-df-quickchart {\n",
              "      --bg-color: #3B4455;\n",
              "      --fill-color: #D2E3FC;\n",
              "      --hover-bg-color: #434B5C;\n",
              "      --hover-fill-color: #FFFFFF;\n",
              "      --disabled-bg-color: #3B4455;\n",
              "      --disabled-fill-color: #666;\n",
              "  }\n",
              "\n",
              "  .colab-df-quickchart {\n",
              "    background-color: var(--bg-color);\n",
              "    border: none;\n",
              "    border-radius: 50%;\n",
              "    cursor: pointer;\n",
              "    display: none;\n",
              "    fill: var(--fill-color);\n",
              "    height: 32px;\n",
              "    padding: 0;\n",
              "    width: 32px;\n",
              "  }\n",
              "\n",
              "  .colab-df-quickchart:hover {\n",
              "    background-color: var(--hover-bg-color);\n",
              "    box-shadow: 0 1px 2px rgba(60, 64, 67, 0.3), 0 1px 3px 1px rgba(60, 64, 67, 0.15);\n",
              "    fill: var(--button-hover-fill-color);\n",
              "  }\n",
              "\n",
              "  .colab-df-quickchart-complete:disabled,\n",
              "  .colab-df-quickchart-complete:disabled:hover {\n",
              "    background-color: var(--disabled-bg-color);\n",
              "    fill: var(--disabled-fill-color);\n",
              "    box-shadow: none;\n",
              "  }\n",
              "\n",
              "  .colab-df-spinner {\n",
              "    border: 2px solid var(--fill-color);\n",
              "    border-color: transparent;\n",
              "    border-bottom-color: var(--fill-color);\n",
              "    animation:\n",
              "      spin 1s steps(1) infinite;\n",
              "  }\n",
              "\n",
              "  @keyframes spin {\n",
              "    0% {\n",
              "      border-color: transparent;\n",
              "      border-bottom-color: var(--fill-color);\n",
              "      border-left-color: var(--fill-color);\n",
              "    }\n",
              "    20% {\n",
              "      border-color: transparent;\n",
              "      border-left-color: var(--fill-color);\n",
              "      border-top-color: var(--fill-color);\n",
              "    }\n",
              "    30% {\n",
              "      border-color: transparent;\n",
              "      border-left-color: var(--fill-color);\n",
              "      border-top-color: var(--fill-color);\n",
              "      border-right-color: var(--fill-color);\n",
              "    }\n",
              "    40% {\n",
              "      border-color: transparent;\n",
              "      border-right-color: var(--fill-color);\n",
              "      border-top-color: var(--fill-color);\n",
              "    }\n",
              "    60% {\n",
              "      border-color: transparent;\n",
              "      border-right-color: var(--fill-color);\n",
              "    }\n",
              "    80% {\n",
              "      border-color: transparent;\n",
              "      border-right-color: var(--fill-color);\n",
              "      border-bottom-color: var(--fill-color);\n",
              "    }\n",
              "    90% {\n",
              "      border-color: transparent;\n",
              "      border-bottom-color: var(--fill-color);\n",
              "    }\n",
              "  }\n",
              "</style>\n",
              "\n",
              "  <script>\n",
              "    async function quickchart(key) {\n",
              "      const quickchartButtonEl =\n",
              "        document.querySelector('#' + key + ' button');\n",
              "      quickchartButtonEl.disabled = true;  // To prevent multiple clicks.\n",
              "      quickchartButtonEl.classList.add('colab-df-spinner');\n",
              "      try {\n",
              "        const charts = await google.colab.kernel.invokeFunction(\n",
              "            'suggestCharts', [key], {});\n",
              "      } catch (error) {\n",
              "        console.error('Error during call to suggestCharts:', error);\n",
              "      }\n",
              "      quickchartButtonEl.classList.remove('colab-df-spinner');\n",
              "      quickchartButtonEl.classList.add('colab-df-quickchart-complete');\n",
              "    }\n",
              "    (() => {\n",
              "      let quickchartButtonEl =\n",
              "        document.querySelector('#df-d65454af-9558-4e25-a984-87120019dcd0 button');\n",
              "      quickchartButtonEl.style.display =\n",
              "        google.colab.kernel.accessAllowed ? 'block' : 'none';\n",
              "    })();\n",
              "  </script>\n",
              "</div>\n",
              "\n",
              "    </div>\n",
              "  </div>\n"
            ]
          },
          "metadata": {},
          "execution_count": 7
        }
      ]
    },
    {
      "cell_type": "markdown",
      "source": [
        "## 2-1-1-3. Statistical analysis on dataset\n",
        "\n",
        "* Showing distribution of classes\n",
        "* Showing length of sentences\n",
        "* Preprocessing the Cleaned Text"
      ],
      "metadata": {
        "id": "yZT2dcq7-MAL"
      }
    },
    {
      "cell_type": "markdown",
      "source": [
        "#### Distribution of different classes"
      ],
      "metadata": {
        "id": "MD8diVbi-rQ7"
      }
    },
    {
      "cell_type": "code",
      "source": [
        "all_data = pd.concat([train_data, val_data, test_data])\n",
        "class_distribution = all_data['label'].value_counts()\n",
        "plt.figure(figsize=(8, 5))\n",
        "class_distribution.plot(kind='bar', color='skyblue')\n",
        "plt.title('Distribution of Classes')\n",
        "plt.xlabel('Class')\n",
        "plt.ylabel('Count')\n",
        "plt.show()\n",
        "\n",
        "fig, axes = plt.subplots(1, 3, figsize=(18, 5), sharey=True)\n",
        "\n",
        "# Train dataset\n",
        "train_distribution = train_data['label'].value_counts()\n",
        "axes[0].bar(train_distribution.index, train_distribution, color='skyblue')\n",
        "axes[0].set_title('Train Dataset')\n",
        "axes[0].set_xlabel('Class')\n",
        "axes[0].set_ylabel('Count')\n",
        "\n",
        "\n",
        "# Validation dataset\n",
        "val_distribution = val_data['label'].value_counts()\n",
        "axes[1].bar(val_distribution.index, val_distribution, color='skyblue')\n",
        "axes[1].set_title('Validation Dataset')\n",
        "axes[1].set_xlabel('Class')\n",
        "\n",
        "\n",
        "# Test dataset\n",
        "test_distribution = test_data['label'].value_counts()\n",
        "axes[2].bar(test_distribution.index, test_distribution, color='skyblue')\n",
        "axes[2].set_title('Test Dataset')\n",
        "axes[2].set_xlabel('Class')\n",
        "\n",
        "plt.show()\n",
        "\n",
        "print(\"\\nTraining Data Class Distribution:\")\n",
        "print(train_distribution)\n",
        "print(\"\\nValidation Data Class Distribution:\")\n",
        "print(val_distribution)\n",
        "print(\"\\nTest Data Class Distribution:\")\n",
        "print(test_distribution)\n"
      ],
      "metadata": {
        "colab": {
          "base_uri": "https://localhost:8080/",
          "height": 1000
        },
        "id": "083wk8BS-qpb",
        "outputId": "c1acc46d-b8aa-4e78-a3e3-f1d7c537bb88"
      },
      "execution_count": null,
      "outputs": [
        {
          "output_type": "display_data",
          "data": {
            "text/plain": [
              "<Figure size 800x500 with 1 Axes>"
            ],
            "image/png": "[encoded data removed]"
          },
          "metadata": {}
        },
        {
          "output_type": "display_data",
          "data": {
            "text/plain": [
              "<Figure size 1800x500 with 3 Axes>"
            ],
            "image/png": "[encoded data removed]"
          },
          "metadata": {}
        },
        {
          "output_type": "stream",
          "name": "stdout",
          "text": [
            "\n",
            "Training Data Class Distribution:\n",
            "n    2448\n",
            "e    2429\n",
            "c    2389\n",
            "Name: label, dtype: int64\n",
            "\n",
            "Validation Data Class Distribution:\n",
            "n    523\n",
            "e    515\n",
            "c    499\n",
            "Name: label, dtype: int64\n",
            "\n",
            "Test Data Class Distribution:\n",
            "n    535\n",
            "e    519\n",
            "c    510\n",
            "Name: label, dtype: int64\n"
          ]
        }
      ]
    },
    {
      "cell_type": "markdown",
      "source": [
        "#### Sentence length"
      ],
      "metadata": {
        "id": "_qw8JJwu_obT"
      }
    },
    {
      "cell_type": "code",
      "source": [
        "# load model\n",
        "tokenizer = AutoTokenizer.from_pretrained(\"HooshvareLab/bert-base-parsbert-uncased\")\n"
      ],
      "metadata": {
        "colab": {
          "base_uri": "https://localhost:8080/",
          "height": 210,
          "referenced_widgets": [
            "b37a98c734164d9b8fe74fba8e7ed1bd",
            "a3a61136f6b84b1ebb6ef0e0817e72e5",
            "61c05c81c8eb456995238b898b73beff",
            "679b826ce7144939a5646bc943e84c08",
            "6efe16666e7d423f90723467449e813d",
            "861f6946a9a549d2bd450aae0e7e8f26",
            "38262ccf09ea45988f54cd0248109887",
            "dcc37212544741599fdd5db307d8a7ff",
            "22c78a3ea25b49158e01bee2b22f244b",
            "626858b3e0d64ccca5561be25009818c",
            "1b0b83e79a5e4ad1bd0e628860c29b08",
            "5a052291d3a54b43b001781dab61e79e",
            "d99c90dd72a24beebcd15dd7ba8323aa",
            "e5422587e5a841b19606835d08e1b149",
            "f4ce6014b0a64368acbdc90a6da56ddd",
            "07877b5746434c9c94e1203b493be6fa",
            "4044087f84bb4a41a993f848665601a2",
            "7295b8ef98984a2d89015f00d58837b5",
            "f285bcd75d044ed5921db7548d297deb",
            "dab3f14b14eb4e32a50fcca580d3ca0e",
            "0b83157b292545b48198410691138bde",
            "062874dba88f4d7f97627907a1964baa"
          ]
        },
        "id": "NrjBIUcp_qtC",
        "outputId": "46f3d23a-6ccb-4dfd-fa4c-a589980bad44"
      },
      "execution_count": null,
      "outputs": [
        {
          "output_type": "stream",
          "name": "stderr",
          "text": [
            "/usr/local/lib/python3.10/dist-packages/huggingface_hub/utils/_token.py:72: UserWarning: \n",
            "The secret `HF_TOKEN` does not exist in your Colab secrets.\n",
            "To authenticate with the Hugging Face Hub, create a token in your settings tab (https://huggingface.co/settings/tokens), set it as secret in your Google Colab and restart your session.\n",
            "You will be able to reuse this secret in all of your notebooks.\n",
            "Please note that authentication is recommended but still optional to access public models or datasets.\n",
            "  warnings.warn(\n"
          ]
        },
        {
          "output_type": "display_data",
          "data": {
            "text/plain": [
              "config.json:   0%|          | 0.00/434 [00:00<?, ?B/s]"
            ],
            "application/vnd.jupyter.widget-view+json": {
              "version_major": 2,
              "version_minor": 0,
              "model_id": "b37a98c734164d9b8fe74fba8e7ed1bd"
            }
          },
          "metadata": {}
        },
        {
          "output_type": "display_data",
          "data": {
            "text/plain": [
              "vocab.txt:   0%|          | 0.00/1.22M [00:00<?, ?B/s]"
            ],
            "application/vnd.jupyter.widget-view+json": {
              "version_major": 2,
              "version_minor": 0,
              "model_id": "5a052291d3a54b43b001781dab61e79e"
            }
          },
          "metadata": {}
        }
      ]
    },
    {
      "cell_type": "code",
      "source": [
        "def get_sentence_length(data):\n",
        "    return data['premise'].apply(lambda x: len(tokenizer.encode(x, max_length=512, truncation=True)))"
      ],
      "metadata": {
        "id": "drsMuXo9Aa4r"
      },
      "execution_count": null,
      "outputs": []
    },
    {
      "cell_type": "code",
      "source": [
        "train_sentence_length = get_sentence_length(train_data)\n",
        "train_sentence_length.describe()"
      ],
      "metadata": {
        "colab": {
          "base_uri": "https://localhost:8080/"
        },
        "id": "9Zo8HIIgAkWx",
        "outputId": "6076eeb0-90d6-47b9-9bf0-f727f2194bee"
      },
      "execution_count": null,
      "outputs": [
        {
          "output_type": "execute_result",
          "data": {
            "text/plain": [
              "count    7266.000000\n",
              "mean       43.792458\n",
              "std        17.085853\n",
              "min        11.000000\n",
              "25%        31.000000\n",
              "50%        41.000000\n",
              "75%        54.000000\n",
              "max       136.000000\n",
              "Name: premise, dtype: float64"
            ]
          },
          "metadata": {},
          "execution_count": 17
        }
      ]
    },
    {
      "cell_type": "code",
      "source": [
        "validation_sentence_length = get_sentence_length(val_data)\n",
        "validation_sentence_length.describe()"
      ],
      "metadata": {
        "colab": {
          "base_uri": "https://localhost:8080/"
        },
        "id": "VOQHSiqCAtOp",
        "outputId": "faa4c3f5-dbf3-4001-cc47-6a14a84eb9e2"
      },
      "execution_count": null,
      "outputs": [
        {
          "output_type": "execute_result",
          "data": {
            "text/plain": [
              "count    1537.000000\n",
              "mean       43.163305\n",
              "std        16.824191\n",
              "min        10.000000\n",
              "25%        31.000000\n",
              "50%        41.000000\n",
              "75%        52.000000\n",
              "max       107.000000\n",
              "Name: premise, dtype: float64"
            ]
          },
          "metadata": {},
          "execution_count": 23
        }
      ]
    },
    {
      "cell_type": "code",
      "source": [
        "test_sentence_length = get_sentence_length(test_data)\n",
        "test_sentence_length.describe()"
      ],
      "metadata": {
        "colab": {
          "base_uri": "https://localhost:8080/"
        },
        "id": "Yuu_e87zA6Mg",
        "outputId": "85df6ff1-ced5-4098-e6ef-2a0cceb38a6e"
      },
      "execution_count": null,
      "outputs": [
        {
          "output_type": "execute_result",
          "data": {
            "text/plain": [
              "count    1564.000000\n",
              "mean       42.619565\n",
              "std        17.148977\n",
              "min        12.000000\n",
              "25%        30.000000\n",
              "50%        40.000000\n",
              "75%        52.000000\n",
              "max       128.000000\n",
              "Name: premise, dtype: float64"
            ]
          },
          "metadata": {},
          "execution_count": 20
        }
      ]
    },
    {
      "cell_type": "code",
      "source": [
        "# Plot the distribution of sentence lengths\n",
        "fig, axes = plt.subplots(1, 3, figsize=(18, 5), sharey=True)\n",
        "\n",
        "# Train dataset\n",
        "axes[0].hist(train_sentence_length, bins=20, color='skyblue', edgecolor='black')\n",
        "axes[0].set_title('Train Dataset')\n",
        "axes[0].set_xlabel('Sentence Length')\n",
        "axes[0].set_ylabel('Count')\n",
        "\n",
        "# Validation dataset\n",
        "axes[1].hist(validation_sentence_length, bins=20, color='skyblue', edgecolor='black')\n",
        "axes[1].set_title('Validation Dataset')\n",
        "axes[1].set_xlabel('Sentence Length')\n",
        "\n",
        "# Test dataset\n",
        "axes[2].hist(test_sentence_length, bins=20, color='skyblue', edgecolor='black')\n",
        "axes[2].set_title('Test Dataset')\n",
        "axes[2].set_xlabel('Sentence Length')\n"
      ],
      "metadata": {
        "colab": {
          "base_uri": "https://localhost:8080/",
          "height": 484
        },
        "id": "8uOcVyq0BNjQ",
        "outputId": "68e6590b-6f67-4069-bc3a-57fe2c85d82f"
      },
      "execution_count": null,
      "outputs": [
        {
          "output_type": "execute_result",
          "data": {
            "text/plain": [
              "Text(0.5, 0, 'Sentence Length')"
            ]
          },
          "metadata": {},
          "execution_count": 25
        },
        {
          "output_type": "display_data",
          "data": {
            "text/plain": [
              "<Figure size 1800x500 with 3 Axes>"
            ],
            "image/png": "[encoded data removed]"
          },
          "metadata": {}
        }
      ]
    },
    {
      "cell_type": "markdown",
      "source": [
        "#### Preprocessing the Cleaned Text"
      ],
      "metadata": {
        "id": "OWcc9bUsB4QB"
      }
    },
    {
      "cell_type": "markdown",
      "source": [
        "In this step we provide text ready for process using a function\n",
        "here are steps:\n",
        "* Remove Special Characters and Punctuation\n",
        "* Convert Text to Lowercase\n",
        "* Handle Unicode Characters\n",
        "* Remove Tags, HTML, CSS and so on using regex\n",
        "* Remove ASCII Unwanted"
      ],
      "metadata": {
        "id": "tno96hItCJ_R"
      }
    },
    {
      "cell_type": "code",
      "source": [
        "\n",
        "def handle_unicode(text):\n",
        "    return ''.join(c for c in unicodedata.normalize('NFD', text) if unicodedata.category(c) != 'Mn')\n",
        "\n",
        "def remove_ascii(text):\n",
        "    unwanted_ascii = set('\\x00\\x08\\x0b\\x0c\\x0e\\x1f\\x7f\\xff')\n",
        "    return ''.join(char for char in text if char not in unwanted_ascii)\n",
        "\n",
        "\n",
        "def clean_text(text):\n",
        "    text = re.sub(r'[^\\w\\s]', '', text)\n",
        "    text = text.lower()\n",
        "    text = re.sub(r'\\n', ' ', text)\n",
        "    text = re.sub(r'http\\S+|www\\S+', '', text)\n",
        "    text = re.sub(r'<.*?>', '', text)\n",
        "    text = re.sub(r'<style[^<]*</style>|<script[^<]*</script>', '', text)\n",
        "    text = re.sub(r'([^@\\s#\\w]|_)+', '', text)\n",
        "    return text\n",
        "\n",
        "def clean_dataframe_column(df, text_column):\n",
        "    df[text_column] = df[text_column].apply(handle_unicode)\n",
        "    df[text_column] = df[text_column].apply(remove_ascii)\n",
        "    df[text_column] = df[text_column].apply(clean_text)\n",
        "    return df\n",
        "\n",
        "\n",
        "def clean_dataframe(df, text_columns):\n",
        "    for column in text_columns:\n",
        "        df = clean_dataframe_column(df, column)\n",
        "    return df"
      ],
      "metadata": {
        "id": "OnvE1UC9CEAo"
      },
      "execution_count": null,
      "outputs": []
    },
    {
      "cell_type": "code",
      "source": [
        "premise_column = 'premise'\n",
        "hypothesis_column = 'hypothesis'\n",
        "\n",
        "cleaned_train_data = clean_dataframe(train_data, [premise_column, hypothesis_column])\n",
        "cleaned_val_data = clean_dataframe(val_data, [premise_column, hypothesis_column])\n",
        "cleaned_test_data = clean_dataframe(test_data, [premise_column, hypothesis_column])\n"
      ],
      "metadata": {
        "id": "pJ793f52DC9E"
      },
      "execution_count": null,
      "outputs": []
    },
    {
      "cell_type": "code",
      "source": [
        "train_data"
      ],
      "metadata": {
        "colab": {
          "base_uri": "https://localhost:8080/",
          "height": 423
        },
        "id": "2yjoJdCGDcdX",
        "outputId": "4eedf8c2-56a6-4fbe-dd54-41349bcb55ae"
      },
      "execution_count": null,
      "outputs": [
        {
          "output_type": "execute_result",
          "data": {
            "text/plain": [
              "                                                premise  \\\n",
              "0     اولین انتقال و نفوذ طبیعی فرهنگ و تمدن اسلامی ...   \n",
              "1     اولین انتقال و نفوذ طبیعی فرهنگ و تمدن اسلامی ...   \n",
              "2     اولین انتقال و نفوذ طبیعی فرهنگ و تمدن اسلامی ...   \n",
              "3     ویژگی های هنر عصر اموی ۱ تلفیقی بودن ۲ بازنمای...   \n",
              "4     ویژگی های هنر عصر اموی ۱ تلفیقی بودن ۲ بازنمای...   \n",
              "...                                                 ...   \n",
              "7261  قانون اساسی جمهوری اسلامی ایران در سال ۱۳۵۸ تو...   \n",
              "7262  قانون اساسی جمهوری اسلامی ایران در سال ۱۳۵۸ تو...   \n",
              "7263  قانون اساسی جمهوری اسلامی ایران در سال ۱۳۵۸ تو...   \n",
              "7264  محاصره اقتصادی پیامبر ص و یارانش که در سال هفت...   \n",
              "7265  محاصره اقتصادی پیامبر ص و یارانش که در سال هفت...   \n",
              "\n",
              "                                             hypothesis label  \n",
              "0     نخستین انتقال و نفوذ طبیعی فرهنگ و تمدن اسلامی...     e  \n",
              "1     کانون های جغرافیایی مصر اندلس و شام نخستین راه...     c  \n",
              "2     سیسیل بعد از اسپانیا بزرگ ترین کانونی بود که ه...     n  \n",
              "3     نقاشی های تزيینی و تندیس های بیکیفیت یکی از وی...     e  \n",
              "4     با کیفیت بودن تندیس های دوره اموی یکی از ویژگی...     c  \n",
              "...                                                 ...   ...  \n",
              "7261  تعداد فصول قانون اساسی ۱۴ و تعداد اصول ان ۱۷۷ است     e  \n",
              "7262         قانون اساسی دارای ۲۵ فصل و ۱۷۵ اصل می باشد     c  \n",
              "7263  در ۲۴ ابان ۵۸ کار تدوین قانون اساسی به پایان رسید     n  \n",
              "7264  حضرت محمد ص و یارانش از ششمین سال بعثت تا هشتم...     c  \n",
              "7265  در دوران محاصره اقتصادی رسول اکرم ص و پیروانش ...     n  \n",
              "\n",
              "[7266 rows x 3 columns]"
            ],
            "text/html": [
              "\n",
              "  <div id=\"df-689a2afd-264c-4ef2-869b-a1d14c4541e8\" class=\"colab-df-container\">\n",
              "    <div>\n",
              "<style scoped>\n",
              "    .dataframe tbody tr th:only-of-type {\n",
              "        vertical-align: middle;\n",
              "    }\n",
              "\n",
              "    .dataframe tbody tr th {\n",
              "        vertical-align: top;\n",
              "    }\n",
              "\n",
              "    .dataframe thead th {\n",
              "        text-align: right;\n",
              "    }\n",
              "</style>\n",
              "<table border=\"1\" class=\"dataframe\">\n",
              "  <thead>\n",
              "    <tr style=\"text-align: right;\">\n",
              "      <th></th>\n",
              "      <th>premise</th>\n",
              "      <th>hypothesis</th>\n",
              "      <th>label</th>\n",
              "    </tr>\n",
              "  </thead>\n",
              "  <tbody>\n",
              "    <tr>\n",
              "      <th>0</th>\n",
              "      <td>اولین انتقال و نفوذ طبیعی فرهنگ و تمدن اسلامی ...</td>\n",
              "      <td>نخستین انتقال و نفوذ طبیعی فرهنگ و تمدن اسلامی...</td>\n",
              "      <td>e</td>\n",
              "    </tr>\n",
              "    <tr>\n",
              "      <th>1</th>\n",
              "      <td>اولین انتقال و نفوذ طبیعی فرهنگ و تمدن اسلامی ...</td>\n",
              "      <td>کانون های جغرافیایی مصر اندلس و شام نخستین راه...</td>\n",
              "      <td>c</td>\n",
              "    </tr>\n",
              "    <tr>\n",
              "      <th>2</th>\n",
              "      <td>اولین انتقال و نفوذ طبیعی فرهنگ و تمدن اسلامی ...</td>\n",
              "      <td>سیسیل بعد از اسپانیا بزرگ ترین کانونی بود که ه...</td>\n",
              "      <td>n</td>\n",
              "    </tr>\n",
              "    <tr>\n",
              "      <th>3</th>\n",
              "      <td>ویژگی های هنر عصر اموی ۱ تلفیقی بودن ۲ بازنمای...</td>\n",
              "      <td>نقاشی های تزيینی و تندیس های بیکیفیت یکی از وی...</td>\n",
              "      <td>e</td>\n",
              "    </tr>\n",
              "    <tr>\n",
              "      <th>4</th>\n",
              "      <td>ویژگی های هنر عصر اموی ۱ تلفیقی بودن ۲ بازنمای...</td>\n",
              "      <td>با کیفیت بودن تندیس های دوره اموی یکی از ویژگی...</td>\n",
              "      <td>c</td>\n",
              "    </tr>\n",
              "    <tr>\n",
              "      <th>...</th>\n",
              "      <td>...</td>\n",
              "      <td>...</td>\n",
              "      <td>...</td>\n",
              "    </tr>\n",
              "    <tr>\n",
              "      <th>7261</th>\n",
              "      <td>قانون اساسی جمهوری اسلامی ایران در سال ۱۳۵۸ تو...</td>\n",
              "      <td>تعداد فصول قانون اساسی ۱۴ و تعداد اصول ان ۱۷۷ است</td>\n",
              "      <td>e</td>\n",
              "    </tr>\n",
              "    <tr>\n",
              "      <th>7262</th>\n",
              "      <td>قانون اساسی جمهوری اسلامی ایران در سال ۱۳۵۸ تو...</td>\n",
              "      <td>قانون اساسی دارای ۲۵ فصل و ۱۷۵ اصل می باشد</td>\n",
              "      <td>c</td>\n",
              "    </tr>\n",
              "    <tr>\n",
              "      <th>7263</th>\n",
              "      <td>قانون اساسی جمهوری اسلامی ایران در سال ۱۳۵۸ تو...</td>\n",
              "      <td>در ۲۴ ابان ۵۸ کار تدوین قانون اساسی به پایان رسید</td>\n",
              "      <td>n</td>\n",
              "    </tr>\n",
              "    <tr>\n",
              "      <th>7264</th>\n",
              "      <td>محاصره اقتصادی پیامبر ص و یارانش که در سال هفت...</td>\n",
              "      <td>حضرت محمد ص و یارانش از ششمین سال بعثت تا هشتم...</td>\n",
              "      <td>c</td>\n",
              "    </tr>\n",
              "    <tr>\n",
              "      <th>7265</th>\n",
              "      <td>محاصره اقتصادی پیامبر ص و یارانش که در سال هفت...</td>\n",
              "      <td>در دوران محاصره اقتصادی رسول اکرم ص و پیروانش ...</td>\n",
              "      <td>n</td>\n",
              "    </tr>\n",
              "  </tbody>\n",
              "</table>\n",
              "<p>7266 rows × 3 columns</p>\n",
              "</div>\n",
              "    <div class=\"colab-df-buttons\">\n",
              "\n",
              "  <div class=\"colab-df-container\">\n",
              "    <button class=\"colab-df-convert\" onclick=\"convertToInteractive('df-689a2afd-264c-4ef2-869b-a1d14c4541e8')\"\n",
              "            title=\"Convert this dataframe to an interactive table.\"\n",
              "            style=\"display:none;\">\n",
              "\n",
              "  <svg xmlns=\"http://www.w3.org/2000/svg\" height=\"24px\" viewBox=\"0 -960 960 960\">\n",
              "    <path d=\"M120-120v-720h720v720H120Zm60-500h600v-160H180v160Zm220 220h160v-160H400v160Zm0 220h160v-160H400v160ZM180-400h160v-160H180v160Zm440 0h160v-160H620v160ZM180-180h160v-160H180v160Zm440 0h160v-160H620v160Z\"/>\n",
              "  </svg>\n",
              "    </button>\n",
              "\n",
              "  <style>\n",
              "    .colab-df-container {\n",
              "      display:flex;\n",
              "      gap: 12px;\n",
              "    }\n",
              "\n",
              "    .colab-df-convert {\n",
              "      background-color: #E8F0FE;\n",
              "      border: none;\n",
              "      border-radius: 50%;\n",
              "      cursor: pointer;\n",
              "      display: none;\n",
              "      fill: #1967D2;\n",
              "      height: 32px;\n",
              "      padding: 0 0 0 0;\n",
              "      width: 32px;\n",
              "    }\n",
              "\n",
              "    .colab-df-convert:hover {\n",
              "      background-color: #E2EBFA;\n",
              "      box-shadow: 0px 1px 2px rgba(60, 64, 67, 0.3), 0px 1px 3px 1px rgba(60, 64, 67, 0.15);\n",
              "      fill: #174EA6;\n",
              "    }\n",
              "\n",
              "    .colab-df-buttons div {\n",
              "      margin-bottom: 4px;\n",
              "    }\n",
              "\n",
              "    [theme=dark] .colab-df-convert {\n",
              "      background-color: #3B4455;\n",
              "      fill: #D2E3FC;\n",
              "    }\n",
              "\n",
              "    [theme=dark] .colab-df-convert:hover {\n",
              "      background-color: #434B5C;\n",
              "      box-shadow: 0px 1px 3px 1px rgba(0, 0, 0, 0.15);\n",
              "      filter: drop-shadow(0px 1px 2px rgba(0, 0, 0, 0.3));\n",
              "      fill: #FFFFFF;\n",
              "    }\n",
              "  </style>\n",
              "\n",
              "    <script>\n",
              "      const buttonEl =\n",
              "        document.querySelector('#df-689a2afd-264c-4ef2-869b-a1d14c4541e8 button.colab-df-convert');\n",
              "      buttonEl.style.display =\n",
              "        google.colab.kernel.accessAllowed ? 'block' : 'none';\n",
              "\n",
              "      async function convertToInteractive(key) {\n",
              "        const element = document.querySelector('#df-689a2afd-264c-4ef2-869b-a1d14c4541e8');\n",
              "        const dataTable =\n",
              "          await google.colab.kernel.invokeFunction('convertToInteractive',\n",
              "                                                    [key], {});\n",
              "        if (!dataTable) return;\n",
              "\n",
              "        const docLinkHtml = 'Like what you see? Visit the ' +\n",
              "          '<a target=\"_blank\" href=https://colab.research.google.com/notebooks/data_table.ipynb>data table notebook</a>'\n",
              "          + ' to learn more about interactive tables.';\n",
              "        element.innerHTML = '';\n",
              "        dataTable['output_type'] = 'display_data';\n",
              "        await google.colab.output.renderOutput(dataTable, element);\n",
              "        const docLink = document.createElement('div');\n",
              "        docLink.innerHTML = docLinkHtml;\n",
              "        element.appendChild(docLink);\n",
              "      }\n",
              "    </script>\n",
              "  </div>\n",
              "\n",
              "\n",
              "<div id=\"df-f3aa9948-155d-497d-9dc9-359d85a0e627\">\n",
              "  <button class=\"colab-df-quickchart\" onclick=\"quickchart('df-f3aa9948-155d-497d-9dc9-359d85a0e627')\"\n",
              "            title=\"Suggest charts\"\n",
              "            style=\"display:none;\">\n",
              "\n",
              "<svg xmlns=\"http://www.w3.org/2000/svg\" height=\"24px\"viewBox=\"0 0 24 24\"\n",
              "     width=\"24px\">\n",
              "    <g>\n",
              "        <path d=\"M19 3H5c-1.1 0-2 .9-2 2v14c0 1.1.9 2 2 2h14c1.1 0 2-.9 2-2V5c0-1.1-.9-2-2-2zM9 17H7v-7h2v7zm4 0h-2V7h2v10zm4 0h-2v-4h2v4z\"/>\n",
              "    </g>\n",
              "</svg>\n",
              "  </button>\n",
              "\n",
              "<style>\n",
              "  .colab-df-quickchart {\n",
              "      --bg-color: #E8F0FE;\n",
              "      --fill-color: #1967D2;\n",
              "      --hover-bg-color: #E2EBFA;\n",
              "      --hover-fill-color: #174EA6;\n",
              "      --disabled-fill-color: #AAA;\n",
              "      --disabled-bg-color: #DDD;\n",
              "  }\n",
              "\n",
              "  [theme=dark] .colab-df-quickchart {\n",
              "      --bg-color: #3B4455;\n",
              "      --fill-color: #D2E3FC;\n",
              "      --hover-bg-color: #434B5C;\n",
              "      --hover-fill-color: #FFFFFF;\n",
              "      --disabled-bg-color: #3B4455;\n",
              "      --disabled-fill-color: #666;\n",
              "  }\n",
              "\n",
              "  .colab-df-quickchart {\n",
              "    background-color: var(--bg-color);\n",
              "    border: none;\n",
              "    border-radius: 50%;\n",
              "    cursor: pointer;\n",
              "    display: none;\n",
              "    fill: var(--fill-color);\n",
              "    height: 32px;\n",
              "    padding: 0;\n",
              "    width: 32px;\n",
              "  }\n",
              "\n",
              "  .colab-df-quickchart:hover {\n",
              "    background-color: var(--hover-bg-color);\n",
              "    box-shadow: 0 1px 2px rgba(60, 64, 67, 0.3), 0 1px 3px 1px rgba(60, 64, 67, 0.15);\n",
              "    fill: var(--button-hover-fill-color);\n",
              "  }\n",
              "\n",
              "  .colab-df-quickchart-complete:disabled,\n",
              "  .colab-df-quickchart-complete:disabled:hover {\n",
              "    background-color: var(--disabled-bg-color);\n",
              "    fill: var(--disabled-fill-color);\n",
              "    box-shadow: none;\n",
              "  }\n",
              "\n",
              "  .colab-df-spinner {\n",
              "    border: 2px solid var(--fill-color);\n",
              "    border-color: transparent;\n",
              "    border-bottom-color: var(--fill-color);\n",
              "    animation:\n",
              "      spin 1s steps(1) infinite;\n",
              "  }\n",
              "\n",
              "  @keyframes spin {\n",
              "    0% {\n",
              "      border-color: transparent;\n",
              "      border-bottom-color: var(--fill-color);\n",
              "      border-left-color: var(--fill-color);\n",
              "    }\n",
              "    20% {\n",
              "      border-color: transparent;\n",
              "      border-left-color: var(--fill-color);\n",
              "      border-top-color: var(--fill-color);\n",
              "    }\n",
              "    30% {\n",
              "      border-color: transparent;\n",
              "      border-left-color: var(--fill-color);\n",
              "      border-top-color: var(--fill-color);\n",
              "      border-right-color: var(--fill-color);\n",
              "    }\n",
              "    40% {\n",
              "      border-color: transparent;\n",
              "      border-right-color: var(--fill-color);\n",
              "      border-top-color: var(--fill-color);\n",
              "    }\n",
              "    60% {\n",
              "      border-color: transparent;\n",
              "      border-right-color: var(--fill-color);\n",
              "    }\n",
              "    80% {\n",
              "      border-color: transparent;\n",
              "      border-right-color: var(--fill-color);\n",
              "      border-bottom-color: var(--fill-color);\n",
              "    }\n",
              "    90% {\n",
              "      border-color: transparent;\n",
              "      border-bottom-color: var(--fill-color);\n",
              "    }\n",
              "  }\n",
              "</style>\n",
              "\n",
              "  <script>\n",
              "    async function quickchart(key) {\n",
              "      const quickchartButtonEl =\n",
              "        document.querySelector('#' + key + ' button');\n",
              "      quickchartButtonEl.disabled = true;  // To prevent multiple clicks.\n",
              "      quickchartButtonEl.classList.add('colab-df-spinner');\n",
              "      try {\n",
              "        const charts = await google.colab.kernel.invokeFunction(\n",
              "            'suggestCharts', [key], {});\n",
              "      } catch (error) {\n",
              "        console.error('Error during call to suggestCharts:', error);\n",
              "      }\n",
              "      quickchartButtonEl.classList.remove('colab-df-spinner');\n",
              "      quickchartButtonEl.classList.add('colab-df-quickchart-complete');\n",
              "    }\n",
              "    (() => {\n",
              "      let quickchartButtonEl =\n",
              "        document.querySelector('#df-f3aa9948-155d-497d-9dc9-359d85a0e627 button');\n",
              "      quickchartButtonEl.style.display =\n",
              "        google.colab.kernel.accessAllowed ? 'block' : 'none';\n",
              "    })();\n",
              "  </script>\n",
              "</div>\n",
              "\n",
              "  <div id=\"id_9fc6be67-8f8b-4dbc-b29d-66b9c231be2f\">\n",
              "    <style>\n",
              "      .colab-df-generate {\n",
              "        background-color: #E8F0FE;\n",
              "        border: none;\n",
              "        border-radius: 50%;\n",
              "        cursor: pointer;\n",
              "        display: none;\n",
              "        fill: #1967D2;\n",
              "        height: 32px;\n",
              "        padding: 0 0 0 0;\n",
              "        width: 32px;\n",
              "      }\n",
              "\n",
              "      .colab-df-generate:hover {\n",
              "        background-color: #E2EBFA;\n",
              "        box-shadow: 0px 1px 2px rgba(60, 64, 67, 0.3), 0px 1px 3px 1px rgba(60, 64, 67, 0.15);\n",
              "        fill: #174EA6;\n",
              "      }\n",
              "\n",
              "      [theme=dark] .colab-df-generate {\n",
              "        background-color: #3B4455;\n",
              "        fill: #D2E3FC;\n",
              "      }\n",
              "\n",
              "      [theme=dark] .colab-df-generate:hover {\n",
              "        background-color: #434B5C;\n",
              "        box-shadow: 0px 1px 3px 1px rgba(0, 0, 0, 0.15);\n",
              "        filter: drop-shadow(0px 1px 2px rgba(0, 0, 0, 0.3));\n",
              "        fill: #FFFFFF;\n",
              "      }\n",
              "    </style>\n",
              "    <button class=\"colab-df-generate\" onclick=\"generateWithVariable('train_data')\"\n",
              "            title=\"Generate code using this dataframe.\"\n",
              "            style=\"display:none;\">\n",
              "\n",
              "  <svg xmlns=\"http://www.w3.org/2000/svg\" height=\"24px\"viewBox=\"0 0 24 24\"\n",
              "       width=\"24px\">\n",
              "    <path d=\"M7,19H8.4L18.45,9,17,7.55,7,17.6ZM5,21V16.75L18.45,3.32a2,2,0,0,1,2.83,0l1.4,1.43a1.91,1.91,0,0,1,.58,1.4,1.91,1.91,0,0,1-.58,1.4L9.25,21ZM18.45,9,17,7.55Zm-12,3A5.31,5.31,0,0,0,4.9,8.1,5.31,5.31,0,0,0,1,6.5,5.31,5.31,0,0,0,4.9,4.9,5.31,5.31,0,0,0,6.5,1,5.31,5.31,0,0,0,8.1,4.9,5.31,5.31,0,0,0,12,6.5,5.46,5.46,0,0,0,6.5,12Z\"/>\n",
              "  </svg>\n",
              "    </button>\n",
              "    <script>\n",
              "      (() => {\n",
              "      const buttonEl =\n",
              "        document.querySelector('#id_9fc6be67-8f8b-4dbc-b29d-66b9c231be2f button.colab-df-generate');\n",
              "      buttonEl.style.display =\n",
              "        google.colab.kernel.accessAllowed ? 'block' : 'none';\n",
              "\n",
              "      buttonEl.onclick = () => {\n",
              "        google.colab.notebook.generateWithVariable('train_data');\n",
              "      }\n",
              "      })();\n",
              "    </script>\n",
              "  </div>\n",
              "\n",
              "    </div>\n",
              "  </div>\n"
            ]
          },
          "metadata": {},
          "execution_count": 39
        }
      ]
    },
    {
      "cell_type": "code",
      "source": [
        "print(train_data[['premise', 'hypothesis']].iloc[0])"
      ],
      "metadata": {
        "colab": {
          "base_uri": "https://localhost:8080/"
        },
        "id": "P8H1u8SEDHfr",
        "outputId": "ebfeeb48-b890-4105-84db-2c8d86000da9"
      },
      "execution_count": null,
      "outputs": [
        {
          "output_type": "stream",
          "name": "stdout",
          "text": [
            "premise       اولین انتقال و نفوذ طبیعی فرهنگ و تمدن اسلامی ...\n",
            "hypothesis    نخستین انتقال و نفوذ طبیعی فرهنگ و تمدن اسلامی...\n",
            "Name: 0, dtype: object\n"
          ]
        }
      ]
    },
    {
      "cell_type": "markdown",
      "source": [
        "## 2-1-2. Fine Tune"
      ],
      "metadata": {
        "id": "AKUjqZEvD5g-"
      }
    },
    {
      "cell_type": "markdown",
      "source": [
        "First, it is necessary to adjust the model completely on the desired data set. Report the results of fine-tuning the model on the test data in the form of 1F accuracy and confusion matrix, score. Also, draw the graphs of error and accuracy changes during training on the evaluation data set."
      ],
      "metadata": {
        "id": "tGKdiRcVFxt9"
      }
    },
    {
      "cell_type": "markdown",
      "source": [
        "#### Tokenize"
      ],
      "metadata": {
        "id": "D42JDfnSJeSK"
      }
    },
    {
      "cell_type": "code",
      "source": [
        "tokenizer = AutoTokenizer.from_pretrained(\"HooshvareLab/bert-base-parsbert-uncased\")\n"
      ],
      "metadata": {
        "id": "XboddgZIJtqq",
        "colab": {
          "base_uri": "https://localhost:8080/"
        },
        "outputId": "8815a90c-23b3-4785-9dbe-ebcbc3049981"
      },
      "execution_count": null,
      "outputs": [
        {
          "output_type": "stream",
          "name": "stderr",
          "text": [
            "/usr/local/lib/python3.10/dist-packages/huggingface_hub/utils/_token.py:72: UserWarning: \n",
            "The secret `HF_TOKEN` does not exist in your Colab secrets.\n",
            "To authenticate with the Hugging Face Hub, create a token in your settings tab (https://huggingface.co/settings/tokens), set it as secret in your Google Colab and restart your session.\n",
            "You will be able to reuse this secret in all of your notebooks.\n",
            "Please note that authentication is recommended but still optional to access public models or datasets.\n",
            "  warnings.warn(\n"
          ]
        }
      ]
    },
    {
      "cell_type": "code",
      "source": [
        "label_map = {'e': 0, 'c': 1, 'n': 2}\n",
        "train_data['label'] = cleaned_train_data['label'].map(label_map)\n",
        "val_data['label'] = cleaned_val_data['label'].map(label_map)\n",
        "test_data['label'] = cleaned_test_data['label'].map(label_map)"
      ],
      "metadata": {
        "id": "2c3nG2xiJx1L"
      },
      "execution_count": null,
      "outputs": []
    },
    {
      "cell_type": "code",
      "source": [
        "train_encodings = tokenizer(list(train_data['premise']), list(train_data['hypothesis']), truncation=True, padding='max_length', max_length=160, return_tensors='tf')\n",
        "val_encodings = tokenizer(list(val_data['premise']), list(val_data['hypothesis']), truncation=True, padding='max_length', max_length=160, return_tensors='tf')\n",
        "test_encodings = tokenizer(list(test_data['premise']), list(test_data['hypothesis']), truncation=True, padding='max_length', max_length=160, return_tensors='tf')\n"
      ],
      "metadata": {
        "id": "b29KrrZOJz_D"
      },
      "execution_count": null,
      "outputs": []
    },
    {
      "cell_type": "markdown",
      "source": [
        "Create TensorFlow datasets"
      ],
      "metadata": {
        "id": "3pOyUc7hJ3ED"
      }
    },
    {
      "cell_type": "code",
      "source": [
        "train_dataset = tf.data.Dataset.from_tensor_slices((\n",
        "    {k: train_encodings[k] for k in train_encodings},\n",
        "    train_data['label']\n",
        ")).shuffle(len(train_data)).batch(32)\n",
        "\n",
        "val_dataset = tf.data.Dataset.from_tensor_slices((\n",
        "    {k: val_encodings[k] for k in val_encodings},\n",
        "    val_data['label']\n",
        ")).batch(32)\n",
        "\n",
        "test_dataset = tf.data.Dataset.from_tensor_slices((\n",
        "    {k: test_encodings[k] for k in test_encodings},\n",
        "    test_data['label']\n",
        ")).batch(32)"
      ],
      "metadata": {
        "id": "n5eBK2kjJgkS"
      },
      "execution_count": null,
      "outputs": []
    },
    {
      "cell_type": "markdown",
      "source": [
        "#### Model Configuration"
      ],
      "metadata": {
        "id": "bMPFuJR0IImz"
      }
    },
    {
      "cell_type": "code",
      "source": [
        "model = TFAutoModelForSequenceClassification.from_pretrained(\"HooshvareLab/bert-base-parsbert-uncased\", num_labels=3)\n",
        "optimizer = tf.keras.optimizers.Adam(learning_rate=5e-5)\n",
        "loss = tf.keras.losses.SparseCategoricalCrossentropy(from_logits=True)\n",
        "metric = tf.keras.metrics.SparseCategoricalAccuracy('accuracy')\n",
        "model.compile(optimizer=optimizer, loss=loss, metrics=[metric])\n"
      ],
      "metadata": {
        "colab": {
          "base_uri": "https://localhost:8080/"
        },
        "id": "1SzFZcXWEBUf",
        "outputId": "a28455b3-690a-4223-c504-fbdb4cb79de2"
      },
      "execution_count": null,
      "outputs": [
        {
          "output_type": "stream",
          "name": "stderr",
          "text": [
            "/usr/local/lib/python3.10/dist-packages/huggingface_hub/utils/_token.py:72: UserWarning: \n",
            "The secret `HF_TOKEN` does not exist in your Colab secrets.\n",
            "To authenticate with the Hugging Face Hub, create a token in your settings tab (https://huggingface.co/settings/tokens), set it as secret in your Google Colab and restart your session.\n",
            "You will be able to reuse this secret in all of your notebooks.\n",
            "Please note that authentication is recommended but still optional to access public models or datasets.\n",
            "  warnings.warn(\n",
            "All model checkpoint layers were used when initializing TFBertForSequenceClassification.\n",
            "\n",
            "Some layers of TFBertForSequenceClassification were not initialized from the model checkpoint at HooshvareLab/bert-base-parsbert-uncased and are newly initialized: ['classifier']\n",
            "You should probably TRAIN this model on a down-stream task to be able to use it for predictions and inference.\n"
          ]
        }
      ]
    },
    {
      "cell_type": "code",
      "source": [
        "history = model.fit(\n",
        "    train_dataset,\n",
        "    validation_data=val_dataset,\n",
        "    epochs=5,\n",
        "    batch_size=9,\n",
        ")"
      ],
      "metadata": {
        "colab": {
          "base_uri": "https://localhost:8080/"
        },
        "id": "A2-H1X4fINgX",
        "outputId": "2d5af4af-4998-4cc7-98a6-2c1088fd6cb3"
      },
      "execution_count": null,
      "outputs": [
        {
          "output_type": "stream",
          "name": "stdout",
          "text": [
            "Epoch 1/5\n",
            "228/228 [==============================] - 286s 1s/step - loss: 0.7299 - accuracy: 0.6563 - val_loss: 0.5726 - val_accuracy: 0.7580\n",
            "Epoch 2/5\n",
            "228/228 [==============================] - 241s 1s/step - loss: 0.4000 - accuracy: 0.8372 - val_loss: 0.6097 - val_accuracy: 0.7606\n",
            "Epoch 3/5\n",
            "228/228 [==============================] - 237s 1s/step - loss: 0.2311 - accuracy: 0.9118 - val_loss: 0.6163 - val_accuracy: 0.7996\n",
            "Epoch 4/5\n",
            "228/228 [==============================] - 237s 1s/step - loss: 0.1473 - accuracy: 0.9465 - val_loss: 0.7020 - val_accuracy: 0.8022\n",
            "Epoch 5/5\n",
            "228/228 [==============================] - 237s 1s/step - loss: 0.0982 - accuracy: 0.9661 - val_loss: 0.7760 - val_accuracy: 0.7990\n"
          ]
        }
      ]
    },
    {
      "cell_type": "code",
      "source": [
        "test_predictions = []\n",
        "test_labels = []\n",
        "\n",
        "for input_ids, labels in test_dataset:\n",
        "    outputs = model(input_ids=input_ids)\n",
        "    logits = outputs.logits\n",
        "    predicted = np.argmax(logits, axis=1)\n",
        "\n",
        "    test_predictions.extend(predicted)\n",
        "    test_labels.extend(labels)\n",
        "\n",
        "test_predictions = np.array(test_predictions)\n",
        "test_labels = np.array(test_labels)"
      ],
      "metadata": {
        "id": "p3Zer_LxO03_"
      },
      "execution_count": null,
      "outputs": []
    },
    {
      "cell_type": "code",
      "source": [
        "conf_matrix = confusion_matrix(test_labels, test_predictions)\n",
        "class_report = classification_report(test_labels, test_predictions)\n",
        "f1 = f1_score(test_labels, test_predictions, average='weighted')\n",
        "recall = recall_score(test_labels, test_predictions, average='weighted')\n",
        "accuracy = accuracy_score(test_labels, test_predictions)\n",
        "plt.figure(figsize=(8, 6))\n",
        "sns.heatmap(conf_matrix, annot=True, fmt='d', cmap='Blues', cbar=False)\n",
        "plt.title('Confusion Matrix')\n",
        "plt.xlabel('Predicted Labels')\n",
        "plt.ylabel('True Labels')\n",
        "plt.show()\n",
        "\n",
        "# Print the results\n",
        "print(\"\\nClassification Report:\")\n",
        "print(class_report)\n",
        "\n",
        "print(\"\\nF1 Score:\", f1)\n",
        "print(\"Recall:\", recall)\n",
        "print(\"Accuracy:\", accuracy)\n"
      ],
      "metadata": {
        "colab": {
          "base_uri": "https://localhost:8080/",
          "height": 854
        },
        "id": "zKy2IpgiO4CE",
        "outputId": "8292400b-7f23-4d9c-e507-82bdf6308526"
      },
      "execution_count": null,
      "outputs": [
        {
          "output_type": "display_data",
          "data": {
            "text/plain": [
              "<Figure size 800x600 with 1 Axes>"
            ],
            "image/png": "[encoded data removed]"
          },
          "metadata": {}
        },
        {
          "output_type": "stream",
          "name": "stdout",
          "text": [
            "\n",
            "Classification Report:\n",
            "              precision    recall  f1-score   support\n",
            "\n",
            "           0       0.80      0.83      0.82       519\n",
            "           1       0.74      0.71      0.73       510\n",
            "           2       0.86      0.87      0.86       535\n",
            "\n",
            "    accuracy                           0.80      1564\n",
            "   macro avg       0.80      0.80      0.80      1564\n",
            "weighted avg       0.80      0.80      0.80      1564\n",
            "\n",
            "\n",
            "F1 Score: 0.8034955703532141\n",
            "Recall: 0.8043478260869565\n",
            "Accuracy: 0.8043478260869565\n"
          ]
        }
      ]
    },
    {
      "cell_type": "code",
      "source": [
        "\n",
        "train_loss = history.history['loss']\n",
        "val_loss = history.history['val_loss']\n",
        "train_accuracy = history.history['accuracy']\n",
        "val_accuracy = history.history['val_accuracy']\n",
        "\n",
        "fig, axes = plt.subplots(1, 2, figsize=(16, 5))\n",
        "\n",
        "axes[0].plot(train_loss, label='Training Loss')\n",
        "axes[0].plot(val_loss, label='Validation Loss')\n",
        "axes[0].set_title('Training and Validation Loss')\n",
        "axes[0].set_xlabel('Epoch')\n",
        "axes[0].set_ylabel('Loss')\n",
        "axes[0].legend()\n",
        "\n",
        "axes[1].plot(train_accuracy, label='Training Accuracy')\n",
        "axes[1].plot(val_accuracy, label='Validation Accuracy')\n",
        "axes[1].set_title('Training and Validation Accuracy')\n",
        "axes[1].set_xlabel('Epoch')\n",
        "axes[1].set_ylabel('Accuracy')\n",
        "axes[1].legend()\n",
        "\n",
        "plt.show()\n"
      ],
      "metadata": {
        "colab": {
          "base_uri": "https://localhost:8080/",
          "height": 487
        },
        "id": "GGl82BZHPPCs",
        "outputId": "448bbcd6-6bcd-4e50-8f60-450d5fb5e711"
      },
      "execution_count": null,
      "outputs": [
        {
          "output_type": "display_data",
          "data": {
            "text/plain": [
              "<Figure size 1600x500 with 2 Axes>"
            ],
            "image/png": "[encoded data removed]"
          },
          "metadata": {}
        }
      ]
    },
    {
      "cell_type": "markdown",
      "source": [
        "## 2-1-3. Freezing the 9 layers of model\n",
        "\n",
        "• Freeze the first 9 layers of the model as mentioned in the article.\n",
        "\n",
        "• Freezing all layers except the last layer and the embedding layer in the model"
      ],
      "metadata": {
        "id": "ISEY0t_1Qm8_"
      }
    },
    {
      "cell_type": "markdown",
      "source": [
        "#### 2-1-3-1. Freeze first 9 layers"
      ],
      "metadata": {
        "id": "ag68RGnxb_zM"
      }
    },
    {
      "cell_type": "code",
      "source": [
        "from transformers import AutoModel\n",
        "\n",
        "model_name = 'HooshvareLab/bert-base-parsbert-uncased'\n",
        "model = AutoModel.from_pretrained(model_name)\n",
        "\n",
        "num_layers = model.config.num_hidden_layers\n",
        "print(f\"Number of hidden layers in the {model_name} BERT model: {num_layers}\")\n"
      ],
      "metadata": {
        "colab": {
          "base_uri": "https://localhost:8080/",
          "height": 196,
          "referenced_widgets": [
            "127c0c31d13d42f8912dafce1c6175b2",
            "a1ecef11f11544609f5c6375273ecb9e",
            "548452f1c7b54573b70bf4db6c6978e9",
            "294410952a4845e9a80b3d0e14e36b62",
            "a6751643ecae42d5ab86f4e7d4b2154d",
            "9d2eef4671df4bb5ba1d8edabd12bb53",
            "dcbf42102e4e47ed8b1285ef6d9ef1e4",
            "fffca2ab083341d3a94fd0517ac1cb79",
            "296868c5f04f4439a5516ffae3624893",
            "1f18c329431740bbb30dc7de93c2b588",
            "faebcd017651452d8642d1a8fe16afff"
          ]
        },
        "id": "t9uPRrT3RF6c",
        "outputId": "6cd6d087-d66d-4eb3-e0cb-b4e44ab4d255"
      },
      "execution_count": null,
      "outputs": [
        {
          "output_type": "stream",
          "name": "stderr",
          "text": [
            "/usr/local/lib/python3.10/dist-packages/huggingface_hub/utils/_token.py:72: UserWarning: \n",
            "The secret `HF_TOKEN` does not exist in your Colab secrets.\n",
            "To authenticate with the Hugging Face Hub, create a token in your settings tab (https://huggingface.co/settings/tokens), set it as secret in your Google Colab and restart your session.\n",
            "You will be able to reuse this secret in all of your notebooks.\n",
            "Please note that authentication is recommended but still optional to access public models or datasets.\n",
            "  warnings.warn(\n"
          ]
        },
        {
          "output_type": "display_data",
          "data": {
            "text/plain": [
              "pytorch_model.bin:   0%|          | 0.00/654M [00:00<?, ?B/s]"
            ],
            "application/vnd.jupyter.widget-view+json": {
              "version_major": 2,
              "version_minor": 0,
              "model_id": "127c0c31d13d42f8912dafce1c6175b2"
            }
          },
          "metadata": {}
        },
        {
          "output_type": "stream",
          "name": "stdout",
          "text": [
            "Number of hidden layers in the HooshvareLab/bert-base-parsbert-uncased BERT model: 12\n"
          ]
        }
      ]
    },
    {
      "cell_type": "code",
      "source": [
        "tokenizer = AutoTokenizer.from_pretrained(\"HooshvareLab/bert-base-parsbert-uncased\")\n",
        "label_map = {'e': 0, 'c': 1, 'n': 2}\n",
        "train_data['label'] = cleaned_train_data['label'].map(label_map)\n",
        "val_data['label'] = cleaned_val_data['label'].map(label_map)\n",
        "test_data['label'] = cleaned_test_data['label'].map(label_map)\n",
        "\n",
        "train_encodings = tokenizer(list(train_data['premise']), list(train_data['hypothesis']), truncation=True, padding='max_length', max_length=160, return_tensors='tf')\n",
        "val_encodings = tokenizer(list(val_data['premise']), list(val_data['hypothesis']), truncation=True, padding='max_length', max_length=160, return_tensors='tf')\n",
        "test_encodings = tokenizer(list(test_data['premise']), list(test_data['hypothesis']), truncation=True, padding='max_length', max_length=160, return_tensors='tf')\n",
        "\n",
        "train_dataset = tf.data.Dataset.from_tensor_slices((\n",
        "    {k: train_encodings[k] for k in train_encodings},\n",
        "    train_data['label']\n",
        ")).shuffle(len(train_data)).batch(32)\n",
        "\n",
        "val_dataset = tf.data.Dataset.from_tensor_slices((\n",
        "    {k: val_encodings[k] for k in val_encodings},\n",
        "    val_data['label']\n",
        ")).batch(32)\n",
        "\n",
        "test_dataset = tf.data.Dataset.from_tensor_slices((\n",
        "    {k: test_encodings[k] for k in test_encodings},\n",
        "    test_data['label']\n",
        ")).batch(32)"
      ],
      "metadata": {
        "colab": {
          "base_uri": "https://localhost:8080/"
        },
        "id": "xWfkBqFiRRee",
        "outputId": "fc081ea0-6c04-4a88-c93a-ca5a54e3796b"
      },
      "execution_count": null,
      "outputs": [
        {
          "output_type": "stream",
          "name": "stderr",
          "text": [
            "/usr/local/lib/python3.10/dist-packages/huggingface_hub/utils/_token.py:72: UserWarning: \n",
            "The secret `HF_TOKEN` does not exist in your Colab secrets.\n",
            "To authenticate with the Hugging Face Hub, create a token in your settings tab (https://huggingface.co/settings/tokens), set it as secret in your Google Colab and restart your session.\n",
            "You will be able to reuse this secret in all of your notebooks.\n",
            "Please note that authentication is recommended but still optional to access public models or datasets.\n",
            "  warnings.warn(\n"
          ]
        }
      ]
    },
    {
      "cell_type": "markdown",
      "source": [
        "model configuration"
      ],
      "metadata": {
        "id": "Bq9OtKxWRjld"
      }
    },
    {
      "cell_type": "code",
      "source": [
        "from transformers import TFBertForSequenceClassification\n",
        "\n",
        "model2 = TFBertForSequenceClassification.from_pretrained(\"HooshvareLab/bert-base-parsbert-uncased\", num_labels=3)\n",
        "bert_layer = model2.get_layer('bert')\n",
        "# freeze\n",
        "num_layers_to_freeze = 9\n",
        "for i in range(num_layers_to_freeze):\n",
        "    bert_layer.encoder.layer[i].trainable = False\n",
        "\n",
        "optimizer = tf.keras.optimizers.Adam(learning_rate=5e-5)\n",
        "loss = tf.keras.losses.SparseCategoricalCrossentropy(from_logits=True)\n",
        "metric = tf.keras.metrics.SparseCategoricalAccuracy('accuracy')\n",
        "\n",
        "model2.compile(optimizer=optimizer, loss=loss, metrics=[metric])"
      ],
      "metadata": {
        "colab": {
          "base_uri": "https://localhost:8080/"
        },
        "id": "A-g1XixkRjQl",
        "outputId": "c0a3207c-eade-4946-a6ff-8168d4913bdc"
      },
      "execution_count": null,
      "outputs": [
        {
          "output_type": "stream",
          "name": "stderr",
          "text": [
            "/usr/local/lib/python3.10/dist-packages/huggingface_hub/utils/_token.py:72: UserWarning: \n",
            "The secret `HF_TOKEN` does not exist in your Colab secrets.\n",
            "To authenticate with the Hugging Face Hub, create a token in your settings tab (https://huggingface.co/settings/tokens), set it as secret in your Google Colab and restart your session.\n",
            "You will be able to reuse this secret in all of your notebooks.\n",
            "Please note that authentication is recommended but still optional to access public models or datasets.\n",
            "  warnings.warn(\n",
            "All model checkpoint layers were used when initializing TFBertForSequenceClassification.\n",
            "\n",
            "Some layers of TFBertForSequenceClassification were not initialized from the model checkpoint at HooshvareLab/bert-base-parsbert-uncased and are newly initialized: ['classifier']\n",
            "You should probably TRAIN this model on a down-stream task to be able to use it for predictions and inference.\n"
          ]
        }
      ]
    },
    {
      "cell_type": "code",
      "source": [
        "history2 = model2.fit(\n",
        "    train_dataset,\n",
        "    validation_data=val_dataset,\n",
        "    epochs=5,\n",
        "    batch_size=9\n",
        ")"
      ],
      "metadata": {
        "colab": {
          "base_uri": "https://localhost:8080/"
        },
        "id": "CwiyIUcdRyhO",
        "outputId": "152b7a71-fd2b-4226-9e59-834c90aedc04"
      },
      "execution_count": null,
      "outputs": [
        {
          "output_type": "stream",
          "name": "stdout",
          "text": [
            "Epoch 1/5\n",
            "228/228 [==============================] - 224s 888ms/step - loss: 0.8506 - accuracy: 0.5751 - val_loss: 0.7057 - val_accuracy: 0.6630\n",
            "Epoch 2/5\n",
            "228/228 [==============================] - 199s 875ms/step - loss: 0.5367 - accuracy: 0.7710 - val_loss: 0.5801 - val_accuracy: 0.7606\n",
            "Epoch 3/5\n",
            "228/228 [==============================] - 199s 873ms/step - loss: 0.3203 - accuracy: 0.8713 - val_loss: 0.5904 - val_accuracy: 0.7840\n",
            "Epoch 4/5\n",
            "228/228 [==============================] - 203s 890ms/step - loss: 0.2021 - accuracy: 0.9255 - val_loss: 0.6090 - val_accuracy: 0.7892\n",
            "Epoch 5/5\n",
            "228/228 [==============================] - 199s 875ms/step - loss: 0.1176 - accuracy: 0.9575 - val_loss: 0.7215 - val_accuracy: 0.7794\n"
          ]
        }
      ]
    },
    {
      "cell_type": "code",
      "source": [
        "test_predictions = []\n",
        "test_labels = []\n",
        "\n",
        "for input_ids, labels in test_dataset:\n",
        "    outputs = model2(input_ids=input_ids)\n",
        "    logits = outputs.logits\n",
        "    predicted = np.argmax(logits, axis=1)\n",
        "\n",
        "    test_predictions.extend(predicted)\n",
        "    test_labels.extend(labels)\n",
        "\n",
        "test_predictions = np.array(test_predictions)\n",
        "test_labels = np.array(test_labels)"
      ],
      "metadata": {
        "id": "hx2Fc_d_aviV"
      },
      "execution_count": null,
      "outputs": []
    },
    {
      "cell_type": "code",
      "source": [
        "conf_matrix = confusion_matrix(test_labels, test_predictions)\n",
        "class_report = classification_report(test_labels, test_predictions)\n",
        "f1 = f1_score(test_labels, test_predictions, average='weighted')\n",
        "recall = recall_score(test_labels, test_predictions, average='weighted')\n",
        "accuracy = accuracy_score(test_labels, test_predictions)\n",
        "plt.figure(figsize=(8, 6))\n",
        "sns.heatmap(conf_matrix, annot=True, fmt='d', cmap='Blues', cbar=False)\n",
        "plt.title('Confusion Matrix')\n",
        "plt.xlabel('Predicted Labels')\n",
        "plt.ylabel('True Labels')\n",
        "plt.show()\n",
        "\n",
        "# Print the results\n",
        "print(\"\\nClassification Report:\")\n",
        "print(class_report)\n",
        "\n",
        "print(\"\\nF1 Score:\", f1)\n",
        "print(\"Recall:\", recall)\n",
        "print(\"Accuracy:\", accuracy)\n"
      ],
      "metadata": {
        "colab": {
          "base_uri": "https://localhost:8080/",
          "height": 854
        },
        "id": "hvJbiklAa6Hl",
        "outputId": "9b0dbcbd-57ab-479e-fdfd-5467443a8674"
      },
      "execution_count": null,
      "outputs": [
        {
          "output_type": "display_data",
          "data": {
            "text/plain": [
              "<Figure size 800x600 with 1 Axes>"
            ],
            "image/png": "[encoded data removed]"
          },
          "metadata": {}
        },
        {
          "output_type": "stream",
          "name": "stdout",
          "text": [
            "\n",
            "Classification Report:\n",
            "              precision    recall  f1-score   support\n",
            "\n",
            "           0       0.83      0.78      0.80       519\n",
            "           1       0.65      0.81      0.72       510\n",
            "           2       0.93      0.77      0.84       535\n",
            "\n",
            "    accuracy                           0.78      1564\n",
            "   macro avg       0.80      0.78      0.79      1564\n",
            "weighted avg       0.80      0.78      0.79      1564\n",
            "\n",
            "\n",
            "F1 Score: 0.7888218434705407\n",
            "Recall: 0.7845268542199488\n",
            "Accuracy: 0.7845268542199488\n"
          ]
        }
      ]
    },
    {
      "cell_type": "code",
      "source": [
        "\n",
        "train_loss = history2.history['loss']\n",
        "val_loss = history2.history['val_loss']\n",
        "train_accuracy = history2.history['accuracy']\n",
        "val_accuracy = history2.history['val_accuracy']\n",
        "\n",
        "fig, axes = plt.subplots(1, 2, figsize=(16, 5))\n",
        "\n",
        "axes[0].plot(train_loss, label='Training Loss')\n",
        "axes[0].plot(val_loss, label='Validation Loss')\n",
        "axes[0].set_title('Training and Validation Loss')\n",
        "axes[0].set_xlabel('Epoch')\n",
        "axes[0].set_ylabel('Loss')\n",
        "axes[0].legend()\n",
        "\n",
        "axes[1].plot(train_accuracy, label='Training Accuracy')\n",
        "axes[1].plot(val_accuracy, label='Validation Accuracy')\n",
        "axes[1].set_title('Training and Validation Accuracy')\n",
        "axes[1].set_xlabel('Epoch')\n",
        "axes[1].set_ylabel('Accuracy')\n",
        "axes[1].legend()\n",
        "\n",
        "plt.show()\n"
      ],
      "metadata": {
        "colab": {
          "base_uri": "https://localhost:8080/",
          "height": 487
        },
        "id": "vGgh19SpbAHE",
        "outputId": "c8cd1a4c-a685-4feb-8a83-c8e5ec55d3e6"
      },
      "execution_count": null,
      "outputs": [
        {
          "output_type": "display_data",
          "data": {
            "text/plain": [
              "<Figure size 1600x500 with 2 Axes>"
            ],
            "image/png": "[encoded data removed]"
          },
          "metadata": {}
        }
      ]
    },
    {
      "cell_type": "markdown",
      "source": [
        "#### 2-1-3-2. Freeze first all layers except last and embedding"
      ],
      "metadata": {
        "id": "1GOLw1D4cF00"
      }
    },
    {
      "cell_type": "code",
      "source": [
        "train_data = pd.read_csv('/content/FarsTail_dataset/FarsTail-master/data/Train-word.csv', sep='\\t')\n",
        "val_data = pd.read_csv('/content/FarsTail_dataset/FarsTail-master/data/Val-word.csv', sep='\\t')\n",
        "test_data = pd.read_csv('/content/FarsTail_dataset/FarsTail-master/data/Test-word.csv', sep='\\t')\n",
        "\n",
        "cleaned_train_data = clean_dataframe(train_data, [premise_column, hypothesis_column])\n",
        "cleaned_val_data = clean_dataframe(val_data, [premise_column, hypothesis_column])\n",
        "cleaned_test_data = clean_dataframe(test_data, [premise_column, hypothesis_column])"
      ],
      "metadata": {
        "id": "Sh5oZZxicKQ8"
      },
      "execution_count": null,
      "outputs": []
    },
    {
      "cell_type": "code",
      "source": [
        "tokenizer = AutoTokenizer.from_pretrained(\"HooshvareLab/bert-base-parsbert-uncased\")\n",
        "label_map = {'e': 0, 'c': 1, 'n': 2}\n",
        "train_data['label'] = cleaned_train_data['label'].map(label_map)\n",
        "val_data['label'] = cleaned_val_data['label'].map(label_map)\n",
        "test_data['label'] = cleaned_test_data['label'].map(label_map)\n",
        "\n",
        "train_encodings = tokenizer(list(train_data['premise']), list(train_data['hypothesis']), truncation=True, padding='max_length', max_length=160, return_tensors='tf')\n",
        "val_encodings = tokenizer(list(val_data['premise']), list(val_data['hypothesis']), truncation=True, padding='max_length', max_length=160, return_tensors='tf')\n",
        "test_encodings = tokenizer(list(test_data['premise']), list(test_data['hypothesis']), truncation=True, padding='max_length', max_length=160, return_tensors='tf')\n",
        "\n",
        "train_dataset = tf.data.Dataset.from_tensor_slices((\n",
        "    {k: train_encodings[k] for k in train_encodings},\n",
        "    train_data['label']\n",
        ")).shuffle(len(train_data)).batch(32)\n",
        "\n",
        "val_dataset = tf.data.Dataset.from_tensor_slices((\n",
        "    {k: val_encodings[k] for k in val_encodings},\n",
        "    val_data['label']\n",
        ")).batch(32)\n",
        "\n",
        "test_dataset = tf.data.Dataset.from_tensor_slices((\n",
        "    {k: test_encodings[k] for k in test_encodings},\n",
        "    test_data['label']\n",
        ")).batch(32)"
      ],
      "metadata": {
        "colab": {
          "base_uri": "https://localhost:8080/"
        },
        "id": "_Kk9SynjccWk",
        "outputId": "14ce00aa-deb3-4a0d-997c-d7ad305faadd"
      },
      "execution_count": null,
      "outputs": [
        {
          "output_type": "stream",
          "name": "stderr",
          "text": [
            "/usr/local/lib/python3.10/dist-packages/huggingface_hub/utils/_token.py:72: UserWarning: \n",
            "The secret `HF_TOKEN` does not exist in your Colab secrets.\n",
            "To authenticate with the Hugging Face Hub, create a token in your settings tab (https://huggingface.co/settings/tokens), set it as secret in your Google Colab and restart your session.\n",
            "You will be able to reuse this secret in all of your notebooks.\n",
            "Please note that authentication is recommended but still optional to access public models or datasets.\n",
            "  warnings.warn(\n"
          ]
        }
      ]
    },
    {
      "cell_type": "markdown",
      "source": [
        "model configuration"
      ],
      "metadata": {
        "id": "hQknPIcXcpRM"
      }
    },
    {
      "cell_type": "code",
      "source": [
        "from transformers import TFAutoModelForSequenceClassification\n",
        "\n",
        "model3 = TFAutoModelForSequenceClassification.from_pretrained(\"HooshvareLab/bert-base-parsbert-uncased\", num_labels=3)\n",
        "\n",
        "bert_layer = model3.get_layer('bert')\n",
        "\n",
        "# Freeze all layers except the last layer and the embedding layer\n",
        "last_layer_index = len(bert_layer.encoder.layer) - 1\n",
        "for i, layer in enumerate(bert_layer.encoder.layer):\n",
        "    if i != last_layer_index and 'embeddings' not in layer.name:\n",
        "        layer.trainable = False\n",
        "\n",
        "\n",
        "\n",
        "optimizer = tf.keras.optimizers.Adam(learning_rate=5e-5)\n",
        "loss = tf.keras.losses.SparseCategoricalCrossentropy(from_logits=True)\n",
        "metric = tf.keras.metrics.SparseCategoricalAccuracy('accuracy')\n",
        "\n",
        "model3.compile(optimizer=optimizer, loss=loss, metrics=[metric])"
      ],
      "metadata": {
        "colab": {
          "base_uri": "https://localhost:8080/"
        },
        "id": "z6inSHMdcjrc",
        "outputId": "bff190dc-2cb5-4d30-f76b-c4dd724a04a7"
      },
      "execution_count": null,
      "outputs": [
        {
          "output_type": "stream",
          "name": "stderr",
          "text": [
            "/usr/local/lib/python3.10/dist-packages/huggingface_hub/utils/_token.py:72: UserWarning: \n",
            "The secret `HF_TOKEN` does not exist in your Colab secrets.\n",
            "To authenticate with the Hugging Face Hub, create a token in your settings tab (https://huggingface.co/settings/tokens), set it as secret in your Google Colab and restart your session.\n",
            "You will be able to reuse this secret in all of your notebooks.\n",
            "Please note that authentication is recommended but still optional to access public models or datasets.\n",
            "  warnings.warn(\n",
            "All model checkpoint layers were used when initializing TFBertForSequenceClassification.\n",
            "\n",
            "Some layers of TFBertForSequenceClassification were not initialized from the model checkpoint at HooshvareLab/bert-base-parsbert-uncased and are newly initialized: ['classifier']\n",
            "You should probably TRAIN this model on a down-stream task to be able to use it for predictions and inference.\n"
          ]
        }
      ]
    },
    {
      "cell_type": "code",
      "source": [
        "history3 = model3.fit(\n",
        "    train_dataset,\n",
        "    validation_data=val_dataset,\n",
        "    epochs=5,\n",
        "    batch_size=9\n",
        ")"
      ],
      "metadata": {
        "colab": {
          "base_uri": "https://localhost:8080/"
        },
        "id": "HseXb_19cvQz",
        "outputId": "e8651114-0392-42ac-c09c-39084b97adfd"
      },
      "execution_count": null,
      "outputs": [
        {
          "output_type": "stream",
          "name": "stdout",
          "text": [
            "Epoch 1/5\n",
            "228/228 [==============================] - 247s 985ms/step - loss: 0.9233 - accuracy: 0.5337 - val_loss: 0.7569 - val_accuracy: 0.6207\n",
            "Epoch 2/5\n",
            "228/228 [==============================] - 192s 841ms/step - loss: 0.6816 - accuracy: 0.6795 - val_loss: 0.7406 - val_accuracy: 0.6493\n",
            "Epoch 3/5\n",
            "228/228 [==============================] - 191s 840ms/step - loss: 0.4880 - accuracy: 0.7759 - val_loss: 0.7015 - val_accuracy: 0.7183\n",
            "Epoch 4/5\n",
            "228/228 [==============================] - 192s 841ms/step - loss: 0.3307 - accuracy: 0.8628 - val_loss: 0.7221 - val_accuracy: 0.7404\n",
            "Epoch 5/5\n",
            "228/228 [==============================] - 192s 841ms/step - loss: 0.2320 - accuracy: 0.9092 - val_loss: 0.8321 - val_accuracy: 0.7300\n"
          ]
        }
      ]
    },
    {
      "cell_type": "code",
      "source": [
        "test_predictions = []\n",
        "test_labels = []\n",
        "\n",
        "for input_ids, labels in test_dataset:\n",
        "    outputs = model3(input_ids=input_ids)\n",
        "    logits = outputs.logits\n",
        "    predicted = np.argmax(logits, axis=1)\n",
        "\n",
        "    test_predictions.extend(predicted)\n",
        "    test_labels.extend(labels)\n",
        "\n",
        "test_predictions = np.array(test_predictions)\n",
        "test_labels = np.array(test_labels)"
      ],
      "metadata": {
        "id": "N3EZHBkug61o"
      },
      "execution_count": null,
      "outputs": []
    },
    {
      "cell_type": "code",
      "source": [
        "conf_matrix = confusion_matrix(test_labels, test_predictions)\n",
        "class_report = classification_report(test_labels, test_predictions)\n",
        "f1 = f1_score(test_labels, test_predictions, average='weighted')\n",
        "recall = recall_score(test_labels, test_predictions, average='weighted')\n",
        "accuracy = accuracy_score(test_labels, test_predictions)\n",
        "plt.figure(figsize=(8, 6))\n",
        "sns.heatmap(conf_matrix, annot=True, fmt='d', cmap='Blues', cbar=False)\n",
        "plt.title('Confusion Matrix')\n",
        "plt.xlabel('Predicted Labels')\n",
        "plt.ylabel('True Labels')\n",
        "plt.show()\n",
        "\n",
        "# Print the results\n",
        "print(\"\\nClassification Report:\")\n",
        "print(class_report)\n",
        "\n",
        "print(\"\\nF1 Score:\", f1)\n",
        "print(\"Recall:\", recall)\n",
        "print(\"Accuracy:\", accuracy)\n"
      ],
      "metadata": {
        "colab": {
          "base_uri": "https://localhost:8080/",
          "height": 854
        },
        "id": "kZ-OH629hCXA",
        "outputId": "a7be423d-ffb4-4826-e4be-955c9de2bf7f"
      },
      "execution_count": null,
      "outputs": [
        {
          "output_type": "display_data",
          "data": {
            "text/plain": [
              "<Figure size 800x600 with 1 Axes>"
            ],
            "image/png": "[encoded data removed]"
          },
          "metadata": {}
        },
        {
          "output_type": "stream",
          "name": "stdout",
          "text": [
            "\n",
            "Classification Report:\n",
            "              precision    recall  f1-score   support\n",
            "\n",
            "           0       0.73      0.82      0.77       519\n",
            "           1       0.63      0.65      0.64       510\n",
            "           2       0.89      0.76      0.82       535\n",
            "\n",
            "    accuracy                           0.74      1564\n",
            "   macro avg       0.75      0.74      0.74      1564\n",
            "weighted avg       0.75      0.74      0.75      1564\n",
            "\n",
            "\n",
            "F1 Score: 0.7462551226620019\n",
            "Recall: 0.7442455242966752\n",
            "Accuracy: 0.7442455242966752\n"
          ]
        }
      ]
    },
    {
      "cell_type": "code",
      "source": [
        "\n",
        "train_loss = history3.history['loss']\n",
        "val_loss = history3.history['val_loss']\n",
        "train_accuracy = history3.history['accuracy']\n",
        "val_accuracy = history3.history['val_accuracy']\n",
        "\n",
        "fig, axes = plt.subplots(1, 2, figsize=(16, 5))\n",
        "\n",
        "axes[0].plot(train_loss, label='Training Loss')\n",
        "axes[0].plot(val_loss, label='Validation Loss')\n",
        "axes[0].set_title('Training and Validation Loss')\n",
        "axes[0].set_xlabel('Epoch')\n",
        "axes[0].set_ylabel('Loss')\n",
        "axes[0].legend()\n",
        "\n",
        "axes[1].plot(train_accuracy, label='Training Accuracy')\n",
        "axes[1].plot(val_accuracy, label='Validation Accuracy')\n",
        "axes[1].set_title('Training and Validation Accuracy')\n",
        "axes[1].set_xlabel('Epoch')\n",
        "axes[1].set_ylabel('Accuracy')\n",
        "axes[1].legend()\n",
        "\n",
        "plt.show()\n"
      ],
      "metadata": {
        "colab": {
          "base_uri": "https://localhost:8080/",
          "height": 487
        },
        "id": "tsCfbVCvhI8Y",
        "outputId": "8af12227-94d4-488f-c812-4813f69183c0"
      },
      "execution_count": null,
      "outputs": [
        {
          "output_type": "display_data",
          "data": {
            "text/plain": [
              "<Figure size 1600x500 with 2 Axes>"
            ],
            "image/png": "[encoded data removed]"
          },
          "metadata": {}
        }
      ]
    },
    {
      "cell_type": "markdown",
      "source": [
        "## 2-1-4. Fine Tunning on the Middle Layers"
      ],
      "metadata": {
        "id": "VAteyNDmbgV1"
      }
    },
    {
      "cell_type": "code",
      "source": [
        "train_data = pd.read_csv('/content/FarsTail_dataset/FarsTail-master/data/Train-word.csv', sep='\\t')\n",
        "val_data = pd.read_csv('/content/FarsTail_dataset/FarsTail-master/data/Val-word.csv', sep='\\t')\n",
        "test_data = pd.read_csv('/content/FarsTail_dataset/FarsTail-master/data/Test-word.csv', sep='\\t')\n",
        "\n",
        "# cleaned_train_data = clean_dataframe(train_data, [premise_column, hypothesis_column])\n",
        "# cleaned_val_data = clean_dataframe(val_data, [premise_column, hypothesis_column])\n",
        "# cleaned_test_data = clean_dataframe(test_data, [premise_column, hypothesis_column])"
      ],
      "metadata": {
        "id": "U8-S8OHXhTXB"
      },
      "execution_count": 4,
      "outputs": []
    },
    {
      "cell_type": "markdown",
      "source": [
        "below code creates pytorch dataset"
      ],
      "metadata": {
        "id": "2tsj25ndhqPJ"
      }
    },
    {
      "cell_type": "code",
      "source": [
        "import torch\n",
        "from transformers import AutoTokenizer\n",
        "\n",
        "# Load and tokenize data\n",
        "tokenizer = AutoTokenizer.from_pretrained(\"HooshvareLab/bert-base-parsbert-uncased\")\n",
        "\n",
        "# Convert labels to numerical format\n",
        "label_map = {'e': 0, 'c': 1, 'n': 2}\n",
        "train_data['label'] = train_data['label'].map(label_map).astype('int64')  # PyTorch uses int64 for labels\n",
        "val_data['label'] = val_data['label'].map(label_map).astype('int64')\n",
        "test_data['label'] = test_data['label'].map(label_map).astype('int64')\n",
        "\n",
        "# Rest of the code remains the same as mentioned in the previous steps for tokenization and dataset creation\n",
        "\n",
        "# Tokenize data\n",
        "train_encodings = tokenizer(list(train_data['premise']), list(train_data['hypothesis']), truncation=True, padding='max_length', max_length=160, return_tensors='pt')\n",
        "val_encodings = tokenizer(list(val_data['premise']), list(val_data['hypothesis']), truncation=True, padding='max_length', max_length=160, return_tensors='pt')\n",
        "test_encodings = tokenizer(list(test_data['premise']), list(test_data['hypothesis']), truncation=True, padding='max_length', max_length=160, return_tensors='pt')"
      ],
      "metadata": {
        "colab": {
          "base_uri": "https://localhost:8080/"
        },
        "id": "BCpzL_ATW8PT",
        "outputId": "09983b0a-1202-46c8-baf1-290d2cf25463"
      },
      "execution_count": 5,
      "outputs": [
        {
          "output_type": "stream",
          "name": "stderr",
          "text": [
            "/usr/local/lib/python3.10/dist-packages/huggingface_hub/utils/_token.py:72: UserWarning: \n",
            "The secret `HF_TOKEN` does not exist in your Colab secrets.\n",
            "To authenticate with the Hugging Face Hub, create a token in your settings tab (https://huggingface.co/settings/tokens), set it as secret in your Google Colab and restart your session.\n",
            "You will be able to reuse this secret in all of your notebooks.\n",
            "Please note that authentication is recommended but still optional to access public models or datasets.\n",
            "  warnings.warn(\n"
          ]
        }
      ]
    },
    {
      "cell_type": "code",
      "source": [
        "\n",
        "# Create PyTorch datasets\n",
        "class CustomDataset(torch.utils.data.Dataset):\n",
        "      def __init__(self, encodings, labels):\n",
        "          self.encodings = encodings\n",
        "          self.labels = labels\n",
        "\n",
        "      def __getitem__(self, idx):\n",
        "          item = {key: torch.tensor(val[idx]) for key, val in self.encodings.items()}\n",
        "          item['labels'] = torch.tensor(self.labels[idx])\n",
        "          return item\n",
        "\n",
        "      def __len__(self):\n",
        "          return len(self.labels)\n",
        "\n",
        "train_dataset = CustomDataset(train_encodings, train_data['label'])\n",
        "val_dataset = CustomDataset(val_encodings, val_data['label'])\n",
        "test_dataset = CustomDataset(test_encodings, test_data['label'])\n",
        "\n",
        "train_loader = torch.utils.data.DataLoader(train_dataset, batch_size=12, shuffle=True)\n",
        "val_loader = torch.utils.data.DataLoader(val_dataset, batch_size=12)\n",
        "test_loader = torch.utils.data.DataLoader(test_dataset, batch_size=12)"
      ],
      "metadata": {
        "id": "j4oIPp3ZhaUZ"
      },
      "execution_count": 12,
      "outputs": []
    },
    {
      "cell_type": "markdown",
      "source": [
        "delete layers after 9 layers and creating a custom bert."
      ],
      "metadata": {
        "id": "4jZrEC5LipjY"
      }
    },
    {
      "cell_type": "code",
      "source": [
        "from transformers import BertModel\n",
        "\n",
        "# Load the entire pre-trained BERT model\n",
        "full_bert_model = BertModel.from_pretrained(\"HooshvareLab/bert-base-parsbert-uncased\")\n",
        "\n",
        "# Get the individual layers from the BERT model\n",
        "bert_layers = list(full_bert_model.children())\n",
        "\n",
        "# Select the first nine layers\n",
        "first_nine_layers = bert_layers[:9]\n",
        "\n",
        "class CustomBERTModel(torch.nn.Module):\n",
        "    def __init__(self, first_nine_layers, hidden_size, output_classes):\n",
        "        super(CustomBERTModel, self).__init__()\n",
        "        self.first_nine_layers = torch.nn.ModuleList(first_nine_layers)\n",
        "        self.classifier = torch.nn.Linear(hidden_size, output_classes)\n",
        "\n",
        "    def forward(self, input_ids, attention_mask, token_type_ids=None, labels=None):\n",
        "        output = input_ids\n",
        "        attentions = []\n",
        "\n",
        "        for i, layer in enumerate(self.first_nine_layers):\n",
        "            if isinstance(output, BaseModelOutputWithPastAndCrossAttentions):\n",
        "                output = output.last_hidden_state  # Assuming you want the last hidden state\n",
        "\n",
        "            if isinstance(layer, torch.nn.modules.activation.MultiheadAttention):\n",
        "                output, attention = layer(output, attn_mask=attention_mask)\n",
        "                attentions.append(attention)\n",
        "            else:\n",
        "                output = layer(output.clone().detach() if isinstance(output, torch.Tensor) else output)\n",
        "\n",
        "        logits = self.classifier(output)  # Consider using the entire sequence representation directly\n",
        "\n",
        "        if labels is not None:\n",
        "            loss_fct = torch.nn.CrossEntropyLoss()\n",
        "            loss = loss_fct(logits.view(-1, logits.size(-1)), labels.view(-1))  # Reshape logits and labels for loss calculation\n",
        "            return loss\n",
        "        else:\n",
        "            return logits, attentions\n"
      ],
      "metadata": {
        "colab": {
          "base_uri": "https://localhost:8080/",
          "height": 178,
          "referenced_widgets": [
            "71c7a07a22744ce6991bfbfba3a2419b",
            "2eaaecafa4014ac19c59c95c16288b9f",
            "100ac83b33214b5a85f8a6e4dfc8cc16",
            "061711bd67bc44c9a04a9a8a85af675d",
            "7398d30d3da84defb6e09062db732d7f",
            "00f632828cb74818a287a274dbc52ed7",
            "a14505ecb3e640e8998a16cdc00e6b5f",
            "8d75a244120e45ea8979d0c0cf599eb9",
            "eff8e5ca54d44e87bf150bc39d7e072e",
            "34a35b4e3d274561a6fcca7f3060fa11",
            "c40e1c59ba7440e7b359684b34d12672"
          ]
        },
        "id": "hvHB0EW8hcz8",
        "outputId": "7e04c719-cec5-42bd-e94f-97ec902f609d"
      },
      "execution_count": 13,
      "outputs": [
        {
          "output_type": "stream",
          "name": "stderr",
          "text": [
            "/usr/local/lib/python3.10/dist-packages/huggingface_hub/utils/_token.py:72: UserWarning: \n",
            "The secret `HF_TOKEN` does not exist in your Colab secrets.\n",
            "To authenticate with the Hugging Face Hub, create a token in your settings tab (https://huggingface.co/settings/tokens), set it as secret in your Google Colab and restart your session.\n",
            "You will be able to reuse this secret in all of your notebooks.\n",
            "Please note that authentication is recommended but still optional to access public models or datasets.\n",
            "  warnings.warn(\n"
          ]
        },
        {
          "output_type": "display_data",
          "data": {
            "text/plain": [
              "pytorch_model.bin:   0%|          | 0.00/654M [00:00<?, ?B/s]"
            ],
            "application/vnd.jupyter.widget-view+json": {
              "version_major": 2,
              "version_minor": 0,
              "model_id": "71c7a07a22744ce6991bfbfba3a2419b"
            }
          },
          "metadata": {}
        }
      ]
    },
    {
      "cell_type": "code",
      "source": [
        "from transformers.modeling_outputs import BaseModelOutputWithPastAndCrossAttentions\n",
        "import torch.optim as optim\n",
        "import torch\n",
        "\n",
        "hidden_size = 768\n",
        "output_classes = 3\n",
        "\n",
        "model4 = CustomBERTModel(first_nine_layers, hidden_size, output_classes)\n",
        "\n",
        "\n",
        "\n",
        "optimizer = optim.Adam(model4.parameters(), lr=9e-5)  # lr is the learning rate\n",
        "device = torch.device(\"cuda\" if torch.cuda.is_available() else \"cpu\")\n",
        "model4.to(device)\n"
      ],
      "metadata": {
        "id": "yFRqKld4jSsY"
      },
      "execution_count": null,
      "outputs": []
    },
    {
      "cell_type": "code",
      "source": [
        "import torch\n",
        "import matplotlib.pyplot as plt\n",
        "\n",
        "train_losses = []\n",
        "val_losses = []\n",
        "train_accuracies = []\n",
        "val_accuracies = []\n",
        "\n",
        "num_epochs = 5\n",
        "criterion = torch.nn.CrossEntropyLoss()\n",
        "\n",
        "for epoch in range(num_epochs):\n",
        "    model4.train()\n",
        "    train_loss = 0.0\n",
        "    correct_train = 0\n",
        "    total_train = 0\n",
        "\n",
        "    for batch in train_loader:\n",
        "        optimizer.zero_grad()\n",
        "        inputs = {key: val.to(device) for key, val in batch.items()}\n",
        "        labels = inputs.pop('labels')\n",
        "\n",
        "        outputs = model4(**inputs)\n",
        "        if isinstance(outputs, tuple):\n",
        "            outputs = outputs[0]  # Extracting the appropriate output tensor\n",
        "        loss = criterion(outputs, labels)\n",
        "        loss.backward()\n",
        "        optimizer.step()\n",
        "\n",
        "        train_loss += loss.item()\n",
        "        _, predicted = torch.max(outputs, 1)\n",
        "        total_train += labels.size(0)\n",
        "        correct_train += (predicted == labels).sum().item()\n",
        "\n",
        "    avg_train_loss = train_loss / len(train_loader)\n",
        "    train_accuracy = correct_train / total_train\n",
        "\n",
        "    train_losses.append(avg_train_loss)\n",
        "    train_accuracies.append(train_accuracy)\n",
        "\n",
        "    model4.eval()\n",
        "    val_loss = 0.0\n",
        "    correct_val = 0\n",
        "    total_val = 0\n",
        "\n",
        "    with torch.no_grad():\n",
        "        for batch in val_loader:\n",
        "            inputs = {key: val.to(device) for key, val in batch.items()}\n",
        "            labels = inputs.pop('labels')\n",
        "\n",
        "            outputs = model4(**inputs)\n",
        "            if isinstance(outputs, tuple):\n",
        "                outputs = outputs[0]  # Extracting the appropriate output tensor\n",
        "            loss = criterion(outputs, labels)\n",
        "\n",
        "            val_loss += loss.item()\n",
        "            _, predicted = torch.max(outputs, 1)\n",
        "            total_val += labels.size(0)\n",
        "            correct_val += (predicted == labels).sum().item()\n",
        "\n",
        "    avg_val_loss = val_loss / len(val_loader)\n",
        "    val_accuracy = correct_val / total_val\n",
        "\n",
        "    val_losses.append(avg_val_loss)\n",
        "    val_accuracies.append(val_accuracy)\n",
        "\n",
        "    print(f\"Epoch [{epoch + 1}/{num_epochs}] - Train Loss: {avg_train_loss:.4f} | Val Loss: {avg_val_loss:.4f} | Train Acc: {train_accuracy:.4f} | Val Acc: {val_accuracy:.4f}\")\n",
        "\n"
      ],
      "metadata": {
        "colab": {
          "base_uri": "https://localhost:8080/"
        },
        "id": "9asFBwz4lbtX",
        "outputId": "c883a2bb-7025-41e2-e47b-8173de1117e5"
      },
      "execution_count": 15,
      "outputs": [
        {
          "output_type": "stream",
          "name": "stderr",
          "text": [
            "<ipython-input-12-9c58ff6240d5>:8: UserWarning: To copy construct from a tensor, it is recommended to use sourceTensor.clone().detach() or sourceTensor.clone().detach().requires_grad_(True), rather than torch.tensor(sourceTensor).\n",
            "  item = {key: torch.tensor(val[idx]) for key, val in self.encodings.items()}\n"
          ]
        },
        {
          "output_type": "stream",
          "name": "stdout",
          "text": [
            "Epoch [1/5] - Train Loss: 1.0506 | Val Loss: 0.9868 | Train Acc: 0.4370 | Val Acc: 0.4873\n",
            "Epoch [2/5] - Train Loss: 1.0044 | Val Loss: 0.9815 | Train Acc: 0.4879 | Val Acc: 0.4951\n",
            "Epoch [3/5] - Train Loss: 0.9826 | Val Loss: 0.9243 | Train Acc: 0.5017 | Val Acc: 0.5465\n",
            "Epoch [4/5] - Train Loss: 0.9732 | Val Loss: 0.9103 | Train Acc: 0.5091 | Val Acc: 0.5615\n",
            "Epoch [5/5] - Train Loss: 0.9656 | Val Loss: 0.9055 | Train Acc: 0.5168 | Val Acc: 0.5563\n"
          ]
        }
      ]
    },
    {
      "cell_type": "code",
      "source": [
        "plt.figure(figsize=(10, 4))\n",
        "\n",
        "plt.subplot(1, 2, 1)\n",
        "plt.plot(train_losses, label='Training Loss')\n",
        "plt.plot(val_losses, label='Validation Loss')\n",
        "plt.xlabel('Epochs')\n",
        "plt.ylabel('Loss')\n",
        "plt.title('Training and Validation Loss')\n",
        "plt.legend()\n",
        "\n",
        "plt.subplot(1, 2, 2)\n",
        "plt.plot(train_accuracies, label='Training Accuracy')\n",
        "plt.plot(val_accuracies, label='Validation Accuracy')\n",
        "plt.xlabel('Epochs')\n",
        "plt.ylabel('Accuracy')\n",
        "plt.title('Training and Validation Accuracy')\n",
        "plt.legend()\n",
        "\n",
        "plt.tight_layout()\n",
        "plt.show()\n"
      ],
      "metadata": {
        "id": "RDP625xtVupk",
        "colab": {
          "base_uri": "https://localhost:8080/",
          "height": 407
        },
        "outputId": "1ff4bdb6-a38d-4d41-f644-1844a0266b29"
      },
      "execution_count": 16,
      "outputs": [
        {
          "output_type": "display_data",
          "data": {
            "text/plain": [
              "<Figure size 1000x400 with 2 Axes>"
            ],
            "image/png": "[encoded data removed]"
          },
          "metadata": {}
        }
      ]
    },
    {
      "cell_type": "code",
      "source": [
        "model4.eval()\n",
        "\n",
        "test_predictions = []\n",
        "test_labels = []\n",
        "\n",
        "with torch.no_grad():\n",
        "    for batch in test_loader:\n",
        "        inputs = {key: val.to(device) for key, val in batch.items()}\n",
        "        labels = inputs.pop('labels')\n",
        "\n",
        "        outputs = model4(**inputs)\n",
        "        if isinstance(outputs, tuple):\n",
        "            outputs = outputs[0]\n",
        "        _, predicted = torch.max(outputs, 1)\n",
        "        test_predictions.extend(predicted.cpu().numpy())\n",
        "        test_labels.extend(labels.cpu().numpy())\n",
        "\n",
        "test_predictions = np.array(test_predictions)\n",
        "test_labels = np.array(test_labels)\n",
        "\n",
        "conf_matrix = confusion_matrix(test_labels, test_predictions)\n",
        "class_report = classification_report(test_labels, test_predictions)\n",
        "f1 = f1_score(test_labels, test_predictions, average='weighted')\n",
        "recall = recall_score(test_labels, test_predictions, average='weighted')\n",
        "accuracy = accuracy_score(test_labels, test_predictions)\n",
        "\n",
        "plt.figure(figsize=(8, 6))\n",
        "sns.heatmap(conf_matrix, annot=True, fmt='d', cmap='Blues', cbar=False)\n",
        "plt.title('Confusion Matrix')\n",
        "plt.xlabel('Predicted Labels')\n",
        "plt.ylabel('True Labels')\n",
        "plt.show()\n",
        "\n",
        "print(\"\\nClassification Report:\")\n",
        "print(class_report)\n",
        "\n",
        "print(\"\\nF1 Score:\", f1)\n",
        "print(\"Recall:\", recall)\n",
        "print(\"Accuracy:\", accuracy)"
      ],
      "metadata": {
        "colab": {
          "base_uri": "https://localhost:8080/",
          "height": 911
        },
        "id": "5dZlG5qixiuz",
        "outputId": "27aac8b7-804b-4f9c-93de-41635ef8ba92"
      },
      "execution_count": 18,
      "outputs": [
        {
          "output_type": "stream",
          "name": "stderr",
          "text": [
            "<ipython-input-12-9c58ff6240d5>:8: UserWarning: To copy construct from a tensor, it is recommended to use sourceTensor.clone().detach() or sourceTensor.clone().detach().requires_grad_(True), rather than torch.tensor(sourceTensor).\n",
            "  item = {key: torch.tensor(val[idx]) for key, val in self.encodings.items()}\n"
          ]
        },
        {
          "output_type": "display_data",
          "data": {
            "text/plain": [
              "<Figure size 800x600 with 1 Axes>"
            ],
            "image/png": "[encoded data removed]"
          },
          "metadata": {}
        },
        {
          "output_type": "stream",
          "name": "stdout",
          "text": [
            "\n",
            "Classification Report:\n",
            "              precision    recall  f1-score   support\n",
            "\n",
            "           0       0.55      0.77      0.64       519\n",
            "           1       0.58      0.10      0.17       510\n",
            "           2       0.60      0.84      0.70       535\n",
            "\n",
            "    accuracy                           0.58      1564\n",
            "   macro avg       0.58      0.57      0.51      1564\n",
            "weighted avg       0.58      0.58      0.51      1564\n",
            "\n",
            "\n",
            "F1 Score: 0.5092066175653848\n",
            "Recall: 0.5760869565217391\n",
            "Accuracy: 0.5760869565217391\n"
          ]
        }
      ]
    }
  ]
}