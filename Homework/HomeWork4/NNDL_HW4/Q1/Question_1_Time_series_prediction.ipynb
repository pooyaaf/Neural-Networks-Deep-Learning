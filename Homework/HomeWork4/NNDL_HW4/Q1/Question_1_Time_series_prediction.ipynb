{
  "nbformat": 4,
  "nbformat_minor": 0,
  "metadata": {
    "colab": {
      "provenance": [],
      "gpuType": "T4"
    },
    "kernelspec": {
      "name": "python3",
      "display_name": "Python 3"
    },
    "language_info": {
      "name": "python"
    },
    "accelerator": "GPU"
  },
  "cells": [
    {
      "cell_type": "markdown",
      "source": [
        "# Question 1: Time-series prediction\n",
        "\n",
        "\n",
        "\n",
        "\n"
      ],
      "metadata": {
        "id": "NpgboPffGcce"
      }
    },
    {
      "cell_type": "markdown",
      "source": [
        "Prediction can be divided into two categories: regression and classification. In regression, the numerical value of the next days is predicted for a time series. In the classification, the upward or downward trend of the time series is predicted for the next few days.\n",
        "\n",
        "In this question, you will learn about regression mode and implement a part of:\n",
        "https://ieeexplore.ieee.org/document/9005997"
      ],
      "metadata": {
        "id": "h3ZOvCg4G6Jy"
      }
    },
    {
      "cell_type": "markdown",
      "source": [
        "## Import libraries"
      ],
      "metadata": {
        "id": "cx9pQjv7H6ph"
      }
    },
    {
      "cell_type": "code",
      "source": [
        "!pip install --upgrade mplfinance"
      ],
      "metadata": {
        "colab": {
          "base_uri": "https://localhost:8080/"
        },
        "id": "FBHQ_FYn9VQd",
        "outputId": "a3838e53-7d96-4f4f-9d6f-417709da0470"
      },
      "execution_count": 92,
      "outputs": [
        {
          "output_type": "stream",
          "name": "stdout",
          "text": [
            "Requirement already satisfied: mplfinance in /usr/local/lib/python3.10/dist-packages (0.12.10b0)\n",
            "Requirement already satisfied: matplotlib in /usr/local/lib/python3.10/dist-packages (from mplfinance) (3.7.1)\n",
            "Requirement already satisfied: pandas in /usr/local/lib/python3.10/dist-packages (from mplfinance) (1.5.3)\n",
            "Requirement already satisfied: contourpy>=1.0.1 in /usr/local/lib/python3.10/dist-packages (from matplotlib->mplfinance) (1.2.0)\n",
            "Requirement already satisfied: cycler>=0.10 in /usr/local/lib/python3.10/dist-packages (from matplotlib->mplfinance) (0.12.1)\n",
            "Requirement already satisfied: fonttools>=4.22.0 in /usr/local/lib/python3.10/dist-packages (from matplotlib->mplfinance) (4.46.0)\n",
            "Requirement already satisfied: kiwisolver>=1.0.1 in /usr/local/lib/python3.10/dist-packages (from matplotlib->mplfinance) (1.4.5)\n",
            "Requirement already satisfied: numpy>=1.20 in /usr/local/lib/python3.10/dist-packages (from matplotlib->mplfinance) (1.23.5)\n",
            "Requirement already satisfied: packaging>=20.0 in /usr/local/lib/python3.10/dist-packages (from matplotlib->mplfinance) (23.2)\n",
            "Requirement already satisfied: pillow>=6.2.0 in /usr/local/lib/python3.10/dist-packages (from matplotlib->mplfinance) (9.4.0)\n",
            "Requirement already satisfied: pyparsing>=2.3.1 in /usr/local/lib/python3.10/dist-packages (from matplotlib->mplfinance) (3.1.1)\n",
            "Requirement already satisfied: python-dateutil>=2.7 in /usr/local/lib/python3.10/dist-packages (from matplotlib->mplfinance) (2.8.2)\n",
            "Requirement already satisfied: pytz>=2020.1 in /usr/local/lib/python3.10/dist-packages (from pandas->mplfinance) (2023.3.post1)\n",
            "Requirement already satisfied: six>=1.5 in /usr/local/lib/python3.10/dist-packages (from python-dateutil>=2.7->matplotlib->mplfinance) (1.16.0)\n"
          ]
        }
      ]
    },
    {
      "cell_type": "code",
      "source": [
        "import numpy as np\n",
        "import pandas as pd\n",
        "from matplotlib import pyplot as plt\n",
        "\n",
        "import datetime\n",
        "from datetime import datetime\n",
        "import yfinance as yf\n",
        "import mplfinance as mpf\n",
        "\n",
        "import tensorflow as tf\n",
        "from tensorflow import keras\n",
        "import sklearn\n",
        "from sklearn.model_selection import train_test_split\n",
        "from sklearn.preprocessing import StandardScaler\n"
      ],
      "metadata": {
        "id": "hDcm-oh4H9ga"
      },
      "execution_count": 93,
      "outputs": []
    },
    {
      "cell_type": "markdown",
      "source": [
        "## 1.1- Download data"
      ],
      "metadata": {
        "id": "WJbRgAbBHFAK"
      }
    },
    {
      "cell_type": "code",
      "execution_count": 94,
      "metadata": {
        "colab": {
          "base_uri": "https://localhost:8080/",
          "height": 424
        },
        "id": "BRS6iJsAGapH",
        "outputId": "f60ffdc9-bd74-45a4-f2d7-309d939612a6"
      },
      "outputs": [
        {
          "output_type": "execute_result",
          "data": {
            "text/plain": [
              "    Symbol              Security             GICS Sector  \\\n",
              "0      MMM                    3M             Industrials   \n",
              "1      AOS           A. O. Smith             Industrials   \n",
              "2      ABT                Abbott             Health Care   \n",
              "3     ABBV                AbbVie             Health Care   \n",
              "4      ACN             Accenture  Information Technology   \n",
              "..     ...                   ...                     ...   \n",
              "498    YUM           Yum! Brands  Consumer Discretionary   \n",
              "499   ZBRA    Zebra Technologies  Information Technology   \n",
              "500    ZBH         Zimmer Biomet             Health Care   \n",
              "501   ZION  Zions Bancorporation              Financials   \n",
              "502    ZTS                Zoetis             Health Care   \n",
              "\n",
              "                      GICS Sub-Industry    Headquarters Location  Date added  \\\n",
              "0              Industrial Conglomerates    Saint Paul, Minnesota  1957-03-04   \n",
              "1                     Building Products     Milwaukee, Wisconsin  2017-07-26   \n",
              "2                 Health Care Equipment  North Chicago, Illinois  1957-03-04   \n",
              "3                         Biotechnology  North Chicago, Illinois  2012-12-31   \n",
              "4        IT Consulting & Other Services          Dublin, Ireland  2011-07-06   \n",
              "..                                  ...                      ...         ...   \n",
              "498                         Restaurants     Louisville, Kentucky  1997-10-06   \n",
              "499  Electronic Equipment & Instruments   Lincolnshire, Illinois  2019-12-23   \n",
              "500               Health Care Equipment          Warsaw, Indiana  2001-08-07   \n",
              "501                      Regional Banks     Salt Lake City, Utah  2001-06-22   \n",
              "502                     Pharmaceuticals   Parsippany, New Jersey  2013-06-21   \n",
              "\n",
              "         CIK      Founded  \n",
              "0      66740         1902  \n",
              "1      91142         1916  \n",
              "2       1800         1888  \n",
              "3    1551152  2013 (1888)  \n",
              "4    1467373         1989  \n",
              "..       ...          ...  \n",
              "498  1041061         1997  \n",
              "499   877212         1969  \n",
              "500  1136869         1927  \n",
              "501   109380         1873  \n",
              "502  1555280         1952  \n",
              "\n",
              "[503 rows x 8 columns]"
            ],
            "text/html": [
              "\n",
              "  <div id=\"df-ae5afa7e-6c59-49e1-8be6-04b61bfa2e29\" class=\"colab-df-container\">\n",
              "    <div>\n",
              "<style scoped>\n",
              "    .dataframe tbody tr th:only-of-type {\n",
              "        vertical-align: middle;\n",
              "    }\n",
              "\n",
              "    .dataframe tbody tr th {\n",
              "        vertical-align: top;\n",
              "    }\n",
              "\n",
              "    .dataframe thead th {\n",
              "        text-align: right;\n",
              "    }\n",
              "</style>\n",
              "<table border=\"1\" class=\"dataframe\">\n",
              "  <thead>\n",
              "    <tr style=\"text-align: right;\">\n",
              "      <th></th>\n",
              "      <th>Symbol</th>\n",
              "      <th>Security</th>\n",
              "      <th>GICS Sector</th>\n",
              "      <th>GICS Sub-Industry</th>\n",
              "      <th>Headquarters Location</th>\n",
              "      <th>Date added</th>\n",
              "      <th>CIK</th>\n",
              "      <th>Founded</th>\n",
              "    </tr>\n",
              "  </thead>\n",
              "  <tbody>\n",
              "    <tr>\n",
              "      <th>0</th>\n",
              "      <td>MMM</td>\n",
              "      <td>3M</td>\n",
              "      <td>Industrials</td>\n",
              "      <td>Industrial Conglomerates</td>\n",
              "      <td>Saint Paul, Minnesota</td>\n",
              "      <td>1957-03-04</td>\n",
              "      <td>66740</td>\n",
              "      <td>1902</td>\n",
              "    </tr>\n",
              "    <tr>\n",
              "      <th>1</th>\n",
              "      <td>AOS</td>\n",
              "      <td>A. O. Smith</td>\n",
              "      <td>Industrials</td>\n",
              "      <td>Building Products</td>\n",
              "      <td>Milwaukee, Wisconsin</td>\n",
              "      <td>2017-07-26</td>\n",
              "      <td>91142</td>\n",
              "      <td>1916</td>\n",
              "    </tr>\n",
              "    <tr>\n",
              "      <th>2</th>\n",
              "      <td>ABT</td>\n",
              "      <td>Abbott</td>\n",
              "      <td>Health Care</td>\n",
              "      <td>Health Care Equipment</td>\n",
              "      <td>North Chicago, Illinois</td>\n",
              "      <td>1957-03-04</td>\n",
              "      <td>1800</td>\n",
              "      <td>1888</td>\n",
              "    </tr>\n",
              "    <tr>\n",
              "      <th>3</th>\n",
              "      <td>ABBV</td>\n",
              "      <td>AbbVie</td>\n",
              "      <td>Health Care</td>\n",
              "      <td>Biotechnology</td>\n",
              "      <td>North Chicago, Illinois</td>\n",
              "      <td>2012-12-31</td>\n",
              "      <td>1551152</td>\n",
              "      <td>2013 (1888)</td>\n",
              "    </tr>\n",
              "    <tr>\n",
              "      <th>4</th>\n",
              "      <td>ACN</td>\n",
              "      <td>Accenture</td>\n",
              "      <td>Information Technology</td>\n",
              "      <td>IT Consulting &amp; Other Services</td>\n",
              "      <td>Dublin, Ireland</td>\n",
              "      <td>2011-07-06</td>\n",
              "      <td>1467373</td>\n",
              "      <td>1989</td>\n",
              "    </tr>\n",
              "    <tr>\n",
              "      <th>...</th>\n",
              "      <td>...</td>\n",
              "      <td>...</td>\n",
              "      <td>...</td>\n",
              "      <td>...</td>\n",
              "      <td>...</td>\n",
              "      <td>...</td>\n",
              "      <td>...</td>\n",
              "      <td>...</td>\n",
              "    </tr>\n",
              "    <tr>\n",
              "      <th>498</th>\n",
              "      <td>YUM</td>\n",
              "      <td>Yum! Brands</td>\n",
              "      <td>Consumer Discretionary</td>\n",
              "      <td>Restaurants</td>\n",
              "      <td>Louisville, Kentucky</td>\n",
              "      <td>1997-10-06</td>\n",
              "      <td>1041061</td>\n",
              "      <td>1997</td>\n",
              "    </tr>\n",
              "    <tr>\n",
              "      <th>499</th>\n",
              "      <td>ZBRA</td>\n",
              "      <td>Zebra Technologies</td>\n",
              "      <td>Information Technology</td>\n",
              "      <td>Electronic Equipment &amp; Instruments</td>\n",
              "      <td>Lincolnshire, Illinois</td>\n",
              "      <td>2019-12-23</td>\n",
              "      <td>877212</td>\n",
              "      <td>1969</td>\n",
              "    </tr>\n",
              "    <tr>\n",
              "      <th>500</th>\n",
              "      <td>ZBH</td>\n",
              "      <td>Zimmer Biomet</td>\n",
              "      <td>Health Care</td>\n",
              "      <td>Health Care Equipment</td>\n",
              "      <td>Warsaw, Indiana</td>\n",
              "      <td>2001-08-07</td>\n",
              "      <td>1136869</td>\n",
              "      <td>1927</td>\n",
              "    </tr>\n",
              "    <tr>\n",
              "      <th>501</th>\n",
              "      <td>ZION</td>\n",
              "      <td>Zions Bancorporation</td>\n",
              "      <td>Financials</td>\n",
              "      <td>Regional Banks</td>\n",
              "      <td>Salt Lake City, Utah</td>\n",
              "      <td>2001-06-22</td>\n",
              "      <td>109380</td>\n",
              "      <td>1873</td>\n",
              "    </tr>\n",
              "    <tr>\n",
              "      <th>502</th>\n",
              "      <td>ZTS</td>\n",
              "      <td>Zoetis</td>\n",
              "      <td>Health Care</td>\n",
              "      <td>Pharmaceuticals</td>\n",
              "      <td>Parsippany, New Jersey</td>\n",
              "      <td>2013-06-21</td>\n",
              "      <td>1555280</td>\n",
              "      <td>1952</td>\n",
              "    </tr>\n",
              "  </tbody>\n",
              "</table>\n",
              "<p>503 rows × 8 columns</p>\n",
              "</div>\n",
              "    <div class=\"colab-df-buttons\">\n",
              "\n",
              "  <div class=\"colab-df-container\">\n",
              "    <button class=\"colab-df-convert\" onclick=\"convertToInteractive('df-ae5afa7e-6c59-49e1-8be6-04b61bfa2e29')\"\n",
              "            title=\"Convert this dataframe to an interactive table.\"\n",
              "            style=\"display:none;\">\n",
              "\n",
              "  <svg xmlns=\"http://www.w3.org/2000/svg\" height=\"24px\" viewBox=\"0 -960 960 960\">\n",
              "    <path d=\"M120-120v-720h720v720H120Zm60-500h600v-160H180v160Zm220 220h160v-160H400v160Zm0 220h160v-160H400v160ZM180-400h160v-160H180v160Zm440 0h160v-160H620v160ZM180-180h160v-160H180v160Zm440 0h160v-160H620v160Z\"/>\n",
              "  </svg>\n",
              "    </button>\n",
              "\n",
              "  <style>\n",
              "    .colab-df-container {\n",
              "      display:flex;\n",
              "      gap: 12px;\n",
              "    }\n",
              "\n",
              "    .colab-df-convert {\n",
              "      background-color: #E8F0FE;\n",
              "      border: none;\n",
              "      border-radius: 50%;\n",
              "      cursor: pointer;\n",
              "      display: none;\n",
              "      fill: #1967D2;\n",
              "      height: 32px;\n",
              "      padding: 0 0 0 0;\n",
              "      width: 32px;\n",
              "    }\n",
              "\n",
              "    .colab-df-convert:hover {\n",
              "      background-color: #E2EBFA;\n",
              "      box-shadow: 0px 1px 2px rgba(60, 64, 67, 0.3), 0px 1px 3px 1px rgba(60, 64, 67, 0.15);\n",
              "      fill: #174EA6;\n",
              "    }\n",
              "\n",
              "    .colab-df-buttons div {\n",
              "      margin-bottom: 4px;\n",
              "    }\n",
              "\n",
              "    [theme=dark] .colab-df-convert {\n",
              "      background-color: #3B4455;\n",
              "      fill: #D2E3FC;\n",
              "    }\n",
              "\n",
              "    [theme=dark] .colab-df-convert:hover {\n",
              "      background-color: #434B5C;\n",
              "      box-shadow: 0px 1px 3px 1px rgba(0, 0, 0, 0.15);\n",
              "      filter: drop-shadow(0px 1px 2px rgba(0, 0, 0, 0.3));\n",
              "      fill: #FFFFFF;\n",
              "    }\n",
              "  </style>\n",
              "\n",
              "    <script>\n",
              "      const buttonEl =\n",
              "        document.querySelector('#df-ae5afa7e-6c59-49e1-8be6-04b61bfa2e29 button.colab-df-convert');\n",
              "      buttonEl.style.display =\n",
              "        google.colab.kernel.accessAllowed ? 'block' : 'none';\n",
              "\n",
              "      async function convertToInteractive(key) {\n",
              "        const element = document.querySelector('#df-ae5afa7e-6c59-49e1-8be6-04b61bfa2e29');\n",
              "        const dataTable =\n",
              "          await google.colab.kernel.invokeFunction('convertToInteractive',\n",
              "                                                    [key], {});\n",
              "        if (!dataTable) return;\n",
              "\n",
              "        const docLinkHtml = 'Like what you see? Visit the ' +\n",
              "          '<a target=\"_blank\" href=https://colab.research.google.com/notebooks/data_table.ipynb>data table notebook</a>'\n",
              "          + ' to learn more about interactive tables.';\n",
              "        element.innerHTML = '';\n",
              "        dataTable['output_type'] = 'display_data';\n",
              "        await google.colab.output.renderOutput(dataTable, element);\n",
              "        const docLink = document.createElement('div');\n",
              "        docLink.innerHTML = docLinkHtml;\n",
              "        element.appendChild(docLink);\n",
              "      }\n",
              "    </script>\n",
              "  </div>\n",
              "\n",
              "\n",
              "<div id=\"df-257624af-737a-49c2-9711-c1b96a36c78e\">\n",
              "  <button class=\"colab-df-quickchart\" onclick=\"quickchart('df-257624af-737a-49c2-9711-c1b96a36c78e')\"\n",
              "            title=\"Suggest charts\"\n",
              "            style=\"display:none;\">\n",
              "\n",
              "<svg xmlns=\"http://www.w3.org/2000/svg\" height=\"24px\"viewBox=\"0 0 24 24\"\n",
              "     width=\"24px\">\n",
              "    <g>\n",
              "        <path d=\"M19 3H5c-1.1 0-2 .9-2 2v14c0 1.1.9 2 2 2h14c1.1 0 2-.9 2-2V5c0-1.1-.9-2-2-2zM9 17H7v-7h2v7zm4 0h-2V7h2v10zm4 0h-2v-4h2v4z\"/>\n",
              "    </g>\n",
              "</svg>\n",
              "  </button>\n",
              "\n",
              "<style>\n",
              "  .colab-df-quickchart {\n",
              "      --bg-color: #E8F0FE;\n",
              "      --fill-color: #1967D2;\n",
              "      --hover-bg-color: #E2EBFA;\n",
              "      --hover-fill-color: #174EA6;\n",
              "      --disabled-fill-color: #AAA;\n",
              "      --disabled-bg-color: #DDD;\n",
              "  }\n",
              "\n",
              "  [theme=dark] .colab-df-quickchart {\n",
              "      --bg-color: #3B4455;\n",
              "      --fill-color: #D2E3FC;\n",
              "      --hover-bg-color: #434B5C;\n",
              "      --hover-fill-color: #FFFFFF;\n",
              "      --disabled-bg-color: #3B4455;\n",
              "      --disabled-fill-color: #666;\n",
              "  }\n",
              "\n",
              "  .colab-df-quickchart {\n",
              "    background-color: var(--bg-color);\n",
              "    border: none;\n",
              "    border-radius: 50%;\n",
              "    cursor: pointer;\n",
              "    display: none;\n",
              "    fill: var(--fill-color);\n",
              "    height: 32px;\n",
              "    padding: 0;\n",
              "    width: 32px;\n",
              "  }\n",
              "\n",
              "  .colab-df-quickchart:hover {\n",
              "    background-color: var(--hover-bg-color);\n",
              "    box-shadow: 0 1px 2px rgba(60, 64, 67, 0.3), 0 1px 3px 1px rgba(60, 64, 67, 0.15);\n",
              "    fill: var(--button-hover-fill-color);\n",
              "  }\n",
              "\n",
              "  .colab-df-quickchart-complete:disabled,\n",
              "  .colab-df-quickchart-complete:disabled:hover {\n",
              "    background-color: var(--disabled-bg-color);\n",
              "    fill: var(--disabled-fill-color);\n",
              "    box-shadow: none;\n",
              "  }\n",
              "\n",
              "  .colab-df-spinner {\n",
              "    border: 2px solid var(--fill-color);\n",
              "    border-color: transparent;\n",
              "    border-bottom-color: var(--fill-color);\n",
              "    animation:\n",
              "      spin 1s steps(1) infinite;\n",
              "  }\n",
              "\n",
              "  @keyframes spin {\n",
              "    0% {\n",
              "      border-color: transparent;\n",
              "      border-bottom-color: var(--fill-color);\n",
              "      border-left-color: var(--fill-color);\n",
              "    }\n",
              "    20% {\n",
              "      border-color: transparent;\n",
              "      border-left-color: var(--fill-color);\n",
              "      border-top-color: var(--fill-color);\n",
              "    }\n",
              "    30% {\n",
              "      border-color: transparent;\n",
              "      border-left-color: var(--fill-color);\n",
              "      border-top-color: var(--fill-color);\n",
              "      border-right-color: var(--fill-color);\n",
              "    }\n",
              "    40% {\n",
              "      border-color: transparent;\n",
              "      border-right-color: var(--fill-color);\n",
              "      border-top-color: var(--fill-color);\n",
              "    }\n",
              "    60% {\n",
              "      border-color: transparent;\n",
              "      border-right-color: var(--fill-color);\n",
              "    }\n",
              "    80% {\n",
              "      border-color: transparent;\n",
              "      border-right-color: var(--fill-color);\n",
              "      border-bottom-color: var(--fill-color);\n",
              "    }\n",
              "    90% {\n",
              "      border-color: transparent;\n",
              "      border-bottom-color: var(--fill-color);\n",
              "    }\n",
              "  }\n",
              "</style>\n",
              "\n",
              "  <script>\n",
              "    async function quickchart(key) {\n",
              "      const quickchartButtonEl =\n",
              "        document.querySelector('#' + key + ' button');\n",
              "      quickchartButtonEl.disabled = true;  // To prevent multiple clicks.\n",
              "      quickchartButtonEl.classList.add('colab-df-spinner');\n",
              "      try {\n",
              "        const charts = await google.colab.kernel.invokeFunction(\n",
              "            'suggestCharts', [key], {});\n",
              "      } catch (error) {\n",
              "        console.error('Error during call to suggestCharts:', error);\n",
              "      }\n",
              "      quickchartButtonEl.classList.remove('colab-df-spinner');\n",
              "      quickchartButtonEl.classList.add('colab-df-quickchart-complete');\n",
              "    }\n",
              "    (() => {\n",
              "      let quickchartButtonEl =\n",
              "        document.querySelector('#df-257624af-737a-49c2-9711-c1b96a36c78e button');\n",
              "      quickchartButtonEl.style.display =\n",
              "        google.colab.kernel.accessAllowed ? 'block' : 'none';\n",
              "    })();\n",
              "  </script>\n",
              "</div>\n",
              "    </div>\n",
              "  </div>\n"
            ]
          },
          "metadata": {},
          "execution_count": 94
        }
      ],
      "source": [
        "table = pd.read_html('https://en.wikipedia.com/wiki/List_of_S%26P_500_companies')\n",
        "table[0]"
      ]
    },
    {
      "cell_type": "code",
      "source": [
        "New_table = table[0]"
      ],
      "metadata": {
        "id": "inXsWwFJKQMv"
      },
      "execution_count": 95,
      "outputs": []
    },
    {
      "cell_type": "code",
      "source": [
        "New_table_2 = New_table[[ datetime.strptime(dt, '%Y-%m-%d') < datetime(2010,1,1) for dt in New_table['Date added'] ] ]\n",
        "New_table_2"
      ],
      "metadata": {
        "colab": {
          "base_uri": "https://localhost:8080/",
          "height": 424
        },
        "id": "HpNZ3HTaI_E5",
        "outputId": "abfbece5-d557-4523-e6e6-68e751710989"
      },
      "execution_count": 96,
      "outputs": [
        {
          "output_type": "execute_result",
          "data": {
            "text/plain": [
              "    Symbol              Security             GICS Sector  \\\n",
              "0      MMM                    3M             Industrials   \n",
              "2      ABT                Abbott             Health Care   \n",
              "5     ADBE            Adobe Inc.  Information Technology   \n",
              "7      AES       AES Corporation               Utilities   \n",
              "8      AFL                 Aflac              Financials   \n",
              "..     ...                   ...                     ...   \n",
              "495   WYNN          Wynn Resorts  Consumer Discretionary   \n",
              "496    XEL           Xcel Energy               Utilities   \n",
              "498    YUM           Yum! Brands  Consumer Discretionary   \n",
              "500    ZBH         Zimmer Biomet             Health Care   \n",
              "501   ZION  Zions Bancorporation              Financials   \n",
              "\n",
              "                                GICS Sub-Industry    Headquarters Location  \\\n",
              "0                        Industrial Conglomerates    Saint Paul, Minnesota   \n",
              "2                           Health Care Equipment  North Chicago, Illinois   \n",
              "5                            Application Software     San Jose, California   \n",
              "7    Independent Power Producers & Energy Traders      Arlington, Virginia   \n",
              "8                         Life & Health Insurance        Columbus, Georgia   \n",
              "..                                            ...                      ...   \n",
              "495                              Casinos & Gaming         Paradise, Nevada   \n",
              "496                               Multi-Utilities   Minneapolis, Minnesota   \n",
              "498                                   Restaurants     Louisville, Kentucky   \n",
              "500                         Health Care Equipment          Warsaw, Indiana   \n",
              "501                                Regional Banks     Salt Lake City, Utah   \n",
              "\n",
              "     Date added      CIK Founded  \n",
              "0    1957-03-04    66740    1902  \n",
              "2    1957-03-04     1800    1888  \n",
              "5    1997-05-05   796343    1982  \n",
              "7    1998-10-02   874761    1981  \n",
              "8    1999-05-28     4977    1955  \n",
              "..          ...      ...     ...  \n",
              "495  2008-11-14  1174922    2002  \n",
              "496  1957-03-04    72903    1909  \n",
              "498  1997-10-06  1041061    1997  \n",
              "500  2001-08-07  1136869    1927  \n",
              "501  2001-06-22   109380    1873  \n",
              "\n",
              "[290 rows x 8 columns]"
            ],
            "text/html": [
              "\n",
              "  <div id=\"df-40617663-11c6-4b77-8230-4eec845b01a1\" class=\"colab-df-container\">\n",
              "    <div>\n",
              "<style scoped>\n",
              "    .dataframe tbody tr th:only-of-type {\n",
              "        vertical-align: middle;\n",
              "    }\n",
              "\n",
              "    .dataframe tbody tr th {\n",
              "        vertical-align: top;\n",
              "    }\n",
              "\n",
              "    .dataframe thead th {\n",
              "        text-align: right;\n",
              "    }\n",
              "</style>\n",
              "<table border=\"1\" class=\"dataframe\">\n",
              "  <thead>\n",
              "    <tr style=\"text-align: right;\">\n",
              "      <th></th>\n",
              "      <th>Symbol</th>\n",
              "      <th>Security</th>\n",
              "      <th>GICS Sector</th>\n",
              "      <th>GICS Sub-Industry</th>\n",
              "      <th>Headquarters Location</th>\n",
              "      <th>Date added</th>\n",
              "      <th>CIK</th>\n",
              "      <th>Founded</th>\n",
              "    </tr>\n",
              "  </thead>\n",
              "  <tbody>\n",
              "    <tr>\n",
              "      <th>0</th>\n",
              "      <td>MMM</td>\n",
              "      <td>3M</td>\n",
              "      <td>Industrials</td>\n",
              "      <td>Industrial Conglomerates</td>\n",
              "      <td>Saint Paul, Minnesota</td>\n",
              "      <td>1957-03-04</td>\n",
              "      <td>66740</td>\n",
              "      <td>1902</td>\n",
              "    </tr>\n",
              "    <tr>\n",
              "      <th>2</th>\n",
              "      <td>ABT</td>\n",
              "      <td>Abbott</td>\n",
              "      <td>Health Care</td>\n",
              "      <td>Health Care Equipment</td>\n",
              "      <td>North Chicago, Illinois</td>\n",
              "      <td>1957-03-04</td>\n",
              "      <td>1800</td>\n",
              "      <td>1888</td>\n",
              "    </tr>\n",
              "    <tr>\n",
              "      <th>5</th>\n",
              "      <td>ADBE</td>\n",
              "      <td>Adobe Inc.</td>\n",
              "      <td>Information Technology</td>\n",
              "      <td>Application Software</td>\n",
              "      <td>San Jose, California</td>\n",
              "      <td>1997-05-05</td>\n",
              "      <td>796343</td>\n",
              "      <td>1982</td>\n",
              "    </tr>\n",
              "    <tr>\n",
              "      <th>7</th>\n",
              "      <td>AES</td>\n",
              "      <td>AES Corporation</td>\n",
              "      <td>Utilities</td>\n",
              "      <td>Independent Power Producers &amp; Energy Traders</td>\n",
              "      <td>Arlington, Virginia</td>\n",
              "      <td>1998-10-02</td>\n",
              "      <td>874761</td>\n",
              "      <td>1981</td>\n",
              "    </tr>\n",
              "    <tr>\n",
              "      <th>8</th>\n",
              "      <td>AFL</td>\n",
              "      <td>Aflac</td>\n",
              "      <td>Financials</td>\n",
              "      <td>Life &amp; Health Insurance</td>\n",
              "      <td>Columbus, Georgia</td>\n",
              "      <td>1999-05-28</td>\n",
              "      <td>4977</td>\n",
              "      <td>1955</td>\n",
              "    </tr>\n",
              "    <tr>\n",
              "      <th>...</th>\n",
              "      <td>...</td>\n",
              "      <td>...</td>\n",
              "      <td>...</td>\n",
              "      <td>...</td>\n",
              "      <td>...</td>\n",
              "      <td>...</td>\n",
              "      <td>...</td>\n",
              "      <td>...</td>\n",
              "    </tr>\n",
              "    <tr>\n",
              "      <th>495</th>\n",
              "      <td>WYNN</td>\n",
              "      <td>Wynn Resorts</td>\n",
              "      <td>Consumer Discretionary</td>\n",
              "      <td>Casinos &amp; Gaming</td>\n",
              "      <td>Paradise, Nevada</td>\n",
              "      <td>2008-11-14</td>\n",
              "      <td>1174922</td>\n",
              "      <td>2002</td>\n",
              "    </tr>\n",
              "    <tr>\n",
              "      <th>496</th>\n",
              "      <td>XEL</td>\n",
              "      <td>Xcel Energy</td>\n",
              "      <td>Utilities</td>\n",
              "      <td>Multi-Utilities</td>\n",
              "      <td>Minneapolis, Minnesota</td>\n",
              "      <td>1957-03-04</td>\n",
              "      <td>72903</td>\n",
              "      <td>1909</td>\n",
              "    </tr>\n",
              "    <tr>\n",
              "      <th>498</th>\n",
              "      <td>YUM</td>\n",
              "      <td>Yum! Brands</td>\n",
              "      <td>Consumer Discretionary</td>\n",
              "      <td>Restaurants</td>\n",
              "      <td>Louisville, Kentucky</td>\n",
              "      <td>1997-10-06</td>\n",
              "      <td>1041061</td>\n",
              "      <td>1997</td>\n",
              "    </tr>\n",
              "    <tr>\n",
              "      <th>500</th>\n",
              "      <td>ZBH</td>\n",
              "      <td>Zimmer Biomet</td>\n",
              "      <td>Health Care</td>\n",
              "      <td>Health Care Equipment</td>\n",
              "      <td>Warsaw, Indiana</td>\n",
              "      <td>2001-08-07</td>\n",
              "      <td>1136869</td>\n",
              "      <td>1927</td>\n",
              "    </tr>\n",
              "    <tr>\n",
              "      <th>501</th>\n",
              "      <td>ZION</td>\n",
              "      <td>Zions Bancorporation</td>\n",
              "      <td>Financials</td>\n",
              "      <td>Regional Banks</td>\n",
              "      <td>Salt Lake City, Utah</td>\n",
              "      <td>2001-06-22</td>\n",
              "      <td>109380</td>\n",
              "      <td>1873</td>\n",
              "    </tr>\n",
              "  </tbody>\n",
              "</table>\n",
              "<p>290 rows × 8 columns</p>\n",
              "</div>\n",
              "    <div class=\"colab-df-buttons\">\n",
              "\n",
              "  <div class=\"colab-df-container\">\n",
              "    <button class=\"colab-df-convert\" onclick=\"convertToInteractive('df-40617663-11c6-4b77-8230-4eec845b01a1')\"\n",
              "            title=\"Convert this dataframe to an interactive table.\"\n",
              "            style=\"display:none;\">\n",
              "\n",
              "  <svg xmlns=\"http://www.w3.org/2000/svg\" height=\"24px\" viewBox=\"0 -960 960 960\">\n",
              "    <path d=\"M120-120v-720h720v720H120Zm60-500h600v-160H180v160Zm220 220h160v-160H400v160Zm0 220h160v-160H400v160ZM180-400h160v-160H180v160Zm440 0h160v-160H620v160ZM180-180h160v-160H180v160Zm440 0h160v-160H620v160Z\"/>\n",
              "  </svg>\n",
              "    </button>\n",
              "\n",
              "  <style>\n",
              "    .colab-df-container {\n",
              "      display:flex;\n",
              "      gap: 12px;\n",
              "    }\n",
              "\n",
              "    .colab-df-convert {\n",
              "      background-color: #E8F0FE;\n",
              "      border: none;\n",
              "      border-radius: 50%;\n",
              "      cursor: pointer;\n",
              "      display: none;\n",
              "      fill: #1967D2;\n",
              "      height: 32px;\n",
              "      padding: 0 0 0 0;\n",
              "      width: 32px;\n",
              "    }\n",
              "\n",
              "    .colab-df-convert:hover {\n",
              "      background-color: #E2EBFA;\n",
              "      box-shadow: 0px 1px 2px rgba(60, 64, 67, 0.3), 0px 1px 3px 1px rgba(60, 64, 67, 0.15);\n",
              "      fill: #174EA6;\n",
              "    }\n",
              "\n",
              "    .colab-df-buttons div {\n",
              "      margin-bottom: 4px;\n",
              "    }\n",
              "\n",
              "    [theme=dark] .colab-df-convert {\n",
              "      background-color: #3B4455;\n",
              "      fill: #D2E3FC;\n",
              "    }\n",
              "\n",
              "    [theme=dark] .colab-df-convert:hover {\n",
              "      background-color: #434B5C;\n",
              "      box-shadow: 0px 1px 3px 1px rgba(0, 0, 0, 0.15);\n",
              "      filter: drop-shadow(0px 1px 2px rgba(0, 0, 0, 0.3));\n",
              "      fill: #FFFFFF;\n",
              "    }\n",
              "  </style>\n",
              "\n",
              "    <script>\n",
              "      const buttonEl =\n",
              "        document.querySelector('#df-40617663-11c6-4b77-8230-4eec845b01a1 button.colab-df-convert');\n",
              "      buttonEl.style.display =\n",
              "        google.colab.kernel.accessAllowed ? 'block' : 'none';\n",
              "\n",
              "      async function convertToInteractive(key) {\n",
              "        const element = document.querySelector('#df-40617663-11c6-4b77-8230-4eec845b01a1');\n",
              "        const dataTable =\n",
              "          await google.colab.kernel.invokeFunction('convertToInteractive',\n",
              "                                                    [key], {});\n",
              "        if (!dataTable) return;\n",
              "\n",
              "        const docLinkHtml = 'Like what you see? Visit the ' +\n",
              "          '<a target=\"_blank\" href=https://colab.research.google.com/notebooks/data_table.ipynb>data table notebook</a>'\n",
              "          + ' to learn more about interactive tables.';\n",
              "        element.innerHTML = '';\n",
              "        dataTable['output_type'] = 'display_data';\n",
              "        await google.colab.output.renderOutput(dataTable, element);\n",
              "        const docLink = document.createElement('div');\n",
              "        docLink.innerHTML = docLinkHtml;\n",
              "        element.appendChild(docLink);\n",
              "      }\n",
              "    </script>\n",
              "  </div>\n",
              "\n",
              "\n",
              "<div id=\"df-7a9078f8-32b9-4727-a612-f249c9ed322f\">\n",
              "  <button class=\"colab-df-quickchart\" onclick=\"quickchart('df-7a9078f8-32b9-4727-a612-f249c9ed322f')\"\n",
              "            title=\"Suggest charts\"\n",
              "            style=\"display:none;\">\n",
              "\n",
              "<svg xmlns=\"http://www.w3.org/2000/svg\" height=\"24px\"viewBox=\"0 0 24 24\"\n",
              "     width=\"24px\">\n",
              "    <g>\n",
              "        <path d=\"M19 3H5c-1.1 0-2 .9-2 2v14c0 1.1.9 2 2 2h14c1.1 0 2-.9 2-2V5c0-1.1-.9-2-2-2zM9 17H7v-7h2v7zm4 0h-2V7h2v10zm4 0h-2v-4h2v4z\"/>\n",
              "    </g>\n",
              "</svg>\n",
              "  </button>\n",
              "\n",
              "<style>\n",
              "  .colab-df-quickchart {\n",
              "      --bg-color: #E8F0FE;\n",
              "      --fill-color: #1967D2;\n",
              "      --hover-bg-color: #E2EBFA;\n",
              "      --hover-fill-color: #174EA6;\n",
              "      --disabled-fill-color: #AAA;\n",
              "      --disabled-bg-color: #DDD;\n",
              "  }\n",
              "\n",
              "  [theme=dark] .colab-df-quickchart {\n",
              "      --bg-color: #3B4455;\n",
              "      --fill-color: #D2E3FC;\n",
              "      --hover-bg-color: #434B5C;\n",
              "      --hover-fill-color: #FFFFFF;\n",
              "      --disabled-bg-color: #3B4455;\n",
              "      --disabled-fill-color: #666;\n",
              "  }\n",
              "\n",
              "  .colab-df-quickchart {\n",
              "    background-color: var(--bg-color);\n",
              "    border: none;\n",
              "    border-radius: 50%;\n",
              "    cursor: pointer;\n",
              "    display: none;\n",
              "    fill: var(--fill-color);\n",
              "    height: 32px;\n",
              "    padding: 0;\n",
              "    width: 32px;\n",
              "  }\n",
              "\n",
              "  .colab-df-quickchart:hover {\n",
              "    background-color: var(--hover-bg-color);\n",
              "    box-shadow: 0 1px 2px rgba(60, 64, 67, 0.3), 0 1px 3px 1px rgba(60, 64, 67, 0.15);\n",
              "    fill: var(--button-hover-fill-color);\n",
              "  }\n",
              "\n",
              "  .colab-df-quickchart-complete:disabled,\n",
              "  .colab-df-quickchart-complete:disabled:hover {\n",
              "    background-color: var(--disabled-bg-color);\n",
              "    fill: var(--disabled-fill-color);\n",
              "    box-shadow: none;\n",
              "  }\n",
              "\n",
              "  .colab-df-spinner {\n",
              "    border: 2px solid var(--fill-color);\n",
              "    border-color: transparent;\n",
              "    border-bottom-color: var(--fill-color);\n",
              "    animation:\n",
              "      spin 1s steps(1) infinite;\n",
              "  }\n",
              "\n",
              "  @keyframes spin {\n",
              "    0% {\n",
              "      border-color: transparent;\n",
              "      border-bottom-color: var(--fill-color);\n",
              "      border-left-color: var(--fill-color);\n",
              "    }\n",
              "    20% {\n",
              "      border-color: transparent;\n",
              "      border-left-color: var(--fill-color);\n",
              "      border-top-color: var(--fill-color);\n",
              "    }\n",
              "    30% {\n",
              "      border-color: transparent;\n",
              "      border-left-color: var(--fill-color);\n",
              "      border-top-color: var(--fill-color);\n",
              "      border-right-color: var(--fill-color);\n",
              "    }\n",
              "    40% {\n",
              "      border-color: transparent;\n",
              "      border-right-color: var(--fill-color);\n",
              "      border-top-color: var(--fill-color);\n",
              "    }\n",
              "    60% {\n",
              "      border-color: transparent;\n",
              "      border-right-color: var(--fill-color);\n",
              "    }\n",
              "    80% {\n",
              "      border-color: transparent;\n",
              "      border-right-color: var(--fill-color);\n",
              "      border-bottom-color: var(--fill-color);\n",
              "    }\n",
              "    90% {\n",
              "      border-color: transparent;\n",
              "      border-bottom-color: var(--fill-color);\n",
              "    }\n",
              "  }\n",
              "</style>\n",
              "\n",
              "  <script>\n",
              "    async function quickchart(key) {\n",
              "      const quickchartButtonEl =\n",
              "        document.querySelector('#' + key + ' button');\n",
              "      quickchartButtonEl.disabled = true;  // To prevent multiple clicks.\n",
              "      quickchartButtonEl.classList.add('colab-df-spinner');\n",
              "      try {\n",
              "        const charts = await google.colab.kernel.invokeFunction(\n",
              "            'suggestCharts', [key], {});\n",
              "      } catch (error) {\n",
              "        console.error('Error during call to suggestCharts:', error);\n",
              "      }\n",
              "      quickchartButtonEl.classList.remove('colab-df-spinner');\n",
              "      quickchartButtonEl.classList.add('colab-df-quickchart-complete');\n",
              "    }\n",
              "    (() => {\n",
              "      let quickchartButtonEl =\n",
              "        document.querySelector('#df-7a9078f8-32b9-4727-a612-f249c9ed322f button');\n",
              "      quickchartButtonEl.style.display =\n",
              "        google.colab.kernel.accessAllowed ? 'block' : 'none';\n",
              "    })();\n",
              "  </script>\n",
              "</div>\n",
              "    </div>\n",
              "  </div>\n"
            ]
          },
          "metadata": {},
          "execution_count": 96
        }
      ]
    },
    {
      "cell_type": "code",
      "source": [
        "My_Tickers = New_table_2['Symbol'].tolist()\n",
        "\n",
        "if 'BF.B' in My_Tickers:\n",
        "    My_Tickers.remove('BF.B')\n",
        "\n",
        "My_Tickers\n"
      ],
      "metadata": {
        "colab": {
          "base_uri": "https://localhost:8080/"
        },
        "id": "e_6nCVZVL8hd",
        "outputId": "b796ae2c-8d2d-43cd-c515-44e60444fb7f"
      },
      "execution_count": 97,
      "outputs": [
        {
          "output_type": "execute_result",
          "data": {
            "text/plain": [
              "['MMM',\n",
              " 'ABT',\n",
              " 'ADBE',\n",
              " 'AES',\n",
              " 'AFL',\n",
              " 'A',\n",
              " 'APD',\n",
              " 'AKAM',\n",
              " 'ALL',\n",
              " 'GOOG',\n",
              " 'MO',\n",
              " 'AMZN',\n",
              " 'AEE',\n",
              " 'AEP',\n",
              " 'AXP',\n",
              " 'AIG',\n",
              " 'AMT',\n",
              " 'AMP',\n",
              " 'AMGN',\n",
              " 'APH',\n",
              " 'ADI',\n",
              " 'AON',\n",
              " 'APA',\n",
              " 'AAPL',\n",
              " 'AMAT',\n",
              " 'ADM',\n",
              " 'AIZ',\n",
              " 'T',\n",
              " 'ADSK',\n",
              " 'ADP',\n",
              " 'AZO',\n",
              " 'AVB',\n",
              " 'AVY',\n",
              " 'BALL',\n",
              " 'BAC',\n",
              " 'BK',\n",
              " 'BBWI',\n",
              " 'BAX',\n",
              " 'BDX',\n",
              " 'BBY',\n",
              " 'BIIB',\n",
              " 'BA',\n",
              " 'BKNG',\n",
              " 'BXP',\n",
              " 'BSX',\n",
              " 'BMY',\n",
              " 'CPB',\n",
              " 'COF',\n",
              " 'CAH',\n",
              " 'CCL',\n",
              " 'CAT',\n",
              " 'CBRE',\n",
              " 'COR',\n",
              " 'CNP',\n",
              " 'CF',\n",
              " 'CHRW',\n",
              " 'SCHW',\n",
              " 'CVX',\n",
              " 'CI',\n",
              " 'CINF',\n",
              " 'CTAS',\n",
              " 'CSCO',\n",
              " 'C',\n",
              " 'CLX',\n",
              " 'CME',\n",
              " 'CMS',\n",
              " 'KO',\n",
              " 'CTSH',\n",
              " 'CL',\n",
              " 'CMCSA',\n",
              " 'CMA',\n",
              " 'CAG',\n",
              " 'COP',\n",
              " 'ED',\n",
              " 'STZ',\n",
              " 'GLW',\n",
              " 'COST',\n",
              " 'CTRA',\n",
              " 'CSX',\n",
              " 'CMI',\n",
              " 'CVS',\n",
              " 'DHR',\n",
              " 'DRI',\n",
              " 'DVA',\n",
              " 'DE',\n",
              " 'XRAY',\n",
              " 'DVN',\n",
              " 'DFS',\n",
              " 'DOV',\n",
              " 'DHI',\n",
              " 'DTE',\n",
              " 'DUK',\n",
              " 'EMN',\n",
              " 'ETN',\n",
              " 'EBAY',\n",
              " 'ECL',\n",
              " 'EIX',\n",
              " 'EA',\n",
              " 'ELV',\n",
              " 'LLY',\n",
              " 'EMR',\n",
              " 'ETR',\n",
              " 'EOG',\n",
              " 'EFX',\n",
              " 'EQR',\n",
              " 'EL',\n",
              " 'ES',\n",
              " 'EXC',\n",
              " 'EXPE',\n",
              " 'EXPD',\n",
              " 'XOM',\n",
              " 'FAST',\n",
              " 'FDX',\n",
              " 'FIS',\n",
              " 'FITB',\n",
              " 'FE',\n",
              " 'FI',\n",
              " 'FMC',\n",
              " 'F',\n",
              " 'BEN',\n",
              " 'GEN',\n",
              " 'GD',\n",
              " 'GE',\n",
              " 'GIS',\n",
              " 'GPC',\n",
              " 'GILD',\n",
              " 'GL',\n",
              " 'GS',\n",
              " 'HAL',\n",
              " 'HIG',\n",
              " 'HAS',\n",
              " 'PEAK',\n",
              " 'HSY',\n",
              " 'HES',\n",
              " 'HD',\n",
              " 'HON',\n",
              " 'HRL',\n",
              " 'HST',\n",
              " 'HWM',\n",
              " 'HPQ',\n",
              " 'HBAN',\n",
              " 'IBM',\n",
              " 'ITW',\n",
              " 'INTC',\n",
              " 'ICE',\n",
              " 'IFF',\n",
              " 'IP',\n",
              " 'IPG',\n",
              " 'INTU',\n",
              " 'ISRG',\n",
              " 'IVZ',\n",
              " 'IRM',\n",
              " 'J',\n",
              " 'JNJ',\n",
              " 'JPM',\n",
              " 'JNPR',\n",
              " 'K',\n",
              " 'KEY',\n",
              " 'KMB',\n",
              " 'KIM',\n",
              " 'KLAC',\n",
              " 'KR',\n",
              " 'LHX',\n",
              " 'LH',\n",
              " 'LEN',\n",
              " 'LIN',\n",
              " 'LMT',\n",
              " 'L',\n",
              " 'LOW',\n",
              " 'MTB',\n",
              " 'MRO',\n",
              " 'MAR',\n",
              " 'MMC',\n",
              " 'MAS',\n",
              " 'MA',\n",
              " 'MKC',\n",
              " 'MCD',\n",
              " 'MCK',\n",
              " 'MDT',\n",
              " 'MRK',\n",
              " 'MET',\n",
              " 'MCHP',\n",
              " 'MU',\n",
              " 'MSFT',\n",
              " 'TAP',\n",
              " 'MCO',\n",
              " 'MS',\n",
              " 'MSI',\n",
              " 'NDAQ',\n",
              " 'NTAP',\n",
              " 'NEM',\n",
              " 'NEE',\n",
              " 'NKE',\n",
              " 'NI',\n",
              " 'NSC',\n",
              " 'NTRS',\n",
              " 'NOC',\n",
              " 'NUE',\n",
              " 'NVDA',\n",
              " 'ORLY',\n",
              " 'OXY',\n",
              " 'OMC',\n",
              " 'ORCL',\n",
              " 'PCAR',\n",
              " 'PARA',\n",
              " 'PH',\n",
              " 'PAYX',\n",
              " 'PEP',\n",
              " 'PFE',\n",
              " 'PM',\n",
              " 'PNW',\n",
              " 'PXD',\n",
              " 'PNC',\n",
              " 'PPG',\n",
              " 'PPL',\n",
              " 'PFG',\n",
              " 'PG',\n",
              " 'PGR',\n",
              " 'PLD',\n",
              " 'PRU',\n",
              " 'PEG',\n",
              " 'PSA',\n",
              " 'PHM',\n",
              " 'PWR',\n",
              " 'QCOM',\n",
              " 'DGX',\n",
              " 'RL',\n",
              " 'RTX',\n",
              " 'RF',\n",
              " 'RSG',\n",
              " 'RVTY',\n",
              " 'RHI',\n",
              " 'ROK',\n",
              " 'ROP',\n",
              " 'ROST',\n",
              " 'SPGI',\n",
              " 'CRM',\n",
              " 'SLB',\n",
              " 'SHW',\n",
              " 'SPG',\n",
              " 'SJM',\n",
              " 'SNA',\n",
              " 'SO',\n",
              " 'LUV',\n",
              " 'SWK',\n",
              " 'SBUX',\n",
              " 'STT',\n",
              " 'SYK',\n",
              " 'SYY',\n",
              " 'TPR',\n",
              " 'TGT',\n",
              " 'TXN',\n",
              " 'TXT',\n",
              " 'TMO',\n",
              " 'TJX',\n",
              " 'TRV',\n",
              " 'TFC',\n",
              " 'TSN',\n",
              " 'USB',\n",
              " 'UNP',\n",
              " 'UPS',\n",
              " 'UNH',\n",
              " 'VLO',\n",
              " 'VTR',\n",
              " 'VRSN',\n",
              " 'VZ',\n",
              " 'VFC',\n",
              " 'VTRS',\n",
              " 'V',\n",
              " 'VMC',\n",
              " 'WBA',\n",
              " 'WMT',\n",
              " 'DIS',\n",
              " 'WM',\n",
              " 'WAT',\n",
              " 'WEC',\n",
              " 'WFC',\n",
              " 'WELL',\n",
              " 'WDC',\n",
              " 'WRK',\n",
              " 'WY',\n",
              " 'WHR',\n",
              " 'WMB',\n",
              " 'GWW',\n",
              " 'WYNN',\n",
              " 'XEL',\n",
              " 'YUM',\n",
              " 'ZBH',\n",
              " 'ZION']"
            ]
          },
          "metadata": {},
          "execution_count": 97
        }
      ]
    },
    {
      "cell_type": "code",
      "source": [
        "Raw_price_for_my_tickers = yf.download(tickers=My_Tickers, start=\"2010-01-04\", interval=\"1d\", group_by=\"ticker\")\n"
      ],
      "metadata": {
        "colab": {
          "base_uri": "https://localhost:8080/"
        },
        "id": "4dgl0saxyxWP",
        "outputId": "bf1d8661-b938-4981-b40e-cf5c30fd230c"
      },
      "execution_count": 98,
      "outputs": [
        {
          "output_type": "stream",
          "name": "stdout",
          "text": [
            "[*********************100%%**********************]  289 of 289 completed\n"
          ]
        }
      ]
    },
    {
      "cell_type": "code",
      "source": [
        "Raw_price_for_my_tickers['HWM']"
      ],
      "metadata": {
        "colab": {
          "base_uri": "https://localhost:8080/",
          "height": 455
        },
        "id": "9lCrS2a-QBIT",
        "outputId": "e7e80eda-3b8d-4071-f5d5-d7dc5642285d"
      },
      "execution_count": 99,
      "outputs": [
        {
          "output_type": "execute_result",
          "data": {
            "text/plain": [
              "                 Open       High        Low      Close  Adj Close     Volume\n",
              "Date                                                                        \n",
              "2010-01-04        NaN        NaN        NaN        NaN        NaN        NaN\n",
              "2010-01-05        NaN        NaN        NaN        NaN        NaN        NaN\n",
              "2010-01-06        NaN        NaN        NaN        NaN        NaN        NaN\n",
              "2010-01-07        NaN        NaN        NaN        NaN        NaN        NaN\n",
              "2010-01-08        NaN        NaN        NaN        NaN        NaN        NaN\n",
              "...               ...        ...        ...        ...        ...        ...\n",
              "2023-12-15  52.450001  53.259998  52.380001  52.799999  52.799999  5428500.0\n",
              "2023-12-18  52.990002  53.480000  52.900002  53.189999  53.189999  1922000.0\n",
              "2023-12-19  53.360001  53.880001  53.230000  53.650002  53.650002  2697000.0\n",
              "2023-12-20  53.330002  53.730000  52.680000  52.720001  52.720001  2075200.0\n",
              "2023-12-21  53.310001  53.680000  53.119999  53.470001  53.470001  1694800.0\n",
              "\n",
              "[3517 rows x 6 columns]"
            ],
            "text/html": [
              "\n",
              "  <div id=\"df-d308ba34-f4fc-47ff-b44a-ca88396f7a5d\" class=\"colab-df-container\">\n",
              "    <div>\n",
              "<style scoped>\n",
              "    .dataframe tbody tr th:only-of-type {\n",
              "        vertical-align: middle;\n",
              "    }\n",
              "\n",
              "    .dataframe tbody tr th {\n",
              "        vertical-align: top;\n",
              "    }\n",
              "\n",
              "    .dataframe thead th {\n",
              "        text-align: right;\n",
              "    }\n",
              "</style>\n",
              "<table border=\"1\" class=\"dataframe\">\n",
              "  <thead>\n",
              "    <tr style=\"text-align: right;\">\n",
              "      <th></th>\n",
              "      <th>Open</th>\n",
              "      <th>High</th>\n",
              "      <th>Low</th>\n",
              "      <th>Close</th>\n",
              "      <th>Adj Close</th>\n",
              "      <th>Volume</th>\n",
              "    </tr>\n",
              "    <tr>\n",
              "      <th>Date</th>\n",
              "      <th></th>\n",
              "      <th></th>\n",
              "      <th></th>\n",
              "      <th></th>\n",
              "      <th></th>\n",
              "      <th></th>\n",
              "    </tr>\n",
              "  </thead>\n",
              "  <tbody>\n",
              "    <tr>\n",
              "      <th>2010-01-04</th>\n",
              "      <td>NaN</td>\n",
              "      <td>NaN</td>\n",
              "      <td>NaN</td>\n",
              "      <td>NaN</td>\n",
              "      <td>NaN</td>\n",
              "      <td>NaN</td>\n",
              "    </tr>\n",
              "    <tr>\n",
              "      <th>2010-01-05</th>\n",
              "      <td>NaN</td>\n",
              "      <td>NaN</td>\n",
              "      <td>NaN</td>\n",
              "      <td>NaN</td>\n",
              "      <td>NaN</td>\n",
              "      <td>NaN</td>\n",
              "    </tr>\n",
              "    <tr>\n",
              "      <th>2010-01-06</th>\n",
              "      <td>NaN</td>\n",
              "      <td>NaN</td>\n",
              "      <td>NaN</td>\n",
              "      <td>NaN</td>\n",
              "      <td>NaN</td>\n",
              "      <td>NaN</td>\n",
              "    </tr>\n",
              "    <tr>\n",
              "      <th>2010-01-07</th>\n",
              "      <td>NaN</td>\n",
              "      <td>NaN</td>\n",
              "      <td>NaN</td>\n",
              "      <td>NaN</td>\n",
              "      <td>NaN</td>\n",
              "      <td>NaN</td>\n",
              "    </tr>\n",
              "    <tr>\n",
              "      <th>2010-01-08</th>\n",
              "      <td>NaN</td>\n",
              "      <td>NaN</td>\n",
              "      <td>NaN</td>\n",
              "      <td>NaN</td>\n",
              "      <td>NaN</td>\n",
              "      <td>NaN</td>\n",
              "    </tr>\n",
              "    <tr>\n",
              "      <th>...</th>\n",
              "      <td>...</td>\n",
              "      <td>...</td>\n",
              "      <td>...</td>\n",
              "      <td>...</td>\n",
              "      <td>...</td>\n",
              "      <td>...</td>\n",
              "    </tr>\n",
              "    <tr>\n",
              "      <th>2023-12-15</th>\n",
              "      <td>52.450001</td>\n",
              "      <td>53.259998</td>\n",
              "      <td>52.380001</td>\n",
              "      <td>52.799999</td>\n",
              "      <td>52.799999</td>\n",
              "      <td>5428500.0</td>\n",
              "    </tr>\n",
              "    <tr>\n",
              "      <th>2023-12-18</th>\n",
              "      <td>52.990002</td>\n",
              "      <td>53.480000</td>\n",
              "      <td>52.900002</td>\n",
              "      <td>53.189999</td>\n",
              "      <td>53.189999</td>\n",
              "      <td>1922000.0</td>\n",
              "    </tr>\n",
              "    <tr>\n",
              "      <th>2023-12-19</th>\n",
              "      <td>53.360001</td>\n",
              "      <td>53.880001</td>\n",
              "      <td>53.230000</td>\n",
              "      <td>53.650002</td>\n",
              "      <td>53.650002</td>\n",
              "      <td>2697000.0</td>\n",
              "    </tr>\n",
              "    <tr>\n",
              "      <th>2023-12-20</th>\n",
              "      <td>53.330002</td>\n",
              "      <td>53.730000</td>\n",
              "      <td>52.680000</td>\n",
              "      <td>52.720001</td>\n",
              "      <td>52.720001</td>\n",
              "      <td>2075200.0</td>\n",
              "    </tr>\n",
              "    <tr>\n",
              "      <th>2023-12-21</th>\n",
              "      <td>53.310001</td>\n",
              "      <td>53.680000</td>\n",
              "      <td>53.119999</td>\n",
              "      <td>53.470001</td>\n",
              "      <td>53.470001</td>\n",
              "      <td>1694800.0</td>\n",
              "    </tr>\n",
              "  </tbody>\n",
              "</table>\n",
              "<p>3517 rows × 6 columns</p>\n",
              "</div>\n",
              "    <div class=\"colab-df-buttons\">\n",
              "\n",
              "  <div class=\"colab-df-container\">\n",
              "    <button class=\"colab-df-convert\" onclick=\"convertToInteractive('df-d308ba34-f4fc-47ff-b44a-ca88396f7a5d')\"\n",
              "            title=\"Convert this dataframe to an interactive table.\"\n",
              "            style=\"display:none;\">\n",
              "\n",
              "  <svg xmlns=\"http://www.w3.org/2000/svg\" height=\"24px\" viewBox=\"0 -960 960 960\">\n",
              "    <path d=\"M120-120v-720h720v720H120Zm60-500h600v-160H180v160Zm220 220h160v-160H400v160Zm0 220h160v-160H400v160ZM180-400h160v-160H180v160Zm440 0h160v-160H620v160ZM180-180h160v-160H180v160Zm440 0h160v-160H620v160Z\"/>\n",
              "  </svg>\n",
              "    </button>\n",
              "\n",
              "  <style>\n",
              "    .colab-df-container {\n",
              "      display:flex;\n",
              "      gap: 12px;\n",
              "    }\n",
              "\n",
              "    .colab-df-convert {\n",
              "      background-color: #E8F0FE;\n",
              "      border: none;\n",
              "      border-radius: 50%;\n",
              "      cursor: pointer;\n",
              "      display: none;\n",
              "      fill: #1967D2;\n",
              "      height: 32px;\n",
              "      padding: 0 0 0 0;\n",
              "      width: 32px;\n",
              "    }\n",
              "\n",
              "    .colab-df-convert:hover {\n",
              "      background-color: #E2EBFA;\n",
              "      box-shadow: 0px 1px 2px rgba(60, 64, 67, 0.3), 0px 1px 3px 1px rgba(60, 64, 67, 0.15);\n",
              "      fill: #174EA6;\n",
              "    }\n",
              "\n",
              "    .colab-df-buttons div {\n",
              "      margin-bottom: 4px;\n",
              "    }\n",
              "\n",
              "    [theme=dark] .colab-df-convert {\n",
              "      background-color: #3B4455;\n",
              "      fill: #D2E3FC;\n",
              "    }\n",
              "\n",
              "    [theme=dark] .colab-df-convert:hover {\n",
              "      background-color: #434B5C;\n",
              "      box-shadow: 0px 1px 3px 1px rgba(0, 0, 0, 0.15);\n",
              "      filter: drop-shadow(0px 1px 2px rgba(0, 0, 0, 0.3));\n",
              "      fill: #FFFFFF;\n",
              "    }\n",
              "  </style>\n",
              "\n",
              "    <script>\n",
              "      const buttonEl =\n",
              "        document.querySelector('#df-d308ba34-f4fc-47ff-b44a-ca88396f7a5d button.colab-df-convert');\n",
              "      buttonEl.style.display =\n",
              "        google.colab.kernel.accessAllowed ? 'block' : 'none';\n",
              "\n",
              "      async function convertToInteractive(key) {\n",
              "        const element = document.querySelector('#df-d308ba34-f4fc-47ff-b44a-ca88396f7a5d');\n",
              "        const dataTable =\n",
              "          await google.colab.kernel.invokeFunction('convertToInteractive',\n",
              "                                                    [key], {});\n",
              "        if (!dataTable) return;\n",
              "\n",
              "        const docLinkHtml = 'Like what you see? Visit the ' +\n",
              "          '<a target=\"_blank\" href=https://colab.research.google.com/notebooks/data_table.ipynb>data table notebook</a>'\n",
              "          + ' to learn more about interactive tables.';\n",
              "        element.innerHTML = '';\n",
              "        dataTable['output_type'] = 'display_data';\n",
              "        await google.colab.output.renderOutput(dataTable, element);\n",
              "        const docLink = document.createElement('div');\n",
              "        docLink.innerHTML = docLinkHtml;\n",
              "        element.appendChild(docLink);\n",
              "      }\n",
              "    </script>\n",
              "  </div>\n",
              "\n",
              "\n",
              "<div id=\"df-b42c4055-4684-483d-bb37-6c8672827bb8\">\n",
              "  <button class=\"colab-df-quickchart\" onclick=\"quickchart('df-b42c4055-4684-483d-bb37-6c8672827bb8')\"\n",
              "            title=\"Suggest charts\"\n",
              "            style=\"display:none;\">\n",
              "\n",
              "<svg xmlns=\"http://www.w3.org/2000/svg\" height=\"24px\"viewBox=\"0 0 24 24\"\n",
              "     width=\"24px\">\n",
              "    <g>\n",
              "        <path d=\"M19 3H5c-1.1 0-2 .9-2 2v14c0 1.1.9 2 2 2h14c1.1 0 2-.9 2-2V5c0-1.1-.9-2-2-2zM9 17H7v-7h2v7zm4 0h-2V7h2v10zm4 0h-2v-4h2v4z\"/>\n",
              "    </g>\n",
              "</svg>\n",
              "  </button>\n",
              "\n",
              "<style>\n",
              "  .colab-df-quickchart {\n",
              "      --bg-color: #E8F0FE;\n",
              "      --fill-color: #1967D2;\n",
              "      --hover-bg-color: #E2EBFA;\n",
              "      --hover-fill-color: #174EA6;\n",
              "      --disabled-fill-color: #AAA;\n",
              "      --disabled-bg-color: #DDD;\n",
              "  }\n",
              "\n",
              "  [theme=dark] .colab-df-quickchart {\n",
              "      --bg-color: #3B4455;\n",
              "      --fill-color: #D2E3FC;\n",
              "      --hover-bg-color: #434B5C;\n",
              "      --hover-fill-color: #FFFFFF;\n",
              "      --disabled-bg-color: #3B4455;\n",
              "      --disabled-fill-color: #666;\n",
              "  }\n",
              "\n",
              "  .colab-df-quickchart {\n",
              "    background-color: var(--bg-color);\n",
              "    border: none;\n",
              "    border-radius: 50%;\n",
              "    cursor: pointer;\n",
              "    display: none;\n",
              "    fill: var(--fill-color);\n",
              "    height: 32px;\n",
              "    padding: 0;\n",
              "    width: 32px;\n",
              "  }\n",
              "\n",
              "  .colab-df-quickchart:hover {\n",
              "    background-color: var(--hover-bg-color);\n",
              "    box-shadow: 0 1px 2px rgba(60, 64, 67, 0.3), 0 1px 3px 1px rgba(60, 64, 67, 0.15);\n",
              "    fill: var(--button-hover-fill-color);\n",
              "  }\n",
              "\n",
              "  .colab-df-quickchart-complete:disabled,\n",
              "  .colab-df-quickchart-complete:disabled:hover {\n",
              "    background-color: var(--disabled-bg-color);\n",
              "    fill: var(--disabled-fill-color);\n",
              "    box-shadow: none;\n",
              "  }\n",
              "\n",
              "  .colab-df-spinner {\n",
              "    border: 2px solid var(--fill-color);\n",
              "    border-color: transparent;\n",
              "    border-bottom-color: var(--fill-color);\n",
              "    animation:\n",
              "      spin 1s steps(1) infinite;\n",
              "  }\n",
              "\n",
              "  @keyframes spin {\n",
              "    0% {\n",
              "      border-color: transparent;\n",
              "      border-bottom-color: var(--fill-color);\n",
              "      border-left-color: var(--fill-color);\n",
              "    }\n",
              "    20% {\n",
              "      border-color: transparent;\n",
              "      border-left-color: var(--fill-color);\n",
              "      border-top-color: var(--fill-color);\n",
              "    }\n",
              "    30% {\n",
              "      border-color: transparent;\n",
              "      border-left-color: var(--fill-color);\n",
              "      border-top-color: var(--fill-color);\n",
              "      border-right-color: var(--fill-color);\n",
              "    }\n",
              "    40% {\n",
              "      border-color: transparent;\n",
              "      border-right-color: var(--fill-color);\n",
              "      border-top-color: var(--fill-color);\n",
              "    }\n",
              "    60% {\n",
              "      border-color: transparent;\n",
              "      border-right-color: var(--fill-color);\n",
              "    }\n",
              "    80% {\n",
              "      border-color: transparent;\n",
              "      border-right-color: var(--fill-color);\n",
              "      border-bottom-color: var(--fill-color);\n",
              "    }\n",
              "    90% {\n",
              "      border-color: transparent;\n",
              "      border-bottom-color: var(--fill-color);\n",
              "    }\n",
              "  }\n",
              "</style>\n",
              "\n",
              "  <script>\n",
              "    async function quickchart(key) {\n",
              "      const quickchartButtonEl =\n",
              "        document.querySelector('#' + key + ' button');\n",
              "      quickchartButtonEl.disabled = true;  // To prevent multiple clicks.\n",
              "      quickchartButtonEl.classList.add('colab-df-spinner');\n",
              "      try {\n",
              "        const charts = await google.colab.kernel.invokeFunction(\n",
              "            'suggestCharts', [key], {});\n",
              "      } catch (error) {\n",
              "        console.error('Error during call to suggestCharts:', error);\n",
              "      }\n",
              "      quickchartButtonEl.classList.remove('colab-df-spinner');\n",
              "      quickchartButtonEl.classList.add('colab-df-quickchart-complete');\n",
              "    }\n",
              "    (() => {\n",
              "      let quickchartButtonEl =\n",
              "        document.querySelector('#df-b42c4055-4684-483d-bb37-6c8672827bb8 button');\n",
              "      quickchartButtonEl.style.display =\n",
              "        google.colab.kernel.accessAllowed ? 'block' : 'none';\n",
              "    })();\n",
              "  </script>\n",
              "</div>\n",
              "    </div>\n",
              "  </div>\n"
            ]
          },
          "metadata": {},
          "execution_count": 99
        }
      ]
    },
    {
      "cell_type": "code",
      "source": [
        "Raw_price_for_my_tickers.head()"
      ],
      "metadata": {
        "colab": {
          "base_uri": "https://localhost:8080/",
          "height": 422
        },
        "id": "AVPDRBcMzhQe",
        "outputId": "f2a9f441-c447-4161-9f15-c43cc31bef4c"
      },
      "execution_count": 100,
      "outputs": [
        {
          "output_type": "execute_result",
          "data": {
            "text/plain": [
              "                  ECL                                                       \\\n",
              "                 Open       High        Low      Close  Adj Close   Volume   \n",
              "Date                                                                         \n",
              "2010-01-04  45.029999  45.340000  44.860001  45.250000  38.467197  1009500   \n",
              "2010-01-05  45.119999  45.139999  44.310001  44.560001  37.880619  1098400   \n",
              "2010-01-06  44.529999  44.849998  44.150002  44.430000  37.770126  1479700   \n",
              "2010-01-07  44.520000  45.009998  44.029999  44.910000  38.178169  1350100   \n",
              "2010-01-08  44.730000  45.349998  44.619999  45.290001  38.501202  1694600   \n",
              "\n",
              "                 WELL                                   ...       CHRW  \\\n",
              "                 Open       High        Low      Close  ...        Low   \n",
              "Date                                                    ...              \n",
              "2010-01-04  44.509998  44.959999  43.930000  44.040001  ...  58.939999   \n",
              "2010-01-05  44.279999  44.740002  43.869999  44.660000  ...  57.389999   \n",
              "2010-01-06  44.750000  44.950001  44.310001  44.439999  ...  57.200001   \n",
              "2010-01-07  44.500000  44.860001  43.980000  44.529999  ...  56.180000   \n",
              "2010-01-08  44.279999  44.549999  43.849998  44.070000  ...  56.599998   \n",
              "\n",
              "                                                 GWW                        \\\n",
              "                Close  Adj Close   Volume       Open       High        Low   \n",
              "Date                                                                         \n",
              "2010-01-04  59.340000  42.943428   822900  97.239998  97.970001  96.199997   \n",
              "2010-01-05  58.110001  42.053295  2352700  96.959999  97.489998  96.139999   \n",
              "2010-01-06  57.340000  41.496059  1685500  97.269997  98.250000  97.269997   \n",
              "2010-01-07  56.790001  41.098038  1939600  97.269997  98.699997  96.709999   \n",
              "2010-01-08  57.549999  41.648029  1332500  98.000000  99.849998  97.769997   \n",
              "\n",
              "                                          \n",
              "                Close  Adj Close  Volume  \n",
              "Date                                      \n",
              "2010-01-04  97.239998  76.182068  535200  \n",
              "2010-01-05  97.279999  76.213432  594500  \n",
              "2010-01-06  97.650002  76.503296  486800  \n",
              "2010-01-07  98.570000  77.224083  650100  \n",
              "2010-01-08  99.730003  78.132866  705600  \n",
              "\n",
              "[5 rows x 1734 columns]"
            ],
            "text/html": [
              "\n",
              "  <div id=\"df-d6b5f6e7-3187-4ed3-891c-282f8e3313fd\" class=\"colab-df-container\">\n",
              "    <div>\n",
              "<style scoped>\n",
              "    .dataframe tbody tr th:only-of-type {\n",
              "        vertical-align: middle;\n",
              "    }\n",
              "\n",
              "    .dataframe tbody tr th {\n",
              "        vertical-align: top;\n",
              "    }\n",
              "\n",
              "    .dataframe thead tr th {\n",
              "        text-align: left;\n",
              "    }\n",
              "\n",
              "    .dataframe thead tr:last-of-type th {\n",
              "        text-align: right;\n",
              "    }\n",
              "</style>\n",
              "<table border=\"1\" class=\"dataframe\">\n",
              "  <thead>\n",
              "    <tr>\n",
              "      <th></th>\n",
              "      <th colspan=\"6\" halign=\"left\">ECL</th>\n",
              "      <th colspan=\"4\" halign=\"left\">WELL</th>\n",
              "      <th>...</th>\n",
              "      <th colspan=\"4\" halign=\"left\">CHRW</th>\n",
              "      <th colspan=\"6\" halign=\"left\">GWW</th>\n",
              "    </tr>\n",
              "    <tr>\n",
              "      <th></th>\n",
              "      <th>Open</th>\n",
              "      <th>High</th>\n",
              "      <th>Low</th>\n",
              "      <th>Close</th>\n",
              "      <th>Adj Close</th>\n",
              "      <th>Volume</th>\n",
              "      <th>Open</th>\n",
              "      <th>High</th>\n",
              "      <th>Low</th>\n",
              "      <th>Close</th>\n",
              "      <th>...</th>\n",
              "      <th>Low</th>\n",
              "      <th>Close</th>\n",
              "      <th>Adj Close</th>\n",
              "      <th>Volume</th>\n",
              "      <th>Open</th>\n",
              "      <th>High</th>\n",
              "      <th>Low</th>\n",
              "      <th>Close</th>\n",
              "      <th>Adj Close</th>\n",
              "      <th>Volume</th>\n",
              "    </tr>\n",
              "    <tr>\n",
              "      <th>Date</th>\n",
              "      <th></th>\n",
              "      <th></th>\n",
              "      <th></th>\n",
              "      <th></th>\n",
              "      <th></th>\n",
              "      <th></th>\n",
              "      <th></th>\n",
              "      <th></th>\n",
              "      <th></th>\n",
              "      <th></th>\n",
              "      <th></th>\n",
              "      <th></th>\n",
              "      <th></th>\n",
              "      <th></th>\n",
              "      <th></th>\n",
              "      <th></th>\n",
              "      <th></th>\n",
              "      <th></th>\n",
              "      <th></th>\n",
              "      <th></th>\n",
              "      <th></th>\n",
              "    </tr>\n",
              "  </thead>\n",
              "  <tbody>\n",
              "    <tr>\n",
              "      <th>2010-01-04</th>\n",
              "      <td>45.029999</td>\n",
              "      <td>45.340000</td>\n",
              "      <td>44.860001</td>\n",
              "      <td>45.250000</td>\n",
              "      <td>38.467197</td>\n",
              "      <td>1009500</td>\n",
              "      <td>44.509998</td>\n",
              "      <td>44.959999</td>\n",
              "      <td>43.930000</td>\n",
              "      <td>44.040001</td>\n",
              "      <td>...</td>\n",
              "      <td>58.939999</td>\n",
              "      <td>59.340000</td>\n",
              "      <td>42.943428</td>\n",
              "      <td>822900</td>\n",
              "      <td>97.239998</td>\n",
              "      <td>97.970001</td>\n",
              "      <td>96.199997</td>\n",
              "      <td>97.239998</td>\n",
              "      <td>76.182068</td>\n",
              "      <td>535200</td>\n",
              "    </tr>\n",
              "    <tr>\n",
              "      <th>2010-01-05</th>\n",
              "      <td>45.119999</td>\n",
              "      <td>45.139999</td>\n",
              "      <td>44.310001</td>\n",
              "      <td>44.560001</td>\n",
              "      <td>37.880619</td>\n",
              "      <td>1098400</td>\n",
              "      <td>44.279999</td>\n",
              "      <td>44.740002</td>\n",
              "      <td>43.869999</td>\n",
              "      <td>44.660000</td>\n",
              "      <td>...</td>\n",
              "      <td>57.389999</td>\n",
              "      <td>58.110001</td>\n",
              "      <td>42.053295</td>\n",
              "      <td>2352700</td>\n",
              "      <td>96.959999</td>\n",
              "      <td>97.489998</td>\n",
              "      <td>96.139999</td>\n",
              "      <td>97.279999</td>\n",
              "      <td>76.213432</td>\n",
              "      <td>594500</td>\n",
              "    </tr>\n",
              "    <tr>\n",
              "      <th>2010-01-06</th>\n",
              "      <td>44.529999</td>\n",
              "      <td>44.849998</td>\n",
              "      <td>44.150002</td>\n",
              "      <td>44.430000</td>\n",
              "      <td>37.770126</td>\n",
              "      <td>1479700</td>\n",
              "      <td>44.750000</td>\n",
              "      <td>44.950001</td>\n",
              "      <td>44.310001</td>\n",
              "      <td>44.439999</td>\n",
              "      <td>...</td>\n",
              "      <td>57.200001</td>\n",
              "      <td>57.340000</td>\n",
              "      <td>41.496059</td>\n",
              "      <td>1685500</td>\n",
              "      <td>97.269997</td>\n",
              "      <td>98.250000</td>\n",
              "      <td>97.269997</td>\n",
              "      <td>97.650002</td>\n",
              "      <td>76.503296</td>\n",
              "      <td>486800</td>\n",
              "    </tr>\n",
              "    <tr>\n",
              "      <th>2010-01-07</th>\n",
              "      <td>44.520000</td>\n",
              "      <td>45.009998</td>\n",
              "      <td>44.029999</td>\n",
              "      <td>44.910000</td>\n",
              "      <td>38.178169</td>\n",
              "      <td>1350100</td>\n",
              "      <td>44.500000</td>\n",
              "      <td>44.860001</td>\n",
              "      <td>43.980000</td>\n",
              "      <td>44.529999</td>\n",
              "      <td>...</td>\n",
              "      <td>56.180000</td>\n",
              "      <td>56.790001</td>\n",
              "      <td>41.098038</td>\n",
              "      <td>1939600</td>\n",
              "      <td>97.269997</td>\n",
              "      <td>98.699997</td>\n",
              "      <td>96.709999</td>\n",
              "      <td>98.570000</td>\n",
              "      <td>77.224083</td>\n",
              "      <td>650100</td>\n",
              "    </tr>\n",
              "    <tr>\n",
              "      <th>2010-01-08</th>\n",
              "      <td>44.730000</td>\n",
              "      <td>45.349998</td>\n",
              "      <td>44.619999</td>\n",
              "      <td>45.290001</td>\n",
              "      <td>38.501202</td>\n",
              "      <td>1694600</td>\n",
              "      <td>44.279999</td>\n",
              "      <td>44.549999</td>\n",
              "      <td>43.849998</td>\n",
              "      <td>44.070000</td>\n",
              "      <td>...</td>\n",
              "      <td>56.599998</td>\n",
              "      <td>57.549999</td>\n",
              "      <td>41.648029</td>\n",
              "      <td>1332500</td>\n",
              "      <td>98.000000</td>\n",
              "      <td>99.849998</td>\n",
              "      <td>97.769997</td>\n",
              "      <td>99.730003</td>\n",
              "      <td>78.132866</td>\n",
              "      <td>705600</td>\n",
              "    </tr>\n",
              "  </tbody>\n",
              "</table>\n",
              "<p>5 rows × 1734 columns</p>\n",
              "</div>\n",
              "    <div class=\"colab-df-buttons\">\n",
              "\n",
              "  <div class=\"colab-df-container\">\n",
              "    <button class=\"colab-df-convert\" onclick=\"convertToInteractive('df-d6b5f6e7-3187-4ed3-891c-282f8e3313fd')\"\n",
              "            title=\"Convert this dataframe to an interactive table.\"\n",
              "            style=\"display:none;\">\n",
              "\n",
              "  <svg xmlns=\"http://www.w3.org/2000/svg\" height=\"24px\" viewBox=\"0 -960 960 960\">\n",
              "    <path d=\"M120-120v-720h720v720H120Zm60-500h600v-160H180v160Zm220 220h160v-160H400v160Zm0 220h160v-160H400v160ZM180-400h160v-160H180v160Zm440 0h160v-160H620v160ZM180-180h160v-160H180v160Zm440 0h160v-160H620v160Z\"/>\n",
              "  </svg>\n",
              "    </button>\n",
              "\n",
              "  <style>\n",
              "    .colab-df-container {\n",
              "      display:flex;\n",
              "      gap: 12px;\n",
              "    }\n",
              "\n",
              "    .colab-df-convert {\n",
              "      background-color: #E8F0FE;\n",
              "      border: none;\n",
              "      border-radius: 50%;\n",
              "      cursor: pointer;\n",
              "      display: none;\n",
              "      fill: #1967D2;\n",
              "      height: 32px;\n",
              "      padding: 0 0 0 0;\n",
              "      width: 32px;\n",
              "    }\n",
              "\n",
              "    .colab-df-convert:hover {\n",
              "      background-color: #E2EBFA;\n",
              "      box-shadow: 0px 1px 2px rgba(60, 64, 67, 0.3), 0px 1px 3px 1px rgba(60, 64, 67, 0.15);\n",
              "      fill: #174EA6;\n",
              "    }\n",
              "\n",
              "    .colab-df-buttons div {\n",
              "      margin-bottom: 4px;\n",
              "    }\n",
              "\n",
              "    [theme=dark] .colab-df-convert {\n",
              "      background-color: #3B4455;\n",
              "      fill: #D2E3FC;\n",
              "    }\n",
              "\n",
              "    [theme=dark] .colab-df-convert:hover {\n",
              "      background-color: #434B5C;\n",
              "      box-shadow: 0px 1px 3px 1px rgba(0, 0, 0, 0.15);\n",
              "      filter: drop-shadow(0px 1px 2px rgba(0, 0, 0, 0.3));\n",
              "      fill: #FFFFFF;\n",
              "    }\n",
              "  </style>\n",
              "\n",
              "    <script>\n",
              "      const buttonEl =\n",
              "        document.querySelector('#df-d6b5f6e7-3187-4ed3-891c-282f8e3313fd button.colab-df-convert');\n",
              "      buttonEl.style.display =\n",
              "        google.colab.kernel.accessAllowed ? 'block' : 'none';\n",
              "\n",
              "      async function convertToInteractive(key) {\n",
              "        const element = document.querySelector('#df-d6b5f6e7-3187-4ed3-891c-282f8e3313fd');\n",
              "        const dataTable =\n",
              "          await google.colab.kernel.invokeFunction('convertToInteractive',\n",
              "                                                    [key], {});\n",
              "        if (!dataTable) return;\n",
              "\n",
              "        const docLinkHtml = 'Like what you see? Visit the ' +\n",
              "          '<a target=\"_blank\" href=https://colab.research.google.com/notebooks/data_table.ipynb>data table notebook</a>'\n",
              "          + ' to learn more about interactive tables.';\n",
              "        element.innerHTML = '';\n",
              "        dataTable['output_type'] = 'display_data';\n",
              "        await google.colab.output.renderOutput(dataTable, element);\n",
              "        const docLink = document.createElement('div');\n",
              "        docLink.innerHTML = docLinkHtml;\n",
              "        element.appendChild(docLink);\n",
              "      }\n",
              "    </script>\n",
              "  </div>\n",
              "\n",
              "\n",
              "<div id=\"df-47eee9c6-6c4b-4b84-bfd8-302a30d410ac\">\n",
              "  <button class=\"colab-df-quickchart\" onclick=\"quickchart('df-47eee9c6-6c4b-4b84-bfd8-302a30d410ac')\"\n",
              "            title=\"Suggest charts\"\n",
              "            style=\"display:none;\">\n",
              "\n",
              "<svg xmlns=\"http://www.w3.org/2000/svg\" height=\"24px\"viewBox=\"0 0 24 24\"\n",
              "     width=\"24px\">\n",
              "    <g>\n",
              "        <path d=\"M19 3H5c-1.1 0-2 .9-2 2v14c0 1.1.9 2 2 2h14c1.1 0 2-.9 2-2V5c0-1.1-.9-2-2-2zM9 17H7v-7h2v7zm4 0h-2V7h2v10zm4 0h-2v-4h2v4z\"/>\n",
              "    </g>\n",
              "</svg>\n",
              "  </button>\n",
              "\n",
              "<style>\n",
              "  .colab-df-quickchart {\n",
              "      --bg-color: #E8F0FE;\n",
              "      --fill-color: #1967D2;\n",
              "      --hover-bg-color: #E2EBFA;\n",
              "      --hover-fill-color: #174EA6;\n",
              "      --disabled-fill-color: #AAA;\n",
              "      --disabled-bg-color: #DDD;\n",
              "  }\n",
              "\n",
              "  [theme=dark] .colab-df-quickchart {\n",
              "      --bg-color: #3B4455;\n",
              "      --fill-color: #D2E3FC;\n",
              "      --hover-bg-color: #434B5C;\n",
              "      --hover-fill-color: #FFFFFF;\n",
              "      --disabled-bg-color: #3B4455;\n",
              "      --disabled-fill-color: #666;\n",
              "  }\n",
              "\n",
              "  .colab-df-quickchart {\n",
              "    background-color: var(--bg-color);\n",
              "    border: none;\n",
              "    border-radius: 50%;\n",
              "    cursor: pointer;\n",
              "    display: none;\n",
              "    fill: var(--fill-color);\n",
              "    height: 32px;\n",
              "    padding: 0;\n",
              "    width: 32px;\n",
              "  }\n",
              "\n",
              "  .colab-df-quickchart:hover {\n",
              "    background-color: var(--hover-bg-color);\n",
              "    box-shadow: 0 1px 2px rgba(60, 64, 67, 0.3), 0 1px 3px 1px rgba(60, 64, 67, 0.15);\n",
              "    fill: var(--button-hover-fill-color);\n",
              "  }\n",
              "\n",
              "  .colab-df-quickchart-complete:disabled,\n",
              "  .colab-df-quickchart-complete:disabled:hover {\n",
              "    background-color: var(--disabled-bg-color);\n",
              "    fill: var(--disabled-fill-color);\n",
              "    box-shadow: none;\n",
              "  }\n",
              "\n",
              "  .colab-df-spinner {\n",
              "    border: 2px solid var(--fill-color);\n",
              "    border-color: transparent;\n",
              "    border-bottom-color: var(--fill-color);\n",
              "    animation:\n",
              "      spin 1s steps(1) infinite;\n",
              "  }\n",
              "\n",
              "  @keyframes spin {\n",
              "    0% {\n",
              "      border-color: transparent;\n",
              "      border-bottom-color: var(--fill-color);\n",
              "      border-left-color: var(--fill-color);\n",
              "    }\n",
              "    20% {\n",
              "      border-color: transparent;\n",
              "      border-left-color: var(--fill-color);\n",
              "      border-top-color: var(--fill-color);\n",
              "    }\n",
              "    30% {\n",
              "      border-color: transparent;\n",
              "      border-left-color: var(--fill-color);\n",
              "      border-top-color: var(--fill-color);\n",
              "      border-right-color: var(--fill-color);\n",
              "    }\n",
              "    40% {\n",
              "      border-color: transparent;\n",
              "      border-right-color: var(--fill-color);\n",
              "      border-top-color: var(--fill-color);\n",
              "    }\n",
              "    60% {\n",
              "      border-color: transparent;\n",
              "      border-right-color: var(--fill-color);\n",
              "    }\n",
              "    80% {\n",
              "      border-color: transparent;\n",
              "      border-right-color: var(--fill-color);\n",
              "      border-bottom-color: var(--fill-color);\n",
              "    }\n",
              "    90% {\n",
              "      border-color: transparent;\n",
              "      border-bottom-color: var(--fill-color);\n",
              "    }\n",
              "  }\n",
              "</style>\n",
              "\n",
              "  <script>\n",
              "    async function quickchart(key) {\n",
              "      const quickchartButtonEl =\n",
              "        document.querySelector('#' + key + ' button');\n",
              "      quickchartButtonEl.disabled = true;  // To prevent multiple clicks.\n",
              "      quickchartButtonEl.classList.add('colab-df-spinner');\n",
              "      try {\n",
              "        const charts = await google.colab.kernel.invokeFunction(\n",
              "            'suggestCharts', [key], {});\n",
              "      } catch (error) {\n",
              "        console.error('Error during call to suggestCharts:', error);\n",
              "      }\n",
              "      quickchartButtonEl.classList.remove('colab-df-spinner');\n",
              "      quickchartButtonEl.classList.add('colab-df-quickchart-complete');\n",
              "    }\n",
              "    (() => {\n",
              "      let quickchartButtonEl =\n",
              "        document.querySelector('#df-47eee9c6-6c4b-4b84-bfd8-302a30d410ac button');\n",
              "      quickchartButtonEl.style.display =\n",
              "        google.colab.kernel.accessAllowed ? 'block' : 'none';\n",
              "    })();\n",
              "  </script>\n",
              "</div>\n",
              "    </div>\n",
              "  </div>\n"
            ]
          },
          "metadata": {},
          "execution_count": 100
        }
      ]
    },
    {
      "cell_type": "code",
      "source": [
        "Raw_price_for_my_tickers.columns"
      ],
      "metadata": {
        "colab": {
          "base_uri": "https://localhost:8080/"
        },
        "id": "PQ_Cf4OIzrsP",
        "outputId": "f9926869-26db-4eac-9aa8-522ea869ba4a"
      },
      "execution_count": 101,
      "outputs": [
        {
          "output_type": "execute_result",
          "data": {
            "text/plain": [
              "MultiIndex([( 'ECL',      'Open'),\n",
              "            ( 'ECL',      'High'),\n",
              "            ( 'ECL',       'Low'),\n",
              "            ( 'ECL',     'Close'),\n",
              "            ( 'ECL', 'Adj Close'),\n",
              "            ( 'ECL',    'Volume'),\n",
              "            ('WELL',      'Open'),\n",
              "            ('WELL',      'High'),\n",
              "            ('WELL',       'Low'),\n",
              "            ('WELL',     'Close'),\n",
              "            ...\n",
              "            ('CHRW',       'Low'),\n",
              "            ('CHRW',     'Close'),\n",
              "            ('CHRW', 'Adj Close'),\n",
              "            ('CHRW',    'Volume'),\n",
              "            ( 'GWW',      'Open'),\n",
              "            ( 'GWW',      'High'),\n",
              "            ( 'GWW',       'Low'),\n",
              "            ( 'GWW',     'Close'),\n",
              "            ( 'GWW', 'Adj Close'),\n",
              "            ( 'GWW',    'Volume')],\n",
              "           length=1734)"
            ]
          },
          "metadata": {},
          "execution_count": 101
        }
      ]
    },
    {
      "cell_type": "markdown",
      "source": [
        "## 2-1. Exploring time series data and familiarizing with famous theories and libraries"
      ],
      "metadata": {
        "id": "8IjD8aADRmMA"
      }
    },
    {
      "cell_type": "markdown",
      "source": [
        "#### Question 1: If the null data was at the beginning, what methods can be used to solve this problem?"
      ],
      "metadata": {
        "id": "YtBlhzy_Ry1Y"
      }
    },
    {
      "cell_type": "markdown",
      "source": [
        "If we had null data at the beginning of a time series and we want to handle it, there are several methods we can consider:\n",
        "\n",
        "* Forward Fill (Pad): This method involves filling missing values with the last known value. This approach assumes that the future values will be similar to the most recent past values.\n",
        "` Raw_price_for_my_tickers.ffill(inplace=True) `\n",
        "\n",
        "* Backward Fill (Bfill): This method involves filling missing values with the next available value. Similar to forward fill, it assumes that the past values will be similar to the most recent future values.\n",
        "`Raw_price_for_my_tickers.bfill(inplace=True)`\n",
        "\n",
        "* Interpolation: Interpolation is a method where missing values are estimated based on the values around them. There are different interpolation methods available, such as linear interpolation, polynomial interpolation, etc.\n",
        "`Raw_price_for_my_tickers.interpolate(method='linear', inplace=True)`\n",
        "\n",
        "* Replace with a Constant: You can replace with cons values.\n",
        "`Raw_price_for_my_tickers.fillna(value=0, inplace=True)`"
      ],
      "metadata": {
        "id": "CSEsKzxER7G_"
      }
    },
    {
      "cell_type": "markdown",
      "source": [
        "#### Question 2: If we have null value data in the middle or at the end of the time series, how do we solve it?"
      ],
      "metadata": {
        "id": "KlazStZMTe2H"
      }
    },
    {
      "cell_type": "markdown",
      "source": [
        "\n",
        "If we have null values in the middle or at the end of a time series, we can use similar methods to handle the missing data. Here are some common approaches:\n",
        "\n",
        "There are several methods to handle missing values in time series data, including:\n",
        "\n",
        "* Interpolation: This method replaces missing values with estimates based on the values of surrounding time points. Common interpolation methods include linear interpolation and spline interpolation.\n",
        "\n",
        "* Extrapolation: This method extends the time series data beyond the existing data points by using mathematical models to estimate missing values.\n",
        "\n",
        "* Forward-fill and backward-fill: In forward-fill, missing values are filled in with the next available value. In backward-fill, missing values are filled in with the previous available value.\n",
        "\n",
        "* Last Observation Carried Forward (LOCF): This method replaces missing values with the last observed value.\n",
        "\n",
        "* Multiple imputation: This method uses statistical methods to generate multiple estimates for missing values and then combines the results to produce a single estimate."
      ],
      "metadata": {
        "id": "2UaGvYGBTnPX"
      }
    },
    {
      "cell_type": "code",
      "source": [
        "print(Raw_price_for_my_tickers.isna().sum())\n"
      ],
      "metadata": {
        "colab": {
          "base_uri": "https://localhost:8080/"
        },
        "id": "_CVi5_fUyHTP",
        "outputId": "9f9c4927-e122-483b-9f1f-70c45a46c671"
      },
      "execution_count": 102,
      "outputs": [
        {
          "output_type": "stream",
          "name": "stdout",
          "text": [
            "ECL  Open         0\n",
            "     High         0\n",
            "     Low          0\n",
            "     Close        0\n",
            "     Adj Close    0\n",
            "                 ..\n",
            "GWW  High         0\n",
            "     Low          0\n",
            "     Close        0\n",
            "     Adj Close    0\n",
            "     Volume       0\n",
            "Length: 1734, dtype: int64\n"
          ]
        }
      ]
    },
    {
      "cell_type": "markdown",
      "source": [
        "Of course, some of the weekdays might be public holidays in which case no price will be available. For this reason, we will fill the missing prices with the latest available prices"
      ],
      "metadata": {
        "id": "U9RO3y3g8Hnn"
      }
    },
    {
      "cell_type": "code",
      "source": [
        "Raw_price_for_my_tickers.fillna(method='bfill', inplace=True)\n",
        "Raw_price_for_my_tickers = Raw_price_for_my_tickers.fillna(method='bfill')\n",
        "print(Raw_price_for_my_tickers.isna().sum())\n"
      ],
      "metadata": {
        "colab": {
          "base_uri": "https://localhost:8080/"
        },
        "id": "yqB03LPwUwKd",
        "outputId": "9fbba275-3b9b-41fa-9fd7-55404cb7213e"
      },
      "execution_count": 103,
      "outputs": [
        {
          "output_type": "stream",
          "name": "stdout",
          "text": [
            "ECL  Open         0\n",
            "     High         0\n",
            "     Low          0\n",
            "     Close        0\n",
            "     Adj Close    0\n",
            "                 ..\n",
            "GWW  High         0\n",
            "     Low          0\n",
            "     Close        0\n",
            "     Adj Close    0\n",
            "     Volume       0\n",
            "Length: 1734, dtype: int64\n"
          ]
        }
      ]
    },
    {
      "cell_type": "code",
      "source": [
        "plt.figure(figsize=(10, 6))\n",
        "( Raw_price_for_my_tickers['WYNN']['Close'].pct_change()).hist(bins=30)\n",
        "plt.title('Histogram of Daily Returns for WYNN Stock')\n",
        "plt.xlabel('Daily Returns')\n",
        "plt.ylabel('Frequency')\n",
        "plt.show()"
      ],
      "metadata": {
        "colab": {
          "base_uri": "https://localhost:8080/",
          "height": 566
        },
        "id": "3kJKv9Io2XYL",
        "outputId": "9e9c35c3-7abd-43f4-bc6a-2109a61701fe"
      },
      "execution_count": 104,
      "outputs": [
        {
          "output_type": "display_data",
          "data": {
            "text/plain": [
              "<Figure size 1000x600 with 1 Axes>"
            ],
            "image/png": "[encoded data removed]"
          },
          "metadata": {}
        }
      ]
    },
    {
      "cell_type": "markdown",
      "source": [
        "According to the Random walks theory, prediction of next days stock closing price is not dependent to anything and it can goes up or down. Based on out plots we can see that if we relay on the previos day for out prediction and getting the trend downward or upward from the charts trend we can get high accuraccy because of the semi-normal values.\n",
        "\n",
        "\n",
        "\n",
        "So in the marketing data if we look too backward we might get incorrect data and it is better to look a few days before what day we want to predict."
      ],
      "metadata": {
        "id": "S9tFfrz58gDe"
      }
    },
    {
      "cell_type": "code",
      "source": [
        "wynn_data = Raw_price_for_my_tickers['WYNN']\n",
        "wynn_data_november = wynn_data['2022-11-01':'2022-11-30']\n",
        "\n",
        "mpf.plot(wynn_data_november, type='candle')\n"
      ],
      "metadata": {
        "colab": {
          "base_uri": "https://localhost:8080/",
          "height": 492
        },
        "id": "gokXr1wY-Cy1",
        "outputId": "9fc6253e-adc9-48e8-fa91-c16b55379906"
      },
      "execution_count": 106,
      "outputs": [
        {
          "output_type": "display_data",
          "data": {
            "text/plain": [
              "<Figure size 800x575 with 2 Axes>"
            ],
            "image/png": "[encoded data removed]"
          },
          "metadata": {}
        }
      ]
    },
    {
      "cell_type": "markdown",
      "source": [
        "## 3-1. TimeSeriesSplit"
      ],
      "metadata": {
        "id": "Hyl5OVILEWaQ"
      }
    },
    {
      "cell_type": "markdown",
      "source": [
        "here we only keep:\n",
        "selected_tickers = ['AMZN', 'MSFT', 'AAPL', 'META', 'GOOGL']\n"
      ],
      "metadata": {
        "id": "aOUFE_m7FWn-"
      }
    },
    {
      "cell_type": "code",
      "source": [
        "selected_tickers = ['AMZN', 'MSFT', 'AAPL','META','GOOGL']\n",
        "data_full_scaled_sp500 = yf.download(selected_tickers, start=\"2010-01-04\", interval=\"1d\", group_by=\"ticker\")\n",
        "data_full_scaled_sp500_cleaned = data_full_scaled_sp500.dropna()\n",
        "data_full_scaled_sp500_cleaned"
      ],
      "metadata": {
        "colab": {
          "base_uri": "https://localhost:8080/",
          "height": 715
        },
        "id": "ToMYe_IiE49u",
        "outputId": "406075c4-18a9-41a9-eeb4-948eca625255"
      },
      "execution_count": 107,
      "outputs": [
        {
          "output_type": "stream",
          "name": "stdout",
          "text": [
            "[*********************100%%**********************]  5 of 5 completed\n"
          ]
        },
        {
          "output_type": "execute_result",
          "data": {
            "text/plain": [
              "                  META                                                  \\\n",
              "                  Open        High         Low       Close   Adj Close   \n",
              "Date                                                                     \n",
              "2012-05-18   42.049999   45.000000   38.000000   38.230000   38.230000   \n",
              "2012-05-21   36.529999   36.660000   33.000000   34.029999   34.029999   \n",
              "2012-05-22   32.610001   33.590000   30.940001   31.000000   31.000000   \n",
              "2012-05-23   31.370001   32.500000   31.360001   32.000000   32.000000   \n",
              "2012-05-24   32.950001   33.209999   31.770000   33.029999   33.029999   \n",
              "...                ...         ...         ...         ...         ...   \n",
              "2023-12-15  331.989990  338.660004  331.220001  334.920013  334.920013   \n",
              "2023-12-18  337.480011  347.559998  337.019989  344.619995  344.619995   \n",
              "2023-12-19  345.579987  353.600006  345.119995  350.359985  350.359985   \n",
              "2023-12-20  348.649994  354.959991  347.790009  349.279999  349.279999   \n",
              "2023-12-21  352.980011  356.410004  349.209991  354.089996  354.089996   \n",
              "\n",
              "                               MSFT                                      ...  \\\n",
              "                 Volume        Open        High         Low       Close  ...   \n",
              "Date                                                                     ...   \n",
              "2012-05-18  573576400.0   29.790001   29.809999   29.170000   29.270000  ...   \n",
              "2012-05-21  168192700.0   29.100000   29.790001   29.059999   29.750000  ...   \n",
              "2012-05-22  101786600.0   29.690001   29.879999   29.500000   29.760000  ...   \n",
              "2012-05-23   73600000.0   29.350000   29.400000   28.639999   29.110001  ...   \n",
              "2012-05-24   50237200.0   29.160000   29.299999   28.760000   29.070000  ...   \n",
              "...                 ...         ...         ...         ...         ...  ...   \n",
              "2023-12-15   30001600.0  366.850006  372.399994  366.279999  370.730011  ...   \n",
              "2023-12-18   18993900.0  369.450012  373.000000  368.679993  372.649994  ...   \n",
              "2023-12-19   17729400.0  371.489990  373.260010  369.839996  373.260010  ...   \n",
              "2023-12-20   16369900.0  375.000000  376.029999  370.529999  370.619995  ...   \n",
              "2023-12-21   15269500.0  372.559998  374.410004  370.040009  373.540009  ...   \n",
              "\n",
              "                  AAPL                                          GOOGL  \\\n",
              "                   Low       Close   Adj Close     Volume        Open   \n",
              "Date                                                                    \n",
              "2012-05-18   18.649286   18.942142   16.056877  732292400   15.643143   \n",
              "2012-05-21   19.073214   20.045713   16.992344  631106000   15.027778   \n",
              "2012-05-22   19.735001   19.891787   16.861868  694870400   15.351351   \n",
              "2012-05-23   19.758215   20.377144   17.273294  584897600   15.056306   \n",
              "2012-05-24   20.043928   20.190001   17.114658  496230000   15.244244   \n",
              "...                ...         ...         ...        ...         ...   \n",
              "2023-12-15  197.000000  197.570007  197.570007  128256700  131.619995   \n",
              "2023-12-18  194.389999  195.889999  195.889999   55751900  132.630005   \n",
              "2023-12-19  195.889999  196.940002  196.940002   40714100  136.839996   \n",
              "2023-12-20  194.830002  194.830002  194.830002   52242800  138.970001   \n",
              "2023-12-21  193.500000  194.679993  194.679993   46432100  139.490005   \n",
              "\n",
              "                                                                       \n",
              "                  High         Low       Close   Adj Close     Volume  \n",
              "Date                                                                   \n",
              "2012-05-18   15.826326   14.932432   15.025025   15.025025  238701060  \n",
              "2012-05-21   15.407658   15.015015   15.368118   15.368118  122892984  \n",
              "2012-05-22   15.360611   14.914915   15.035035   15.035035  121953924  \n",
              "2012-05-23   15.255255   14.942943   15.251752   15.251752  126996876  \n",
              "2012-05-24   15.313313   14.986737   15.106607   15.106607   75576348  \n",
              "...                ...         ...         ...         ...        ...  \n",
              "2023-12-15  133.509995  131.179993  132.600006  132.600006   50815200  \n",
              "2023-12-18  137.149994  132.429993  135.800003  135.800003   32258000  \n",
              "2023-12-19  137.470001  136.080002  136.649994  136.649994   25476800  \n",
              "2023-12-20  141.699997  138.070007  138.339996  138.339996   49107200  \n",
              "2023-12-21  140.690002  139.179993  140.419998  140.419998   27465700  \n",
              "\n",
              "[2918 rows x 30 columns]"
            ],
            "text/html": [
              "\n",
              "  <div id=\"df-bc5811c5-9fc3-4a89-ba16-9c8f6d84334d\" class=\"colab-df-container\">\n",
              "    <div>\n",
              "<style scoped>\n",
              "    .dataframe tbody tr th:only-of-type {\n",
              "        vertical-align: middle;\n",
              "    }\n",
              "\n",
              "    .dataframe tbody tr th {\n",
              "        vertical-align: top;\n",
              "    }\n",
              "\n",
              "    .dataframe thead tr th {\n",
              "        text-align: left;\n",
              "    }\n",
              "\n",
              "    .dataframe thead tr:last-of-type th {\n",
              "        text-align: right;\n",
              "    }\n",
              "</style>\n",
              "<table border=\"1\" class=\"dataframe\">\n",
              "  <thead>\n",
              "    <tr>\n",
              "      <th></th>\n",
              "      <th colspan=\"6\" halign=\"left\">META</th>\n",
              "      <th colspan=\"4\" halign=\"left\">MSFT</th>\n",
              "      <th>...</th>\n",
              "      <th colspan=\"4\" halign=\"left\">AAPL</th>\n",
              "      <th colspan=\"6\" halign=\"left\">GOOGL</th>\n",
              "    </tr>\n",
              "    <tr>\n",
              "      <th></th>\n",
              "      <th>Open</th>\n",
              "      <th>High</th>\n",
              "      <th>Low</th>\n",
              "      <th>Close</th>\n",
              "      <th>Adj Close</th>\n",
              "      <th>Volume</th>\n",
              "      <th>Open</th>\n",
              "      <th>High</th>\n",
              "      <th>Low</th>\n",
              "      <th>Close</th>\n",
              "      <th>...</th>\n",
              "      <th>Low</th>\n",
              "      <th>Close</th>\n",
              "      <th>Adj Close</th>\n",
              "      <th>Volume</th>\n",
              "      <th>Open</th>\n",
              "      <th>High</th>\n",
              "      <th>Low</th>\n",
              "      <th>Close</th>\n",
              "      <th>Adj Close</th>\n",
              "      <th>Volume</th>\n",
              "    </tr>\n",
              "    <tr>\n",
              "      <th>Date</th>\n",
              "      <th></th>\n",
              "      <th></th>\n",
              "      <th></th>\n",
              "      <th></th>\n",
              "      <th></th>\n",
              "      <th></th>\n",
              "      <th></th>\n",
              "      <th></th>\n",
              "      <th></th>\n",
              "      <th></th>\n",
              "      <th></th>\n",
              "      <th></th>\n",
              "      <th></th>\n",
              "      <th></th>\n",
              "      <th></th>\n",
              "      <th></th>\n",
              "      <th></th>\n",
              "      <th></th>\n",
              "      <th></th>\n",
              "      <th></th>\n",
              "      <th></th>\n",
              "    </tr>\n",
              "  </thead>\n",
              "  <tbody>\n",
              "    <tr>\n",
              "      <th>2012-05-18</th>\n",
              "      <td>42.049999</td>\n",
              "      <td>45.000000</td>\n",
              "      <td>38.000000</td>\n",
              "      <td>38.230000</td>\n",
              "      <td>38.230000</td>\n",
              "      <td>573576400.0</td>\n",
              "      <td>29.790001</td>\n",
              "      <td>29.809999</td>\n",
              "      <td>29.170000</td>\n",
              "      <td>29.270000</td>\n",
              "      <td>...</td>\n",
              "      <td>18.649286</td>\n",
              "      <td>18.942142</td>\n",
              "      <td>16.056877</td>\n",
              "      <td>732292400</td>\n",
              "      <td>15.643143</td>\n",
              "      <td>15.826326</td>\n",
              "      <td>14.932432</td>\n",
              "      <td>15.025025</td>\n",
              "      <td>15.025025</td>\n",
              "      <td>238701060</td>\n",
              "    </tr>\n",
              "    <tr>\n",
              "      <th>2012-05-21</th>\n",
              "      <td>36.529999</td>\n",
              "      <td>36.660000</td>\n",
              "      <td>33.000000</td>\n",
              "      <td>34.029999</td>\n",
              "      <td>34.029999</td>\n",
              "      <td>168192700.0</td>\n",
              "      <td>29.100000</td>\n",
              "      <td>29.790001</td>\n",
              "      <td>29.059999</td>\n",
              "      <td>29.750000</td>\n",
              "      <td>...</td>\n",
              "      <td>19.073214</td>\n",
              "      <td>20.045713</td>\n",
              "      <td>16.992344</td>\n",
              "      <td>631106000</td>\n",
              "      <td>15.027778</td>\n",
              "      <td>15.407658</td>\n",
              "      <td>15.015015</td>\n",
              "      <td>15.368118</td>\n",
              "      <td>15.368118</td>\n",
              "      <td>122892984</td>\n",
              "    </tr>\n",
              "    <tr>\n",
              "      <th>2012-05-22</th>\n",
              "      <td>32.610001</td>\n",
              "      <td>33.590000</td>\n",
              "      <td>30.940001</td>\n",
              "      <td>31.000000</td>\n",
              "      <td>31.000000</td>\n",
              "      <td>101786600.0</td>\n",
              "      <td>29.690001</td>\n",
              "      <td>29.879999</td>\n",
              "      <td>29.500000</td>\n",
              "      <td>29.760000</td>\n",
              "      <td>...</td>\n",
              "      <td>19.735001</td>\n",
              "      <td>19.891787</td>\n",
              "      <td>16.861868</td>\n",
              "      <td>694870400</td>\n",
              "      <td>15.351351</td>\n",
              "      <td>15.360611</td>\n",
              "      <td>14.914915</td>\n",
              "      <td>15.035035</td>\n",
              "      <td>15.035035</td>\n",
              "      <td>121953924</td>\n",
              "    </tr>\n",
              "    <tr>\n",
              "      <th>2012-05-23</th>\n",
              "      <td>31.370001</td>\n",
              "      <td>32.500000</td>\n",
              "      <td>31.360001</td>\n",
              "      <td>32.000000</td>\n",
              "      <td>32.000000</td>\n",
              "      <td>73600000.0</td>\n",
              "      <td>29.350000</td>\n",
              "      <td>29.400000</td>\n",
              "      <td>28.639999</td>\n",
              "      <td>29.110001</td>\n",
              "      <td>...</td>\n",
              "      <td>19.758215</td>\n",
              "      <td>20.377144</td>\n",
              "      <td>17.273294</td>\n",
              "      <td>584897600</td>\n",
              "      <td>15.056306</td>\n",
              "      <td>15.255255</td>\n",
              "      <td>14.942943</td>\n",
              "      <td>15.251752</td>\n",
              "      <td>15.251752</td>\n",
              "      <td>126996876</td>\n",
              "    </tr>\n",
              "    <tr>\n",
              "      <th>2012-05-24</th>\n",
              "      <td>32.950001</td>\n",
              "      <td>33.209999</td>\n",
              "      <td>31.770000</td>\n",
              "      <td>33.029999</td>\n",
              "      <td>33.029999</td>\n",
              "      <td>50237200.0</td>\n",
              "      <td>29.160000</td>\n",
              "      <td>29.299999</td>\n",
              "      <td>28.760000</td>\n",
              "      <td>29.070000</td>\n",
              "      <td>...</td>\n",
              "      <td>20.043928</td>\n",
              "      <td>20.190001</td>\n",
              "      <td>17.114658</td>\n",
              "      <td>496230000</td>\n",
              "      <td>15.244244</td>\n",
              "      <td>15.313313</td>\n",
              "      <td>14.986737</td>\n",
              "      <td>15.106607</td>\n",
              "      <td>15.106607</td>\n",
              "      <td>75576348</td>\n",
              "    </tr>\n",
              "    <tr>\n",
              "      <th>...</th>\n",
              "      <td>...</td>\n",
              "      <td>...</td>\n",
              "      <td>...</td>\n",
              "      <td>...</td>\n",
              "      <td>...</td>\n",
              "      <td>...</td>\n",
              "      <td>...</td>\n",
              "      <td>...</td>\n",
              "      <td>...</td>\n",
              "      <td>...</td>\n",
              "      <td>...</td>\n",
              "      <td>...</td>\n",
              "      <td>...</td>\n",
              "      <td>...</td>\n",
              "      <td>...</td>\n",
              "      <td>...</td>\n",
              "      <td>...</td>\n",
              "      <td>...</td>\n",
              "      <td>...</td>\n",
              "      <td>...</td>\n",
              "      <td>...</td>\n",
              "    </tr>\n",
              "    <tr>\n",
              "      <th>2023-12-15</th>\n",
              "      <td>331.989990</td>\n",
              "      <td>338.660004</td>\n",
              "      <td>331.220001</td>\n",
              "      <td>334.920013</td>\n",
              "      <td>334.920013</td>\n",
              "      <td>30001600.0</td>\n",
              "      <td>366.850006</td>\n",
              "      <td>372.399994</td>\n",
              "      <td>366.279999</td>\n",
              "      <td>370.730011</td>\n",
              "      <td>...</td>\n",
              "      <td>197.000000</td>\n",
              "      <td>197.570007</td>\n",
              "      <td>197.570007</td>\n",
              "      <td>128256700</td>\n",
              "      <td>131.619995</td>\n",
              "      <td>133.509995</td>\n",
              "      <td>131.179993</td>\n",
              "      <td>132.600006</td>\n",
              "      <td>132.600006</td>\n",
              "      <td>50815200</td>\n",
              "    </tr>\n",
              "    <tr>\n",
              "      <th>2023-12-18</th>\n",
              "      <td>337.480011</td>\n",
              "      <td>347.559998</td>\n",
              "      <td>337.019989</td>\n",
              "      <td>344.619995</td>\n",
              "      <td>344.619995</td>\n",
              "      <td>18993900.0</td>\n",
              "      <td>369.450012</td>\n",
              "      <td>373.000000</td>\n",
              "      <td>368.679993</td>\n",
              "      <td>372.649994</td>\n",
              "      <td>...</td>\n",
              "      <td>194.389999</td>\n",
              "      <td>195.889999</td>\n",
              "      <td>195.889999</td>\n",
              "      <td>55751900</td>\n",
              "      <td>132.630005</td>\n",
              "      <td>137.149994</td>\n",
              "      <td>132.429993</td>\n",
              "      <td>135.800003</td>\n",
              "      <td>135.800003</td>\n",
              "      <td>32258000</td>\n",
              "    </tr>\n",
              "    <tr>\n",
              "      <th>2023-12-19</th>\n",
              "      <td>345.579987</td>\n",
              "      <td>353.600006</td>\n",
              "      <td>345.119995</td>\n",
              "      <td>350.359985</td>\n",
              "      <td>350.359985</td>\n",
              "      <td>17729400.0</td>\n",
              "      <td>371.489990</td>\n",
              "      <td>373.260010</td>\n",
              "      <td>369.839996</td>\n",
              "      <td>373.260010</td>\n",
              "      <td>...</td>\n",
              "      <td>195.889999</td>\n",
              "      <td>196.940002</td>\n",
              "      <td>196.940002</td>\n",
              "      <td>40714100</td>\n",
              "      <td>136.839996</td>\n",
              "      <td>137.470001</td>\n",
              "      <td>136.080002</td>\n",
              "      <td>136.649994</td>\n",
              "      <td>136.649994</td>\n",
              "      <td>25476800</td>\n",
              "    </tr>\n",
              "    <tr>\n",
              "      <th>2023-12-20</th>\n",
              "      <td>348.649994</td>\n",
              "      <td>354.959991</td>\n",
              "      <td>347.790009</td>\n",
              "      <td>349.279999</td>\n",
              "      <td>349.279999</td>\n",
              "      <td>16369900.0</td>\n",
              "      <td>375.000000</td>\n",
              "      <td>376.029999</td>\n",
              "      <td>370.529999</td>\n",
              "      <td>370.619995</td>\n",
              "      <td>...</td>\n",
              "      <td>194.830002</td>\n",
              "      <td>194.830002</td>\n",
              "      <td>194.830002</td>\n",
              "      <td>52242800</td>\n",
              "      <td>138.970001</td>\n",
              "      <td>141.699997</td>\n",
              "      <td>138.070007</td>\n",
              "      <td>138.339996</td>\n",
              "      <td>138.339996</td>\n",
              "      <td>49107200</td>\n",
              "    </tr>\n",
              "    <tr>\n",
              "      <th>2023-12-21</th>\n",
              "      <td>352.980011</td>\n",
              "      <td>356.410004</td>\n",
              "      <td>349.209991</td>\n",
              "      <td>354.089996</td>\n",
              "      <td>354.089996</td>\n",
              "      <td>15269500.0</td>\n",
              "      <td>372.559998</td>\n",
              "      <td>374.410004</td>\n",
              "      <td>370.040009</td>\n",
              "      <td>373.540009</td>\n",
              "      <td>...</td>\n",
              "      <td>193.500000</td>\n",
              "      <td>194.679993</td>\n",
              "      <td>194.679993</td>\n",
              "      <td>46432100</td>\n",
              "      <td>139.490005</td>\n",
              "      <td>140.690002</td>\n",
              "      <td>139.179993</td>\n",
              "      <td>140.419998</td>\n",
              "      <td>140.419998</td>\n",
              "      <td>27465700</td>\n",
              "    </tr>\n",
              "  </tbody>\n",
              "</table>\n",
              "<p>2918 rows × 30 columns</p>\n",
              "</div>\n",
              "    <div class=\"colab-df-buttons\">\n",
              "\n",
              "  <div class=\"colab-df-container\">\n",
              "    <button class=\"colab-df-convert\" onclick=\"convertToInteractive('df-bc5811c5-9fc3-4a89-ba16-9c8f6d84334d')\"\n",
              "            title=\"Convert this dataframe to an interactive table.\"\n",
              "            style=\"display:none;\">\n",
              "\n",
              "  <svg xmlns=\"http://www.w3.org/2000/svg\" height=\"24px\" viewBox=\"0 -960 960 960\">\n",
              "    <path d=\"M120-120v-720h720v720H120Zm60-500h600v-160H180v160Zm220 220h160v-160H400v160Zm0 220h160v-160H400v160ZM180-400h160v-160H180v160Zm440 0h160v-160H620v160ZM180-180h160v-160H180v160Zm440 0h160v-160H620v160Z\"/>\n",
              "  </svg>\n",
              "    </button>\n",
              "\n",
              "  <style>\n",
              "    .colab-df-container {\n",
              "      display:flex;\n",
              "      gap: 12px;\n",
              "    }\n",
              "\n",
              "    .colab-df-convert {\n",
              "      background-color: #E8F0FE;\n",
              "      border: none;\n",
              "      border-radius: 50%;\n",
              "      cursor: pointer;\n",
              "      display: none;\n",
              "      fill: #1967D2;\n",
              "      height: 32px;\n",
              "      padding: 0 0 0 0;\n",
              "      width: 32px;\n",
              "    }\n",
              "\n",
              "    .colab-df-convert:hover {\n",
              "      background-color: #E2EBFA;\n",
              "      box-shadow: 0px 1px 2px rgba(60, 64, 67, 0.3), 0px 1px 3px 1px rgba(60, 64, 67, 0.15);\n",
              "      fill: #174EA6;\n",
              "    }\n",
              "\n",
              "    .colab-df-buttons div {\n",
              "      margin-bottom: 4px;\n",
              "    }\n",
              "\n",
              "    [theme=dark] .colab-df-convert {\n",
              "      background-color: #3B4455;\n",
              "      fill: #D2E3FC;\n",
              "    }\n",
              "\n",
              "    [theme=dark] .colab-df-convert:hover {\n",
              "      background-color: #434B5C;\n",
              "      box-shadow: 0px 1px 3px 1px rgba(0, 0, 0, 0.15);\n",
              "      filter: drop-shadow(0px 1px 2px rgba(0, 0, 0, 0.3));\n",
              "      fill: #FFFFFF;\n",
              "    }\n",
              "  </style>\n",
              "\n",
              "    <script>\n",
              "      const buttonEl =\n",
              "        document.querySelector('#df-bc5811c5-9fc3-4a89-ba16-9c8f6d84334d button.colab-df-convert');\n",
              "      buttonEl.style.display =\n",
              "        google.colab.kernel.accessAllowed ? 'block' : 'none';\n",
              "\n",
              "      async function convertToInteractive(key) {\n",
              "        const element = document.querySelector('#df-bc5811c5-9fc3-4a89-ba16-9c8f6d84334d');\n",
              "        const dataTable =\n",
              "          await google.colab.kernel.invokeFunction('convertToInteractive',\n",
              "                                                    [key], {});\n",
              "        if (!dataTable) return;\n",
              "\n",
              "        const docLinkHtml = 'Like what you see? Visit the ' +\n",
              "          '<a target=\"_blank\" href=https://colab.research.google.com/notebooks/data_table.ipynb>data table notebook</a>'\n",
              "          + ' to learn more about interactive tables.';\n",
              "        element.innerHTML = '';\n",
              "        dataTable['output_type'] = 'display_data';\n",
              "        await google.colab.output.renderOutput(dataTable, element);\n",
              "        const docLink = document.createElement('div');\n",
              "        docLink.innerHTML = docLinkHtml;\n",
              "        element.appendChild(docLink);\n",
              "      }\n",
              "    </script>\n",
              "  </div>\n",
              "\n",
              "\n",
              "<div id=\"df-44c8ceab-20e2-4254-bac5-e090f52d49cb\">\n",
              "  <button class=\"colab-df-quickchart\" onclick=\"quickchart('df-44c8ceab-20e2-4254-bac5-e090f52d49cb')\"\n",
              "            title=\"Suggest charts\"\n",
              "            style=\"display:none;\">\n",
              "\n",
              "<svg xmlns=\"http://www.w3.org/2000/svg\" height=\"24px\"viewBox=\"0 0 24 24\"\n",
              "     width=\"24px\">\n",
              "    <g>\n",
              "        <path d=\"M19 3H5c-1.1 0-2 .9-2 2v14c0 1.1.9 2 2 2h14c1.1 0 2-.9 2-2V5c0-1.1-.9-2-2-2zM9 17H7v-7h2v7zm4 0h-2V7h2v10zm4 0h-2v-4h2v4z\"/>\n",
              "    </g>\n",
              "</svg>\n",
              "  </button>\n",
              "\n",
              "<style>\n",
              "  .colab-df-quickchart {\n",
              "      --bg-color: #E8F0FE;\n",
              "      --fill-color: #1967D2;\n",
              "      --hover-bg-color: #E2EBFA;\n",
              "      --hover-fill-color: #174EA6;\n",
              "      --disabled-fill-color: #AAA;\n",
              "      --disabled-bg-color: #DDD;\n",
              "  }\n",
              "\n",
              "  [theme=dark] .colab-df-quickchart {\n",
              "      --bg-color: #3B4455;\n",
              "      --fill-color: #D2E3FC;\n",
              "      --hover-bg-color: #434B5C;\n",
              "      --hover-fill-color: #FFFFFF;\n",
              "      --disabled-bg-color: #3B4455;\n",
              "      --disabled-fill-color: #666;\n",
              "  }\n",
              "\n",
              "  .colab-df-quickchart {\n",
              "    background-color: var(--bg-color);\n",
              "    border: none;\n",
              "    border-radius: 50%;\n",
              "    cursor: pointer;\n",
              "    display: none;\n",
              "    fill: var(--fill-color);\n",
              "    height: 32px;\n",
              "    padding: 0;\n",
              "    width: 32px;\n",
              "  }\n",
              "\n",
              "  .colab-df-quickchart:hover {\n",
              "    background-color: var(--hover-bg-color);\n",
              "    box-shadow: 0 1px 2px rgba(60, 64, 67, 0.3), 0 1px 3px 1px rgba(60, 64, 67, 0.15);\n",
              "    fill: var(--button-hover-fill-color);\n",
              "  }\n",
              "\n",
              "  .colab-df-quickchart-complete:disabled,\n",
              "  .colab-df-quickchart-complete:disabled:hover {\n",
              "    background-color: var(--disabled-bg-color);\n",
              "    fill: var(--disabled-fill-color);\n",
              "    box-shadow: none;\n",
              "  }\n",
              "\n",
              "  .colab-df-spinner {\n",
              "    border: 2px solid var(--fill-color);\n",
              "    border-color: transparent;\n",
              "    border-bottom-color: var(--fill-color);\n",
              "    animation:\n",
              "      spin 1s steps(1) infinite;\n",
              "  }\n",
              "\n",
              "  @keyframes spin {\n",
              "    0% {\n",
              "      border-color: transparent;\n",
              "      border-bottom-color: var(--fill-color);\n",
              "      border-left-color: var(--fill-color);\n",
              "    }\n",
              "    20% {\n",
              "      border-color: transparent;\n",
              "      border-left-color: var(--fill-color);\n",
              "      border-top-color: var(--fill-color);\n",
              "    }\n",
              "    30% {\n",
              "      border-color: transparent;\n",
              "      border-left-color: var(--fill-color);\n",
              "      border-top-color: var(--fill-color);\n",
              "      border-right-color: var(--fill-color);\n",
              "    }\n",
              "    40% {\n",
              "      border-color: transparent;\n",
              "      border-right-color: var(--fill-color);\n",
              "      border-top-color: var(--fill-color);\n",
              "    }\n",
              "    60% {\n",
              "      border-color: transparent;\n",
              "      border-right-color: var(--fill-color);\n",
              "    }\n",
              "    80% {\n",
              "      border-color: transparent;\n",
              "      border-right-color: var(--fill-color);\n",
              "      border-bottom-color: var(--fill-color);\n",
              "    }\n",
              "    90% {\n",
              "      border-color: transparent;\n",
              "      border-bottom-color: var(--fill-color);\n",
              "    }\n",
              "  }\n",
              "</style>\n",
              "\n",
              "  <script>\n",
              "    async function quickchart(key) {\n",
              "      const quickchartButtonEl =\n",
              "        document.querySelector('#' + key + ' button');\n",
              "      quickchartButtonEl.disabled = true;  // To prevent multiple clicks.\n",
              "      quickchartButtonEl.classList.add('colab-df-spinner');\n",
              "      try {\n",
              "        const charts = await google.colab.kernel.invokeFunction(\n",
              "            'suggestCharts', [key], {});\n",
              "      } catch (error) {\n",
              "        console.error('Error during call to suggestCharts:', error);\n",
              "      }\n",
              "      quickchartButtonEl.classList.remove('colab-df-spinner');\n",
              "      quickchartButtonEl.classList.add('colab-df-quickchart-complete');\n",
              "    }\n",
              "    (() => {\n",
              "      let quickchartButtonEl =\n",
              "        document.querySelector('#df-44c8ceab-20e2-4254-bac5-e090f52d49cb button');\n",
              "      quickchartButtonEl.style.display =\n",
              "        google.colab.kernel.accessAllowed ? 'block' : 'none';\n",
              "    })();\n",
              "  </script>\n",
              "</div>\n",
              "    </div>\n",
              "  </div>\n"
            ]
          },
          "metadata": {},
          "execution_count": 107
        }
      ]
    },
    {
      "cell_type": "markdown",
      "source": [
        "Here in time series cross validation is not possible as before:\n",
        "\n",
        "https://medium.com/@soumyachess1496/cross-validation-in-time-series-566ae4981ce4\n",
        "\n",
        "The method that can be used for cross-validating the time-series model is cross-validation on a rolling basis. Start with a small subset of data for training purpose, forecast for the later data points and then checking the accuracy for the forecasted data points. The same forecasted data points are then included as part of the next training dataset and subsequent data points are forecasted.\n",
        "\n",
        "The idea of cross-validation should be more straightforward to grasp when we look at an example. Imagine that we have only 5 observations in our cross-validation set and we want to perform 4-fold cross-validation.\n",
        "\n",
        "Here is the dataset: [1, 2, 3, 4, 5]\n",
        "\n",
        "There is only one way to generate such pairs from my dataset. As a result, I get 4 pairs of training/test sets:\n",
        "\n",
        "- Training: [1] Test: [2]\n",
        "\n",
        "- Training: [1, 2] Test: [3]\n",
        "\n",
        "- Training: [1, 2, 3] Test: [4]\n",
        "\n",
        "- Training: [1, 2, 3, 4] Test: [5]\n",
        "\n",
        "Compute the average of the accuracies of the 4 test fold."
      ],
      "metadata": {
        "id": "Zcv7XjpuTyKq"
      }
    },
    {
      "cell_type": "code",
      "source": [
        "cv_n_splits = 5\n",
        "tss = sklearn.model_selection.TimeSeriesSplit(n_splits = cv_n_splits )"
      ],
      "metadata": {
        "id": "Sec4yto0T2IM"
      },
      "execution_count": 108,
      "outputs": []
    },
    {
      "cell_type": "markdown",
      "source": [
        "## 4-1. Preparing input and output model"
      ],
      "metadata": {
        "id": "WeJr7T-zWWD-"
      }
    },
    {
      "cell_type": "markdown",
      "source": [
        "**The input of the model** is the data of previous days. This data can only include the price close of the last few days. Or it can include open, high, low, and volume data. To reduce dimensionality, usually only price close is used to train the model.\n",
        "\n",
        "**The output of the price model** is a specific day in the future (Horizon). For this exercise, you will only predict the next day's data"
      ],
      "metadata": {
        "id": "fTGkGCxVWsUf"
      }
    },
    {
      "cell_type": "code",
      "source": [
        "\n",
        "window_size = 5\n",
        "cv_n_splits = 5\n",
        "tss = sklearn.model_selection.TimeSeriesSplit(n_splits=cv_n_splits)\n",
        "\n",
        "x_tickers_sp500 = []\n",
        "y_tickers_sp500 = []\n",
        "\n",
        "x_scaler = StandardScaler()\n",
        "y_scaler = StandardScaler()\n",
        "\n",
        "# Loop through each ticker\n",
        "for ticker_name in selected_tickers:\n",
        "    X_time_series = []\n",
        "    Y_time_series = []\n",
        "\n",
        "    for i in range(window_size, len(data_full_scaled_sp500_cleaned[ticker_name])):\n",
        "      X_time_series.append( data_full_scaled_sp500_cleaned[ticker_name]['Close'][i-window_size:i])\n",
        "      Y_time_series.append( data_full_scaled_sp500_cleaned[ticker_name]['Close'][i])\n",
        "\n",
        "    X_time_series = np.array(X_time_series)\n",
        "    Y_time_series = np.array(Y_time_series)\n",
        "\n",
        "    x_tickers_sp500.append( X_time_series[(31 - window_size):])\n",
        "    y_tickers_sp500.append( Y_time_series[(31 - window_size):])\n",
        "\n",
        "\n"
      ],
      "metadata": {
        "id": "76dyQVEwI8gH"
      },
      "execution_count": 109,
      "outputs": []
    },
    {
      "cell_type": "code",
      "source": [
        "from sklearn.preprocessing import MinMaxScaler\n",
        "\n",
        "scaler = MinMaxScaler()\n",
        "x_tickers_sp500_normalized = [scaler.fit_transform(array) for array in x_tickers_sp500]\n",
        "y_tickers_sp500_normalized = [scaler.fit_transform(array.reshape(-1, 1)) for array in y_tickers_sp500]\n",
        "print(\"Length of y_tickers_sp500[0]:\", len(y_tickers_sp500_normalized[0]))\n",
        "print(\"Length of x_tickers_sp500[0]:\", len(x_tickers_sp500_normalized[0]))\n"
      ],
      "metadata": {
        "colab": {
          "base_uri": "https://localhost:8080/"
        },
        "id": "f4OOiXX6RIvY",
        "outputId": "c2f4bfe7-3e0e-45ff-ceb4-3faba0ebbd53"
      },
      "execution_count": 110,
      "outputs": [
        {
          "output_type": "stream",
          "name": "stdout",
          "text": [
            "Length of y_tickers_sp500[0]: 2887\n",
            "Length of x_tickers_sp500[0]: 2887\n"
          ]
        }
      ]
    },
    {
      "cell_type": "code",
      "source": [
        "print(len(x_tickers_sp500[0]))\n",
        "print(len(y_tickers_sp500[0]))\n"
      ],
      "metadata": {
        "colab": {
          "base_uri": "https://localhost:8080/"
        },
        "id": "nPzLV2mcN5OK",
        "outputId": "40d03726-6e16-4be7-9555-0c932b6bb0bb"
      },
      "execution_count": 111,
      "outputs": [
        {
          "output_type": "stream",
          "name": "stdout",
          "text": [
            "2887\n",
            "2887\n"
          ]
        }
      ]
    },
    {
      "cell_type": "markdown",
      "source": [
        "## 5-1. Neural network models with memory"
      ],
      "metadata": {
        "id": "9696AxduUQlX"
      }
    },
    {
      "cell_type": "code",
      "source": [
        "import random\n",
        "number_of_runs = 0\n",
        "seed_value = 2"
      ],
      "metadata": {
        "id": "FeTjUBoykO_r"
      },
      "execution_count": 112,
      "outputs": []
    },
    {
      "cell_type": "code",
      "source": [
        "for ticker_name in selected_tickers:\n",
        "  full_data = data_full_scaled_sp500_cleaned[ticker_name]\n",
        "  print(ticker_name , len(full_data))\n",
        "  #print(full_data['Close'][0])\n",
        "\n",
        "  # Time series split\n",
        "  for j, (train_index, test_index) in enumerate(tss.split(full_data)):\n",
        "\n",
        "    #Different seeds\n",
        "    for new_seed in range(5):\n",
        "#      seed_value = new_seed\n",
        "      random.seed(seed_value)\n",
        "      np.random.seed(seed_value)\n",
        "      tf.random.set_seed(seed_value)\n",
        "      keras.utils.set_random_seed(seed_value)\n",
        "\n",
        "      number_of_runs += 1\n",
        "\n",
        "      train_data = full_data['Close'][train_index]\n",
        "      test_data = full_data['Close'][test_index]"
      ],
      "metadata": {
        "colab": {
          "base_uri": "https://localhost:8080/"
        },
        "id": "6WYzaBxEu_1j",
        "outputId": "a9eaca7d-1503-4761-d215-22a7a4c5ae17"
      },
      "execution_count": 113,
      "outputs": [
        {
          "output_type": "stream",
          "name": "stdout",
          "text": [
            "AMZN 2918\n",
            "MSFT 2918\n",
            "AAPL 2918\n",
            "META 2918\n",
            "GOOGL 2918\n"
          ]
        }
      ]
    },
    {
      "cell_type": "code",
      "source": [
        "train_data.head()\n"
      ],
      "metadata": {
        "colab": {
          "base_uri": "https://localhost:8080/"
        },
        "id": "b9y-wFQgy5Pg",
        "outputId": "8989faec-d25b-47d7-bbc2-bc3d2d4675b7"
      },
      "execution_count": 114,
      "outputs": [
        {
          "output_type": "execute_result",
          "data": {
            "text/plain": [
              "Date\n",
              "2012-05-18    15.025025\n",
              "2012-05-21    15.368118\n",
              "2012-05-22    15.035035\n",
              "2012-05-23    15.251752\n",
              "2012-05-24    15.106607\n",
              "Name: Close, dtype: float64"
            ]
          },
          "metadata": {},
          "execution_count": 114
        }
      ]
    },
    {
      "cell_type": "code",
      "source": [
        "test_data.head()\n"
      ],
      "metadata": {
        "colab": {
          "base_uri": "https://localhost:8080/"
        },
        "id": "wLgw6demy7_5",
        "outputId": "d3d9af6a-6bd2-4004-a119-d31ecd744a75"
      },
      "execution_count": 115,
      "outputs": [
        {
          "output_type": "execute_result",
          "data": {
            "text/plain": [
              "Date\n",
              "2022-01-18    135.998001\n",
              "2022-01-19    135.116501\n",
              "2022-01-20    133.307495\n",
              "2022-01-21    130.351501\n",
              "2022-01-24    130.804001\n",
              "Name: Close, dtype: float64"
            ]
          },
          "metadata": {},
          "execution_count": 115
        }
      ]
    },
    {
      "cell_type": "code",
      "source": [
        "print(test_data.shape)\n",
        "print(len(x_tickers_sp500_normalized[0]))"
      ],
      "metadata": {
        "colab": {
          "base_uri": "https://localhost:8080/"
        },
        "id": "v_rKbgLFkLrc",
        "outputId": "ce4752ea-c798-4ed9-c3ef-ba8c44a0c96f"
      },
      "execution_count": 116,
      "outputs": [
        {
          "output_type": "stream",
          "name": "stdout",
          "text": [
            "(486,)\n",
            "2887\n"
          ]
        }
      ]
    },
    {
      "cell_type": "markdown",
      "source": [
        "### 5-1.1 LSTM model"
      ],
      "metadata": {
        "id": "6E9rxMoI4Dp1"
      }
    },
    {
      "cell_type": "code",
      "source": [
        "x_train = np.concatenate(x_tickers_sp500_normalized, axis=0)\n",
        "y_train = np.concatenate(y_tickers_sp500_normalized, axis=0)\n"
      ],
      "metadata": {
        "id": "cKdpW1Df_AvB"
      },
      "execution_count": 117,
      "outputs": []
    },
    {
      "cell_type": "code",
      "source": [
        "x_tickers_sp500_unscaled = [array for array in x_tickers_sp500]\n",
        "y_tickers_sp500_unscaled = [array.reshape(-1, 1) for array in y_tickers_sp500]\n",
        "x_train_unscaled = np.concatenate(x_tickers_sp500_unscaled, axis=0)\n",
        "y_train_unscaled = np.concatenate(y_tickers_sp500_unscaled, axis=0)\n",
        "\n",
        "x_train_unscaled = x_train_unscaled.reshape((x_train_unscaled.shape[0], x_train_unscaled.shape[1], 1))"
      ],
      "metadata": {
        "id": "bUpGKsayzm_8"
      },
      "execution_count": 118,
      "outputs": []
    },
    {
      "cell_type": "code",
      "source": [
        "x_train_unscaled.shape"
      ],
      "metadata": {
        "colab": {
          "base_uri": "https://localhost:8080/"
        },
        "id": "zWR67LKs0ITM",
        "outputId": "9cd17267-1c7b-48a3-829d-1e0329d917af"
      },
      "execution_count": 119,
      "outputs": [
        {
          "output_type": "execute_result",
          "data": {
            "text/plain": [
              "(14435, 5, 1)"
            ]
          },
          "metadata": {},
          "execution_count": 119
        }
      ]
    },
    {
      "cell_type": "code",
      "source": [
        "x_train.shape"
      ],
      "metadata": {
        "colab": {
          "base_uri": "https://localhost:8080/"
        },
        "id": "Dw0Os0nR7Rj7",
        "outputId": "dde8c5ca-e6ba-4802-91aa-2ef3da2b16d7"
      },
      "execution_count": 120,
      "outputs": [
        {
          "output_type": "execute_result",
          "data": {
            "text/plain": [
              "(14435, 5)"
            ]
          },
          "metadata": {},
          "execution_count": 120
        }
      ]
    },
    {
      "cell_type": "code",
      "source": [
        "x_train = x_train.reshape((x_train.shape[0], x_train.shape[1], 1))\n"
      ],
      "metadata": {
        "id": "XcPMltTk_THg"
      },
      "execution_count": 121,
      "outputs": []
    },
    {
      "cell_type": "code",
      "source": [
        "x_train.shape"
      ],
      "metadata": {
        "colab": {
          "base_uri": "https://localhost:8080/"
        },
        "id": "KWmyP5N4_WWK",
        "outputId": "789567fe-554e-43cd-95e8-c6913d8340e5"
      },
      "execution_count": 122,
      "outputs": [
        {
          "output_type": "execute_result",
          "data": {
            "text/plain": [
              "(14435, 5, 1)"
            ]
          },
          "metadata": {},
          "execution_count": 122
        }
      ]
    },
    {
      "cell_type": "code",
      "source": [
        "from tensorflow.keras.models import Sequential\n",
        "from tensorflow.keras.layers import LSTM, Dense\n",
        "from tensorflow.keras.layers import RepeatVector\n"
      ],
      "metadata": {
        "id": "_dfrg1GP8fES"
      },
      "execution_count": 123,
      "outputs": []
    },
    {
      "cell_type": "code",
      "source": [
        "input_shape = (x_train.shape[1], x_train.shape[2])"
      ],
      "metadata": {
        "id": "bEILZ3P08i4J"
      },
      "execution_count": 124,
      "outputs": []
    },
    {
      "cell_type": "code",
      "source": [
        "def plot_loss(history, model_name):\n",
        "  plt.plot(history.history['loss'])\n",
        "  plt.title(f'{model_name} Loss')\n",
        "  plt.xlabel('Epoch')\n",
        "  plt.ylabel('Loss')\n",
        "  plt.show()\n"
      ],
      "metadata": {
        "id": "NNN9jgBn59-v"
      },
      "execution_count": 125,
      "outputs": []
    },
    {
      "cell_type": "code",
      "source": [
        "def prediction(model):\n",
        "    prediction = model.predict(x_train)\n",
        "    # prediction = scaler.inverse_transform(prediction)\n",
        "    return prediction\n",
        "\n",
        "def evaluate_prediction(predictions, actual, model_name):\n",
        "    errors = predictions - actual\n",
        "    mse = np.square(errors).mean()\n",
        "    mae = np.abs(errors).mean()\n",
        "    # mape = np.mean(np.abs(errors / np.maximum(np.abs(actual), 1))) * 100\n",
        "    mask = actual != 0\n",
        "    mape = np.mean(np.abs(errors[mask] / np.maximum(np.abs(actual[mask]), 1))) * 100\n",
        "\n",
        "    print(model_name + ':')\n",
        "    print('Mean Square Error: {:.4f}'.format(mse))\n",
        "    print('Mean Absolute Error: {:.4f}'.format(mae))\n",
        "    print('Mean Absolute Percentage Error: {:.4f}%'.format(mape))\n",
        "    print('')\n"
      ],
      "metadata": {
        "id": "LNbqtjmt3eRa"
      },
      "execution_count": 126,
      "outputs": []
    },
    {
      "cell_type": "code",
      "source": [
        "input_shape_unscaled = (x_train_unscaled.shape[1], x_train_unscaled.shape[2])\n",
        "lstm_model_unscaled = Sequential()\n",
        "lstm_model_unscaled.add(LSTM(units=50, return_sequences = True, activation='tanh', input_shape=input_shape_unscaled))\n",
        "lstm_model_unscaled.add(LSTM(units=50, activation='tanh'))\n",
        "lstm_model_unscaled.add(Dense(units=1))\n",
        "\n",
        "lstm_model_unscaled.compile(optimizer='adam', loss='mse')\n",
        "\n",
        "lstm_history_unscaled = lstm_model_unscaled.fit(x_train_unscaled, y_train_unscaled, epochs=10, batch_size = 150)\n",
        "\n",
        "plot_loss(lstm_history_unscaled, 'LSTM_unscaled')\n"
      ],
      "metadata": {
        "colab": {
          "base_uri": "https://localhost:8080/",
          "height": 831
        },
        "id": "otpFOjryzLwb",
        "outputId": "397c9a24-8502-4665-e9f4-746050020660"
      },
      "execution_count": 127,
      "outputs": [
        {
          "output_type": "stream",
          "name": "stdout",
          "text": [
            "Epoch 1/10\n",
            "97/97 [==============================] - 4s 6ms/step - loss: 15188.1094\n",
            "Epoch 2/10\n",
            "97/97 [==============================] - 1s 6ms/step - loss: 13769.9238\n",
            "Epoch 3/10\n",
            "97/97 [==============================] - 1s 6ms/step - loss: 12932.0791\n",
            "Epoch 4/10\n",
            "97/97 [==============================] - 1s 6ms/step - loss: 12196.0508\n",
            "Epoch 5/10\n",
            "97/97 [==============================] - 1s 6ms/step - loss: 11537.2217\n",
            "Epoch 6/10\n",
            "97/97 [==============================] - 1s 6ms/step - loss: 10941.8965\n",
            "Epoch 7/10\n",
            "97/97 [==============================] - 1s 6ms/step - loss: 10327.1689\n",
            "Epoch 8/10\n",
            "97/97 [==============================] - 1s 6ms/step - loss: 9777.1025\n",
            "Epoch 9/10\n",
            "97/97 [==============================] - 1s 6ms/step - loss: 9264.7383\n",
            "Epoch 10/10\n",
            "97/97 [==============================] - 1s 6ms/step - loss: 8784.4238\n"
          ]
        },
        {
          "output_type": "display_data",
          "data": {
            "text/plain": [
              "<Figure size 640x480 with 1 Axes>"
            ],
            "image/png": "[encoded data removed]"
          },
          "metadata": {}
        }
      ]
    },
    {
      "cell_type": "code",
      "source": [
        "lstm_model = Sequential()\n",
        "lstm_model.add(LSTM(units=50, return_sequences = True, activation='tanh', input_shape=input_shape))\n",
        "lstm_model.add(LSTM(units=50, activation='tanh'))\n",
        "lstm_model.add(Dense(units=1))\n",
        "\n",
        "lstm_model.compile(optimizer='adam', loss='mse')\n",
        "\n",
        "lstm_history = lstm_model.fit(x_train, y_train, epochs=10, batch_size = 150)\n",
        "\n",
        "plot_loss(lstm_history, 'LSTM')\n",
        "\n",
        "lstm_history = lstm_model.fit(x_train_unscaled, y_train, epochs=10, batch_size = 150)\n",
        "\n",
        "plot_loss(lstm_history, 'LSTM')"
      ],
      "metadata": {
        "colab": {
          "base_uri": "https://localhost:8080/",
          "height": 1000
        },
        "id": "NXTyL9FJ2uRN",
        "outputId": "cd9d3803-f19f-478a-8b45-59761569d62d"
      },
      "execution_count": 128,
      "outputs": [
        {
          "output_type": "stream",
          "name": "stdout",
          "text": [
            "Epoch 1/10\n",
            "97/97 [==============================] - 4s 6ms/step - loss: 0.0188\n",
            "Epoch 2/10\n",
            "97/97 [==============================] - 1s 6ms/step - loss: 3.3953e-04\n",
            "Epoch 3/10\n",
            "97/97 [==============================] - 1s 6ms/step - loss: 2.7700e-04\n",
            "Epoch 4/10\n",
            "97/97 [==============================] - 1s 6ms/step - loss: 2.6447e-04\n",
            "Epoch 5/10\n",
            "97/97 [==============================] - 1s 6ms/step - loss: 2.6420e-04\n",
            "Epoch 6/10\n",
            "97/97 [==============================] - 1s 6ms/step - loss: 2.6079e-04\n",
            "Epoch 7/10\n",
            "97/97 [==============================] - 1s 6ms/step - loss: 2.5969e-04\n",
            "Epoch 8/10\n",
            "97/97 [==============================] - 1s 7ms/step - loss: 2.6371e-04\n",
            "Epoch 9/10\n",
            "97/97 [==============================] - 1s 8ms/step - loss: 2.6031e-04\n",
            "Epoch 10/10\n",
            "97/97 [==============================] - 1s 8ms/step - loss: 2.5589e-04\n"
          ]
        },
        {
          "output_type": "display_data",
          "data": {
            "text/plain": [
              "<Figure size 640x480 with 1 Axes>"
            ],
            "image/png": "[encoded data removed]"
          },
          "metadata": {}
        },
        {
          "output_type": "stream",
          "name": "stdout",
          "text": [
            "Epoch 1/10\n",
            "97/97 [==============================] - 1s 6ms/step - loss: 0.1848\n",
            "Epoch 2/10\n",
            "97/97 [==============================] - 1s 6ms/step - loss: 0.0202\n",
            "Epoch 3/10\n",
            "97/97 [==============================] - 1s 6ms/step - loss: 0.0197\n",
            "Epoch 4/10\n",
            "97/97 [==============================] - 1s 6ms/step - loss: 0.0195\n",
            "Epoch 5/10\n",
            "97/97 [==============================] - 1s 6ms/step - loss: 0.0196\n",
            "Epoch 6/10\n",
            "97/97 [==============================] - 1s 6ms/step - loss: 0.0195\n",
            "Epoch 7/10\n",
            "97/97 [==============================] - 1s 6ms/step - loss: 0.0196\n",
            "Epoch 8/10\n",
            "97/97 [==============================] - 1s 6ms/step - loss: 0.0194\n",
            "Epoch 9/10\n",
            "97/97 [==============================] - 1s 6ms/step - loss: 0.0194\n",
            "Epoch 10/10\n",
            "97/97 [==============================] - 1s 6ms/step - loss: 0.0195\n"
          ]
        },
        {
          "output_type": "display_data",
          "data": {
            "text/plain": [
              "<Figure size 640x480 with 1 Axes>"
            ],
            "image/png": "[encoded data removed]"
          },
          "metadata": {}
        }
      ]
    },
    {
      "cell_type": "markdown",
      "source": [
        "### 5-1.2 GRU model"
      ],
      "metadata": {
        "id": "7QLVrFIrCPn1"
      }
    },
    {
      "cell_type": "code",
      "source": [
        "from tensorflow.keras.layers import GRU, Dense, Dropout"
      ],
      "metadata": {
        "id": "jhvXtTqnCc5l"
      },
      "execution_count": 129,
      "outputs": []
    },
    {
      "cell_type": "code",
      "source": [
        "gru_model_unscaled = Sequential()\n",
        "gru_model_unscaled.add(GRU(units=50, return_sequences = True, activation='tanh', input_shape=input_shape_unscaled))\n",
        "gru_model_unscaled.add(GRU(units=50, activation='tanh'))\n",
        "gru_model_unscaled.add(Dense(units=1))\n",
        "\n",
        "gru_model_unscaled.compile(optimizer='adam', loss='mse')\n",
        "gru_history_unscaled = gru_model_unscaled.fit(x_train_unscaled, y_train_unscaled, epochs=10, batch_size = 150)\n",
        "\n",
        "plot_loss(gru_history_unscaled, 'GRU_unscaled')"
      ],
      "metadata": {
        "colab": {
          "base_uri": "https://localhost:8080/",
          "height": 831
        },
        "id": "0w4nrX-w3JQH",
        "outputId": "13f8d64f-e079-4f29-e888-fc1b048eb504"
      },
      "execution_count": 130,
      "outputs": [
        {
          "metadata": {
            "tags": null
          },
          "name": "stdout",
          "output_type": "stream",
          "text": [
            "Epoch 1/10\n",
            "97/97 [==============================] - 4s 5ms/step - loss: 14970.5576\n",
            "Epoch 2/10\n",
            "97/97 [==============================] - 1s 6ms/step - loss: 13699.1699\n",
            "Epoch 3/10\n",
            "97/97 [==============================] - 1s 5ms/step - loss: 12892.4111\n",
            "Epoch 4/10\n",
            "97/97 [==============================] - 1s 5ms/step - loss: 12172.3789\n",
            "Epoch 5/10\n",
            "97/97 [==============================] - 1s 5ms/step - loss: 11523.5156\n",
            "Epoch 6/10\n",
            "97/97 [==============================] - 1s 5ms/step - loss: 10917.5957\n",
            "Epoch 7/10\n",
            "97/97 [==============================] - 1s 6ms/step - loss: 10316.3496\n",
            "Epoch 8/10\n",
            "97/97 [==============================] - 1s 7ms/step - loss: 9771.8789\n",
            "Epoch 9/10\n",
            "97/97 [==============================] - 1s 8ms/step - loss: 9263.3994\n",
            "Epoch 10/10\n",
            "97/97 [==============================] - 1s 7ms/step - loss: 8786.0010\n"
          ]
        },
        {
          "data": {
            "image/png": "[encoded data removed]",
            "text/plain": [
              "<Figure size 640x480 with 1 Axes>"
            ]
          },
          "metadata": {},
          "output_type": "display_data"
        }
      ]
    },
    {
      "cell_type": "code",
      "source": [
        "gru_model = Sequential()\n",
        "gru_model.add(GRU(units=50, return_sequences = True, activation='tanh', input_shape=input_shape))\n",
        "gru_model.add(GRU(units=50, activation='tanh'))\n",
        "gru_model.add(Dense(units=1))\n",
        "\n",
        "gru_model.compile(optimizer='adam', loss='mse')\n",
        "gru_history = gru_model.fit(x_train, y_train, epochs=10, batch_size = 150)\n",
        "\n",
        "plot_loss(gru_history, 'GRU')"
      ],
      "metadata": {
        "id": "XGp9ALCCdSgl"
      },
      "execution_count": null,
      "outputs": []
    },
    {
      "cell_type": "markdown",
      "source": [
        "### 5-1.3 Bidirectional LSTM (Bi-LSTM) Model:"
      ],
      "metadata": {
        "id": "2ipG5UILDDse"
      }
    },
    {
      "cell_type": "code",
      "source": [
        "from tensorflow.keras.layers import Bidirectional, LSTM, Dense, Dropout\n"
      ],
      "metadata": {
        "id": "yVHYbaGsDG3O"
      },
      "execution_count": null,
      "outputs": []
    },
    {
      "cell_type": "code",
      "source": [
        "bilstm_model_unscaled = Sequential()\n",
        "bilstm_model_unscaled.add(Bidirectional(LSTM(units=50, return_sequences = True, activation='tanh', input_shape=input_shape)))\n",
        "bilstm_model_unscaled.add(Bidirectional(LSTM(units=50, activation='tanh')))\n",
        "bilstm_model_unscaled.add(Dense(units=1))\n",
        "\n",
        "bilstm_model_unscaled.compile(optimizer='adam', loss='mse')\n",
        "bilstm_history_unscaled = bilstm_model_unscaled.fit(x_train_unscaled, y_train_unscaled, epochs=10, batch_size = 150)\n",
        "\n",
        "plot_loss(bilstm_history_unscaled, 'Bidirectional LSTM_unscaled')"
      ],
      "metadata": {
        "colab": {
          "base_uri": "https://localhost:8080/",
          "height": 831
        },
        "id": "mI7eWQQ43qvs",
        "outputId": "d412f4ca-44f1-48a1-d054-19ff1bcca8c4"
      },
      "execution_count": 133,
      "outputs": [
        {
          "metadata": {
            "tags": null
          },
          "name": "stdout",
          "output_type": "stream",
          "text": [
            "Epoch 1/10\n",
            "97/97 [==============================] - 8s 9ms/step - loss: 14207.5479\n",
            "Epoch 2/10\n",
            "97/97 [==============================] - 1s 12ms/step - loss: 11938.9111\n",
            "Epoch 3/10\n",
            "97/97 [==============================] - 1s 13ms/step - loss: 10645.9678\n",
            "Epoch 4/10\n",
            "97/97 [==============================] - 1s 12ms/step - loss: 9480.8398\n",
            "Epoch 5/10\n",
            "97/97 [==============================] - 1s 12ms/step - loss: 8497.4834\n",
            "Epoch 6/10\n",
            "97/97 [==============================] - 2s 16ms/step - loss: 7644.7134\n",
            "Epoch 7/10\n",
            "97/97 [==============================] - 1s 10ms/step - loss: 6895.2241\n",
            "Epoch 8/10\n",
            "97/97 [==============================] - 1s 8ms/step - loss: 6234.3408\n",
            "Epoch 9/10\n",
            "97/97 [==============================] - 1s 9ms/step - loss: 5650.1299\n",
            "Epoch 10/10\n",
            "97/97 [==============================] - 1s 8ms/step - loss: 5131.3140\n"
          ]
        },
        {
          "data": {
            "image/png": "[encoded data removed]",
            "text/plain": [
              "<Figure size 640x480 with 1 Axes>"
            ]
          },
          "metadata": {},
          "output_type": "display_data"
        }
      ]
    },
    {
      "cell_type": "code",
      "source": [
        "bilstm_model = Sequential()\n",
        "bilstm_model.add(Bidirectional(LSTM(units=50, return_sequences = True, activation='tanh', input_shape=input_shape)))\n",
        "bilstm_model.add(Bidirectional(LSTM(units=50, activation='tanh')))\n",
        "bilstm_model.add(Dense(units=1))\n",
        "\n",
        "bilstm_model.compile(optimizer='adam', loss='mse')\n",
        "bilstm_history = bilstm_model.fit(x_train, y_train, epochs=10, batch_size = 150)\n",
        "\n",
        "plot_loss(bilstm_history, 'Bidirectional LSTM')"
      ],
      "metadata": {
        "id": "mBAEJo2LfEXd"
      },
      "execution_count": null,
      "outputs": []
    },
    {
      "cell_type": "code",
      "source": [
        "prediction_lstm_unscaled = prediction(lstm_model_unscaled)\n",
        "prediction_gru_unscaled = prediction(gru_model_unscaled)\n",
        "prediction_bilstm_unscaled = prediction(bilstm_model_unscaled)\n",
        "\n",
        "evaluate_prediction(prediction_lstm_unscaled, y_train, 'LSTM_unscaled')\n",
        "evaluate_prediction(prediction_gru_unscaled, y_train, 'GRU_unscaled')\n",
        "evaluate_prediction(prediction_bilstm_unscaled, y_train, 'Bi-LSTM_unscaled')"
      ],
      "metadata": {
        "colab": {
          "base_uri": "https://localhost:8080/"
        },
        "id": "Izfjcn0n4CMd",
        "outputId": "97385f31-914e-40cd-a386-ace42220a280"
      },
      "execution_count": 135,
      "outputs": [
        {
          "metadata": {
            "tags": null
          },
          "name": "stdout",
          "output_type": "stream",
          "text": [
            "452/452 [==============================] - 2s 2ms/step\n",
            "452/452 [==============================] - 2s 3ms/step\n",
            "452/452 [==============================] - 3s 3ms/step\n",
            "LSTM_unscaled:\n",
            "Mean Square Error: 3.9833\n",
            "Mean Absolute Error: 1.9791\n",
            "Mean Absolute Percentage Error: 197.8994%\n",
            "\n",
            "GRU_unscaled:\n",
            "Mean Square Error: 441.4863\n",
            "Mean Absolute Error: 21.0079\n",
            "Mean Absolute Percentage Error: 2100.8035%\n",
            "\n",
            "Bi-LSTM_unscaled:\n",
            "Mean Square Error: 19.0720\n",
            "Mean Absolute Error: 4.3564\n",
            "Mean Absolute Percentage Error: 435.6290%\n",
            "\n"
          ]
        }
      ]
    },
    {
      "cell_type": "code",
      "source": [
        "prediction_lstm = prediction(lstm_model)\n",
        "prediction_gru = prediction(gru_model)\n",
        "prediction_bilstm = prediction(bilstm_model)\n",
        "\n",
        "evaluate_prediction(prediction_lstm, y_train, 'LSTM')\n",
        "evaluate_prediction(prediction_gru, y_train, 'GRU')\n",
        "evaluate_prediction(prediction_bilstm, y_train, 'Bi-LSTM')"
      ],
      "metadata": {
        "colab": {
          "base_uri": "https://localhost:8080/"
        },
        "id": "9jR8aT4W7vum",
        "outputId": "2c971188-6c67-4b73-bb26-2ae2cc4728b9"
      },
      "execution_count": 161,
      "outputs": [
        {
          "output_type": "stream",
          "name": "stdout",
          "text": [
            "452/452 [==============================] - 2s 3ms/step\n",
            "452/452 [==============================] - 1s 2ms/step\n",
            "452/452 [==============================] - 2s 3ms/step\n",
            "LSTM:\n",
            "Mean Square Error: 0.1770\n",
            "Mean Absolute Error: 0.3156\n",
            "Mean Absolute Percentage Error: 31.5677%\n",
            "\n",
            "GRU:\n",
            "Mean Square Error: 0.0002\n",
            "Mean Absolute Error: 0.0082\n",
            "Mean Absolute Percentage Error: 0.8152%\n",
            "\n",
            "Bi-LSTM:\n",
            "Mean Square Error: 0.0002\n",
            "Mean Absolute Error: 0.0082\n",
            "Mean Absolute Percentage Error: 0.8235%\n",
            "\n"
          ]
        }
      ]
    },
    {
      "cell_type": "markdown",
      "source": [
        "### 5-1.4 Multi-Layer Perceptron (MLP) Model:\n"
      ],
      "metadata": {
        "id": "07J6YjbgD-pf"
      }
    },
    {
      "cell_type": "code",
      "source": [
        "from tensorflow.keras.layers import Dense, Flatten, Dropout"
      ],
      "metadata": {
        "id": "JbpPwf_iEAoZ"
      },
      "execution_count": null,
      "outputs": []
    },
    {
      "cell_type": "code",
      "source": [
        "x_train_flatten = x_train.reshape((x_train.shape[0], -1))"
      ],
      "metadata": {
        "id": "hYM-yNcBEIkE"
      },
      "execution_count": null,
      "outputs": []
    },
    {
      "cell_type": "code",
      "source": [
        "x_train_flatten_unscaled =  x_train_unscaled.reshape((x_train_unscaled.shape[0], -1))"
      ],
      "metadata": {
        "id": "Mpaz_uiB4WYB"
      },
      "execution_count": 139,
      "outputs": []
    },
    {
      "cell_type": "code",
      "source": [
        "mlp_model_unscaled = Sequential()\n",
        "mlp_model_unscaled.add(Dense(units=256, activation='relu', input_shape=(x_train_flatten_unscaled.shape[1],)))\n",
        "mlp_model_unscaled.add(Dense(units=1, activation='linear'))\n",
        "\n",
        "mlp_model_unscaled.compile(optimizer='adam', loss='mse')\n",
        "\n",
        "mlp_model_unscaled.fit(x_train_unscaled, y_train_unscaled, epochs=10, verbose=1)"
      ],
      "metadata": {
        "colab": {
          "base_uri": "https://localhost:8080/"
        },
        "id": "DMVJaRev4TrU",
        "outputId": "0a2e02a8-267f-4659-c2e4-990954aef538"
      },
      "execution_count": 140,
      "outputs": [
        {
          "metadata": {
            "tags": null
          },
          "name": "stdout",
          "output_type": "stream",
          "text": [
            "Epoch 1/10\n",
            "452/452 [==============================] - 2s 4ms/step - loss: 192.0488\n",
            "Epoch 2/10\n",
            "452/452 [==============================] - 2s 3ms/step - loss: 13.5719\n",
            "Epoch 3/10\n",
            "452/452 [==============================] - 1s 3ms/step - loss: 11.9077\n",
            "Epoch 4/10\n",
            "452/452 [==============================] - 1s 3ms/step - loss: 10.5094\n",
            "Epoch 5/10\n",
            "452/452 [==============================] - 1s 3ms/step - loss: 9.9883\n",
            "Epoch 6/10\n",
            "452/452 [==============================] - 1s 3ms/step - loss: 10.3664\n",
            "Epoch 7/10\n",
            "452/452 [==============================] - 1s 3ms/step - loss: 10.2772\n",
            "Epoch 8/10\n",
            "452/452 [==============================] - 1s 3ms/step - loss: 9.5066\n",
            "Epoch 9/10\n",
            "452/452 [==============================] - 1s 3ms/step - loss: 9.8952\n",
            "Epoch 10/10\n",
            "452/452 [==============================] - 1s 3ms/step - loss: 9.6733\n"
          ]
        },
        {
          "data": {
            "text/plain": [
              "<keras.src.callbacks.History at 0x7ac97ab71060>"
            ]
          },
          "execution_count": 140,
          "metadata": {},
          "output_type": "execute_result"
        }
      ]
    },
    {
      "cell_type": "code",
      "source": [
        "mlp_model = Sequential()\n",
        "mlp_model.add(Dense(units=256, activation='relu', input_shape=(x_train_flatten.shape[1],)))\n",
        "mlp_model.add(Dense(units=1, activation='linear'))\n",
        "\n",
        "mlp_model.compile(optimizer='adam', loss='mse')"
      ],
      "metadata": {
        "id": "4nuw6AGNELHt"
      },
      "execution_count": 153,
      "outputs": []
    },
    {
      "cell_type": "code",
      "source": [
        "mlp_model.fit(x_train, y_train, epochs=10, verbose=1)"
      ],
      "metadata": {
        "colab": {
          "base_uri": "https://localhost:8080/"
        },
        "id": "3tLJsxxwESOs",
        "outputId": "da9e7de7-6d49-4ce1-839f-c0993e0878ef"
      },
      "execution_count": 154,
      "outputs": [
        {
          "output_type": "stream",
          "name": "stdout",
          "text": [
            "Epoch 1/10\n",
            "452/452 [==============================] - 2s 3ms/step - loss: 9.2617e-04\n",
            "Epoch 2/10\n",
            "452/452 [==============================] - 2s 4ms/step - loss: 1.7160e-04\n",
            "Epoch 3/10\n",
            "452/452 [==============================] - 2s 4ms/step - loss: 1.5607e-04\n",
            "Epoch 4/10\n",
            "452/452 [==============================] - 1s 3ms/step - loss: 1.3614e-04\n",
            "Epoch 5/10\n",
            "452/452 [==============================] - 1s 3ms/step - loss: 1.3645e-04\n",
            "Epoch 6/10\n",
            "452/452 [==============================] - 1s 3ms/step - loss: 1.4748e-04\n",
            "Epoch 7/10\n",
            "452/452 [==============================] - 1s 3ms/step - loss: 1.3526e-04\n",
            "Epoch 8/10\n",
            "452/452 [==============================] - 1s 3ms/step - loss: 1.2963e-04\n",
            "Epoch 9/10\n",
            "452/452 [==============================] - 1s 3ms/step - loss: 1.2991e-04\n",
            "Epoch 10/10\n",
            "452/452 [==============================] - 1s 3ms/step - loss: 1.4401e-04\n"
          ]
        },
        {
          "output_type": "execute_result",
          "data": {
            "text/plain": [
              "<keras.src.callbacks.History at 0x7ac97d217910>"
            ]
          },
          "metadata": {},
          "execution_count": 154
        }
      ]
    },
    {
      "cell_type": "markdown",
      "source": [
        "### 5-1.5 Convolutional Neural Network (CNN) Model:\n"
      ],
      "metadata": {
        "id": "ckXazQjdFAAF"
      }
    },
    {
      "cell_type": "code",
      "source": [
        "from tensorflow.keras.layers import Conv1D, MaxPooling1D, Flatten, Dense, Dropout\n"
      ],
      "metadata": {
        "id": "uvqLQ_6gFF7E"
      },
      "execution_count": null,
      "outputs": []
    },
    {
      "cell_type": "code",
      "source": [
        "input_shape_cnn = (x_train.shape[1], x_train.shape[2])\n"
      ],
      "metadata": {
        "id": "egasKBGHFIdL"
      },
      "execution_count": 155,
      "outputs": []
    },
    {
      "cell_type": "code",
      "source": [
        "input_shape_cnn_unscaled = (x_train_unscaled.shape[1], x_train_unscaled.shape[2])"
      ],
      "metadata": {
        "id": "49sLcMmf43ge"
      },
      "execution_count": 145,
      "outputs": []
    },
    {
      "cell_type": "code",
      "source": [
        "cnn_model_unscaled = Sequential()\n",
        "cnn_model_unscaled.add(Conv1D(filters=32, kernel_size=3, activation='relu', input_shape=input_shape_cnn_unscaled))\n",
        "cnn_model_unscaled.add(MaxPooling1D(pool_size=2))\n",
        "\n",
        "cnn_model_unscaled.add(Dense(units=1, activation='linear'))\n",
        "cnn_model_unscaled.compile(optimizer='adam', loss='mse')"
      ],
      "metadata": {
        "id": "296VaI1T48pQ"
      },
      "execution_count": 146,
      "outputs": []
    },
    {
      "cell_type": "code",
      "source": [
        "cnn_model_unscaled.fit(x_train_unscaled, y_train_unscaled, epochs=10, verbose=1)"
      ],
      "metadata": {
        "colab": {
          "base_uri": "https://localhost:8080/"
        },
        "id": "57jgusXk5Ehs",
        "outputId": "85131f42-3c6d-4e7a-a43f-9a20265f7e31"
      },
      "execution_count": 147,
      "outputs": [
        {
          "metadata": {
            "tags": null
          },
          "name": "stdout",
          "output_type": "stream",
          "text": [
            "Epoch 1/10\n",
            "452/452 [==============================] - 2s 3ms/step - loss: 184.1077\n",
            "Epoch 2/10\n",
            "452/452 [==============================] - 2s 5ms/step - loss: 20.8795\n",
            "Epoch 3/10\n",
            "452/452 [==============================] - 2s 4ms/step - loss: 20.7530\n",
            "Epoch 4/10\n",
            "452/452 [==============================] - 1s 3ms/step - loss: 20.6363\n",
            "Epoch 5/10\n",
            "452/452 [==============================] - 1s 3ms/step - loss: 20.5696\n",
            "Epoch 6/10\n",
            "452/452 [==============================] - 1s 3ms/step - loss: 20.2753\n",
            "Epoch 7/10\n",
            "452/452 [==============================] - 2s 3ms/step - loss: 20.2123\n",
            "Epoch 8/10\n",
            "452/452 [==============================] - 1s 3ms/step - loss: 20.1034\n",
            "Epoch 9/10\n",
            "452/452 [==============================] - 2s 3ms/step - loss: 19.8552\n",
            "Epoch 10/10\n",
            "452/452 [==============================] - 2s 5ms/step - loss: 19.4204\n"
          ]
        },
        {
          "output_type": "execute_result",
          "data": {
            "text/plain": [
              "<keras.src.callbacks.History at 0x7ac97d5c2410>"
            ]
          },
          "metadata": {},
          "execution_count": 147
        }
      ]
    },
    {
      "cell_type": "code",
      "source": [
        "cnn_model = Sequential()\n",
        "cnn_model.add(Conv1D(filters=32, kernel_size=3, activation='relu', input_shape=input_shape_cnn))\n",
        "cnn_model.add(MaxPooling1D(pool_size=2))\n",
        "\n",
        "cnn_model.add(Dense(units=1, activation='linear'))\n",
        "cnn_model.compile(optimizer='adam', loss='mse')"
      ],
      "metadata": {
        "id": "iN92F6IXFL2j"
      },
      "execution_count": 148,
      "outputs": []
    },
    {
      "cell_type": "code",
      "source": [
        "cnn_model.fit(x_train, y_train, epochs=10, verbose=1)"
      ],
      "metadata": {
        "colab": {
          "base_uri": "https://localhost:8080/"
        },
        "id": "Rdp6iBdtFSzV",
        "outputId": "b4cb0827-5344-427e-8c1b-62ea9aa7b13c"
      },
      "execution_count": 149,
      "outputs": [
        {
          "output_type": "stream",
          "name": "stdout",
          "text": [
            "Epoch 1/10\n",
            "452/452 [==============================] - 2s 3ms/step - loss: 0.0102\n",
            "Epoch 2/10\n",
            "452/452 [==============================] - 2s 3ms/step - loss: 2.7998e-04\n",
            "Epoch 3/10\n",
            "452/452 [==============================] - 2s 3ms/step - loss: 2.7431e-04\n",
            "Epoch 4/10\n",
            "452/452 [==============================] - 2s 5ms/step - loss: 2.7496e-04\n",
            "Epoch 5/10\n",
            "452/452 [==============================] - 2s 4ms/step - loss: 2.7336e-04\n",
            "Epoch 6/10\n",
            "452/452 [==============================] - 2s 3ms/step - loss: 2.6497e-04\n",
            "Epoch 7/10\n",
            "452/452 [==============================] - 2s 3ms/step - loss: 2.6438e-04\n",
            "Epoch 8/10\n",
            "452/452 [==============================] - 2s 4ms/step - loss: 2.6051e-04\n",
            "Epoch 9/10\n",
            "452/452 [==============================] - 2s 3ms/step - loss: 2.6178e-04\n",
            "Epoch 10/10\n",
            "452/452 [==============================] - 2s 4ms/step - loss: 2.5069e-04\n"
          ]
        },
        {
          "output_type": "execute_result",
          "data": {
            "text/plain": [
              "<keras.src.callbacks.History at 0x7ac97d4d93c0>"
            ]
          },
          "metadata": {},
          "execution_count": 149
        }
      ]
    },
    {
      "cell_type": "markdown",
      "source": [
        "### 5-1.6 Convolutional LSTM Model:\n",
        "\n"
      ],
      "metadata": {
        "id": "PrWUXRL_FrXW"
      }
    },
    {
      "cell_type": "code",
      "source": [
        "from tensorflow.keras.models import Sequential\n",
        "from tensorflow.keras.layers import ConvLSTM2D, Dense\n",
        "\n",
        "\n",
        "x_train_reshaped_unscaled = x_train_unscaled.reshape((x_train_unscaled.shape[0], x_train_unscaled.shape[1], 1, x_train_unscaled.shape[2], 1))\n",
        "\n",
        "# Build the Conv-LSTM model\n",
        "input_shape_unscaled = (5, 1, 1, 1)\n",
        "conv_lstm_model_unscaled = Sequential()\n",
        "conv_lstm_model_unscaled.add(ConvLSTM2D(filters=50, kernel_size=(1, 3), activation='tanh', padding='same', input_shape=input_shape, return_sequences=True))\n",
        "conv_lstm_model_unscaled.add(ConvLSTM2D(filters=50, kernel_size=(1, 3), activation='tanh', padding='same'))\n",
        "conv_lstm_model_unscaled.add(Dense(units=1))\n",
        "\n",
        "conv_lstm_model_unscaled.compile(optimizer='adam', loss='mse')\n",
        "\n",
        "# Train the model with the reshaped data\n",
        "conv_lstm_history_unscaled = conv_lstm_model_unscaled.fit(x_train_reshaped_unscaled, y_train_unscaled, epochs=10, batch_size=150)\n",
        "\n",
        "# Plot the loss\n",
        "plot_loss(conv_lstm_history_unscaled, 'Conv-LSTM')"
      ],
      "metadata": {
        "colab": {
          "base_uri": "https://localhost:8080/",
          "height": 831
        },
        "id": "BsEztlm79rUp",
        "outputId": "d794ad27-a03f-4f2e-b2bb-0f1964216621"
      },
      "execution_count": 157,
      "outputs": [
        {
          "output_type": "stream",
          "name": "stdout",
          "text": [
            "Epoch 1/10\n",
            "97/97 [==============================] - 8s 37ms/step - loss: 14934.1543\n",
            "Epoch 2/10\n",
            "97/97 [==============================] - 6s 64ms/step - loss: 13535.3301\n",
            "Epoch 3/10\n",
            "97/97 [==============================] - 4s 41ms/step - loss: 12726.3359\n",
            "Epoch 4/10\n",
            "97/97 [==============================] - 4s 38ms/step - loss: 12010.4434\n",
            "Epoch 5/10\n",
            "97/97 [==============================] - 4s 40ms/step - loss: 11368.3438\n",
            "Epoch 6/10\n",
            "97/97 [==============================] - 5s 49ms/step - loss: 10791.2051\n",
            "Epoch 7/10\n",
            "97/97 [==============================] - 4s 37ms/step - loss: 10271.1973\n",
            "Epoch 8/10\n",
            "97/97 [==============================] - 4s 37ms/step - loss: 9802.9941\n",
            "Epoch 9/10\n",
            "97/97 [==============================] - 5s 53ms/step - loss: 9383.5459\n",
            "Epoch 10/10\n",
            "97/97 [==============================] - 4s 38ms/step - loss: 9008.1924\n"
          ]
        },
        {
          "output_type": "display_data",
          "data": {
            "text/plain": [
              "<Figure size 640x480 with 1 Axes>"
            ],
            "image/png": "[encoded data removed]"
          },
          "metadata": {}
        }
      ]
    },
    {
      "cell_type": "code",
      "source": [
        "# Reshape the input data to have the necessary dimensions\n",
        "x_train_reshaped = x_train.reshape((x_train.shape[0], x_train.shape[1], 1, x_train.shape[2], 1))\n",
        "\n",
        "# Build the Conv-LSTM model\n",
        "input_shape = (5, 1, 1, 1)\n",
        "conv_lstm_model = Sequential()\n",
        "conv_lstm_model.add(ConvLSTM2D(filters=50, kernel_size=(1, 3), activation='tanh', padding='same', input_shape=input_shape, return_sequences=True))\n",
        "conv_lstm_model.add(ConvLSTM2D(filters=50, kernel_size=(1, 3), activation='tanh', padding='same'))\n",
        "conv_lstm_model.add(Dense(units=1))\n",
        "\n",
        "conv_lstm_model.compile(optimizer='adam', loss='mse')\n",
        "\n",
        "# Train the model with the reshaped data\n",
        "conv_lstm_history = conv_lstm_model.fit(x_train_reshaped, y_train, epochs=10, batch_size=150)\n",
        "\n",
        "# Plot the loss\n",
        "plot_loss(conv_lstm_history, 'Conv-LSTM')\n"
      ],
      "metadata": {
        "colab": {
          "base_uri": "https://localhost:8080/",
          "height": 831
        },
        "id": "SwBky1kn2lIR",
        "outputId": "3f4d1255-53b9-4519-a26c-9246430c2746"
      },
      "execution_count": 156,
      "outputs": [
        {
          "output_type": "stream",
          "name": "stdout",
          "text": [
            "Epoch 1/10\n",
            "97/97 [==============================] - 10s 59ms/step - loss: 0.0942\n",
            "Epoch 2/10\n",
            "97/97 [==============================] - 9s 90ms/step - loss: 0.0826\n",
            "Epoch 3/10\n",
            "97/97 [==============================] - 7s 70ms/step - loss: 0.0826\n",
            "Epoch 4/10\n",
            "97/97 [==============================] - 4s 37ms/step - loss: 0.0826\n",
            "Epoch 5/10\n",
            "97/97 [==============================] - 4s 37ms/step - loss: 0.0826\n",
            "Epoch 6/10\n",
            "97/97 [==============================] - 5s 53ms/step - loss: 0.0825\n",
            "Epoch 7/10\n",
            "97/97 [==============================] - 4s 37ms/step - loss: 0.0825\n",
            "Epoch 8/10\n",
            "97/97 [==============================] - 4s 37ms/step - loss: 0.0825\n",
            "Epoch 9/10\n",
            "97/97 [==============================] - 5s 54ms/step - loss: 0.0826\n",
            "Epoch 10/10\n",
            "97/97 [==============================] - 4s 38ms/step - loss: 0.0826\n"
          ]
        },
        {
          "output_type": "display_data",
          "data": {
            "text/plain": [
              "<Figure size 640x480 with 1 Axes>"
            ],
            "image/png": "[encoded data removed]"
          },
          "metadata": {}
        }
      ]
    },
    {
      "cell_type": "code",
      "source": [
        "x_train_reshaped_unscaled\n",
        "prediction_mlp_unscaled = prediction(mlp_model_unscaled)\n",
        "prediction_cnn_unscaled = prediction(cnn_model_unscaled)\n",
        "\n",
        "x_train_reshaped_unscaled = x_train_unscaled.reshape((x_train_unscaled.shape[0], x_train_unscaled.shape[1], 1, x_train_unscaled.shape[2], 1))\n",
        "prediction_conv_lstm_unscaled = conv_lstm_model_unscaled.predict(x_train_reshaped_unscaled)\n",
        "\n",
        "evaluate_prediction(prediction_mlp_unscaled, y_train, 'MLP_unscaled')\n",
        "evaluate_prediction(prediction_cnn_unscaled.reshape((14435, 1)), y_train, 'CNN_unscaled')\n",
        "evaluate_prediction(prediction_conv_lstm_unscaled.reshape((14435, 1)), y_train, 'Conv-LSTM')"
      ],
      "metadata": {
        "colab": {
          "base_uri": "https://localhost:8080/"
        },
        "id": "zol9G2lt5yWm",
        "outputId": "3af7c402-9078-4efe-e71d-713549d47c0e"
      },
      "execution_count": 158,
      "outputs": [
        {
          "output_type": "stream",
          "name": "stdout",
          "text": [
            "452/452 [==============================] - 1s 2ms/step\n",
            "452/452 [==============================] - 1s 2ms/step\n",
            "452/452 [==============================] - 5s 10ms/step\n",
            "MLP_unscaled:\n",
            "Mean Square Error: 0.0074\n",
            "Mean Absolute Error: 0.0847\n",
            "Mean Absolute Percentage Error: 8.4758%\n",
            "\n",
            "CNN_unscaled:\n",
            "Mean Square Error: 0.0296\n",
            "Mean Absolute Error: 0.1712\n",
            "Mean Absolute Percentage Error: 17.1206%\n",
            "\n",
            "Conv-LSTM:\n",
            "Mean Square Error: 2881.3953\n",
            "Mean Absolute Error: 53.6779\n",
            "Mean Absolute Percentage Error: 5367.7749%\n",
            "\n"
          ]
        }
      ]
    },
    {
      "cell_type": "code",
      "source": [
        "prediction_mlp = prediction(mlp_model)\n",
        "prediction_cnn = prediction(cnn_model)\n",
        "\n",
        "x_train_reshaped = x_train.reshape((x_train.shape[0], x_train.shape[1], 1, x_train.shape[2], 1))\n",
        "prediction_conv_lstm = conv_lstm_model.predict(x_train_reshaped)\n",
        "\n",
        "evaluate_prediction(prediction_mlp, y_train, 'MLP')\n",
        "evaluate_prediction(prediction_cnn.reshape((14435, 1)), y_train, 'CNN')\n",
        "evaluate_prediction(prediction_conv_lstm.reshape((14435, 1)), y_train, 'Conv-LSTM')"
      ],
      "metadata": {
        "colab": {
          "base_uri": "https://localhost:8080/"
        },
        "id": "0FHbTBQNkt9p",
        "outputId": "0c2ad838-cf87-4a8c-a4fd-a6a77400893d"
      },
      "execution_count": 159,
      "outputs": [
        {
          "output_type": "stream",
          "name": "stdout",
          "text": [
            "452/452 [==============================] - 1s 2ms/step\n",
            "452/452 [==============================] - 1s 2ms/step\n",
            "452/452 [==============================] - 4s 8ms/step\n",
            "MLP:\n",
            "Mean Square Error: 0.0002\n",
            "Mean Absolute Error: 0.0089\n",
            "Mean Absolute Percentage Error: 0.8887%\n",
            "\n",
            "CNN:\n",
            "Mean Square Error: 0.0003\n",
            "Mean Absolute Error: 0.0106\n",
            "Mean Absolute Percentage Error: 1.0608%\n",
            "\n",
            "Conv-LSTM:\n",
            "Mean Square Error: 0.0809\n",
            "Mean Absolute Error: 0.2474\n",
            "Mean Absolute Percentage Error: 24.7370%\n",
            "\n"
          ]
        }
      ]
    },
    {
      "cell_type": "markdown",
      "source": [
        "#Naïve Forecast"
      ],
      "metadata": {
        "id": "Qo_WtTpMuyT7"
      }
    },
    {
      "cell_type": "code",
      "source": [
        "x_train_naive_forcast = x_train.reshape((14435, 5))\n",
        "print(x_train_naive_forcast.shape)"
      ],
      "metadata": {
        "colab": {
          "base_uri": "https://localhost:8080/"
        },
        "id": "BOuUdnDVw0oD",
        "outputId": "14b8e1b0-f81c-4a29-b7b8-bbeb311e66ea"
      },
      "execution_count": 160,
      "outputs": [
        {
          "output_type": "stream",
          "name": "stdout",
          "text": [
            "(14435, 5)\n"
          ]
        }
      ]
    },
    {
      "cell_type": "code",
      "source": [
        "import numpy as np\n",
        "import matplotlib.pyplot as plt\n",
        "\n",
        "# Function to implement Naïve Forecast for univariate time series\n",
        "def naive_forecast(x_train, y_train):\n",
        "    # Shift the y_train values by one time step\n",
        "    naive_forecasted = np.roll(y_train, shift=1, axis=0)\n",
        "    naive_forecasted[0] = 0  # Set the first value to NaN since there is no previous value for the first time step\n",
        "    return naive_forecasted\n",
        "\n",
        "# Apply Naïve Forecast to the dataset\n",
        "naive_forecasted = naive_forecast(x_train, y_train)\n",
        "\n",
        "# Print the resulting arrays with Naïve Forecast\n",
        "print(\"Original y_train:\\n\", y_train[:, 0])\n",
        "print(\"\\nNaïve Forecast:\\n\", naive_forecasted[:, 0])\n",
        "\n",
        "# Plot the actual values and Naïve Forecast\n",
        "plt.figure(figsize=(15, 10))\n",
        "plt.plot(y_train[:, 0], label='Actual Values')\n",
        "plt.plot(naive_forecasted[:, 0], label='Naïve Forecast', linestyle='dashed', color='red')\n",
        "plt.xlabel('Time Step')\n",
        "plt.ylabel('Normalized Price')\n",
        "plt.legend()\n",
        "plt.title('Naïve Forecast:')\n",
        "plt.show()\n"
      ],
      "metadata": {
        "colab": {
          "base_uri": "https://localhost:8080/",
          "height": 963
        },
        "id": "Ik-4D6RjyPsY",
        "outputId": "8b6afa24-02ee-4659-f2ee-1d35c01086b1"
      },
      "execution_count": 151,
      "outputs": [
        {
          "output_type": "stream",
          "name": "stdout",
          "text": [
            "Original y_train:\n",
            " [0.00403009 0.0033276  0.00275593 ... 0.90271252 0.91517914 0.93052266]\n",
            "\n",
            "Naïve Forecast:\n",
            " [0.         0.00403009 0.0033276  ... 0.89644241 0.90271252 0.91517914]\n"
          ]
        },
        {
          "output_type": "display_data",
          "data": {
            "text/plain": [
              "<Figure size 1500x1000 with 1 Axes>"
            ],
            "image/png": "[encoded data removed]"
          },
          "metadata": {}
        }
      ]
    },
    {
      "cell_type": "code",
      "source": [
        "evaluate_prediction(naive_forecasted, y_train, 'Naïve Forecast')"
      ],
      "metadata": {
        "colab": {
          "base_uri": "https://localhost:8080/"
        },
        "id": "ZjjDR6t_y4DE",
        "outputId": "8a23bdaa-8ee3-4ef2-81b8-ffc6d267263a"
      },
      "execution_count": 152,
      "outputs": [
        {
          "output_type": "stream",
          "name": "stdout",
          "text": [
            "Naïve Forecast:\n",
            "Mean Square Error: 0.0003\n",
            "Mean Absolute Error: 0.0060\n",
            "Mean Absolute Percentage Error: 0.6023%\n",
            "\n"
          ]
        }
      ]
    }
  ]
}