{
  "nbformat": 4,
  "nbformat_minor": 0,
  "metadata": {
    "colab": {
      "provenance": [],
      "gpuType": "T4"
    },
    "kernelspec": {
      "name": "python3",
      "display_name": "Python 3"
    },
    "language_info": {
      "name": "python"
    },
    "accelerator": "GPU"
  },
  "cells": [
    {
      "cell_type": "markdown",
      "source": [
        "# Question 1: Time-series prediction\n",
        "\n",
        "\n",
        "\n",
        "\n"
      ],
      "metadata": {
        "id": "NpgboPffGcce"
      }
    },
    {
      "cell_type": "markdown",
      "source": [
        "Prediction can be divided into two categories: regression and classification. In regression, the numerical value of the next days is predicted for a time series. In the classification, the upward or downward trend of the time series is predicted for the next few days.\n",
        "\n",
        "In this question, you will learn about regression mode and implement a part of:\n",
        "https://ieeexplore.ieee.org/document/9005997"
      ],
      "metadata": {
        "id": "h3ZOvCg4G6Jy"
      }
    },
    {
      "cell_type": "markdown",
      "source": [
        "## Import libraries"
      ],
      "metadata": {
        "id": "cx9pQjv7H6ph"
      }
    },
    {
      "cell_type": "code",
      "source": [
        "!pip install --upgrade mplfinance"
      ],
      "metadata": {
        "colab": {
          "base_uri": "https://localhost:8080/"
        },
        "id": "FBHQ_FYn9VQd",
        "outputId": "2ea566a5-1dad-4f22-f9f3-d6aa2f70f937"
      },
      "execution_count": 162,
      "outputs": [
        {
          "output_type": "stream",
          "name": "stdout",
          "text": [
            "Requirement already satisfied: mplfinance in /usr/local/lib/python3.10/dist-packages (0.12.10b0)\n",
            "Requirement already satisfied: matplotlib in /usr/local/lib/python3.10/dist-packages (from mplfinance) (3.7.1)\n",
            "Requirement already satisfied: pandas in /usr/local/lib/python3.10/dist-packages (from mplfinance) (1.5.3)\n",
            "Requirement already satisfied: contourpy>=1.0.1 in /usr/local/lib/python3.10/dist-packages (from matplotlib->mplfinance) (1.2.0)\n",
            "Requirement already satisfied: cycler>=0.10 in /usr/local/lib/python3.10/dist-packages (from matplotlib->mplfinance) (0.12.1)\n",
            "Requirement already satisfied: fonttools>=4.22.0 in /usr/local/lib/python3.10/dist-packages (from matplotlib->mplfinance) (4.46.0)\n",
            "Requirement already satisfied: kiwisolver>=1.0.1 in /usr/local/lib/python3.10/dist-packages (from matplotlib->mplfinance) (1.4.5)\n",
            "Requirement already satisfied: numpy>=1.20 in /usr/local/lib/python3.10/dist-packages (from matplotlib->mplfinance) (1.23.5)\n",
            "Requirement already satisfied: packaging>=20.0 in /usr/local/lib/python3.10/dist-packages (from matplotlib->mplfinance) (23.2)\n",
            "Requirement already satisfied: pillow>=6.2.0 in /usr/local/lib/python3.10/dist-packages (from matplotlib->mplfinance) (9.4.0)\n",
            "Requirement already satisfied: pyparsing>=2.3.1 in /usr/local/lib/python3.10/dist-packages (from matplotlib->mplfinance) (3.1.1)\n",
            "Requirement already satisfied: python-dateutil>=2.7 in /usr/local/lib/python3.10/dist-packages (from matplotlib->mplfinance) (2.8.2)\n",
            "Requirement already satisfied: pytz>=2020.1 in /usr/local/lib/python3.10/dist-packages (from pandas->mplfinance) (2023.3.post1)\n",
            "Requirement already satisfied: six>=1.5 in /usr/local/lib/python3.10/dist-packages (from python-dateutil>=2.7->matplotlib->mplfinance) (1.16.0)\n"
          ]
        }
      ]
    },
    {
      "cell_type": "code",
      "source": [
        "import numpy as np\n",
        "import pandas as pd\n",
        "from matplotlib import pyplot as plt\n",
        "\n",
        "import datetime\n",
        "from datetime import datetime\n",
        "import yfinance as yf\n",
        "import mplfinance as mpf\n",
        "\n",
        "import tensorflow as tf\n",
        "from tensorflow import keras\n",
        "import sklearn\n",
        "from sklearn.model_selection import train_test_split\n",
        "from sklearn.preprocessing import StandardScaler\n"
      ],
      "metadata": {
        "id": "hDcm-oh4H9ga"
      },
      "execution_count": 163,
      "outputs": []
    },
    {
      "cell_type": "markdown",
      "source": [
        "## 1.1- Download data"
      ],
      "metadata": {
        "id": "WJbRgAbBHFAK"
      }
    },
    {
      "cell_type": "code",
      "execution_count": 164,
      "metadata": {
        "colab": {
          "base_uri": "https://localhost:8080/",
          "height": 424
        },
        "id": "BRS6iJsAGapH",
        "outputId": "92589024-6556-4951-e225-4d654109749c"
      },
      "outputs": [
        {
          "output_type": "execute_result",
          "data": {
            "text/plain": [
              "    Symbol              Security             GICS Sector  \\\n",
              "0      MMM                    3M             Industrials   \n",
              "1      AOS           A. O. Smith             Industrials   \n",
              "2      ABT                Abbott             Health Care   \n",
              "3     ABBV                AbbVie             Health Care   \n",
              "4      ACN             Accenture  Information Technology   \n",
              "..     ...                   ...                     ...   \n",
              "498    YUM           Yum! Brands  Consumer Discretionary   \n",
              "499   ZBRA    Zebra Technologies  Information Technology   \n",
              "500    ZBH         Zimmer Biomet             Health Care   \n",
              "501   ZION  Zions Bancorporation              Financials   \n",
              "502    ZTS                Zoetis             Health Care   \n",
              "\n",
              "                      GICS Sub-Industry    Headquarters Location  Date added  \\\n",
              "0              Industrial Conglomerates    Saint Paul, Minnesota  1957-03-04   \n",
              "1                     Building Products     Milwaukee, Wisconsin  2017-07-26   \n",
              "2                 Health Care Equipment  North Chicago, Illinois  1957-03-04   \n",
              "3                         Biotechnology  North Chicago, Illinois  2012-12-31   \n",
              "4        IT Consulting & Other Services          Dublin, Ireland  2011-07-06   \n",
              "..                                  ...                      ...         ...   \n",
              "498                         Restaurants     Louisville, Kentucky  1997-10-06   \n",
              "499  Electronic Equipment & Instruments   Lincolnshire, Illinois  2019-12-23   \n",
              "500               Health Care Equipment          Warsaw, Indiana  2001-08-07   \n",
              "501                      Regional Banks     Salt Lake City, Utah  2001-06-22   \n",
              "502                     Pharmaceuticals   Parsippany, New Jersey  2013-06-21   \n",
              "\n",
              "         CIK      Founded  \n",
              "0      66740         1902  \n",
              "1      91142         1916  \n",
              "2       1800         1888  \n",
              "3    1551152  2013 (1888)  \n",
              "4    1467373         1989  \n",
              "..       ...          ...  \n",
              "498  1041061         1997  \n",
              "499   877212         1969  \n",
              "500  1136869         1927  \n",
              "501   109380         1873  \n",
              "502  1555280         1952  \n",
              "\n",
              "[503 rows x 8 columns]"
            ],
            "text/html": [
              "\n",
              "  <div id=\"df-fa6ffe7a-14d4-40b5-9dfb-25633bdda201\" class=\"colab-df-container\">\n",
              "    <div>\n",
              "<style scoped>\n",
              "    .dataframe tbody tr th:only-of-type {\n",
              "        vertical-align: middle;\n",
              "    }\n",
              "\n",
              "    .dataframe tbody tr th {\n",
              "        vertical-align: top;\n",
              "    }\n",
              "\n",
              "    .dataframe thead th {\n",
              "        text-align: right;\n",
              "    }\n",
              "</style>\n",
              "<table border=\"1\" class=\"dataframe\">\n",
              "  <thead>\n",
              "    <tr style=\"text-align: right;\">\n",
              "      <th></th>\n",
              "      <th>Symbol</th>\n",
              "      <th>Security</th>\n",
              "      <th>GICS Sector</th>\n",
              "      <th>GICS Sub-Industry</th>\n",
              "      <th>Headquarters Location</th>\n",
              "      <th>Date added</th>\n",
              "      <th>CIK</th>\n",
              "      <th>Founded</th>\n",
              "    </tr>\n",
              "  </thead>\n",
              "  <tbody>\n",
              "    <tr>\n",
              "      <th>0</th>\n",
              "      <td>MMM</td>\n",
              "      <td>3M</td>\n",
              "      <td>Industrials</td>\n",
              "      <td>Industrial Conglomerates</td>\n",
              "      <td>Saint Paul, Minnesota</td>\n",
              "      <td>1957-03-04</td>\n",
              "      <td>66740</td>\n",
              "      <td>1902</td>\n",
              "    </tr>\n",
              "    <tr>\n",
              "      <th>1</th>\n",
              "      <td>AOS</td>\n",
              "      <td>A. O. Smith</td>\n",
              "      <td>Industrials</td>\n",
              "      <td>Building Products</td>\n",
              "      <td>Milwaukee, Wisconsin</td>\n",
              "      <td>2017-07-26</td>\n",
              "      <td>91142</td>\n",
              "      <td>1916</td>\n",
              "    </tr>\n",
              "    <tr>\n",
              "      <th>2</th>\n",
              "      <td>ABT</td>\n",
              "      <td>Abbott</td>\n",
              "      <td>Health Care</td>\n",
              "      <td>Health Care Equipment</td>\n",
              "      <td>North Chicago, Illinois</td>\n",
              "      <td>1957-03-04</td>\n",
              "      <td>1800</td>\n",
              "      <td>1888</td>\n",
              "    </tr>\n",
              "    <tr>\n",
              "      <th>3</th>\n",
              "      <td>ABBV</td>\n",
              "      <td>AbbVie</td>\n",
              "      <td>Health Care</td>\n",
              "      <td>Biotechnology</td>\n",
              "      <td>North Chicago, Illinois</td>\n",
              "      <td>2012-12-31</td>\n",
              "      <td>1551152</td>\n",
              "      <td>2013 (1888)</td>\n",
              "    </tr>\n",
              "    <tr>\n",
              "      <th>4</th>\n",
              "      <td>ACN</td>\n",
              "      <td>Accenture</td>\n",
              "      <td>Information Technology</td>\n",
              "      <td>IT Consulting &amp; Other Services</td>\n",
              "      <td>Dublin, Ireland</td>\n",
              "      <td>2011-07-06</td>\n",
              "      <td>1467373</td>\n",
              "      <td>1989</td>\n",
              "    </tr>\n",
              "    <tr>\n",
              "      <th>...</th>\n",
              "      <td>...</td>\n",
              "      <td>...</td>\n",
              "      <td>...</td>\n",
              "      <td>...</td>\n",
              "      <td>...</td>\n",
              "      <td>...</td>\n",
              "      <td>...</td>\n",
              "      <td>...</td>\n",
              "    </tr>\n",
              "    <tr>\n",
              "      <th>498</th>\n",
              "      <td>YUM</td>\n",
              "      <td>Yum! Brands</td>\n",
              "      <td>Consumer Discretionary</td>\n",
              "      <td>Restaurants</td>\n",
              "      <td>Louisville, Kentucky</td>\n",
              "      <td>1997-10-06</td>\n",
              "      <td>1041061</td>\n",
              "      <td>1997</td>\n",
              "    </tr>\n",
              "    <tr>\n",
              "      <th>499</th>\n",
              "      <td>ZBRA</td>\n",
              "      <td>Zebra Technologies</td>\n",
              "      <td>Information Technology</td>\n",
              "      <td>Electronic Equipment &amp; Instruments</td>\n",
              "      <td>Lincolnshire, Illinois</td>\n",
              "      <td>2019-12-23</td>\n",
              "      <td>877212</td>\n",
              "      <td>1969</td>\n",
              "    </tr>\n",
              "    <tr>\n",
              "      <th>500</th>\n",
              "      <td>ZBH</td>\n",
              "      <td>Zimmer Biomet</td>\n",
              "      <td>Health Care</td>\n",
              "      <td>Health Care Equipment</td>\n",
              "      <td>Warsaw, Indiana</td>\n",
              "      <td>2001-08-07</td>\n",
              "      <td>1136869</td>\n",
              "      <td>1927</td>\n",
              "    </tr>\n",
              "    <tr>\n",
              "      <th>501</th>\n",
              "      <td>ZION</td>\n",
              "      <td>Zions Bancorporation</td>\n",
              "      <td>Financials</td>\n",
              "      <td>Regional Banks</td>\n",
              "      <td>Salt Lake City, Utah</td>\n",
              "      <td>2001-06-22</td>\n",
              "      <td>109380</td>\n",
              "      <td>1873</td>\n",
              "    </tr>\n",
              "    <tr>\n",
              "      <th>502</th>\n",
              "      <td>ZTS</td>\n",
              "      <td>Zoetis</td>\n",
              "      <td>Health Care</td>\n",
              "      <td>Pharmaceuticals</td>\n",
              "      <td>Parsippany, New Jersey</td>\n",
              "      <td>2013-06-21</td>\n",
              "      <td>1555280</td>\n",
              "      <td>1952</td>\n",
              "    </tr>\n",
              "  </tbody>\n",
              "</table>\n",
              "<p>503 rows × 8 columns</p>\n",
              "</div>\n",
              "    <div class=\"colab-df-buttons\">\n",
              "\n",
              "  <div class=\"colab-df-container\">\n",
              "    <button class=\"colab-df-convert\" onclick=\"convertToInteractive('df-fa6ffe7a-14d4-40b5-9dfb-25633bdda201')\"\n",
              "            title=\"Convert this dataframe to an interactive table.\"\n",
              "            style=\"display:none;\">\n",
              "\n",
              "  <svg xmlns=\"http://www.w3.org/2000/svg\" height=\"24px\" viewBox=\"0 -960 960 960\">\n",
              "    <path d=\"M120-120v-720h720v720H120Zm60-500h600v-160H180v160Zm220 220h160v-160H400v160Zm0 220h160v-160H400v160ZM180-400h160v-160H180v160Zm440 0h160v-160H620v160ZM180-180h160v-160H180v160Zm440 0h160v-160H620v160Z\"/>\n",
              "  </svg>\n",
              "    </button>\n",
              "\n",
              "  <style>\n",
              "    .colab-df-container {\n",
              "      display:flex;\n",
              "      gap: 12px;\n",
              "    }\n",
              "\n",
              "    .colab-df-convert {\n",
              "      background-color: #E8F0FE;\n",
              "      border: none;\n",
              "      border-radius: 50%;\n",
              "      cursor: pointer;\n",
              "      display: none;\n",
              "      fill: #1967D2;\n",
              "      height: 32px;\n",
              "      padding: 0 0 0 0;\n",
              "      width: 32px;\n",
              "    }\n",
              "\n",
              "    .colab-df-convert:hover {\n",
              "      background-color: #E2EBFA;\n",
              "      box-shadow: 0px 1px 2px rgba(60, 64, 67, 0.3), 0px 1px 3px 1px rgba(60, 64, 67, 0.15);\n",
              "      fill: #174EA6;\n",
              "    }\n",
              "\n",
              "    .colab-df-buttons div {\n",
              "      margin-bottom: 4px;\n",
              "    }\n",
              "\n",
              "    [theme=dark] .colab-df-convert {\n",
              "      background-color: #3B4455;\n",
              "      fill: #D2E3FC;\n",
              "    }\n",
              "\n",
              "    [theme=dark] .colab-df-convert:hover {\n",
              "      background-color: #434B5C;\n",
              "      box-shadow: 0px 1px 3px 1px rgba(0, 0, 0, 0.15);\n",
              "      filter: drop-shadow(0px 1px 2px rgba(0, 0, 0, 0.3));\n",
              "      fill: #FFFFFF;\n",
              "    }\n",
              "  </style>\n",
              "\n",
              "    <script>\n",
              "      const buttonEl =\n",
              "        document.querySelector('#df-fa6ffe7a-14d4-40b5-9dfb-25633bdda201 button.colab-df-convert');\n",
              "      buttonEl.style.display =\n",
              "        google.colab.kernel.accessAllowed ? 'block' : 'none';\n",
              "\n",
              "      async function convertToInteractive(key) {\n",
              "        const element = document.querySelector('#df-fa6ffe7a-14d4-40b5-9dfb-25633bdda201');\n",
              "        const dataTable =\n",
              "          await google.colab.kernel.invokeFunction('convertToInteractive',\n",
              "                                                    [key], {});\n",
              "        if (!dataTable) return;\n",
              "\n",
              "        const docLinkHtml = 'Like what you see? Visit the ' +\n",
              "          '<a target=\"_blank\" href=https://colab.research.google.com/notebooks/data_table.ipynb>data table notebook</a>'\n",
              "          + ' to learn more about interactive tables.';\n",
              "        element.innerHTML = '';\n",
              "        dataTable['output_type'] = 'display_data';\n",
              "        await google.colab.output.renderOutput(dataTable, element);\n",
              "        const docLink = document.createElement('div');\n",
              "        docLink.innerHTML = docLinkHtml;\n",
              "        element.appendChild(docLink);\n",
              "      }\n",
              "    </script>\n",
              "  </div>\n",
              "\n",
              "\n",
              "<div id=\"df-b27bb20c-6059-4ef2-85f1-20c4139ca7b5\">\n",
              "  <button class=\"colab-df-quickchart\" onclick=\"quickchart('df-b27bb20c-6059-4ef2-85f1-20c4139ca7b5')\"\n",
              "            title=\"Suggest charts\"\n",
              "            style=\"display:none;\">\n",
              "\n",
              "<svg xmlns=\"http://www.w3.org/2000/svg\" height=\"24px\"viewBox=\"0 0 24 24\"\n",
              "     width=\"24px\">\n",
              "    <g>\n",
              "        <path d=\"M19 3H5c-1.1 0-2 .9-2 2v14c0 1.1.9 2 2 2h14c1.1 0 2-.9 2-2V5c0-1.1-.9-2-2-2zM9 17H7v-7h2v7zm4 0h-2V7h2v10zm4 0h-2v-4h2v4z\"/>\n",
              "    </g>\n",
              "</svg>\n",
              "  </button>\n",
              "\n",
              "<style>\n",
              "  .colab-df-quickchart {\n",
              "      --bg-color: #E8F0FE;\n",
              "      --fill-color: #1967D2;\n",
              "      --hover-bg-color: #E2EBFA;\n",
              "      --hover-fill-color: #174EA6;\n",
              "      --disabled-fill-color: #AAA;\n",
              "      --disabled-bg-color: #DDD;\n",
              "  }\n",
              "\n",
              "  [theme=dark] .colab-df-quickchart {\n",
              "      --bg-color: #3B4455;\n",
              "      --fill-color: #D2E3FC;\n",
              "      --hover-bg-color: #434B5C;\n",
              "      --hover-fill-color: #FFFFFF;\n",
              "      --disabled-bg-color: #3B4455;\n",
              "      --disabled-fill-color: #666;\n",
              "  }\n",
              "\n",
              "  .colab-df-quickchart {\n",
              "    background-color: var(--bg-color);\n",
              "    border: none;\n",
              "    border-radius: 50%;\n",
              "    cursor: pointer;\n",
              "    display: none;\n",
              "    fill: var(--fill-color);\n",
              "    height: 32px;\n",
              "    padding: 0;\n",
              "    width: 32px;\n",
              "  }\n",
              "\n",
              "  .colab-df-quickchart:hover {\n",
              "    background-color: var(--hover-bg-color);\n",
              "    box-shadow: 0 1px 2px rgba(60, 64, 67, 0.3), 0 1px 3px 1px rgba(60, 64, 67, 0.15);\n",
              "    fill: var(--button-hover-fill-color);\n",
              "  }\n",
              "\n",
              "  .colab-df-quickchart-complete:disabled,\n",
              "  .colab-df-quickchart-complete:disabled:hover {\n",
              "    background-color: var(--disabled-bg-color);\n",
              "    fill: var(--disabled-fill-color);\n",
              "    box-shadow: none;\n",
              "  }\n",
              "\n",
              "  .colab-df-spinner {\n",
              "    border: 2px solid var(--fill-color);\n",
              "    border-color: transparent;\n",
              "    border-bottom-color: var(--fill-color);\n",
              "    animation:\n",
              "      spin 1s steps(1) infinite;\n",
              "  }\n",
              "\n",
              "  @keyframes spin {\n",
              "    0% {\n",
              "      border-color: transparent;\n",
              "      border-bottom-color: var(--fill-color);\n",
              "      border-left-color: var(--fill-color);\n",
              "    }\n",
              "    20% {\n",
              "      border-color: transparent;\n",
              "      border-left-color: var(--fill-color);\n",
              "      border-top-color: var(--fill-color);\n",
              "    }\n",
              "    30% {\n",
              "      border-color: transparent;\n",
              "      border-left-color: var(--fill-color);\n",
              "      border-top-color: var(--fill-color);\n",
              "      border-right-color: var(--fill-color);\n",
              "    }\n",
              "    40% {\n",
              "      border-color: transparent;\n",
              "      border-right-color: var(--fill-color);\n",
              "      border-top-color: var(--fill-color);\n",
              "    }\n",
              "    60% {\n",
              "      border-color: transparent;\n",
              "      border-right-color: var(--fill-color);\n",
              "    }\n",
              "    80% {\n",
              "      border-color: transparent;\n",
              "      border-right-color: var(--fill-color);\n",
              "      border-bottom-color: var(--fill-color);\n",
              "    }\n",
              "    90% {\n",
              "      border-color: transparent;\n",
              "      border-bottom-color: var(--fill-color);\n",
              "    }\n",
              "  }\n",
              "</style>\n",
              "\n",
              "  <script>\n",
              "    async function quickchart(key) {\n",
              "      const quickchartButtonEl =\n",
              "        document.querySelector('#' + key + ' button');\n",
              "      quickchartButtonEl.disabled = true;  // To prevent multiple clicks.\n",
              "      quickchartButtonEl.classList.add('colab-df-spinner');\n",
              "      try {\n",
              "        const charts = await google.colab.kernel.invokeFunction(\n",
              "            'suggestCharts', [key], {});\n",
              "      } catch (error) {\n",
              "        console.error('Error during call to suggestCharts:', error);\n",
              "      }\n",
              "      quickchartButtonEl.classList.remove('colab-df-spinner');\n",
              "      quickchartButtonEl.classList.add('colab-df-quickchart-complete');\n",
              "    }\n",
              "    (() => {\n",
              "      let quickchartButtonEl =\n",
              "        document.querySelector('#df-b27bb20c-6059-4ef2-85f1-20c4139ca7b5 button');\n",
              "      quickchartButtonEl.style.display =\n",
              "        google.colab.kernel.accessAllowed ? 'block' : 'none';\n",
              "    })();\n",
              "  </script>\n",
              "</div>\n",
              "    </div>\n",
              "  </div>\n"
            ]
          },
          "metadata": {},
          "execution_count": 164
        }
      ],
      "source": [
        "table = pd.read_html('https://en.wikipedia.com/wiki/List_of_S%26P_500_companies')\n",
        "table[0]"
      ]
    },
    {
      "cell_type": "code",
      "source": [
        "New_table = table[0]"
      ],
      "metadata": {
        "id": "inXsWwFJKQMv"
      },
      "execution_count": 165,
      "outputs": []
    },
    {
      "cell_type": "code",
      "source": [
        "New_table_2 = New_table[[ datetime.strptime(dt, '%Y-%m-%d') < datetime(2010,1,1) for dt in New_table['Date added'] ] ]\n",
        "New_table_2"
      ],
      "metadata": {
        "colab": {
          "base_uri": "https://localhost:8080/",
          "height": 424
        },
        "id": "HpNZ3HTaI_E5",
        "outputId": "512fd5fb-bd95-4e3e-8d1d-4413f32b09f9"
      },
      "execution_count": 166,
      "outputs": [
        {
          "output_type": "execute_result",
          "data": {
            "text/plain": [
              "    Symbol              Security             GICS Sector  \\\n",
              "0      MMM                    3M             Industrials   \n",
              "2      ABT                Abbott             Health Care   \n",
              "5     ADBE            Adobe Inc.  Information Technology   \n",
              "7      AES       AES Corporation               Utilities   \n",
              "8      AFL                 Aflac              Financials   \n",
              "..     ...                   ...                     ...   \n",
              "495   WYNN          Wynn Resorts  Consumer Discretionary   \n",
              "496    XEL           Xcel Energy               Utilities   \n",
              "498    YUM           Yum! Brands  Consumer Discretionary   \n",
              "500    ZBH         Zimmer Biomet             Health Care   \n",
              "501   ZION  Zions Bancorporation              Financials   \n",
              "\n",
              "                                GICS Sub-Industry    Headquarters Location  \\\n",
              "0                        Industrial Conglomerates    Saint Paul, Minnesota   \n",
              "2                           Health Care Equipment  North Chicago, Illinois   \n",
              "5                            Application Software     San Jose, California   \n",
              "7    Independent Power Producers & Energy Traders      Arlington, Virginia   \n",
              "8                         Life & Health Insurance        Columbus, Georgia   \n",
              "..                                            ...                      ...   \n",
              "495                              Casinos & Gaming         Paradise, Nevada   \n",
              "496                               Multi-Utilities   Minneapolis, Minnesota   \n",
              "498                                   Restaurants     Louisville, Kentucky   \n",
              "500                         Health Care Equipment          Warsaw, Indiana   \n",
              "501                                Regional Banks     Salt Lake City, Utah   \n",
              "\n",
              "     Date added      CIK Founded  \n",
              "0    1957-03-04    66740    1902  \n",
              "2    1957-03-04     1800    1888  \n",
              "5    1997-05-05   796343    1982  \n",
              "7    1998-10-02   874761    1981  \n",
              "8    1999-05-28     4977    1955  \n",
              "..          ...      ...     ...  \n",
              "495  2008-11-14  1174922    2002  \n",
              "496  1957-03-04    72903    1909  \n",
              "498  1997-10-06  1041061    1997  \n",
              "500  2001-08-07  1136869    1927  \n",
              "501  2001-06-22   109380    1873  \n",
              "\n",
              "[290 rows x 8 columns]"
            ],
            "text/html": [
              "\n",
              "  <div id=\"df-683b02cf-9fda-46f9-995b-76e0207324c0\" class=\"colab-df-container\">\n",
              "    <div>\n",
              "<style scoped>\n",
              "    .dataframe tbody tr th:only-of-type {\n",
              "        vertical-align: middle;\n",
              "    }\n",
              "\n",
              "    .dataframe tbody tr th {\n",
              "        vertical-align: top;\n",
              "    }\n",
              "\n",
              "    .dataframe thead th {\n",
              "        text-align: right;\n",
              "    }\n",
              "</style>\n",
              "<table border=\"1\" class=\"dataframe\">\n",
              "  <thead>\n",
              "    <tr style=\"text-align: right;\">\n",
              "      <th></th>\n",
              "      <th>Symbol</th>\n",
              "      <th>Security</th>\n",
              "      <th>GICS Sector</th>\n",
              "      <th>GICS Sub-Industry</th>\n",
              "      <th>Headquarters Location</th>\n",
              "      <th>Date added</th>\n",
              "      <th>CIK</th>\n",
              "      <th>Founded</th>\n",
              "    </tr>\n",
              "  </thead>\n",
              "  <tbody>\n",
              "    <tr>\n",
              "      <th>0</th>\n",
              "      <td>MMM</td>\n",
              "      <td>3M</td>\n",
              "      <td>Industrials</td>\n",
              "      <td>Industrial Conglomerates</td>\n",
              "      <td>Saint Paul, Minnesota</td>\n",
              "      <td>1957-03-04</td>\n",
              "      <td>66740</td>\n",
              "      <td>1902</td>\n",
              "    </tr>\n",
              "    <tr>\n",
              "      <th>2</th>\n",
              "      <td>ABT</td>\n",
              "      <td>Abbott</td>\n",
              "      <td>Health Care</td>\n",
              "      <td>Health Care Equipment</td>\n",
              "      <td>North Chicago, Illinois</td>\n",
              "      <td>1957-03-04</td>\n",
              "      <td>1800</td>\n",
              "      <td>1888</td>\n",
              "    </tr>\n",
              "    <tr>\n",
              "      <th>5</th>\n",
              "      <td>ADBE</td>\n",
              "      <td>Adobe Inc.</td>\n",
              "      <td>Information Technology</td>\n",
              "      <td>Application Software</td>\n",
              "      <td>San Jose, California</td>\n",
              "      <td>1997-05-05</td>\n",
              "      <td>796343</td>\n",
              "      <td>1982</td>\n",
              "    </tr>\n",
              "    <tr>\n",
              "      <th>7</th>\n",
              "      <td>AES</td>\n",
              "      <td>AES Corporation</td>\n",
              "      <td>Utilities</td>\n",
              "      <td>Independent Power Producers &amp; Energy Traders</td>\n",
              "      <td>Arlington, Virginia</td>\n",
              "      <td>1998-10-02</td>\n",
              "      <td>874761</td>\n",
              "      <td>1981</td>\n",
              "    </tr>\n",
              "    <tr>\n",
              "      <th>8</th>\n",
              "      <td>AFL</td>\n",
              "      <td>Aflac</td>\n",
              "      <td>Financials</td>\n",
              "      <td>Life &amp; Health Insurance</td>\n",
              "      <td>Columbus, Georgia</td>\n",
              "      <td>1999-05-28</td>\n",
              "      <td>4977</td>\n",
              "      <td>1955</td>\n",
              "    </tr>\n",
              "    <tr>\n",
              "      <th>...</th>\n",
              "      <td>...</td>\n",
              "      <td>...</td>\n",
              "      <td>...</td>\n",
              "      <td>...</td>\n",
              "      <td>...</td>\n",
              "      <td>...</td>\n",
              "      <td>...</td>\n",
              "      <td>...</td>\n",
              "    </tr>\n",
              "    <tr>\n",
              "      <th>495</th>\n",
              "      <td>WYNN</td>\n",
              "      <td>Wynn Resorts</td>\n",
              "      <td>Consumer Discretionary</td>\n",
              "      <td>Casinos &amp; Gaming</td>\n",
              "      <td>Paradise, Nevada</td>\n",
              "      <td>2008-11-14</td>\n",
              "      <td>1174922</td>\n",
              "      <td>2002</td>\n",
              "    </tr>\n",
              "    <tr>\n",
              "      <th>496</th>\n",
              "      <td>XEL</td>\n",
              "      <td>Xcel Energy</td>\n",
              "      <td>Utilities</td>\n",
              "      <td>Multi-Utilities</td>\n",
              "      <td>Minneapolis, Minnesota</td>\n",
              "      <td>1957-03-04</td>\n",
              "      <td>72903</td>\n",
              "      <td>1909</td>\n",
              "    </tr>\n",
              "    <tr>\n",
              "      <th>498</th>\n",
              "      <td>YUM</td>\n",
              "      <td>Yum! Brands</td>\n",
              "      <td>Consumer Discretionary</td>\n",
              "      <td>Restaurants</td>\n",
              "      <td>Louisville, Kentucky</td>\n",
              "      <td>1997-10-06</td>\n",
              "      <td>1041061</td>\n",
              "      <td>1997</td>\n",
              "    </tr>\n",
              "    <tr>\n",
              "      <th>500</th>\n",
              "      <td>ZBH</td>\n",
              "      <td>Zimmer Biomet</td>\n",
              "      <td>Health Care</td>\n",
              "      <td>Health Care Equipment</td>\n",
              "      <td>Warsaw, Indiana</td>\n",
              "      <td>2001-08-07</td>\n",
              "      <td>1136869</td>\n",
              "      <td>1927</td>\n",
              "    </tr>\n",
              "    <tr>\n",
              "      <th>501</th>\n",
              "      <td>ZION</td>\n",
              "      <td>Zions Bancorporation</td>\n",
              "      <td>Financials</td>\n",
              "      <td>Regional Banks</td>\n",
              "      <td>Salt Lake City, Utah</td>\n",
              "      <td>2001-06-22</td>\n",
              "      <td>109380</td>\n",
              "      <td>1873</td>\n",
              "    </tr>\n",
              "  </tbody>\n",
              "</table>\n",
              "<p>290 rows × 8 columns</p>\n",
              "</div>\n",
              "    <div class=\"colab-df-buttons\">\n",
              "\n",
              "  <div class=\"colab-df-container\">\n",
              "    <button class=\"colab-df-convert\" onclick=\"convertToInteractive('df-683b02cf-9fda-46f9-995b-76e0207324c0')\"\n",
              "            title=\"Convert this dataframe to an interactive table.\"\n",
              "            style=\"display:none;\">\n",
              "\n",
              "  <svg xmlns=\"http://www.w3.org/2000/svg\" height=\"24px\" viewBox=\"0 -960 960 960\">\n",
              "    <path d=\"M120-120v-720h720v720H120Zm60-500h600v-160H180v160Zm220 220h160v-160H400v160Zm0 220h160v-160H400v160ZM180-400h160v-160H180v160Zm440 0h160v-160H620v160ZM180-180h160v-160H180v160Zm440 0h160v-160H620v160Z\"/>\n",
              "  </svg>\n",
              "    </button>\n",
              "\n",
              "  <style>\n",
              "    .colab-df-container {\n",
              "      display:flex;\n",
              "      gap: 12px;\n",
              "    }\n",
              "\n",
              "    .colab-df-convert {\n",
              "      background-color: #E8F0FE;\n",
              "      border: none;\n",
              "      border-radius: 50%;\n",
              "      cursor: pointer;\n",
              "      display: none;\n",
              "      fill: #1967D2;\n",
              "      height: 32px;\n",
              "      padding: 0 0 0 0;\n",
              "      width: 32px;\n",
              "    }\n",
              "\n",
              "    .colab-df-convert:hover {\n",
              "      background-color: #E2EBFA;\n",
              "      box-shadow: 0px 1px 2px rgba(60, 64, 67, 0.3), 0px 1px 3px 1px rgba(60, 64, 67, 0.15);\n",
              "      fill: #174EA6;\n",
              "    }\n",
              "\n",
              "    .colab-df-buttons div {\n",
              "      margin-bottom: 4px;\n",
              "    }\n",
              "\n",
              "    [theme=dark] .colab-df-convert {\n",
              "      background-color: #3B4455;\n",
              "      fill: #D2E3FC;\n",
              "    }\n",
              "\n",
              "    [theme=dark] .colab-df-convert:hover {\n",
              "      background-color: #434B5C;\n",
              "      box-shadow: 0px 1px 3px 1px rgba(0, 0, 0, 0.15);\n",
              "      filter: drop-shadow(0px 1px 2px rgba(0, 0, 0, 0.3));\n",
              "      fill: #FFFFFF;\n",
              "    }\n",
              "  </style>\n",
              "\n",
              "    <script>\n",
              "      const buttonEl =\n",
              "        document.querySelector('#df-683b02cf-9fda-46f9-995b-76e0207324c0 button.colab-df-convert');\n",
              "      buttonEl.style.display =\n",
              "        google.colab.kernel.accessAllowed ? 'block' : 'none';\n",
              "\n",
              "      async function convertToInteractive(key) {\n",
              "        const element = document.querySelector('#df-683b02cf-9fda-46f9-995b-76e0207324c0');\n",
              "        const dataTable =\n",
              "          await google.colab.kernel.invokeFunction('convertToInteractive',\n",
              "                                                    [key], {});\n",
              "        if (!dataTable) return;\n",
              "\n",
              "        const docLinkHtml = 'Like what you see? Visit the ' +\n",
              "          '<a target=\"_blank\" href=https://colab.research.google.com/notebooks/data_table.ipynb>data table notebook</a>'\n",
              "          + ' to learn more about interactive tables.';\n",
              "        element.innerHTML = '';\n",
              "        dataTable['output_type'] = 'display_data';\n",
              "        await google.colab.output.renderOutput(dataTable, element);\n",
              "        const docLink = document.createElement('div');\n",
              "        docLink.innerHTML = docLinkHtml;\n",
              "        element.appendChild(docLink);\n",
              "      }\n",
              "    </script>\n",
              "  </div>\n",
              "\n",
              "\n",
              "<div id=\"df-a1963275-26ba-470d-9fb1-df9fab25e44f\">\n",
              "  <button class=\"colab-df-quickchart\" onclick=\"quickchart('df-a1963275-26ba-470d-9fb1-df9fab25e44f')\"\n",
              "            title=\"Suggest charts\"\n",
              "            style=\"display:none;\">\n",
              "\n",
              "<svg xmlns=\"http://www.w3.org/2000/svg\" height=\"24px\"viewBox=\"0 0 24 24\"\n",
              "     width=\"24px\">\n",
              "    <g>\n",
              "        <path d=\"M19 3H5c-1.1 0-2 .9-2 2v14c0 1.1.9 2 2 2h14c1.1 0 2-.9 2-2V5c0-1.1-.9-2-2-2zM9 17H7v-7h2v7zm4 0h-2V7h2v10zm4 0h-2v-4h2v4z\"/>\n",
              "    </g>\n",
              "</svg>\n",
              "  </button>\n",
              "\n",
              "<style>\n",
              "  .colab-df-quickchart {\n",
              "      --bg-color: #E8F0FE;\n",
              "      --fill-color: #1967D2;\n",
              "      --hover-bg-color: #E2EBFA;\n",
              "      --hover-fill-color: #174EA6;\n",
              "      --disabled-fill-color: #AAA;\n",
              "      --disabled-bg-color: #DDD;\n",
              "  }\n",
              "\n",
              "  [theme=dark] .colab-df-quickchart {\n",
              "      --bg-color: #3B4455;\n",
              "      --fill-color: #D2E3FC;\n",
              "      --hover-bg-color: #434B5C;\n",
              "      --hover-fill-color: #FFFFFF;\n",
              "      --disabled-bg-color: #3B4455;\n",
              "      --disabled-fill-color: #666;\n",
              "  }\n",
              "\n",
              "  .colab-df-quickchart {\n",
              "    background-color: var(--bg-color);\n",
              "    border: none;\n",
              "    border-radius: 50%;\n",
              "    cursor: pointer;\n",
              "    display: none;\n",
              "    fill: var(--fill-color);\n",
              "    height: 32px;\n",
              "    padding: 0;\n",
              "    width: 32px;\n",
              "  }\n",
              "\n",
              "  .colab-df-quickchart:hover {\n",
              "    background-color: var(--hover-bg-color);\n",
              "    box-shadow: 0 1px 2px rgba(60, 64, 67, 0.3), 0 1px 3px 1px rgba(60, 64, 67, 0.15);\n",
              "    fill: var(--button-hover-fill-color);\n",
              "  }\n",
              "\n",
              "  .colab-df-quickchart-complete:disabled,\n",
              "  .colab-df-quickchart-complete:disabled:hover {\n",
              "    background-color: var(--disabled-bg-color);\n",
              "    fill: var(--disabled-fill-color);\n",
              "    box-shadow: none;\n",
              "  }\n",
              "\n",
              "  .colab-df-spinner {\n",
              "    border: 2px solid var(--fill-color);\n",
              "    border-color: transparent;\n",
              "    border-bottom-color: var(--fill-color);\n",
              "    animation:\n",
              "      spin 1s steps(1) infinite;\n",
              "  }\n",
              "\n",
              "  @keyframes spin {\n",
              "    0% {\n",
              "      border-color: transparent;\n",
              "      border-bottom-color: var(--fill-color);\n",
              "      border-left-color: var(--fill-color);\n",
              "    }\n",
              "    20% {\n",
              "      border-color: transparent;\n",
              "      border-left-color: var(--fill-color);\n",
              "      border-top-color: var(--fill-color);\n",
              "    }\n",
              "    30% {\n",
              "      border-color: transparent;\n",
              "      border-left-color: var(--fill-color);\n",
              "      border-top-color: var(--fill-color);\n",
              "      border-right-color: var(--fill-color);\n",
              "    }\n",
              "    40% {\n",
              "      border-color: transparent;\n",
              "      border-right-color: var(--fill-color);\n",
              "      border-top-color: var(--fill-color);\n",
              "    }\n",
              "    60% {\n",
              "      border-color: transparent;\n",
              "      border-right-color: var(--fill-color);\n",
              "    }\n",
              "    80% {\n",
              "      border-color: transparent;\n",
              "      border-right-color: var(--fill-color);\n",
              "      border-bottom-color: var(--fill-color);\n",
              "    }\n",
              "    90% {\n",
              "      border-color: transparent;\n",
              "      border-bottom-color: var(--fill-color);\n",
              "    }\n",
              "  }\n",
              "</style>\n",
              "\n",
              "  <script>\n",
              "    async function quickchart(key) {\n",
              "      const quickchartButtonEl =\n",
              "        document.querySelector('#' + key + ' button');\n",
              "      quickchartButtonEl.disabled = true;  // To prevent multiple clicks.\n",
              "      quickchartButtonEl.classList.add('colab-df-spinner');\n",
              "      try {\n",
              "        const charts = await google.colab.kernel.invokeFunction(\n",
              "            'suggestCharts', [key], {});\n",
              "      } catch (error) {\n",
              "        console.error('Error during call to suggestCharts:', error);\n",
              "      }\n",
              "      quickchartButtonEl.classList.remove('colab-df-spinner');\n",
              "      quickchartButtonEl.classList.add('colab-df-quickchart-complete');\n",
              "    }\n",
              "    (() => {\n",
              "      let quickchartButtonEl =\n",
              "        document.querySelector('#df-a1963275-26ba-470d-9fb1-df9fab25e44f button');\n",
              "      quickchartButtonEl.style.display =\n",
              "        google.colab.kernel.accessAllowed ? 'block' : 'none';\n",
              "    })();\n",
              "  </script>\n",
              "</div>\n",
              "    </div>\n",
              "  </div>\n"
            ]
          },
          "metadata": {},
          "execution_count": 166
        }
      ]
    },
    {
      "cell_type": "code",
      "source": [
        "My_Tickers = New_table_2['Symbol'].tolist()\n",
        "\n",
        "if 'BF.B' in My_Tickers:\n",
        "    My_Tickers.remove('BF.B')\n",
        "\n",
        "My_Tickers\n"
      ],
      "metadata": {
        "colab": {
          "base_uri": "https://localhost:8080/"
        },
        "id": "e_6nCVZVL8hd",
        "outputId": "913d4804-9603-41ee-f87e-2af61bead48a"
      },
      "execution_count": 167,
      "outputs": [
        {
          "output_type": "execute_result",
          "data": {
            "text/plain": [
              "['MMM',\n",
              " 'ABT',\n",
              " 'ADBE',\n",
              " 'AES',\n",
              " 'AFL',\n",
              " 'A',\n",
              " 'APD',\n",
              " 'AKAM',\n",
              " 'ALL',\n",
              " 'GOOG',\n",
              " 'MO',\n",
              " 'AMZN',\n",
              " 'AEE',\n",
              " 'AEP',\n",
              " 'AXP',\n",
              " 'AIG',\n",
              " 'AMT',\n",
              " 'AMP',\n",
              " 'AMGN',\n",
              " 'APH',\n",
              " 'ADI',\n",
              " 'AON',\n",
              " 'APA',\n",
              " 'AAPL',\n",
              " 'AMAT',\n",
              " 'ADM',\n",
              " 'AIZ',\n",
              " 'T',\n",
              " 'ADSK',\n",
              " 'ADP',\n",
              " 'AZO',\n",
              " 'AVB',\n",
              " 'AVY',\n",
              " 'BALL',\n",
              " 'BAC',\n",
              " 'BK',\n",
              " 'BBWI',\n",
              " 'BAX',\n",
              " 'BDX',\n",
              " 'BBY',\n",
              " 'BIIB',\n",
              " 'BA',\n",
              " 'BKNG',\n",
              " 'BXP',\n",
              " 'BSX',\n",
              " 'BMY',\n",
              " 'CPB',\n",
              " 'COF',\n",
              " 'CAH',\n",
              " 'CCL',\n",
              " 'CAT',\n",
              " 'CBRE',\n",
              " 'COR',\n",
              " 'CNP',\n",
              " 'CF',\n",
              " 'CHRW',\n",
              " 'SCHW',\n",
              " 'CVX',\n",
              " 'CI',\n",
              " 'CINF',\n",
              " 'CTAS',\n",
              " 'CSCO',\n",
              " 'C',\n",
              " 'CLX',\n",
              " 'CME',\n",
              " 'CMS',\n",
              " 'KO',\n",
              " 'CTSH',\n",
              " 'CL',\n",
              " 'CMCSA',\n",
              " 'CMA',\n",
              " 'CAG',\n",
              " 'COP',\n",
              " 'ED',\n",
              " 'STZ',\n",
              " 'GLW',\n",
              " 'COST',\n",
              " 'CTRA',\n",
              " 'CSX',\n",
              " 'CMI',\n",
              " 'CVS',\n",
              " 'DHR',\n",
              " 'DRI',\n",
              " 'DVA',\n",
              " 'DE',\n",
              " 'XRAY',\n",
              " 'DVN',\n",
              " 'DFS',\n",
              " 'DOV',\n",
              " 'DHI',\n",
              " 'DTE',\n",
              " 'DUK',\n",
              " 'EMN',\n",
              " 'ETN',\n",
              " 'EBAY',\n",
              " 'ECL',\n",
              " 'EIX',\n",
              " 'EA',\n",
              " 'ELV',\n",
              " 'LLY',\n",
              " 'EMR',\n",
              " 'ETR',\n",
              " 'EOG',\n",
              " 'EFX',\n",
              " 'EQR',\n",
              " 'EL',\n",
              " 'ES',\n",
              " 'EXC',\n",
              " 'EXPE',\n",
              " 'EXPD',\n",
              " 'XOM',\n",
              " 'FAST',\n",
              " 'FDX',\n",
              " 'FIS',\n",
              " 'FITB',\n",
              " 'FE',\n",
              " 'FI',\n",
              " 'FMC',\n",
              " 'F',\n",
              " 'BEN',\n",
              " 'GEN',\n",
              " 'GD',\n",
              " 'GE',\n",
              " 'GIS',\n",
              " 'GPC',\n",
              " 'GILD',\n",
              " 'GL',\n",
              " 'GS',\n",
              " 'HAL',\n",
              " 'HIG',\n",
              " 'HAS',\n",
              " 'PEAK',\n",
              " 'HSY',\n",
              " 'HES',\n",
              " 'HD',\n",
              " 'HON',\n",
              " 'HRL',\n",
              " 'HST',\n",
              " 'HWM',\n",
              " 'HPQ',\n",
              " 'HBAN',\n",
              " 'IBM',\n",
              " 'ITW',\n",
              " 'INTC',\n",
              " 'ICE',\n",
              " 'IFF',\n",
              " 'IP',\n",
              " 'IPG',\n",
              " 'INTU',\n",
              " 'ISRG',\n",
              " 'IVZ',\n",
              " 'IRM',\n",
              " 'J',\n",
              " 'JNJ',\n",
              " 'JPM',\n",
              " 'JNPR',\n",
              " 'K',\n",
              " 'KEY',\n",
              " 'KMB',\n",
              " 'KIM',\n",
              " 'KLAC',\n",
              " 'KR',\n",
              " 'LHX',\n",
              " 'LH',\n",
              " 'LEN',\n",
              " 'LIN',\n",
              " 'LMT',\n",
              " 'L',\n",
              " 'LOW',\n",
              " 'MTB',\n",
              " 'MRO',\n",
              " 'MAR',\n",
              " 'MMC',\n",
              " 'MAS',\n",
              " 'MA',\n",
              " 'MKC',\n",
              " 'MCD',\n",
              " 'MCK',\n",
              " 'MDT',\n",
              " 'MRK',\n",
              " 'MET',\n",
              " 'MCHP',\n",
              " 'MU',\n",
              " 'MSFT',\n",
              " 'TAP',\n",
              " 'MCO',\n",
              " 'MS',\n",
              " 'MSI',\n",
              " 'NDAQ',\n",
              " 'NTAP',\n",
              " 'NEM',\n",
              " 'NEE',\n",
              " 'NKE',\n",
              " 'NI',\n",
              " 'NSC',\n",
              " 'NTRS',\n",
              " 'NOC',\n",
              " 'NUE',\n",
              " 'NVDA',\n",
              " 'ORLY',\n",
              " 'OXY',\n",
              " 'OMC',\n",
              " 'ORCL',\n",
              " 'PCAR',\n",
              " 'PARA',\n",
              " 'PH',\n",
              " 'PAYX',\n",
              " 'PEP',\n",
              " 'PFE',\n",
              " 'PM',\n",
              " 'PNW',\n",
              " 'PXD',\n",
              " 'PNC',\n",
              " 'PPG',\n",
              " 'PPL',\n",
              " 'PFG',\n",
              " 'PG',\n",
              " 'PGR',\n",
              " 'PLD',\n",
              " 'PRU',\n",
              " 'PEG',\n",
              " 'PSA',\n",
              " 'PHM',\n",
              " 'PWR',\n",
              " 'QCOM',\n",
              " 'DGX',\n",
              " 'RL',\n",
              " 'RTX',\n",
              " 'RF',\n",
              " 'RSG',\n",
              " 'RVTY',\n",
              " 'RHI',\n",
              " 'ROK',\n",
              " 'ROP',\n",
              " 'ROST',\n",
              " 'SPGI',\n",
              " 'CRM',\n",
              " 'SLB',\n",
              " 'SHW',\n",
              " 'SPG',\n",
              " 'SJM',\n",
              " 'SNA',\n",
              " 'SO',\n",
              " 'LUV',\n",
              " 'SWK',\n",
              " 'SBUX',\n",
              " 'STT',\n",
              " 'SYK',\n",
              " 'SYY',\n",
              " 'TPR',\n",
              " 'TGT',\n",
              " 'TXN',\n",
              " 'TXT',\n",
              " 'TMO',\n",
              " 'TJX',\n",
              " 'TRV',\n",
              " 'TFC',\n",
              " 'TSN',\n",
              " 'USB',\n",
              " 'UNP',\n",
              " 'UPS',\n",
              " 'UNH',\n",
              " 'VLO',\n",
              " 'VTR',\n",
              " 'VRSN',\n",
              " 'VZ',\n",
              " 'VFC',\n",
              " 'VTRS',\n",
              " 'V',\n",
              " 'VMC',\n",
              " 'WBA',\n",
              " 'WMT',\n",
              " 'DIS',\n",
              " 'WM',\n",
              " 'WAT',\n",
              " 'WEC',\n",
              " 'WFC',\n",
              " 'WELL',\n",
              " 'WDC',\n",
              " 'WRK',\n",
              " 'WY',\n",
              " 'WHR',\n",
              " 'WMB',\n",
              " 'GWW',\n",
              " 'WYNN',\n",
              " 'XEL',\n",
              " 'YUM',\n",
              " 'ZBH',\n",
              " 'ZION']"
            ]
          },
          "metadata": {},
          "execution_count": 167
        }
      ]
    },
    {
      "cell_type": "code",
      "source": [
        "Raw_price_for_my_tickers = yf.download(tickers=My_Tickers, start=\"2010-01-04\", interval=\"1d\", group_by=\"ticker\")\n"
      ],
      "metadata": {
        "colab": {
          "base_uri": "https://localhost:8080/"
        },
        "id": "4dgl0saxyxWP",
        "outputId": "e02fffcb-5208-4cf1-aa28-44adc21c50c4"
      },
      "execution_count": 168,
      "outputs": [
        {
          "output_type": "stream",
          "name": "stdout",
          "text": [
            "[*********************100%%**********************]  289 of 289 completed\n"
          ]
        }
      ]
    },
    {
      "cell_type": "code",
      "source": [
        "Raw_price_for_my_tickers['HWM']"
      ],
      "metadata": {
        "colab": {
          "base_uri": "https://localhost:8080/",
          "height": 455
        },
        "id": "9lCrS2a-QBIT",
        "outputId": "2fec163d-8491-4af0-c914-da4f55a213f6"
      },
      "execution_count": 169,
      "outputs": [
        {
          "output_type": "execute_result",
          "data": {
            "text/plain": [
              "                 Open       High        Low      Close  Adj Close     Volume\n",
              "Date                                                                        \n",
              "2010-01-04        NaN        NaN        NaN        NaN        NaN        NaN\n",
              "2010-01-05        NaN        NaN        NaN        NaN        NaN        NaN\n",
              "2010-01-06        NaN        NaN        NaN        NaN        NaN        NaN\n",
              "2010-01-07        NaN        NaN        NaN        NaN        NaN        NaN\n",
              "2010-01-08        NaN        NaN        NaN        NaN        NaN        NaN\n",
              "...               ...        ...        ...        ...        ...        ...\n",
              "2023-12-18  52.990002  53.480000  52.900002  53.189999  53.189999  1922000.0\n",
              "2023-12-19  53.360001  53.880001  53.230000  53.650002  53.650002  2697000.0\n",
              "2023-12-20  53.330002  53.730000  52.680000  52.720001  52.720001  2075200.0\n",
              "2023-12-21  53.310001  53.680000  53.119999  53.470001  53.470001  1694800.0\n",
              "2023-12-22  53.570000  53.855000  53.580002  53.855000  53.855000   135044.0\n",
              "\n",
              "[3518 rows x 6 columns]"
            ],
            "text/html": [
              "\n",
              "  <div id=\"df-a22f9b0a-4058-4934-a84c-a8adb06682a4\" class=\"colab-df-container\">\n",
              "    <div>\n",
              "<style scoped>\n",
              "    .dataframe tbody tr th:only-of-type {\n",
              "        vertical-align: middle;\n",
              "    }\n",
              "\n",
              "    .dataframe tbody tr th {\n",
              "        vertical-align: top;\n",
              "    }\n",
              "\n",
              "    .dataframe thead th {\n",
              "        text-align: right;\n",
              "    }\n",
              "</style>\n",
              "<table border=\"1\" class=\"dataframe\">\n",
              "  <thead>\n",
              "    <tr style=\"text-align: right;\">\n",
              "      <th></th>\n",
              "      <th>Open</th>\n",
              "      <th>High</th>\n",
              "      <th>Low</th>\n",
              "      <th>Close</th>\n",
              "      <th>Adj Close</th>\n",
              "      <th>Volume</th>\n",
              "    </tr>\n",
              "    <tr>\n",
              "      <th>Date</th>\n",
              "      <th></th>\n",
              "      <th></th>\n",
              "      <th></th>\n",
              "      <th></th>\n",
              "      <th></th>\n",
              "      <th></th>\n",
              "    </tr>\n",
              "  </thead>\n",
              "  <tbody>\n",
              "    <tr>\n",
              "      <th>2010-01-04</th>\n",
              "      <td>NaN</td>\n",
              "      <td>NaN</td>\n",
              "      <td>NaN</td>\n",
              "      <td>NaN</td>\n",
              "      <td>NaN</td>\n",
              "      <td>NaN</td>\n",
              "    </tr>\n",
              "    <tr>\n",
              "      <th>2010-01-05</th>\n",
              "      <td>NaN</td>\n",
              "      <td>NaN</td>\n",
              "      <td>NaN</td>\n",
              "      <td>NaN</td>\n",
              "      <td>NaN</td>\n",
              "      <td>NaN</td>\n",
              "    </tr>\n",
              "    <tr>\n",
              "      <th>2010-01-06</th>\n",
              "      <td>NaN</td>\n",
              "      <td>NaN</td>\n",
              "      <td>NaN</td>\n",
              "      <td>NaN</td>\n",
              "      <td>NaN</td>\n",
              "      <td>NaN</td>\n",
              "    </tr>\n",
              "    <tr>\n",
              "      <th>2010-01-07</th>\n",
              "      <td>NaN</td>\n",
              "      <td>NaN</td>\n",
              "      <td>NaN</td>\n",
              "      <td>NaN</td>\n",
              "      <td>NaN</td>\n",
              "      <td>NaN</td>\n",
              "    </tr>\n",
              "    <tr>\n",
              "      <th>2010-01-08</th>\n",
              "      <td>NaN</td>\n",
              "      <td>NaN</td>\n",
              "      <td>NaN</td>\n",
              "      <td>NaN</td>\n",
              "      <td>NaN</td>\n",
              "      <td>NaN</td>\n",
              "    </tr>\n",
              "    <tr>\n",
              "      <th>...</th>\n",
              "      <td>...</td>\n",
              "      <td>...</td>\n",
              "      <td>...</td>\n",
              "      <td>...</td>\n",
              "      <td>...</td>\n",
              "      <td>...</td>\n",
              "    </tr>\n",
              "    <tr>\n",
              "      <th>2023-12-18</th>\n",
              "      <td>52.990002</td>\n",
              "      <td>53.480000</td>\n",
              "      <td>52.900002</td>\n",
              "      <td>53.189999</td>\n",
              "      <td>53.189999</td>\n",
              "      <td>1922000.0</td>\n",
              "    </tr>\n",
              "    <tr>\n",
              "      <th>2023-12-19</th>\n",
              "      <td>53.360001</td>\n",
              "      <td>53.880001</td>\n",
              "      <td>53.230000</td>\n",
              "      <td>53.650002</td>\n",
              "      <td>53.650002</td>\n",
              "      <td>2697000.0</td>\n",
              "    </tr>\n",
              "    <tr>\n",
              "      <th>2023-12-20</th>\n",
              "      <td>53.330002</td>\n",
              "      <td>53.730000</td>\n",
              "      <td>52.680000</td>\n",
              "      <td>52.720001</td>\n",
              "      <td>52.720001</td>\n",
              "      <td>2075200.0</td>\n",
              "    </tr>\n",
              "    <tr>\n",
              "      <th>2023-12-21</th>\n",
              "      <td>53.310001</td>\n",
              "      <td>53.680000</td>\n",
              "      <td>53.119999</td>\n",
              "      <td>53.470001</td>\n",
              "      <td>53.470001</td>\n",
              "      <td>1694800.0</td>\n",
              "    </tr>\n",
              "    <tr>\n",
              "      <th>2023-12-22</th>\n",
              "      <td>53.570000</td>\n",
              "      <td>53.855000</td>\n",
              "      <td>53.580002</td>\n",
              "      <td>53.855000</td>\n",
              "      <td>53.855000</td>\n",
              "      <td>135044.0</td>\n",
              "    </tr>\n",
              "  </tbody>\n",
              "</table>\n",
              "<p>3518 rows × 6 columns</p>\n",
              "</div>\n",
              "    <div class=\"colab-df-buttons\">\n",
              "\n",
              "  <div class=\"colab-df-container\">\n",
              "    <button class=\"colab-df-convert\" onclick=\"convertToInteractive('df-a22f9b0a-4058-4934-a84c-a8adb06682a4')\"\n",
              "            title=\"Convert this dataframe to an interactive table.\"\n",
              "            style=\"display:none;\">\n",
              "\n",
              "  <svg xmlns=\"http://www.w3.org/2000/svg\" height=\"24px\" viewBox=\"0 -960 960 960\">\n",
              "    <path d=\"M120-120v-720h720v720H120Zm60-500h600v-160H180v160Zm220 220h160v-160H400v160Zm0 220h160v-160H400v160ZM180-400h160v-160H180v160Zm440 0h160v-160H620v160ZM180-180h160v-160H180v160Zm440 0h160v-160H620v160Z\"/>\n",
              "  </svg>\n",
              "    </button>\n",
              "\n",
              "  <style>\n",
              "    .colab-df-container {\n",
              "      display:flex;\n",
              "      gap: 12px;\n",
              "    }\n",
              "\n",
              "    .colab-df-convert {\n",
              "      background-color: #E8F0FE;\n",
              "      border: none;\n",
              "      border-radius: 50%;\n",
              "      cursor: pointer;\n",
              "      display: none;\n",
              "      fill: #1967D2;\n",
              "      height: 32px;\n",
              "      padding: 0 0 0 0;\n",
              "      width: 32px;\n",
              "    }\n",
              "\n",
              "    .colab-df-convert:hover {\n",
              "      background-color: #E2EBFA;\n",
              "      box-shadow: 0px 1px 2px rgba(60, 64, 67, 0.3), 0px 1px 3px 1px rgba(60, 64, 67, 0.15);\n",
              "      fill: #174EA6;\n",
              "    }\n",
              "\n",
              "    .colab-df-buttons div {\n",
              "      margin-bottom: 4px;\n",
              "    }\n",
              "\n",
              "    [theme=dark] .colab-df-convert {\n",
              "      background-color: #3B4455;\n",
              "      fill: #D2E3FC;\n",
              "    }\n",
              "\n",
              "    [theme=dark] .colab-df-convert:hover {\n",
              "      background-color: #434B5C;\n",
              "      box-shadow: 0px 1px 3px 1px rgba(0, 0, 0, 0.15);\n",
              "      filter: drop-shadow(0px 1px 2px rgba(0, 0, 0, 0.3));\n",
              "      fill: #FFFFFF;\n",
              "    }\n",
              "  </style>\n",
              "\n",
              "    <script>\n",
              "      const buttonEl =\n",
              "        document.querySelector('#df-a22f9b0a-4058-4934-a84c-a8adb06682a4 button.colab-df-convert');\n",
              "      buttonEl.style.display =\n",
              "        google.colab.kernel.accessAllowed ? 'block' : 'none';\n",
              "\n",
              "      async function convertToInteractive(key) {\n",
              "        const element = document.querySelector('#df-a22f9b0a-4058-4934-a84c-a8adb06682a4');\n",
              "        const dataTable =\n",
              "          await google.colab.kernel.invokeFunction('convertToInteractive',\n",
              "                                                    [key], {});\n",
              "        if (!dataTable) return;\n",
              "\n",
              "        const docLinkHtml = 'Like what you see? Visit the ' +\n",
              "          '<a target=\"_blank\" href=https://colab.research.google.com/notebooks/data_table.ipynb>data table notebook</a>'\n",
              "          + ' to learn more about interactive tables.';\n",
              "        element.innerHTML = '';\n",
              "        dataTable['output_type'] = 'display_data';\n",
              "        await google.colab.output.renderOutput(dataTable, element);\n",
              "        const docLink = document.createElement('div');\n",
              "        docLink.innerHTML = docLinkHtml;\n",
              "        element.appendChild(docLink);\n",
              "      }\n",
              "    </script>\n",
              "  </div>\n",
              "\n",
              "\n",
              "<div id=\"df-2a57d3df-c781-4776-9bc0-fd18ab7f6f20\">\n",
              "  <button class=\"colab-df-quickchart\" onclick=\"quickchart('df-2a57d3df-c781-4776-9bc0-fd18ab7f6f20')\"\n",
              "            title=\"Suggest charts\"\n",
              "            style=\"display:none;\">\n",
              "\n",
              "<svg xmlns=\"http://www.w3.org/2000/svg\" height=\"24px\"viewBox=\"0 0 24 24\"\n",
              "     width=\"24px\">\n",
              "    <g>\n",
              "        <path d=\"M19 3H5c-1.1 0-2 .9-2 2v14c0 1.1.9 2 2 2h14c1.1 0 2-.9 2-2V5c0-1.1-.9-2-2-2zM9 17H7v-7h2v7zm4 0h-2V7h2v10zm4 0h-2v-4h2v4z\"/>\n",
              "    </g>\n",
              "</svg>\n",
              "  </button>\n",
              "\n",
              "<style>\n",
              "  .colab-df-quickchart {\n",
              "      --bg-color: #E8F0FE;\n",
              "      --fill-color: #1967D2;\n",
              "      --hover-bg-color: #E2EBFA;\n",
              "      --hover-fill-color: #174EA6;\n",
              "      --disabled-fill-color: #AAA;\n",
              "      --disabled-bg-color: #DDD;\n",
              "  }\n",
              "\n",
              "  [theme=dark] .colab-df-quickchart {\n",
              "      --bg-color: #3B4455;\n",
              "      --fill-color: #D2E3FC;\n",
              "      --hover-bg-color: #434B5C;\n",
              "      --hover-fill-color: #FFFFFF;\n",
              "      --disabled-bg-color: #3B4455;\n",
              "      --disabled-fill-color: #666;\n",
              "  }\n",
              "\n",
              "  .colab-df-quickchart {\n",
              "    background-color: var(--bg-color);\n",
              "    border: none;\n",
              "    border-radius: 50%;\n",
              "    cursor: pointer;\n",
              "    display: none;\n",
              "    fill: var(--fill-color);\n",
              "    height: 32px;\n",
              "    padding: 0;\n",
              "    width: 32px;\n",
              "  }\n",
              "\n",
              "  .colab-df-quickchart:hover {\n",
              "    background-color: var(--hover-bg-color);\n",
              "    box-shadow: 0 1px 2px rgba(60, 64, 67, 0.3), 0 1px 3px 1px rgba(60, 64, 67, 0.15);\n",
              "    fill: var(--button-hover-fill-color);\n",
              "  }\n",
              "\n",
              "  .colab-df-quickchart-complete:disabled,\n",
              "  .colab-df-quickchart-complete:disabled:hover {\n",
              "    background-color: var(--disabled-bg-color);\n",
              "    fill: var(--disabled-fill-color);\n",
              "    box-shadow: none;\n",
              "  }\n",
              "\n",
              "  .colab-df-spinner {\n",
              "    border: 2px solid var(--fill-color);\n",
              "    border-color: transparent;\n",
              "    border-bottom-color: var(--fill-color);\n",
              "    animation:\n",
              "      spin 1s steps(1) infinite;\n",
              "  }\n",
              "\n",
              "  @keyframes spin {\n",
              "    0% {\n",
              "      border-color: transparent;\n",
              "      border-bottom-color: var(--fill-color);\n",
              "      border-left-color: var(--fill-color);\n",
              "    }\n",
              "    20% {\n",
              "      border-color: transparent;\n",
              "      border-left-color: var(--fill-color);\n",
              "      border-top-color: var(--fill-color);\n",
              "    }\n",
              "    30% {\n",
              "      border-color: transparent;\n",
              "      border-left-color: var(--fill-color);\n",
              "      border-top-color: var(--fill-color);\n",
              "      border-right-color: var(--fill-color);\n",
              "    }\n",
              "    40% {\n",
              "      border-color: transparent;\n",
              "      border-right-color: var(--fill-color);\n",
              "      border-top-color: var(--fill-color);\n",
              "    }\n",
              "    60% {\n",
              "      border-color: transparent;\n",
              "      border-right-color: var(--fill-color);\n",
              "    }\n",
              "    80% {\n",
              "      border-color: transparent;\n",
              "      border-right-color: var(--fill-color);\n",
              "      border-bottom-color: var(--fill-color);\n",
              "    }\n",
              "    90% {\n",
              "      border-color: transparent;\n",
              "      border-bottom-color: var(--fill-color);\n",
              "    }\n",
              "  }\n",
              "</style>\n",
              "\n",
              "  <script>\n",
              "    async function quickchart(key) {\n",
              "      const quickchartButtonEl =\n",
              "        document.querySelector('#' + key + ' button');\n",
              "      quickchartButtonEl.disabled = true;  // To prevent multiple clicks.\n",
              "      quickchartButtonEl.classList.add('colab-df-spinner');\n",
              "      try {\n",
              "        const charts = await google.colab.kernel.invokeFunction(\n",
              "            'suggestCharts', [key], {});\n",
              "      } catch (error) {\n",
              "        console.error('Error during call to suggestCharts:', error);\n",
              "      }\n",
              "      quickchartButtonEl.classList.remove('colab-df-spinner');\n",
              "      quickchartButtonEl.classList.add('colab-df-quickchart-complete');\n",
              "    }\n",
              "    (() => {\n",
              "      let quickchartButtonEl =\n",
              "        document.querySelector('#df-2a57d3df-c781-4776-9bc0-fd18ab7f6f20 button');\n",
              "      quickchartButtonEl.style.display =\n",
              "        google.colab.kernel.accessAllowed ? 'block' : 'none';\n",
              "    })();\n",
              "  </script>\n",
              "</div>\n",
              "    </div>\n",
              "  </div>\n"
            ]
          },
          "metadata": {},
          "execution_count": 169
        }
      ]
    },
    {
      "cell_type": "code",
      "source": [
        "Raw_price_for_my_tickers.head()"
      ],
      "metadata": {
        "colab": {
          "base_uri": "https://localhost:8080/",
          "height": 422
        },
        "id": "AVPDRBcMzhQe",
        "outputId": "cf46aa6f-133b-4f50-8b7c-e8e61ceb0794"
      },
      "execution_count": 170,
      "outputs": [
        {
          "output_type": "execute_result",
          "data": {
            "text/plain": [
              "                  ECL                                                       \\\n",
              "                 Open       High        Low      Close  Adj Close   Volume   \n",
              "Date                                                                         \n",
              "2010-01-04  45.029999  45.340000  44.860001  45.250000  38.467209  1009500   \n",
              "2010-01-05  45.119999  45.139999  44.310001  44.560001  37.880638  1098400   \n",
              "2010-01-06  44.529999  44.849998  44.150002  44.430000  37.770126  1479700   \n",
              "2010-01-07  44.520000  45.009998  44.029999  44.910000  38.178169  1350100   \n",
              "2010-01-08  44.730000  45.349998  44.619999  45.290001  38.501213  1694600   \n",
              "\n",
              "                 WELL                                   ...       CHRW  \\\n",
              "                 Open       High        Low      Close  ...        Low   \n",
              "Date                                                    ...              \n",
              "2010-01-04  44.509998  44.959999  43.930000  44.040001  ...  58.939999   \n",
              "2010-01-05  44.279999  44.740002  43.869999  44.660000  ...  57.389999   \n",
              "2010-01-06  44.750000  44.950001  44.310001  44.439999  ...  57.200001   \n",
              "2010-01-07  44.500000  44.860001  43.980000  44.529999  ...  56.180000   \n",
              "2010-01-08  44.279999  44.549999  43.849998  44.070000  ...  56.599998   \n",
              "\n",
              "                                                 GWW                        \\\n",
              "                Close  Adj Close   Volume       Open       High        Low   \n",
              "Date                                                                         \n",
              "2010-01-04  59.340000  42.943439   822900  97.239998  97.970001  96.199997   \n",
              "2010-01-05  58.110001  42.053288  2352700  96.959999  97.489998  96.139999   \n",
              "2010-01-06  57.340000  41.496067  1685500  97.269997  98.250000  97.269997   \n",
              "2010-01-07  56.790001  41.098042  1939600  97.269997  98.699997  96.709999   \n",
              "2010-01-08  57.549999  41.648026  1332500  98.000000  99.849998  97.769997   \n",
              "\n",
              "                                          \n",
              "                Close  Adj Close  Volume  \n",
              "Date                                      \n",
              "2010-01-04  97.239998  76.182098  535200  \n",
              "2010-01-05  97.279999  76.213425  594500  \n",
              "2010-01-06  97.650002  76.503296  486800  \n",
              "2010-01-07  98.570000  77.224068  650100  \n",
              "2010-01-08  99.730003  78.132881  705600  \n",
              "\n",
              "[5 rows x 1734 columns]"
            ],
            "text/html": [
              "\n",
              "  <div id=\"df-949b639e-546e-4780-a1b3-c0372f8737c8\" class=\"colab-df-container\">\n",
              "    <div>\n",
              "<style scoped>\n",
              "    .dataframe tbody tr th:only-of-type {\n",
              "        vertical-align: middle;\n",
              "    }\n",
              "\n",
              "    .dataframe tbody tr th {\n",
              "        vertical-align: top;\n",
              "    }\n",
              "\n",
              "    .dataframe thead tr th {\n",
              "        text-align: left;\n",
              "    }\n",
              "\n",
              "    .dataframe thead tr:last-of-type th {\n",
              "        text-align: right;\n",
              "    }\n",
              "</style>\n",
              "<table border=\"1\" class=\"dataframe\">\n",
              "  <thead>\n",
              "    <tr>\n",
              "      <th></th>\n",
              "      <th colspan=\"6\" halign=\"left\">ECL</th>\n",
              "      <th colspan=\"4\" halign=\"left\">WELL</th>\n",
              "      <th>...</th>\n",
              "      <th colspan=\"4\" halign=\"left\">CHRW</th>\n",
              "      <th colspan=\"6\" halign=\"left\">GWW</th>\n",
              "    </tr>\n",
              "    <tr>\n",
              "      <th></th>\n",
              "      <th>Open</th>\n",
              "      <th>High</th>\n",
              "      <th>Low</th>\n",
              "      <th>Close</th>\n",
              "      <th>Adj Close</th>\n",
              "      <th>Volume</th>\n",
              "      <th>Open</th>\n",
              "      <th>High</th>\n",
              "      <th>Low</th>\n",
              "      <th>Close</th>\n",
              "      <th>...</th>\n",
              "      <th>Low</th>\n",
              "      <th>Close</th>\n",
              "      <th>Adj Close</th>\n",
              "      <th>Volume</th>\n",
              "      <th>Open</th>\n",
              "      <th>High</th>\n",
              "      <th>Low</th>\n",
              "      <th>Close</th>\n",
              "      <th>Adj Close</th>\n",
              "      <th>Volume</th>\n",
              "    </tr>\n",
              "    <tr>\n",
              "      <th>Date</th>\n",
              "      <th></th>\n",
              "      <th></th>\n",
              "      <th></th>\n",
              "      <th></th>\n",
              "      <th></th>\n",
              "      <th></th>\n",
              "      <th></th>\n",
              "      <th></th>\n",
              "      <th></th>\n",
              "      <th></th>\n",
              "      <th></th>\n",
              "      <th></th>\n",
              "      <th></th>\n",
              "      <th></th>\n",
              "      <th></th>\n",
              "      <th></th>\n",
              "      <th></th>\n",
              "      <th></th>\n",
              "      <th></th>\n",
              "      <th></th>\n",
              "      <th></th>\n",
              "    </tr>\n",
              "  </thead>\n",
              "  <tbody>\n",
              "    <tr>\n",
              "      <th>2010-01-04</th>\n",
              "      <td>45.029999</td>\n",
              "      <td>45.340000</td>\n",
              "      <td>44.860001</td>\n",
              "      <td>45.250000</td>\n",
              "      <td>38.467209</td>\n",
              "      <td>1009500</td>\n",
              "      <td>44.509998</td>\n",
              "      <td>44.959999</td>\n",
              "      <td>43.930000</td>\n",
              "      <td>44.040001</td>\n",
              "      <td>...</td>\n",
              "      <td>58.939999</td>\n",
              "      <td>59.340000</td>\n",
              "      <td>42.943439</td>\n",
              "      <td>822900</td>\n",
              "      <td>97.239998</td>\n",
              "      <td>97.970001</td>\n",
              "      <td>96.199997</td>\n",
              "      <td>97.239998</td>\n",
              "      <td>76.182098</td>\n",
              "      <td>535200</td>\n",
              "    </tr>\n",
              "    <tr>\n",
              "      <th>2010-01-05</th>\n",
              "      <td>45.119999</td>\n",
              "      <td>45.139999</td>\n",
              "      <td>44.310001</td>\n",
              "      <td>44.560001</td>\n",
              "      <td>37.880638</td>\n",
              "      <td>1098400</td>\n",
              "      <td>44.279999</td>\n",
              "      <td>44.740002</td>\n",
              "      <td>43.869999</td>\n",
              "      <td>44.660000</td>\n",
              "      <td>...</td>\n",
              "      <td>57.389999</td>\n",
              "      <td>58.110001</td>\n",
              "      <td>42.053288</td>\n",
              "      <td>2352700</td>\n",
              "      <td>96.959999</td>\n",
              "      <td>97.489998</td>\n",
              "      <td>96.139999</td>\n",
              "      <td>97.279999</td>\n",
              "      <td>76.213425</td>\n",
              "      <td>594500</td>\n",
              "    </tr>\n",
              "    <tr>\n",
              "      <th>2010-01-06</th>\n",
              "      <td>44.529999</td>\n",
              "      <td>44.849998</td>\n",
              "      <td>44.150002</td>\n",
              "      <td>44.430000</td>\n",
              "      <td>37.770126</td>\n",
              "      <td>1479700</td>\n",
              "      <td>44.750000</td>\n",
              "      <td>44.950001</td>\n",
              "      <td>44.310001</td>\n",
              "      <td>44.439999</td>\n",
              "      <td>...</td>\n",
              "      <td>57.200001</td>\n",
              "      <td>57.340000</td>\n",
              "      <td>41.496067</td>\n",
              "      <td>1685500</td>\n",
              "      <td>97.269997</td>\n",
              "      <td>98.250000</td>\n",
              "      <td>97.269997</td>\n",
              "      <td>97.650002</td>\n",
              "      <td>76.503296</td>\n",
              "      <td>486800</td>\n",
              "    </tr>\n",
              "    <tr>\n",
              "      <th>2010-01-07</th>\n",
              "      <td>44.520000</td>\n",
              "      <td>45.009998</td>\n",
              "      <td>44.029999</td>\n",
              "      <td>44.910000</td>\n",
              "      <td>38.178169</td>\n",
              "      <td>1350100</td>\n",
              "      <td>44.500000</td>\n",
              "      <td>44.860001</td>\n",
              "      <td>43.980000</td>\n",
              "      <td>44.529999</td>\n",
              "      <td>...</td>\n",
              "      <td>56.180000</td>\n",
              "      <td>56.790001</td>\n",
              "      <td>41.098042</td>\n",
              "      <td>1939600</td>\n",
              "      <td>97.269997</td>\n",
              "      <td>98.699997</td>\n",
              "      <td>96.709999</td>\n",
              "      <td>98.570000</td>\n",
              "      <td>77.224068</td>\n",
              "      <td>650100</td>\n",
              "    </tr>\n",
              "    <tr>\n",
              "      <th>2010-01-08</th>\n",
              "      <td>44.730000</td>\n",
              "      <td>45.349998</td>\n",
              "      <td>44.619999</td>\n",
              "      <td>45.290001</td>\n",
              "      <td>38.501213</td>\n",
              "      <td>1694600</td>\n",
              "      <td>44.279999</td>\n",
              "      <td>44.549999</td>\n",
              "      <td>43.849998</td>\n",
              "      <td>44.070000</td>\n",
              "      <td>...</td>\n",
              "      <td>56.599998</td>\n",
              "      <td>57.549999</td>\n",
              "      <td>41.648026</td>\n",
              "      <td>1332500</td>\n",
              "      <td>98.000000</td>\n",
              "      <td>99.849998</td>\n",
              "      <td>97.769997</td>\n",
              "      <td>99.730003</td>\n",
              "      <td>78.132881</td>\n",
              "      <td>705600</td>\n",
              "    </tr>\n",
              "  </tbody>\n",
              "</table>\n",
              "<p>5 rows × 1734 columns</p>\n",
              "</div>\n",
              "    <div class=\"colab-df-buttons\">\n",
              "\n",
              "  <div class=\"colab-df-container\">\n",
              "    <button class=\"colab-df-convert\" onclick=\"convertToInteractive('df-949b639e-546e-4780-a1b3-c0372f8737c8')\"\n",
              "            title=\"Convert this dataframe to an interactive table.\"\n",
              "            style=\"display:none;\">\n",
              "\n",
              "  <svg xmlns=\"http://www.w3.org/2000/svg\" height=\"24px\" viewBox=\"0 -960 960 960\">\n",
              "    <path d=\"M120-120v-720h720v720H120Zm60-500h600v-160H180v160Zm220 220h160v-160H400v160Zm0 220h160v-160H400v160ZM180-400h160v-160H180v160Zm440 0h160v-160H620v160ZM180-180h160v-160H180v160Zm440 0h160v-160H620v160Z\"/>\n",
              "  </svg>\n",
              "    </button>\n",
              "\n",
              "  <style>\n",
              "    .colab-df-container {\n",
              "      display:flex;\n",
              "      gap: 12px;\n",
              "    }\n",
              "\n",
              "    .colab-df-convert {\n",
              "      background-color: #E8F0FE;\n",
              "      border: none;\n",
              "      border-radius: 50%;\n",
              "      cursor: pointer;\n",
              "      display: none;\n",
              "      fill: #1967D2;\n",
              "      height: 32px;\n",
              "      padding: 0 0 0 0;\n",
              "      width: 32px;\n",
              "    }\n",
              "\n",
              "    .colab-df-convert:hover {\n",
              "      background-color: #E2EBFA;\n",
              "      box-shadow: 0px 1px 2px rgba(60, 64, 67, 0.3), 0px 1px 3px 1px rgba(60, 64, 67, 0.15);\n",
              "      fill: #174EA6;\n",
              "    }\n",
              "\n",
              "    .colab-df-buttons div {\n",
              "      margin-bottom: 4px;\n",
              "    }\n",
              "\n",
              "    [theme=dark] .colab-df-convert {\n",
              "      background-color: #3B4455;\n",
              "      fill: #D2E3FC;\n",
              "    }\n",
              "\n",
              "    [theme=dark] .colab-df-convert:hover {\n",
              "      background-color: #434B5C;\n",
              "      box-shadow: 0px 1px 3px 1px rgba(0, 0, 0, 0.15);\n",
              "      filter: drop-shadow(0px 1px 2px rgba(0, 0, 0, 0.3));\n",
              "      fill: #FFFFFF;\n",
              "    }\n",
              "  </style>\n",
              "\n",
              "    <script>\n",
              "      const buttonEl =\n",
              "        document.querySelector('#df-949b639e-546e-4780-a1b3-c0372f8737c8 button.colab-df-convert');\n",
              "      buttonEl.style.display =\n",
              "        google.colab.kernel.accessAllowed ? 'block' : 'none';\n",
              "\n",
              "      async function convertToInteractive(key) {\n",
              "        const element = document.querySelector('#df-949b639e-546e-4780-a1b3-c0372f8737c8');\n",
              "        const dataTable =\n",
              "          await google.colab.kernel.invokeFunction('convertToInteractive',\n",
              "                                                    [key], {});\n",
              "        if (!dataTable) return;\n",
              "\n",
              "        const docLinkHtml = 'Like what you see? Visit the ' +\n",
              "          '<a target=\"_blank\" href=https://colab.research.google.com/notebooks/data_table.ipynb>data table notebook</a>'\n",
              "          + ' to learn more about interactive tables.';\n",
              "        element.innerHTML = '';\n",
              "        dataTable['output_type'] = 'display_data';\n",
              "        await google.colab.output.renderOutput(dataTable, element);\n",
              "        const docLink = document.createElement('div');\n",
              "        docLink.innerHTML = docLinkHtml;\n",
              "        element.appendChild(docLink);\n",
              "      }\n",
              "    </script>\n",
              "  </div>\n",
              "\n",
              "\n",
              "<div id=\"df-511df009-9b3a-45bd-984b-5b6305ef4fba\">\n",
              "  <button class=\"colab-df-quickchart\" onclick=\"quickchart('df-511df009-9b3a-45bd-984b-5b6305ef4fba')\"\n",
              "            title=\"Suggest charts\"\n",
              "            style=\"display:none;\">\n",
              "\n",
              "<svg xmlns=\"http://www.w3.org/2000/svg\" height=\"24px\"viewBox=\"0 0 24 24\"\n",
              "     width=\"24px\">\n",
              "    <g>\n",
              "        <path d=\"M19 3H5c-1.1 0-2 .9-2 2v14c0 1.1.9 2 2 2h14c1.1 0 2-.9 2-2V5c0-1.1-.9-2-2-2zM9 17H7v-7h2v7zm4 0h-2V7h2v10zm4 0h-2v-4h2v4z\"/>\n",
              "    </g>\n",
              "</svg>\n",
              "  </button>\n",
              "\n",
              "<style>\n",
              "  .colab-df-quickchart {\n",
              "      --bg-color: #E8F0FE;\n",
              "      --fill-color: #1967D2;\n",
              "      --hover-bg-color: #E2EBFA;\n",
              "      --hover-fill-color: #174EA6;\n",
              "      --disabled-fill-color: #AAA;\n",
              "      --disabled-bg-color: #DDD;\n",
              "  }\n",
              "\n",
              "  [theme=dark] .colab-df-quickchart {\n",
              "      --bg-color: #3B4455;\n",
              "      --fill-color: #D2E3FC;\n",
              "      --hover-bg-color: #434B5C;\n",
              "      --hover-fill-color: #FFFFFF;\n",
              "      --disabled-bg-color: #3B4455;\n",
              "      --disabled-fill-color: #666;\n",
              "  }\n",
              "\n",
              "  .colab-df-quickchart {\n",
              "    background-color: var(--bg-color);\n",
              "    border: none;\n",
              "    border-radius: 50%;\n",
              "    cursor: pointer;\n",
              "    display: none;\n",
              "    fill: var(--fill-color);\n",
              "    height: 32px;\n",
              "    padding: 0;\n",
              "    width: 32px;\n",
              "  }\n",
              "\n",
              "  .colab-df-quickchart:hover {\n",
              "    background-color: var(--hover-bg-color);\n",
              "    box-shadow: 0 1px 2px rgba(60, 64, 67, 0.3), 0 1px 3px 1px rgba(60, 64, 67, 0.15);\n",
              "    fill: var(--button-hover-fill-color);\n",
              "  }\n",
              "\n",
              "  .colab-df-quickchart-complete:disabled,\n",
              "  .colab-df-quickchart-complete:disabled:hover {\n",
              "    background-color: var(--disabled-bg-color);\n",
              "    fill: var(--disabled-fill-color);\n",
              "    box-shadow: none;\n",
              "  }\n",
              "\n",
              "  .colab-df-spinner {\n",
              "    border: 2px solid var(--fill-color);\n",
              "    border-color: transparent;\n",
              "    border-bottom-color: var(--fill-color);\n",
              "    animation:\n",
              "      spin 1s steps(1) infinite;\n",
              "  }\n",
              "\n",
              "  @keyframes spin {\n",
              "    0% {\n",
              "      border-color: transparent;\n",
              "      border-bottom-color: var(--fill-color);\n",
              "      border-left-color: var(--fill-color);\n",
              "    }\n",
              "    20% {\n",
              "      border-color: transparent;\n",
              "      border-left-color: var(--fill-color);\n",
              "      border-top-color: var(--fill-color);\n",
              "    }\n",
              "    30% {\n",
              "      border-color: transparent;\n",
              "      border-left-color: var(--fill-color);\n",
              "      border-top-color: var(--fill-color);\n",
              "      border-right-color: var(--fill-color);\n",
              "    }\n",
              "    40% {\n",
              "      border-color: transparent;\n",
              "      border-right-color: var(--fill-color);\n",
              "      border-top-color: var(--fill-color);\n",
              "    }\n",
              "    60% {\n",
              "      border-color: transparent;\n",
              "      border-right-color: var(--fill-color);\n",
              "    }\n",
              "    80% {\n",
              "      border-color: transparent;\n",
              "      border-right-color: var(--fill-color);\n",
              "      border-bottom-color: var(--fill-color);\n",
              "    }\n",
              "    90% {\n",
              "      border-color: transparent;\n",
              "      border-bottom-color: var(--fill-color);\n",
              "    }\n",
              "  }\n",
              "</style>\n",
              "\n",
              "  <script>\n",
              "    async function quickchart(key) {\n",
              "      const quickchartButtonEl =\n",
              "        document.querySelector('#' + key + ' button');\n",
              "      quickchartButtonEl.disabled = true;  // To prevent multiple clicks.\n",
              "      quickchartButtonEl.classList.add('colab-df-spinner');\n",
              "      try {\n",
              "        const charts = await google.colab.kernel.invokeFunction(\n",
              "            'suggestCharts', [key], {});\n",
              "      } catch (error) {\n",
              "        console.error('Error during call to suggestCharts:', error);\n",
              "      }\n",
              "      quickchartButtonEl.classList.remove('colab-df-spinner');\n",
              "      quickchartButtonEl.classList.add('colab-df-quickchart-complete');\n",
              "    }\n",
              "    (() => {\n",
              "      let quickchartButtonEl =\n",
              "        document.querySelector('#df-511df009-9b3a-45bd-984b-5b6305ef4fba button');\n",
              "      quickchartButtonEl.style.display =\n",
              "        google.colab.kernel.accessAllowed ? 'block' : 'none';\n",
              "    })();\n",
              "  </script>\n",
              "</div>\n",
              "    </div>\n",
              "  </div>\n"
            ]
          },
          "metadata": {},
          "execution_count": 170
        }
      ]
    },
    {
      "cell_type": "code",
      "source": [
        "Raw_price_for_my_tickers.columns"
      ],
      "metadata": {
        "colab": {
          "base_uri": "https://localhost:8080/"
        },
        "id": "PQ_Cf4OIzrsP",
        "outputId": "20cc6ec4-0e31-4a45-a428-bfd2de925b73"
      },
      "execution_count": 171,
      "outputs": [
        {
          "output_type": "execute_result",
          "data": {
            "text/plain": [
              "MultiIndex([( 'ECL',      'Open'),\n",
              "            ( 'ECL',      'High'),\n",
              "            ( 'ECL',       'Low'),\n",
              "            ( 'ECL',     'Close'),\n",
              "            ( 'ECL', 'Adj Close'),\n",
              "            ( 'ECL',    'Volume'),\n",
              "            ('WELL',      'Open'),\n",
              "            ('WELL',      'High'),\n",
              "            ('WELL',       'Low'),\n",
              "            ('WELL',     'Close'),\n",
              "            ...\n",
              "            ('CHRW',       'Low'),\n",
              "            ('CHRW',     'Close'),\n",
              "            ('CHRW', 'Adj Close'),\n",
              "            ('CHRW',    'Volume'),\n",
              "            ( 'GWW',      'Open'),\n",
              "            ( 'GWW',      'High'),\n",
              "            ( 'GWW',       'Low'),\n",
              "            ( 'GWW',     'Close'),\n",
              "            ( 'GWW', 'Adj Close'),\n",
              "            ( 'GWW',    'Volume')],\n",
              "           length=1734)"
            ]
          },
          "metadata": {},
          "execution_count": 171
        }
      ]
    },
    {
      "cell_type": "markdown",
      "source": [
        "## 2-1. Exploring time series data and familiarizing with famous theories and libraries"
      ],
      "metadata": {
        "id": "8IjD8aADRmMA"
      }
    },
    {
      "cell_type": "markdown",
      "source": [
        "#### Question 1: If the null data was at the beginning, what methods can be used to solve this problem?"
      ],
      "metadata": {
        "id": "YtBlhzy_Ry1Y"
      }
    },
    {
      "cell_type": "markdown",
      "source": [
        "If we had null data at the beginning of a time series and we want to handle it, there are several methods we can consider:\n",
        "\n",
        "* Forward Fill (Pad): This method involves filling missing values with the last known value. This approach assumes that the future values will be similar to the most recent past values.\n",
        "` Raw_price_for_my_tickers.ffill(inplace=True) `\n",
        "\n",
        "* Backward Fill (Bfill): This method involves filling missing values with the next available value. Similar to forward fill, it assumes that the past values will be similar to the most recent future values.\n",
        "`Raw_price_for_my_tickers.bfill(inplace=True)`\n",
        "\n",
        "* Interpolation: Interpolation is a method where missing values are estimated based on the values around them. There are different interpolation methods available, such as linear interpolation, polynomial interpolation, etc.\n",
        "`Raw_price_for_my_tickers.interpolate(method='linear', inplace=True)`\n",
        "\n",
        "* Replace with a Constant: You can replace with cons values.\n",
        "`Raw_price_for_my_tickers.fillna(value=0, inplace=True)`"
      ],
      "metadata": {
        "id": "CSEsKzxER7G_"
      }
    },
    {
      "cell_type": "markdown",
      "source": [
        "#### Question 2: If we have null value data in the middle or at the end of the time series, how do we solve it?"
      ],
      "metadata": {
        "id": "KlazStZMTe2H"
      }
    },
    {
      "cell_type": "markdown",
      "source": [
        "\n",
        "If we have null values in the middle or at the end of a time series, we can use similar methods to handle the missing data. Here are some common approaches:\n",
        "\n",
        "There are several methods to handle missing values in time series data, including:\n",
        "\n",
        "* Interpolation: This method replaces missing values with estimates based on the values of surrounding time points. Common interpolation methods include linear interpolation and spline interpolation.\n",
        "\n",
        "* Extrapolation: This method extends the time series data beyond the existing data points by using mathematical models to estimate missing values.\n",
        "\n",
        "* Forward-fill and backward-fill: In forward-fill, missing values are filled in with the next available value. In backward-fill, missing values are filled in with the previous available value.\n",
        "\n",
        "* Last Observation Carried Forward (LOCF): This method replaces missing values with the last observed value.\n",
        "\n",
        "* Multiple imputation: This method uses statistical methods to generate multiple estimates for missing values and then combines the results to produce a single estimate."
      ],
      "metadata": {
        "id": "2UaGvYGBTnPX"
      }
    },
    {
      "cell_type": "code",
      "source": [
        "print(Raw_price_for_my_tickers.isna().sum())\n"
      ],
      "metadata": {
        "colab": {
          "base_uri": "https://localhost:8080/"
        },
        "id": "_CVi5_fUyHTP",
        "outputId": "d218f963-f70c-4779-b549-4598bc847284"
      },
      "execution_count": 172,
      "outputs": [
        {
          "output_type": "stream",
          "name": "stdout",
          "text": [
            "ECL  Open         0\n",
            "     High         0\n",
            "     Low          0\n",
            "     Close        0\n",
            "     Adj Close    0\n",
            "                 ..\n",
            "GWW  High         0\n",
            "     Low          0\n",
            "     Close        0\n",
            "     Adj Close    0\n",
            "     Volume       0\n",
            "Length: 1734, dtype: int64\n"
          ]
        }
      ]
    },
    {
      "cell_type": "markdown",
      "source": [
        "Of course, some of the weekdays might be public holidays in which case no price will be available. For this reason, we will fill the missing prices with the latest available prices"
      ],
      "metadata": {
        "id": "U9RO3y3g8Hnn"
      }
    },
    {
      "cell_type": "code",
      "source": [
        "Raw_price_for_my_tickers.fillna(method='bfill', inplace=True)\n",
        "Raw_price_for_my_tickers = Raw_price_for_my_tickers.fillna(method='bfill')\n",
        "print(Raw_price_for_my_tickers.isna().sum())\n"
      ],
      "metadata": {
        "colab": {
          "base_uri": "https://localhost:8080/"
        },
        "id": "yqB03LPwUwKd",
        "outputId": "d4501e60-6ada-4a2d-9e65-426f85fb5911"
      },
      "execution_count": 173,
      "outputs": [
        {
          "output_type": "stream",
          "name": "stdout",
          "text": [
            "ECL  Open         0\n",
            "     High         0\n",
            "     Low          0\n",
            "     Close        0\n",
            "     Adj Close    0\n",
            "                 ..\n",
            "GWW  High         0\n",
            "     Low          0\n",
            "     Close        0\n",
            "     Adj Close    0\n",
            "     Volume       0\n",
            "Length: 1734, dtype: int64\n"
          ]
        }
      ]
    },
    {
      "cell_type": "code",
      "source": [
        "plt.figure(figsize=(10, 6))\n",
        "( Raw_price_for_my_tickers['WYNN']['Close'].pct_change()).hist(bins=30)\n",
        "plt.title('Histogram of Daily Returns for WYNN Stock')\n",
        "plt.xlabel('Daily Returns')\n",
        "plt.ylabel('Frequency')\n",
        "plt.show()"
      ],
      "metadata": {
        "colab": {
          "base_uri": "https://localhost:8080/",
          "height": 566
        },
        "id": "3kJKv9Io2XYL",
        "outputId": "6899b2e5-6869-4e4d-a0a8-2c97d4d9407c"
      },
      "execution_count": 174,
      "outputs": [
        {
          "output_type": "display_data",
          "data": {
            "text/plain": [
              "<Figure size 1000x600 with 1 Axes>"
            ],
            "image/png": "[encoded data removed]"
          },
          "metadata": {}
        }
      ]
    },
    {
      "cell_type": "markdown",
      "source": [
        "According to the Random walks theory, prediction of next days stock closing price is not dependent to anything and it can goes up or down. Based on out plots we can see that if we relay on the previos day for out prediction and getting the trend downward or upward from the charts trend we can get high accuraccy because of the semi-normal values.\n",
        "\n",
        "\n",
        "\n",
        "So in the marketing data if we look too backward we might get incorrect data and it is better to look a few days before what day we want to predict."
      ],
      "metadata": {
        "id": "S9tFfrz58gDe"
      }
    },
    {
      "cell_type": "code",
      "source": [
        "wynn_data = Raw_price_for_my_tickers['WYNN']\n",
        "wynn_data_november = wynn_data['2022-11-01':'2022-11-30']\n",
        "\n",
        "mpf.plot(wynn_data_november, type='candle')\n"
      ],
      "metadata": {
        "colab": {
          "base_uri": "https://localhost:8080/",
          "height": 492
        },
        "id": "gokXr1wY-Cy1",
        "outputId": "a99d3e3e-5373-415a-bb53-52dde00b95ec"
      },
      "execution_count": 175,
      "outputs": [
        {
          "output_type": "display_data",
          "data": {
            "text/plain": [
              "<Figure size 800x575 with 2 Axes>"
            ],
            "image/png": "[encoded data removed]"
          },
          "metadata": {}
        }
      ]
    },
    {
      "cell_type": "markdown",
      "source": [
        "## 3-1. TimeSeriesSplit"
      ],
      "metadata": {
        "id": "Hyl5OVILEWaQ"
      }
    },
    {
      "cell_type": "markdown",
      "source": [
        "here we only keep:\n",
        "selected_tickers = ['AMZN', 'MSFT', 'AAPL', 'META', 'GOOGL']\n"
      ],
      "metadata": {
        "id": "aOUFE_m7FWn-"
      }
    },
    {
      "cell_type": "code",
      "source": [
        "selected_tickers = ['AMZN', 'MSFT', 'AAPL','META','GOOGL']\n",
        "data_full_scaled_sp500 = yf.download(selected_tickers, start=\"2010-01-04\", interval=\"1d\", group_by=\"ticker\")\n",
        "data_full_scaled_sp500_cleaned = data_full_scaled_sp500.dropna()\n",
        "data_full_scaled_sp500_cleaned"
      ],
      "metadata": {
        "colab": {
          "base_uri": "https://localhost:8080/",
          "height": 715
        },
        "id": "ToMYe_IiE49u",
        "outputId": "7a53754c-e6e5-43f3-85fd-d2cec3b3637b"
      },
      "execution_count": 176,
      "outputs": [
        {
          "output_type": "stream",
          "name": "stdout",
          "text": [
            "[*********************100%%**********************]  5 of 5 completed\n"
          ]
        },
        {
          "output_type": "execute_result",
          "data": {
            "text/plain": [
              "                  META                                                  \\\n",
              "                  Open        High         Low       Close   Adj Close   \n",
              "Date                                                                     \n",
              "2012-05-18   42.049999   45.000000   38.000000   38.230000   38.230000   \n",
              "2012-05-21   36.529999   36.660000   33.000000   34.029999   34.029999   \n",
              "2012-05-22   32.610001   33.590000   30.940001   31.000000   31.000000   \n",
              "2012-05-23   31.370001   32.500000   31.360001   32.000000   32.000000   \n",
              "2012-05-24   32.950001   33.209999   31.770000   33.029999   33.029999   \n",
              "...                ...         ...         ...         ...         ...   \n",
              "2023-12-18  337.480011  347.559998  337.019989  344.619995  344.619995   \n",
              "2023-12-19  345.579987  353.600006  345.119995  350.359985  350.359985   \n",
              "2023-12-20  348.649994  354.959991  347.790009  349.279999  349.279999   \n",
              "2023-12-21  352.980011  356.410004  349.209991  354.089996  354.089996   \n",
              "2023-12-22  355.579987  357.199890  354.470001  355.769897  355.769897   \n",
              "\n",
              "                               MSFT                                      ...  \\\n",
              "                 Volume        Open        High         Low       Close  ...   \n",
              "Date                                                                     ...   \n",
              "2012-05-18  573576400.0   29.790001   29.809999   29.170000   29.270000  ...   \n",
              "2012-05-21  168192700.0   29.100000   29.790001   29.059999   29.750000  ...   \n",
              "2012-05-22  101786600.0   29.690001   29.879999   29.500000   29.760000  ...   \n",
              "2012-05-23   73600000.0   29.350000   29.400000   28.639999   29.110001  ...   \n",
              "2012-05-24   50237200.0   29.160000   29.299999   28.760000   29.070000  ...   \n",
              "...                 ...         ...         ...         ...         ...  ...   \n",
              "2023-12-18   18993900.0  369.450012  373.000000  368.679993  372.649994  ...   \n",
              "2023-12-19   17729400.0  371.489990  373.260010  369.839996  373.260010  ...   \n",
              "2023-12-20   16369900.0  375.000000  376.029999  370.529999  370.619995  ...   \n",
              "2023-12-21   15269500.0  372.559998  374.410004  370.040009  373.540009  ...   \n",
              "2023-12-22    2580596.0  373.679993  374.880005  372.720001  374.649994  ...   \n",
              "\n",
              "                  AAPL                                          GOOGL  \\\n",
              "                   Low       Close   Adj Close     Volume        Open   \n",
              "Date                                                                    \n",
              "2012-05-18   18.649286   18.942142   16.056866  732292400   15.643143   \n",
              "2012-05-21   19.073214   20.045713   16.992350  631106000   15.027778   \n",
              "2012-05-22   19.735001   19.891787   16.861864  694870400   15.351351   \n",
              "2012-05-23   19.758215   20.377144   17.273289  584897600   15.056306   \n",
              "2012-05-24   20.043928   20.190001   17.114655  496230000   15.244244   \n",
              "...                ...         ...         ...        ...         ...   \n",
              "2023-12-18  194.389999  195.889999  195.889999   55751900  132.630005   \n",
              "2023-12-19  195.889999  196.940002  196.940002   40714100  136.839996   \n",
              "2023-12-20  194.830002  194.830002  194.830002   52242800  138.970001   \n",
              "2023-12-21  193.500000  194.679993  194.679993   46432100  139.490005   \n",
              "2023-12-22  194.425003  194.779999  194.779999    7502259  140.770004   \n",
              "\n",
              "                                                                       \n",
              "                  High         Low       Close   Adj Close     Volume  \n",
              "Date                                                                   \n",
              "2012-05-18   15.826326   14.932432   15.025025   15.025025  238701060  \n",
              "2012-05-21   15.407658   15.015015   15.368118   15.368118  122892984  \n",
              "2012-05-22   15.360611   14.914915   15.035035   15.035035  121953924  \n",
              "2012-05-23   15.255255   14.942943   15.251752   15.251752  126996876  \n",
              "2012-05-24   15.313313   14.986737   15.106607   15.106607   75576348  \n",
              "...                ...         ...         ...         ...        ...  \n",
              "2023-12-18  137.149994  132.429993  135.800003  135.800003   32258000  \n",
              "2023-12-19  137.470001  136.080002  136.649994  136.649994   25476800  \n",
              "2023-12-20  141.699997  138.070007  138.339996  138.339996   49107200  \n",
              "2023-12-21  140.690002  139.179993  140.419998  140.419998   27465700  \n",
              "2023-12-22  141.990005  140.710007  141.353897  141.353897    6171264  \n",
              "\n",
              "[2919 rows x 30 columns]"
            ],
            "text/html": [
              "\n",
              "  <div id=\"df-c9dbff3d-45dd-4472-ba0e-cec6a758215a\" class=\"colab-df-container\">\n",
              "    <div>\n",
              "<style scoped>\n",
              "    .dataframe tbody tr th:only-of-type {\n",
              "        vertical-align: middle;\n",
              "    }\n",
              "\n",
              "    .dataframe tbody tr th {\n",
              "        vertical-align: top;\n",
              "    }\n",
              "\n",
              "    .dataframe thead tr th {\n",
              "        text-align: left;\n",
              "    }\n",
              "\n",
              "    .dataframe thead tr:last-of-type th {\n",
              "        text-align: right;\n",
              "    }\n",
              "</style>\n",
              "<table border=\"1\" class=\"dataframe\">\n",
              "  <thead>\n",
              "    <tr>\n",
              "      <th></th>\n",
              "      <th colspan=\"6\" halign=\"left\">META</th>\n",
              "      <th colspan=\"4\" halign=\"left\">MSFT</th>\n",
              "      <th>...</th>\n",
              "      <th colspan=\"4\" halign=\"left\">AAPL</th>\n",
              "      <th colspan=\"6\" halign=\"left\">GOOGL</th>\n",
              "    </tr>\n",
              "    <tr>\n",
              "      <th></th>\n",
              "      <th>Open</th>\n",
              "      <th>High</th>\n",
              "      <th>Low</th>\n",
              "      <th>Close</th>\n",
              "      <th>Adj Close</th>\n",
              "      <th>Volume</th>\n",
              "      <th>Open</th>\n",
              "      <th>High</th>\n",
              "      <th>Low</th>\n",
              "      <th>Close</th>\n",
              "      <th>...</th>\n",
              "      <th>Low</th>\n",
              "      <th>Close</th>\n",
              "      <th>Adj Close</th>\n",
              "      <th>Volume</th>\n",
              "      <th>Open</th>\n",
              "      <th>High</th>\n",
              "      <th>Low</th>\n",
              "      <th>Close</th>\n",
              "      <th>Adj Close</th>\n",
              "      <th>Volume</th>\n",
              "    </tr>\n",
              "    <tr>\n",
              "      <th>Date</th>\n",
              "      <th></th>\n",
              "      <th></th>\n",
              "      <th></th>\n",
              "      <th></th>\n",
              "      <th></th>\n",
              "      <th></th>\n",
              "      <th></th>\n",
              "      <th></th>\n",
              "      <th></th>\n",
              "      <th></th>\n",
              "      <th></th>\n",
              "      <th></th>\n",
              "      <th></th>\n",
              "      <th></th>\n",
              "      <th></th>\n",
              "      <th></th>\n",
              "      <th></th>\n",
              "      <th></th>\n",
              "      <th></th>\n",
              "      <th></th>\n",
              "      <th></th>\n",
              "    </tr>\n",
              "  </thead>\n",
              "  <tbody>\n",
              "    <tr>\n",
              "      <th>2012-05-18</th>\n",
              "      <td>42.049999</td>\n",
              "      <td>45.000000</td>\n",
              "      <td>38.000000</td>\n",
              "      <td>38.230000</td>\n",
              "      <td>38.230000</td>\n",
              "      <td>573576400.0</td>\n",
              "      <td>29.790001</td>\n",
              "      <td>29.809999</td>\n",
              "      <td>29.170000</td>\n",
              "      <td>29.270000</td>\n",
              "      <td>...</td>\n",
              "      <td>18.649286</td>\n",
              "      <td>18.942142</td>\n",
              "      <td>16.056866</td>\n",
              "      <td>732292400</td>\n",
              "      <td>15.643143</td>\n",
              "      <td>15.826326</td>\n",
              "      <td>14.932432</td>\n",
              "      <td>15.025025</td>\n",
              "      <td>15.025025</td>\n",
              "      <td>238701060</td>\n",
              "    </tr>\n",
              "    <tr>\n",
              "      <th>2012-05-21</th>\n",
              "      <td>36.529999</td>\n",
              "      <td>36.660000</td>\n",
              "      <td>33.000000</td>\n",
              "      <td>34.029999</td>\n",
              "      <td>34.029999</td>\n",
              "      <td>168192700.0</td>\n",
              "      <td>29.100000</td>\n",
              "      <td>29.790001</td>\n",
              "      <td>29.059999</td>\n",
              "      <td>29.750000</td>\n",
              "      <td>...</td>\n",
              "      <td>19.073214</td>\n",
              "      <td>20.045713</td>\n",
              "      <td>16.992350</td>\n",
              "      <td>631106000</td>\n",
              "      <td>15.027778</td>\n",
              "      <td>15.407658</td>\n",
              "      <td>15.015015</td>\n",
              "      <td>15.368118</td>\n",
              "      <td>15.368118</td>\n",
              "      <td>122892984</td>\n",
              "    </tr>\n",
              "    <tr>\n",
              "      <th>2012-05-22</th>\n",
              "      <td>32.610001</td>\n",
              "      <td>33.590000</td>\n",
              "      <td>30.940001</td>\n",
              "      <td>31.000000</td>\n",
              "      <td>31.000000</td>\n",
              "      <td>101786600.0</td>\n",
              "      <td>29.690001</td>\n",
              "      <td>29.879999</td>\n",
              "      <td>29.500000</td>\n",
              "      <td>29.760000</td>\n",
              "      <td>...</td>\n",
              "      <td>19.735001</td>\n",
              "      <td>19.891787</td>\n",
              "      <td>16.861864</td>\n",
              "      <td>694870400</td>\n",
              "      <td>15.351351</td>\n",
              "      <td>15.360611</td>\n",
              "      <td>14.914915</td>\n",
              "      <td>15.035035</td>\n",
              "      <td>15.035035</td>\n",
              "      <td>121953924</td>\n",
              "    </tr>\n",
              "    <tr>\n",
              "      <th>2012-05-23</th>\n",
              "      <td>31.370001</td>\n",
              "      <td>32.500000</td>\n",
              "      <td>31.360001</td>\n",
              "      <td>32.000000</td>\n",
              "      <td>32.000000</td>\n",
              "      <td>73600000.0</td>\n",
              "      <td>29.350000</td>\n",
              "      <td>29.400000</td>\n",
              "      <td>28.639999</td>\n",
              "      <td>29.110001</td>\n",
              "      <td>...</td>\n",
              "      <td>19.758215</td>\n",
              "      <td>20.377144</td>\n",
              "      <td>17.273289</td>\n",
              "      <td>584897600</td>\n",
              "      <td>15.056306</td>\n",
              "      <td>15.255255</td>\n",
              "      <td>14.942943</td>\n",
              "      <td>15.251752</td>\n",
              "      <td>15.251752</td>\n",
              "      <td>126996876</td>\n",
              "    </tr>\n",
              "    <tr>\n",
              "      <th>2012-05-24</th>\n",
              "      <td>32.950001</td>\n",
              "      <td>33.209999</td>\n",
              "      <td>31.770000</td>\n",
              "      <td>33.029999</td>\n",
              "      <td>33.029999</td>\n",
              "      <td>50237200.0</td>\n",
              "      <td>29.160000</td>\n",
              "      <td>29.299999</td>\n",
              "      <td>28.760000</td>\n",
              "      <td>29.070000</td>\n",
              "      <td>...</td>\n",
              "      <td>20.043928</td>\n",
              "      <td>20.190001</td>\n",
              "      <td>17.114655</td>\n",
              "      <td>496230000</td>\n",
              "      <td>15.244244</td>\n",
              "      <td>15.313313</td>\n",
              "      <td>14.986737</td>\n",
              "      <td>15.106607</td>\n",
              "      <td>15.106607</td>\n",
              "      <td>75576348</td>\n",
              "    </tr>\n",
              "    <tr>\n",
              "      <th>...</th>\n",
              "      <td>...</td>\n",
              "      <td>...</td>\n",
              "      <td>...</td>\n",
              "      <td>...</td>\n",
              "      <td>...</td>\n",
              "      <td>...</td>\n",
              "      <td>...</td>\n",
              "      <td>...</td>\n",
              "      <td>...</td>\n",
              "      <td>...</td>\n",
              "      <td>...</td>\n",
              "      <td>...</td>\n",
              "      <td>...</td>\n",
              "      <td>...</td>\n",
              "      <td>...</td>\n",
              "      <td>...</td>\n",
              "      <td>...</td>\n",
              "      <td>...</td>\n",
              "      <td>...</td>\n",
              "      <td>...</td>\n",
              "      <td>...</td>\n",
              "    </tr>\n",
              "    <tr>\n",
              "      <th>2023-12-18</th>\n",
              "      <td>337.480011</td>\n",
              "      <td>347.559998</td>\n",
              "      <td>337.019989</td>\n",
              "      <td>344.619995</td>\n",
              "      <td>344.619995</td>\n",
              "      <td>18993900.0</td>\n",
              "      <td>369.450012</td>\n",
              "      <td>373.000000</td>\n",
              "      <td>368.679993</td>\n",
              "      <td>372.649994</td>\n",
              "      <td>...</td>\n",
              "      <td>194.389999</td>\n",
              "      <td>195.889999</td>\n",
              "      <td>195.889999</td>\n",
              "      <td>55751900</td>\n",
              "      <td>132.630005</td>\n",
              "      <td>137.149994</td>\n",
              "      <td>132.429993</td>\n",
              "      <td>135.800003</td>\n",
              "      <td>135.800003</td>\n",
              "      <td>32258000</td>\n",
              "    </tr>\n",
              "    <tr>\n",
              "      <th>2023-12-19</th>\n",
              "      <td>345.579987</td>\n",
              "      <td>353.600006</td>\n",
              "      <td>345.119995</td>\n",
              "      <td>350.359985</td>\n",
              "      <td>350.359985</td>\n",
              "      <td>17729400.0</td>\n",
              "      <td>371.489990</td>\n",
              "      <td>373.260010</td>\n",
              "      <td>369.839996</td>\n",
              "      <td>373.260010</td>\n",
              "      <td>...</td>\n",
              "      <td>195.889999</td>\n",
              "      <td>196.940002</td>\n",
              "      <td>196.940002</td>\n",
              "      <td>40714100</td>\n",
              "      <td>136.839996</td>\n",
              "      <td>137.470001</td>\n",
              "      <td>136.080002</td>\n",
              "      <td>136.649994</td>\n",
              "      <td>136.649994</td>\n",
              "      <td>25476800</td>\n",
              "    </tr>\n",
              "    <tr>\n",
              "      <th>2023-12-20</th>\n",
              "      <td>348.649994</td>\n",
              "      <td>354.959991</td>\n",
              "      <td>347.790009</td>\n",
              "      <td>349.279999</td>\n",
              "      <td>349.279999</td>\n",
              "      <td>16369900.0</td>\n",
              "      <td>375.000000</td>\n",
              "      <td>376.029999</td>\n",
              "      <td>370.529999</td>\n",
              "      <td>370.619995</td>\n",
              "      <td>...</td>\n",
              "      <td>194.830002</td>\n",
              "      <td>194.830002</td>\n",
              "      <td>194.830002</td>\n",
              "      <td>52242800</td>\n",
              "      <td>138.970001</td>\n",
              "      <td>141.699997</td>\n",
              "      <td>138.070007</td>\n",
              "      <td>138.339996</td>\n",
              "      <td>138.339996</td>\n",
              "      <td>49107200</td>\n",
              "    </tr>\n",
              "    <tr>\n",
              "      <th>2023-12-21</th>\n",
              "      <td>352.980011</td>\n",
              "      <td>356.410004</td>\n",
              "      <td>349.209991</td>\n",
              "      <td>354.089996</td>\n",
              "      <td>354.089996</td>\n",
              "      <td>15269500.0</td>\n",
              "      <td>372.559998</td>\n",
              "      <td>374.410004</td>\n",
              "      <td>370.040009</td>\n",
              "      <td>373.540009</td>\n",
              "      <td>...</td>\n",
              "      <td>193.500000</td>\n",
              "      <td>194.679993</td>\n",
              "      <td>194.679993</td>\n",
              "      <td>46432100</td>\n",
              "      <td>139.490005</td>\n",
              "      <td>140.690002</td>\n",
              "      <td>139.179993</td>\n",
              "      <td>140.419998</td>\n",
              "      <td>140.419998</td>\n",
              "      <td>27465700</td>\n",
              "    </tr>\n",
              "    <tr>\n",
              "      <th>2023-12-22</th>\n",
              "      <td>355.579987</td>\n",
              "      <td>357.199890</td>\n",
              "      <td>354.470001</td>\n",
              "      <td>355.769897</td>\n",
              "      <td>355.769897</td>\n",
              "      <td>2580596.0</td>\n",
              "      <td>373.679993</td>\n",
              "      <td>374.880005</td>\n",
              "      <td>372.720001</td>\n",
              "      <td>374.649994</td>\n",
              "      <td>...</td>\n",
              "      <td>194.425003</td>\n",
              "      <td>194.779999</td>\n",
              "      <td>194.779999</td>\n",
              "      <td>7502259</td>\n",
              "      <td>140.770004</td>\n",
              "      <td>141.990005</td>\n",
              "      <td>140.710007</td>\n",
              "      <td>141.353897</td>\n",
              "      <td>141.353897</td>\n",
              "      <td>6171264</td>\n",
              "    </tr>\n",
              "  </tbody>\n",
              "</table>\n",
              "<p>2919 rows × 30 columns</p>\n",
              "</div>\n",
              "    <div class=\"colab-df-buttons\">\n",
              "\n",
              "  <div class=\"colab-df-container\">\n",
              "    <button class=\"colab-df-convert\" onclick=\"convertToInteractive('df-c9dbff3d-45dd-4472-ba0e-cec6a758215a')\"\n",
              "            title=\"Convert this dataframe to an interactive table.\"\n",
              "            style=\"display:none;\">\n",
              "\n",
              "  <svg xmlns=\"http://www.w3.org/2000/svg\" height=\"24px\" viewBox=\"0 -960 960 960\">\n",
              "    <path d=\"M120-120v-720h720v720H120Zm60-500h600v-160H180v160Zm220 220h160v-160H400v160Zm0 220h160v-160H400v160ZM180-400h160v-160H180v160Zm440 0h160v-160H620v160ZM180-180h160v-160H180v160Zm440 0h160v-160H620v160Z\"/>\n",
              "  </svg>\n",
              "    </button>\n",
              "\n",
              "  <style>\n",
              "    .colab-df-container {\n",
              "      display:flex;\n",
              "      gap: 12px;\n",
              "    }\n",
              "\n",
              "    .colab-df-convert {\n",
              "      background-color: #E8F0FE;\n",
              "      border: none;\n",
              "      border-radius: 50%;\n",
              "      cursor: pointer;\n",
              "      display: none;\n",
              "      fill: #1967D2;\n",
              "      height: 32px;\n",
              "      padding: 0 0 0 0;\n",
              "      width: 32px;\n",
              "    }\n",
              "\n",
              "    .colab-df-convert:hover {\n",
              "      background-color: #E2EBFA;\n",
              "      box-shadow: 0px 1px 2px rgba(60, 64, 67, 0.3), 0px 1px 3px 1px rgba(60, 64, 67, 0.15);\n",
              "      fill: #174EA6;\n",
              "    }\n",
              "\n",
              "    .colab-df-buttons div {\n",
              "      margin-bottom: 4px;\n",
              "    }\n",
              "\n",
              "    [theme=dark] .colab-df-convert {\n",
              "      background-color: #3B4455;\n",
              "      fill: #D2E3FC;\n",
              "    }\n",
              "\n",
              "    [theme=dark] .colab-df-convert:hover {\n",
              "      background-color: #434B5C;\n",
              "      box-shadow: 0px 1px 3px 1px rgba(0, 0, 0, 0.15);\n",
              "      filter: drop-shadow(0px 1px 2px rgba(0, 0, 0, 0.3));\n",
              "      fill: #FFFFFF;\n",
              "    }\n",
              "  </style>\n",
              "\n",
              "    <script>\n",
              "      const buttonEl =\n",
              "        document.querySelector('#df-c9dbff3d-45dd-4472-ba0e-cec6a758215a button.colab-df-convert');\n",
              "      buttonEl.style.display =\n",
              "        google.colab.kernel.accessAllowed ? 'block' : 'none';\n",
              "\n",
              "      async function convertToInteractive(key) {\n",
              "        const element = document.querySelector('#df-c9dbff3d-45dd-4472-ba0e-cec6a758215a');\n",
              "        const dataTable =\n",
              "          await google.colab.kernel.invokeFunction('convertToInteractive',\n",
              "                                                    [key], {});\n",
              "        if (!dataTable) return;\n",
              "\n",
              "        const docLinkHtml = 'Like what you see? Visit the ' +\n",
              "          '<a target=\"_blank\" href=https://colab.research.google.com/notebooks/data_table.ipynb>data table notebook</a>'\n",
              "          + ' to learn more about interactive tables.';\n",
              "        element.innerHTML = '';\n",
              "        dataTable['output_type'] = 'display_data';\n",
              "        await google.colab.output.renderOutput(dataTable, element);\n",
              "        const docLink = document.createElement('div');\n",
              "        docLink.innerHTML = docLinkHtml;\n",
              "        element.appendChild(docLink);\n",
              "      }\n",
              "    </script>\n",
              "  </div>\n",
              "\n",
              "\n",
              "<div id=\"df-394c2c2a-2c6e-4d16-b1b6-0cc87d09e403\">\n",
              "  <button class=\"colab-df-quickchart\" onclick=\"quickchart('df-394c2c2a-2c6e-4d16-b1b6-0cc87d09e403')\"\n",
              "            title=\"Suggest charts\"\n",
              "            style=\"display:none;\">\n",
              "\n",
              "<svg xmlns=\"http://www.w3.org/2000/svg\" height=\"24px\"viewBox=\"0 0 24 24\"\n",
              "     width=\"24px\">\n",
              "    <g>\n",
              "        <path d=\"M19 3H5c-1.1 0-2 .9-2 2v14c0 1.1.9 2 2 2h14c1.1 0 2-.9 2-2V5c0-1.1-.9-2-2-2zM9 17H7v-7h2v7zm4 0h-2V7h2v10zm4 0h-2v-4h2v4z\"/>\n",
              "    </g>\n",
              "</svg>\n",
              "  </button>\n",
              "\n",
              "<style>\n",
              "  .colab-df-quickchart {\n",
              "      --bg-color: #E8F0FE;\n",
              "      --fill-color: #1967D2;\n",
              "      --hover-bg-color: #E2EBFA;\n",
              "      --hover-fill-color: #174EA6;\n",
              "      --disabled-fill-color: #AAA;\n",
              "      --disabled-bg-color: #DDD;\n",
              "  }\n",
              "\n",
              "  [theme=dark] .colab-df-quickchart {\n",
              "      --bg-color: #3B4455;\n",
              "      --fill-color: #D2E3FC;\n",
              "      --hover-bg-color: #434B5C;\n",
              "      --hover-fill-color: #FFFFFF;\n",
              "      --disabled-bg-color: #3B4455;\n",
              "      --disabled-fill-color: #666;\n",
              "  }\n",
              "\n",
              "  .colab-df-quickchart {\n",
              "    background-color: var(--bg-color);\n",
              "    border: none;\n",
              "    border-radius: 50%;\n",
              "    cursor: pointer;\n",
              "    display: none;\n",
              "    fill: var(--fill-color);\n",
              "    height: 32px;\n",
              "    padding: 0;\n",
              "    width: 32px;\n",
              "  }\n",
              "\n",
              "  .colab-df-quickchart:hover {\n",
              "    background-color: var(--hover-bg-color);\n",
              "    box-shadow: 0 1px 2px rgba(60, 64, 67, 0.3), 0 1px 3px 1px rgba(60, 64, 67, 0.15);\n",
              "    fill: var(--button-hover-fill-color);\n",
              "  }\n",
              "\n",
              "  .colab-df-quickchart-complete:disabled,\n",
              "  .colab-df-quickchart-complete:disabled:hover {\n",
              "    background-color: var(--disabled-bg-color);\n",
              "    fill: var(--disabled-fill-color);\n",
              "    box-shadow: none;\n",
              "  }\n",
              "\n",
              "  .colab-df-spinner {\n",
              "    border: 2px solid var(--fill-color);\n",
              "    border-color: transparent;\n",
              "    border-bottom-color: var(--fill-color);\n",
              "    animation:\n",
              "      spin 1s steps(1) infinite;\n",
              "  }\n",
              "\n",
              "  @keyframes spin {\n",
              "    0% {\n",
              "      border-color: transparent;\n",
              "      border-bottom-color: var(--fill-color);\n",
              "      border-left-color: var(--fill-color);\n",
              "    }\n",
              "    20% {\n",
              "      border-color: transparent;\n",
              "      border-left-color: var(--fill-color);\n",
              "      border-top-color: var(--fill-color);\n",
              "    }\n",
              "    30% {\n",
              "      border-color: transparent;\n",
              "      border-left-color: var(--fill-color);\n",
              "      border-top-color: var(--fill-color);\n",
              "      border-right-color: var(--fill-color);\n",
              "    }\n",
              "    40% {\n",
              "      border-color: transparent;\n",
              "      border-right-color: var(--fill-color);\n",
              "      border-top-color: var(--fill-color);\n",
              "    }\n",
              "    60% {\n",
              "      border-color: transparent;\n",
              "      border-right-color: var(--fill-color);\n",
              "    }\n",
              "    80% {\n",
              "      border-color: transparent;\n",
              "      border-right-color: var(--fill-color);\n",
              "      border-bottom-color: var(--fill-color);\n",
              "    }\n",
              "    90% {\n",
              "      border-color: transparent;\n",
              "      border-bottom-color: var(--fill-color);\n",
              "    }\n",
              "  }\n",
              "</style>\n",
              "\n",
              "  <script>\n",
              "    async function quickchart(key) {\n",
              "      const quickchartButtonEl =\n",
              "        document.querySelector('#' + key + ' button');\n",
              "      quickchartButtonEl.disabled = true;  // To prevent multiple clicks.\n",
              "      quickchartButtonEl.classList.add('colab-df-spinner');\n",
              "      try {\n",
              "        const charts = await google.colab.kernel.invokeFunction(\n",
              "            'suggestCharts', [key], {});\n",
              "      } catch (error) {\n",
              "        console.error('Error during call to suggestCharts:', error);\n",
              "      }\n",
              "      quickchartButtonEl.classList.remove('colab-df-spinner');\n",
              "      quickchartButtonEl.classList.add('colab-df-quickchart-complete');\n",
              "    }\n",
              "    (() => {\n",
              "      let quickchartButtonEl =\n",
              "        document.querySelector('#df-394c2c2a-2c6e-4d16-b1b6-0cc87d09e403 button');\n",
              "      quickchartButtonEl.style.display =\n",
              "        google.colab.kernel.accessAllowed ? 'block' : 'none';\n",
              "    })();\n",
              "  </script>\n",
              "</div>\n",
              "    </div>\n",
              "  </div>\n"
            ]
          },
          "metadata": {},
          "execution_count": 176
        }
      ]
    },
    {
      "cell_type": "markdown",
      "source": [
        "Here in time series cross validation is not possible as before:\n",
        "\n",
        "https://medium.com/@soumyachess1496/cross-validation-in-time-series-566ae4981ce4\n",
        "\n",
        "The method that can be used for cross-validating the time-series model is cross-validation on a rolling basis. Start with a small subset of data for training purpose, forecast for the later data points and then checking the accuracy for the forecasted data points. The same forecasted data points are then included as part of the next training dataset and subsequent data points are forecasted.\n",
        "\n",
        "The idea of cross-validation should be more straightforward to grasp when we look at an example. Imagine that we have only 5 observations in our cross-validation set and we want to perform 4-fold cross-validation.\n",
        "\n",
        "Here is the dataset: [1, 2, 3, 4, 5]\n",
        "\n",
        "There is only one way to generate such pairs from my dataset. As a result, I get 4 pairs of training/test sets:\n",
        "\n",
        "- Training: [1] Test: [2]\n",
        "\n",
        "- Training: [1, 2] Test: [3]\n",
        "\n",
        "- Training: [1, 2, 3] Test: [4]\n",
        "\n",
        "- Training: [1, 2, 3, 4] Test: [5]\n",
        "\n",
        "Compute the average of the accuracies of the 4 test fold."
      ],
      "metadata": {
        "id": "Zcv7XjpuTyKq"
      }
    },
    {
      "cell_type": "code",
      "source": [
        "cv_n_splits = 5\n",
        "tss = sklearn.model_selection.TimeSeriesSplit(n_splits = cv_n_splits )"
      ],
      "metadata": {
        "id": "Sec4yto0T2IM"
      },
      "execution_count": 177,
      "outputs": []
    },
    {
      "cell_type": "markdown",
      "source": [
        "## 4-1. Preparing input and output model"
      ],
      "metadata": {
        "id": "WeJr7T-zWWD-"
      }
    },
    {
      "cell_type": "markdown",
      "source": [
        "**The input of the model** is the data of previous days. This data can only include the price close of the last few days. Or it can include open, high, low, and volume data. To reduce dimensionality, usually only price close is used to train the model.\n",
        "\n",
        "**The output of the price model** is a specific day in the future (Horizon). For this exercise, you will only predict the next day's data"
      ],
      "metadata": {
        "id": "fTGkGCxVWsUf"
      }
    },
    {
      "cell_type": "code",
      "source": [
        "\n",
        "window_size = 5\n",
        "cv_n_splits = 5\n",
        "tss = sklearn.model_selection.TimeSeriesSplit(n_splits=cv_n_splits)\n",
        "\n",
        "x_tickers_sp500 = []\n",
        "y_tickers_sp500 = []\n",
        "\n",
        "x_scaler = StandardScaler()\n",
        "y_scaler = StandardScaler()\n",
        "\n",
        "# Loop through each ticker\n",
        "for ticker_name in selected_tickers:\n",
        "    X_time_series = []\n",
        "    Y_time_series = []\n",
        "\n",
        "    for i in range(window_size, len(data_full_scaled_sp500_cleaned[ticker_name])):\n",
        "      X_time_series.append( data_full_scaled_sp500_cleaned[ticker_name]['Close'][i-window_size:i])\n",
        "      Y_time_series.append( data_full_scaled_sp500_cleaned[ticker_name]['Close'][i])\n",
        "\n",
        "    X_time_series = np.array(X_time_series)\n",
        "    Y_time_series = np.array(Y_time_series)\n",
        "\n",
        "    x_tickers_sp500.append( X_time_series[(31 - window_size):])\n",
        "    y_tickers_sp500.append( Y_time_series[(31 - window_size):])\n",
        "\n",
        "\n"
      ],
      "metadata": {
        "id": "76dyQVEwI8gH"
      },
      "execution_count": 178,
      "outputs": []
    },
    {
      "cell_type": "code",
      "source": [
        "from sklearn.preprocessing import MinMaxScaler\n",
        "\n",
        "scaler = MinMaxScaler()\n",
        "x_tickers_sp500_normalized = [scaler.fit_transform(array) for array in x_tickers_sp500]\n",
        "y_tickers_sp500_normalized = [scaler.fit_transform(array.reshape(-1, 1)) for array in y_tickers_sp500]\n",
        "print(\"Length of y_tickers_sp500[0]:\", len(y_tickers_sp500_normalized[0]))\n",
        "print(\"Length of x_tickers_sp500[0]:\", len(x_tickers_sp500_normalized[0]))\n"
      ],
      "metadata": {
        "colab": {
          "base_uri": "https://localhost:8080/"
        },
        "id": "f4OOiXX6RIvY",
        "outputId": "2706a147-ca6a-4c05-bfe0-0047c362beaa"
      },
      "execution_count": 179,
      "outputs": [
        {
          "output_type": "stream",
          "name": "stdout",
          "text": [
            "Length of y_tickers_sp500[0]: 2888\n",
            "Length of x_tickers_sp500[0]: 2888\n"
          ]
        }
      ]
    },
    {
      "cell_type": "code",
      "source": [
        "print(len(x_tickers_sp500[0]))\n",
        "print(len(y_tickers_sp500[0]))\n"
      ],
      "metadata": {
        "colab": {
          "base_uri": "https://localhost:8080/"
        },
        "id": "nPzLV2mcN5OK",
        "outputId": "fa99d1e2-cbfd-4e8d-b32e-7d11eabf9bd8"
      },
      "execution_count": 180,
      "outputs": [
        {
          "output_type": "stream",
          "name": "stdout",
          "text": [
            "2888\n",
            "2888\n"
          ]
        }
      ]
    },
    {
      "cell_type": "markdown",
      "source": [
        "## 5-1. Neural network models with memory"
      ],
      "metadata": {
        "id": "9696AxduUQlX"
      }
    },
    {
      "cell_type": "code",
      "source": [
        "import random\n",
        "number_of_runs = 0\n",
        "seed_value = 2"
      ],
      "metadata": {
        "id": "FeTjUBoykO_r"
      },
      "execution_count": 181,
      "outputs": []
    },
    {
      "cell_type": "code",
      "source": [
        "for ticker_name in selected_tickers:\n",
        "  full_data = data_full_scaled_sp500_cleaned[ticker_name]\n",
        "  print(ticker_name , len(full_data))\n",
        "  #print(full_data['Close'][0])\n",
        "\n",
        "  # Time series split\n",
        "  for j, (train_index, test_index) in enumerate(tss.split(full_data)):\n",
        "\n",
        "    #Different seeds\n",
        "    for new_seed in range(5):\n",
        "#      seed_value = new_seed\n",
        "      random.seed(seed_value)\n",
        "      np.random.seed(seed_value)\n",
        "      tf.random.set_seed(seed_value)\n",
        "      keras.utils.set_random_seed(seed_value)\n",
        "\n",
        "      number_of_runs += 1\n",
        "\n",
        "      train_data = full_data['Close'][train_index]\n",
        "      test_data = full_data['Close'][test_index]"
      ],
      "metadata": {
        "colab": {
          "base_uri": "https://localhost:8080/"
        },
        "id": "6WYzaBxEu_1j",
        "outputId": "5737c0b2-ee2c-4d64-ec8f-f2cf3364f809"
      },
      "execution_count": 182,
      "outputs": [
        {
          "output_type": "stream",
          "name": "stdout",
          "text": [
            "AMZN 2919\n",
            "MSFT 2919\n",
            "AAPL 2919\n",
            "META 2919\n",
            "GOOGL 2919\n"
          ]
        }
      ]
    },
    {
      "cell_type": "code",
      "source": [
        "train_data.head()\n"
      ],
      "metadata": {
        "colab": {
          "base_uri": "https://localhost:8080/"
        },
        "id": "b9y-wFQgy5Pg",
        "outputId": "0eb06de5-474b-4261-c40a-9b87c3141082"
      },
      "execution_count": 183,
      "outputs": [
        {
          "output_type": "execute_result",
          "data": {
            "text/plain": [
              "Date\n",
              "2012-05-18    15.025025\n",
              "2012-05-21    15.368118\n",
              "2012-05-22    15.035035\n",
              "2012-05-23    15.251752\n",
              "2012-05-24    15.106607\n",
              "Name: Close, dtype: float64"
            ]
          },
          "metadata": {},
          "execution_count": 183
        }
      ]
    },
    {
      "cell_type": "code",
      "source": [
        "test_data.head()\n"
      ],
      "metadata": {
        "colab": {
          "base_uri": "https://localhost:8080/"
        },
        "id": "wLgw6demy7_5",
        "outputId": "59ccd1ea-f02e-45ac-c0f6-cac5949d86b5"
      },
      "execution_count": 184,
      "outputs": [
        {
          "output_type": "execute_result",
          "data": {
            "text/plain": [
              "Date\n",
              "2022-01-19    135.116501\n",
              "2022-01-20    133.307495\n",
              "2022-01-21    130.351501\n",
              "2022-01-24    130.804001\n",
              "2022-01-25    126.934998\n",
              "Name: Close, dtype: float64"
            ]
          },
          "metadata": {},
          "execution_count": 184
        }
      ]
    },
    {
      "cell_type": "code",
      "source": [
        "print(test_data.shape)\n",
        "print(len(x_tickers_sp500_normalized[0]))"
      ],
      "metadata": {
        "colab": {
          "base_uri": "https://localhost:8080/"
        },
        "id": "v_rKbgLFkLrc",
        "outputId": "2182727d-68cf-4696-f809-7314a0ccfc84"
      },
      "execution_count": 185,
      "outputs": [
        {
          "output_type": "stream",
          "name": "stdout",
          "text": [
            "(486,)\n",
            "2888\n"
          ]
        }
      ]
    },
    {
      "cell_type": "markdown",
      "source": [
        "### 5-1.1 LSTM model"
      ],
      "metadata": {
        "id": "6E9rxMoI4Dp1"
      }
    },
    {
      "cell_type": "code",
      "source": [
        "x_train = np.concatenate(x_tickers_sp500_normalized, axis=0)\n",
        "y_train = np.concatenate(y_tickers_sp500_normalized, axis=0)\n"
      ],
      "metadata": {
        "id": "cKdpW1Df_AvB"
      },
      "execution_count": 186,
      "outputs": []
    },
    {
      "cell_type": "code",
      "source": [
        "x_tickers_sp500_unscaled = [array for array in x_tickers_sp500]\n",
        "y_tickers_sp500_unscaled = [array.reshape(-1, 1) for array in y_tickers_sp500]\n",
        "x_train_unscaled = np.concatenate(x_tickers_sp500_unscaled, axis=0)\n",
        "y_train_unscaled = np.concatenate(y_tickers_sp500_unscaled, axis=0)\n",
        "\n",
        "x_train_unscaled = x_train_unscaled.reshape((x_train_unscaled.shape[0], x_train_unscaled.shape[1], 1))"
      ],
      "metadata": {
        "id": "bUpGKsayzm_8"
      },
      "execution_count": 187,
      "outputs": []
    },
    {
      "cell_type": "code",
      "source": [
        "x_train_unscaled.shape"
      ],
      "metadata": {
        "colab": {
          "base_uri": "https://localhost:8080/"
        },
        "id": "zWR67LKs0ITM",
        "outputId": "0aeac2c9-e751-41b9-e833-88328d76a812"
      },
      "execution_count": 188,
      "outputs": [
        {
          "output_type": "execute_result",
          "data": {
            "text/plain": [
              "(14440, 5, 1)"
            ]
          },
          "metadata": {},
          "execution_count": 188
        }
      ]
    },
    {
      "cell_type": "code",
      "source": [
        "x_train.shape"
      ],
      "metadata": {
        "colab": {
          "base_uri": "https://localhost:8080/"
        },
        "id": "Dw0Os0nR7Rj7",
        "outputId": "fda44148-7a1f-4894-9db2-78ec74d5537a"
      },
      "execution_count": 189,
      "outputs": [
        {
          "output_type": "execute_result",
          "data": {
            "text/plain": [
              "(14440, 5)"
            ]
          },
          "metadata": {},
          "execution_count": 189
        }
      ]
    },
    {
      "cell_type": "code",
      "source": [
        "x_train = x_train.reshape((x_train.shape[0], x_train.shape[1], 1))\n"
      ],
      "metadata": {
        "id": "XcPMltTk_THg"
      },
      "execution_count": 190,
      "outputs": []
    },
    {
      "cell_type": "code",
      "source": [
        "x_train.shape"
      ],
      "metadata": {
        "colab": {
          "base_uri": "https://localhost:8080/"
        },
        "id": "KWmyP5N4_WWK",
        "outputId": "d6c71d56-788a-44e9-8180-e61cc017e6f9"
      },
      "execution_count": 191,
      "outputs": [
        {
          "output_type": "execute_result",
          "data": {
            "text/plain": [
              "(14440, 5, 1)"
            ]
          },
          "metadata": {},
          "execution_count": 191
        }
      ]
    },
    {
      "cell_type": "code",
      "source": [
        "from tensorflow.keras.models import Sequential\n",
        "from tensorflow.keras.layers import LSTM, Dense\n",
        "from tensorflow.keras.layers import RepeatVector\n"
      ],
      "metadata": {
        "id": "_dfrg1GP8fES"
      },
      "execution_count": 192,
      "outputs": []
    },
    {
      "cell_type": "code",
      "source": [
        "input_shape = (x_train.shape[1], x_train.shape[2])"
      ],
      "metadata": {
        "id": "bEILZ3P08i4J"
      },
      "execution_count": 193,
      "outputs": []
    },
    {
      "cell_type": "code",
      "source": [
        "def plot_loss(history, model_name):\n",
        "  plt.plot(history.history['loss'])\n",
        "  plt.title(f'{model_name} Loss')\n",
        "  plt.xlabel('Epoch')\n",
        "  plt.ylabel('Loss')\n",
        "  plt.show()\n"
      ],
      "metadata": {
        "id": "NNN9jgBn59-v"
      },
      "execution_count": 194,
      "outputs": []
    },
    {
      "cell_type": "code",
      "source": [
        "def prediction(model):\n",
        "    prediction = model.predict(x_train)\n",
        "    # prediction = scaler.inverse_transform(prediction)\n",
        "    return prediction\n",
        "\n",
        "def evaluate_prediction(predictions, actual, model_name):\n",
        "    errors = predictions - actual\n",
        "    mse = np.square(errors).mean()\n",
        "    mae = np.abs(errors).mean()\n",
        "    # mape = np.mean(np.abs(errors / np.maximum(np.abs(actual), 1))) * 100\n",
        "    mask = actual != 0\n",
        "    mape = np.mean(np.abs(errors[mask] / np.maximum(np.abs(actual[mask]), 1))) * 100\n",
        "\n",
        "    print(model_name + ':')\n",
        "    print('Mean Square Error: {:.4f}'.format(mse))\n",
        "    print('Mean Absolute Error: {:.4f}'.format(mae))\n",
        "    print('Mean Absolute Percentage Error: {:.4f}%'.format(mape))\n",
        "    print('')\n"
      ],
      "metadata": {
        "id": "LNbqtjmt3eRa"
      },
      "execution_count": 195,
      "outputs": []
    },
    {
      "cell_type": "code",
      "source": [
        "input_shape_unscaled = (x_train_unscaled.shape[1], x_train_unscaled.shape[2])\n",
        "lstm_model_unscaled = Sequential()\n",
        "lstm_model_unscaled.add(LSTM(units=50, return_sequences = True, activation='tanh', input_shape=input_shape_unscaled))\n",
        "lstm_model_unscaled.add(LSTM(units=50, activation='tanh'))\n",
        "lstm_model_unscaled.add(Dense(units=1))\n",
        "\n",
        "lstm_model_unscaled.compile(optimizer='adam', loss='mse')\n",
        "\n",
        "lstm_history_unscaled = lstm_model_unscaled.fit(x_train_unscaled, y_train_unscaled, epochs=10, batch_size = 150)\n",
        "\n",
        "plot_loss(lstm_history_unscaled, 'LSTM_unscaled')\n"
      ],
      "metadata": {
        "colab": {
          "base_uri": "https://localhost:8080/",
          "height": 831
        },
        "id": "otpFOjryzLwb",
        "outputId": "80f55534-a7d2-4fb2-d8ec-329da0fc0a75"
      },
      "execution_count": 196,
      "outputs": [
        {
          "output_type": "stream",
          "name": "stdout",
          "text": [
            "Epoch 1/10\n",
            "97/97 [==============================] - 4s 7ms/step - loss: 15210.9121\n",
            "Epoch 2/10\n",
            "97/97 [==============================] - 1s 8ms/step - loss: 13790.0332\n",
            "Epoch 3/10\n",
            "97/97 [==============================] - 1s 8ms/step - loss: 12950.2656\n",
            "Epoch 4/10\n",
            "97/97 [==============================] - 1s 6ms/step - loss: 12213.7715\n",
            "Epoch 5/10\n",
            "97/97 [==============================] - 1s 6ms/step - loss: 11554.7666\n",
            "Epoch 6/10\n",
            "97/97 [==============================] - 1s 6ms/step - loss: 10957.2822\n",
            "Epoch 7/10\n",
            "97/97 [==============================] - 1s 6ms/step - loss: 10339.6436\n",
            "Epoch 8/10\n",
            "97/97 [==============================] - 1s 6ms/step - loss: 9789.0996\n",
            "Epoch 9/10\n",
            "97/97 [==============================] - 1s 5ms/step - loss: 9276.7578\n",
            "Epoch 10/10\n",
            "97/97 [==============================] - 1s 6ms/step - loss: 8797.7109\n"
          ]
        },
        {
          "output_type": "display_data",
          "data": {
            "text/plain": [
              "<Figure size 640x480 with 1 Axes>"
            ],
            "image/png": "[encoded data removed]"
          },
          "metadata": {}
        }
      ]
    },
    {
      "cell_type": "code",
      "source": [
        "lstm_model = Sequential()\n",
        "lstm_model.add(LSTM(units=50, return_sequences = True, activation='tanh', input_shape=input_shape))\n",
        "lstm_model.add(LSTM(units=50, activation='tanh'))\n",
        "lstm_model.add(Dense(units=1))\n",
        "\n",
        "lstm_model.compile(optimizer='adam', loss='mse')\n",
        "\n",
        "lstm_history = lstm_model.fit(x_train, y_train, epochs=10, batch_size = 150)\n",
        "\n",
        "plot_loss(lstm_history, 'LSTM')\n",
        "\n",
        "lstm_history = lstm_model.fit(x_train_unscaled, y_train, epochs=10, batch_size = 150)\n",
        "\n",
        "plot_loss(lstm_history, 'LSTM')"
      ],
      "metadata": {
        "colab": {
          "base_uri": "https://localhost:8080/",
          "height": 1000
        },
        "id": "NXTyL9FJ2uRN",
        "outputId": "a762d980-e714-4f75-bf99-deffa21741d4"
      },
      "execution_count": 197,
      "outputs": [
        {
          "output_type": "stream",
          "name": "stdout",
          "text": [
            "Epoch 1/10\n",
            "97/97 [==============================] - 4s 6ms/step - loss: 0.0193\n",
            "Epoch 2/10\n",
            "97/97 [==============================] - 1s 6ms/step - loss: 3.4818e-04\n",
            "Epoch 3/10\n",
            "97/97 [==============================] - 1s 6ms/step - loss: 2.7832e-04\n",
            "Epoch 4/10\n",
            "97/97 [==============================] - 1s 6ms/step - loss: 2.6466e-04\n",
            "Epoch 5/10\n",
            "97/97 [==============================] - 1s 7ms/step - loss: 2.6400e-04\n",
            "Epoch 6/10\n",
            "97/97 [==============================] - 1s 8ms/step - loss: 2.6302e-04\n",
            "Epoch 7/10\n",
            "97/97 [==============================] - 1s 7ms/step - loss: 2.6044e-04\n",
            "Epoch 8/10\n",
            "97/97 [==============================] - 1s 7ms/step - loss: 2.6161e-04\n",
            "Epoch 9/10\n",
            "97/97 [==============================] - 1s 7ms/step - loss: 2.5923e-04\n",
            "Epoch 10/10\n",
            "97/97 [==============================] - 1s 5ms/step - loss: 2.6205e-04\n"
          ]
        },
        {
          "output_type": "display_data",
          "data": {
            "text/plain": [
              "<Figure size 640x480 with 1 Axes>"
            ],
            "image/png": "[encoded data removed]"
          },
          "metadata": {}
        },
        {
          "output_type": "stream",
          "name": "stdout",
          "text": [
            "Epoch 1/10\n",
            "97/97 [==============================] - 1s 6ms/step - loss: 0.1737\n",
            "Epoch 2/10\n",
            "97/97 [==============================] - 1s 6ms/step - loss: 0.0197\n",
            "Epoch 3/10\n",
            "97/97 [==============================] - 1s 6ms/step - loss: 0.0197\n",
            "Epoch 4/10\n",
            "97/97 [==============================] - 1s 5ms/step - loss: 0.0196\n",
            "Epoch 5/10\n",
            "97/97 [==============================] - 1s 6ms/step - loss: 0.0196\n",
            "Epoch 6/10\n",
            "97/97 [==============================] - 1s 5ms/step - loss: 0.0196\n",
            "Epoch 7/10\n",
            "97/97 [==============================] - 1s 5ms/step - loss: 0.0195\n",
            "Epoch 8/10\n",
            "97/97 [==============================] - 1s 5ms/step - loss: 0.0195\n",
            "Epoch 9/10\n",
            "97/97 [==============================] - 1s 5ms/step - loss: 0.0194\n",
            "Epoch 10/10\n",
            "97/97 [==============================] - 1s 6ms/step - loss: 0.0195\n"
          ]
        },
        {
          "output_type": "display_data",
          "data": {
            "text/plain": [
              "<Figure size 640x480 with 1 Axes>"
            ],
            "image/png": "[encoded data removed]"
          },
          "metadata": {}
        }
      ]
    },
    {
      "cell_type": "markdown",
      "source": [
        "### 5-1.2 GRU model"
      ],
      "metadata": {
        "id": "7QLVrFIrCPn1"
      }
    },
    {
      "cell_type": "code",
      "source": [
        "from tensorflow.keras.layers import GRU, Dense, Dropout"
      ],
      "metadata": {
        "id": "jhvXtTqnCc5l"
      },
      "execution_count": 198,
      "outputs": []
    },
    {
      "cell_type": "code",
      "source": [
        "gru_model_unscaled = Sequential()\n",
        "gru_model_unscaled.add(GRU(units=50, return_sequences = True, activation='tanh', input_shape=input_shape_unscaled))\n",
        "gru_model_unscaled.add(GRU(units=50, activation='tanh'))\n",
        "gru_model_unscaled.add(Dense(units=1))\n",
        "\n",
        "gru_model_unscaled.compile(optimizer='adam', loss='mse')\n",
        "gru_history_unscaled = gru_model_unscaled.fit(x_train_unscaled, y_train_unscaled, epochs=10, batch_size = 150)\n",
        "\n",
        "plot_loss(gru_history_unscaled, 'GRU_unscaled')"
      ],
      "metadata": {
        "colab": {
          "base_uri": "https://localhost:8080/",
          "height": 831
        },
        "id": "0w4nrX-w3JQH",
        "outputId": "7c24afe6-72f5-401f-c650-406b0f88fb0d"
      },
      "execution_count": 199,
      "outputs": [
        {
          "output_type": "stream",
          "name": "stdout",
          "text": [
            "Epoch 1/10\n",
            "97/97 [==============================] - 3s 5ms/step - loss: 14994.1016\n",
            "Epoch 2/10\n",
            "97/97 [==============================] - 1s 5ms/step - loss: 13717.3145\n",
            "Epoch 3/10\n",
            "97/97 [==============================] - 1s 5ms/step - loss: 12908.7852\n",
            "Epoch 4/10\n",
            "97/97 [==============================] - 0s 5ms/step - loss: 12188.3398\n",
            "Epoch 5/10\n",
            "97/97 [==============================] - 0s 5ms/step - loss: 11539.4023\n",
            "Epoch 6/10\n",
            "97/97 [==============================] - 0s 5ms/step - loss: 10926.4717\n",
            "Epoch 7/10\n",
            "97/97 [==============================] - 0s 5ms/step - loss: 10325.4570\n",
            "Epoch 8/10\n",
            "97/97 [==============================] - 1s 5ms/step - loss: 9780.9023\n",
            "Epoch 9/10\n",
            "97/97 [==============================] - 0s 5ms/step - loss: 9272.8340\n",
            "Epoch 10/10\n",
            "97/97 [==============================] - 1s 5ms/step - loss: 8796.9902\n"
          ]
        },
        {
          "output_type": "display_data",
          "data": {
            "text/plain": [
              "<Figure size 640x480 with 1 Axes>"
            ],
            "image/png": "[encoded data removed]"
          },
          "metadata": {}
        }
      ]
    },
    {
      "cell_type": "code",
      "source": [
        "gru_model = Sequential()\n",
        "gru_model.add(GRU(units=50, return_sequences = True, activation='tanh', input_shape=input_shape))\n",
        "gru_model.add(GRU(units=50, activation='tanh'))\n",
        "gru_model.add(Dense(units=1))\n",
        "\n",
        "gru_model.compile(optimizer='adam', loss='mse')\n",
        "gru_history = gru_model.fit(x_train, y_train, epochs=10, batch_size = 150)\n",
        "\n",
        "plot_loss(gru_history, 'GRU')"
      ],
      "metadata": {
        "colab": {
          "base_uri": "https://localhost:8080/",
          "height": 831
        },
        "id": "XGp9ALCCdSgl",
        "outputId": "2a81f9c8-3f51-4c92-83c4-ff719cd7b4bd"
      },
      "execution_count": 200,
      "outputs": [
        {
          "output_type": "stream",
          "name": "stdout",
          "text": [
            "Epoch 1/10\n",
            "97/97 [==============================] - 4s 5ms/step - loss: 0.0159\n",
            "Epoch 2/10\n",
            "97/97 [==============================] - 1s 5ms/step - loss: 2.0058e-04\n",
            "Epoch 3/10\n",
            "97/97 [==============================] - 0s 5ms/step - loss: 1.9923e-04\n",
            "Epoch 4/10\n",
            "97/97 [==============================] - 0s 5ms/step - loss: 1.9740e-04\n",
            "Epoch 5/10\n",
            "97/97 [==============================] - 0s 5ms/step - loss: 1.9585e-04\n",
            "Epoch 6/10\n",
            "97/97 [==============================] - 0s 5ms/step - loss: 1.9395e-04\n",
            "Epoch 7/10\n",
            "97/97 [==============================] - 1s 5ms/step - loss: 1.9165e-04\n",
            "Epoch 8/10\n",
            "97/97 [==============================] - 1s 5ms/step - loss: 1.9174e-04\n",
            "Epoch 9/10\n",
            "97/97 [==============================] - 0s 5ms/step - loss: 1.8632e-04\n",
            "Epoch 10/10\n",
            "97/97 [==============================] - 1s 5ms/step - loss: 1.8741e-04\n"
          ]
        },
        {
          "output_type": "display_data",
          "data": {
            "text/plain": [
              "<Figure size 640x480 with 1 Axes>"
            ],
            "image/png": "[encoded data removed]"
          },
          "metadata": {}
        }
      ]
    },
    {
      "cell_type": "markdown",
      "source": [
        "### 5-1.3 Bidirectional LSTM (Bi-LSTM) Model:"
      ],
      "metadata": {
        "id": "2ipG5UILDDse"
      }
    },
    {
      "cell_type": "code",
      "source": [
        "from tensorflow.keras.layers import Bidirectional, LSTM, Dense, Dropout\n"
      ],
      "metadata": {
        "id": "yVHYbaGsDG3O"
      },
      "execution_count": 201,
      "outputs": []
    },
    {
      "cell_type": "code",
      "source": [
        "bilstm_model_unscaled = Sequential()\n",
        "bilstm_model_unscaled.add(Bidirectional(LSTM(units=50, return_sequences = True, activation='tanh', input_shape=input_shape)))\n",
        "bilstm_model_unscaled.add(Bidirectional(LSTM(units=50, activation='tanh')))\n",
        "bilstm_model_unscaled.add(Dense(units=1))\n",
        "\n",
        "bilstm_model_unscaled.compile(optimizer='adam', loss='mse')\n",
        "bilstm_history_unscaled = bilstm_model_unscaled.fit(x_train_unscaled, y_train_unscaled, epochs=10, batch_size = 150)\n",
        "\n",
        "plot_loss(bilstm_history_unscaled, 'Bidirectional LSTM_unscaled')"
      ],
      "metadata": {
        "colab": {
          "base_uri": "https://localhost:8080/",
          "height": 831
        },
        "id": "mI7eWQQ43qvs",
        "outputId": "9c6f7184-d442-4501-b44a-5bffe5039d28"
      },
      "execution_count": 202,
      "outputs": [
        {
          "output_type": "stream",
          "name": "stdout",
          "text": [
            "Epoch 1/10\n",
            "97/97 [==============================] - 8s 8ms/step - loss: 14233.3008\n",
            "Epoch 2/10\n",
            "97/97 [==============================] - 1s 8ms/step - loss: 11958.1484\n",
            "Epoch 3/10\n",
            "97/97 [==============================] - 1s 8ms/step - loss: 10658.8008\n",
            "Epoch 4/10\n",
            "97/97 [==============================] - 1s 8ms/step - loss: 9492.4639\n",
            "Epoch 5/10\n",
            "97/97 [==============================] - 1s 8ms/step - loss: 8509.3154\n",
            "Epoch 6/10\n",
            "97/97 [==============================] - 1s 8ms/step - loss: 7654.6948\n",
            "Epoch 7/10\n",
            "97/97 [==============================] - 1s 8ms/step - loss: 6900.8838\n",
            "Epoch 8/10\n",
            "97/97 [==============================] - 1s 8ms/step - loss: 6238.6572\n",
            "Epoch 9/10\n",
            "97/97 [==============================] - 1s 8ms/step - loss: 5654.8647\n",
            "Epoch 10/10\n",
            "97/97 [==============================] - 1s 8ms/step - loss: 5137.7520\n"
          ]
        },
        {
          "output_type": "display_data",
          "data": {
            "text/plain": [
              "<Figure size 640x480 with 1 Axes>"
            ],
            "image/png": "[encoded data removed]"
          },
          "metadata": {}
        }
      ]
    },
    {
      "cell_type": "code",
      "source": [
        "bilstm_model = Sequential()\n",
        "bilstm_model.add(Bidirectional(LSTM(units=50, return_sequences = True, activation='tanh', input_shape=input_shape)))\n",
        "bilstm_model.add(Bidirectional(LSTM(units=50, activation='tanh')))\n",
        "bilstm_model.add(Dense(units=1))\n",
        "\n",
        "bilstm_model.compile(optimizer='adam', loss='mse')\n",
        "bilstm_history = bilstm_model.fit(x_train, y_train, epochs=10, batch_size = 150)\n",
        "\n",
        "plot_loss(bilstm_history, 'Bidirectional LSTM')"
      ],
      "metadata": {
        "colab": {
          "base_uri": "https://localhost:8080/",
          "height": 831
        },
        "id": "mBAEJo2LfEXd",
        "outputId": "ee2df0a4-9f84-447f-cc9f-dfc3762fa2a6"
      },
      "execution_count": 203,
      "outputs": [
        {
          "output_type": "stream",
          "name": "stdout",
          "text": [
            "Epoch 1/10\n",
            "97/97 [==============================] - 9s 8ms/step - loss: 0.0116\n",
            "Epoch 2/10\n",
            "97/97 [==============================] - 1s 8ms/step - loss: 2.1576e-04\n",
            "Epoch 3/10\n",
            "97/97 [==============================] - 1s 8ms/step - loss: 2.0972e-04\n",
            "Epoch 4/10\n",
            "97/97 [==============================] - 1s 8ms/step - loss: 2.0740e-04\n",
            "Epoch 5/10\n",
            "97/97 [==============================] - 1s 8ms/step - loss: 2.0621e-04\n",
            "Epoch 6/10\n",
            "97/97 [==============================] - 1s 10ms/step - loss: 2.0387e-04\n",
            "Epoch 7/10\n",
            "97/97 [==============================] - 1s 11ms/step - loss: 2.0190e-04\n",
            "Epoch 8/10\n",
            "97/97 [==============================] - 1s 11ms/step - loss: 2.0044e-04\n",
            "Epoch 9/10\n",
            "97/97 [==============================] - 1s 10ms/step - loss: 1.9653e-04\n",
            "Epoch 10/10\n",
            "97/97 [==============================] - 1s 8ms/step - loss: 1.9744e-04\n"
          ]
        },
        {
          "output_type": "display_data",
          "data": {
            "text/plain": [
              "<Figure size 640x480 with 1 Axes>"
            ],
            "image/png": "[encoded data removed]"
          },
          "metadata": {}
        }
      ]
    },
    {
      "cell_type": "code",
      "source": [
        "prediction_lstm_unscaled = prediction(lstm_model_unscaled)\n",
        "prediction_gru_unscaled = prediction(gru_model_unscaled)\n",
        "prediction_bilstm_unscaled = prediction(bilstm_model_unscaled)\n",
        "\n",
        "evaluate_prediction(prediction_lstm_unscaled, y_train, 'LSTM_unscaled')\n",
        "evaluate_prediction(prediction_gru_unscaled, y_train, 'GRU_unscaled')\n",
        "evaluate_prediction(prediction_bilstm_unscaled, y_train, 'Bi-LSTM_unscaled')"
      ],
      "metadata": {
        "colab": {
          "base_uri": "https://localhost:8080/"
        },
        "id": "Izfjcn0n4CMd",
        "outputId": "5f8626b8-fbd3-4bab-d2dd-ae7f9d33fd2e"
      },
      "execution_count": 204,
      "outputs": [
        {
          "output_type": "stream",
          "name": "stdout",
          "text": [
            "452/452 [==============================] - 2s 2ms/step\n",
            "452/452 [==============================] - 2s 2ms/step\n",
            "452/452 [==============================] - 3s 3ms/step\n",
            "LSTM_unscaled:\n",
            "Mean Square Error: 3.9468\n",
            "Mean Absolute Error: 1.9618\n",
            "Mean Absolute Percentage Error: 196.1665%\n",
            "\n",
            "GRU_unscaled:\n",
            "Mean Square Error: 459.7234\n",
            "Mean Absolute Error: 21.4390\n",
            "Mean Absolute Percentage Error: 2143.9161%\n",
            "\n",
            "Bi-LSTM_unscaled:\n",
            "Mean Square Error: 17.8041\n",
            "Mean Absolute Error: 4.1990\n",
            "Mean Absolute Percentage Error: 419.8815%\n",
            "\n"
          ]
        }
      ]
    },
    {
      "cell_type": "code",
      "source": [
        "prediction_lstm = prediction(lstm_model)\n",
        "prediction_gru = prediction(gru_model)\n",
        "prediction_bilstm = prediction(bilstm_model)\n",
        "\n",
        "evaluate_prediction(prediction_lstm, y_train, 'LSTM')\n",
        "evaluate_prediction(prediction_gru, y_train, 'GRU')\n",
        "evaluate_prediction(prediction_bilstm, y_train, 'Bi-LSTM')"
      ],
      "metadata": {
        "colab": {
          "base_uri": "https://localhost:8080/"
        },
        "id": "9jR8aT4W7vum",
        "outputId": "9715efb2-df2d-4429-d9d3-096e2115c815"
      },
      "execution_count": 205,
      "outputs": [
        {
          "output_type": "stream",
          "name": "stdout",
          "text": [
            "452/452 [==============================] - 2s 2ms/step\n",
            "452/452 [==============================] - 2s 3ms/step\n",
            "452/452 [==============================] - 3s 4ms/step\n",
            "LSTM:\n",
            "Mean Square Error: 0.1736\n",
            "Mean Absolute Error: 0.3108\n",
            "Mean Absolute Percentage Error: 31.0889%\n",
            "\n",
            "GRU:\n",
            "Mean Square Error: 0.0002\n",
            "Mean Absolute Error: 0.0080\n",
            "Mean Absolute Percentage Error: 0.8018%\n",
            "\n",
            "Bi-LSTM:\n",
            "Mean Square Error: 0.0002\n",
            "Mean Absolute Error: 0.0084\n",
            "Mean Absolute Percentage Error: 0.8411%\n",
            "\n"
          ]
        }
      ]
    },
    {
      "cell_type": "markdown",
      "source": [
        "### 5-1.4 Multi-Layer Perceptron (MLP) Model:\n"
      ],
      "metadata": {
        "id": "07J6YjbgD-pf"
      }
    },
    {
      "cell_type": "code",
      "source": [
        "from tensorflow.keras.layers import Dense, Flatten, Dropout"
      ],
      "metadata": {
        "id": "JbpPwf_iEAoZ"
      },
      "execution_count": 206,
      "outputs": []
    },
    {
      "cell_type": "code",
      "source": [
        "x_train_flatten = x_train.reshape((x_train.shape[0], -1))"
      ],
      "metadata": {
        "id": "hYM-yNcBEIkE"
      },
      "execution_count": 207,
      "outputs": []
    },
    {
      "cell_type": "code",
      "source": [
        "x_train_flatten_unscaled =  x_train_unscaled.reshape((x_train_unscaled.shape[0], -1))"
      ],
      "metadata": {
        "id": "Mpaz_uiB4WYB"
      },
      "execution_count": 208,
      "outputs": []
    },
    {
      "cell_type": "code",
      "source": [
        "mlp_model_unscaled = Sequential()\n",
        "mlp_model_unscaled.add(Dense(units=256, activation='relu', input_shape=(x_train_flatten_unscaled.shape[1],)))\n",
        "mlp_model_unscaled.add(Dense(units=1, activation='linear'))\n",
        "\n",
        "mlp_model_unscaled.compile(optimizer='adam', loss='mse')\n",
        "\n",
        "mlp_model_unscaled.fit(x_train_unscaled, y_train_unscaled, epochs=10, verbose=1)"
      ],
      "metadata": {
        "colab": {
          "base_uri": "https://localhost:8080/"
        },
        "id": "DMVJaRev4TrU",
        "outputId": "9673ff40-c664-41a7-b66e-b3ba84a06af1"
      },
      "execution_count": 209,
      "outputs": [
        {
          "output_type": "stream",
          "name": "stdout",
          "text": [
            "Epoch 1/10\n",
            "452/452 [==============================] - 2s 3ms/step - loss: 241.3691\n",
            "Epoch 2/10\n",
            "452/452 [==============================] - 1s 3ms/step - loss: 13.5502\n",
            "Epoch 3/10\n",
            "452/452 [==============================] - 1s 3ms/step - loss: 12.3101\n",
            "Epoch 4/10\n",
            "452/452 [==============================] - 1s 3ms/step - loss: 10.7959\n",
            "Epoch 5/10\n",
            "452/452 [==============================] - 1s 3ms/step - loss: 10.3565\n",
            "Epoch 6/10\n",
            "452/452 [==============================] - 2s 4ms/step - loss: 10.1255\n",
            "Epoch 7/10\n",
            "452/452 [==============================] - 1s 3ms/step - loss: 10.3568\n",
            "Epoch 8/10\n",
            "452/452 [==============================] - 1s 3ms/step - loss: 10.5886\n",
            "Epoch 9/10\n",
            "452/452 [==============================] - 1s 3ms/step - loss: 10.1865\n",
            "Epoch 10/10\n",
            "452/452 [==============================] - 1s 3ms/step - loss: 9.0858\n"
          ]
        },
        {
          "output_type": "execute_result",
          "data": {
            "text/plain": [
              "<keras.src.callbacks.History at 0x7ac8f6badae0>"
            ]
          },
          "metadata": {},
          "execution_count": 209
        }
      ]
    },
    {
      "cell_type": "code",
      "source": [
        "mlp_model = Sequential()\n",
        "mlp_model.add(Dense(units=256, activation='relu', input_shape=(x_train_flatten.shape[1],)))\n",
        "mlp_model.add(Dense(units=1, activation='linear'))\n",
        "\n",
        "mlp_model.compile(optimizer='adam', loss='mse')"
      ],
      "metadata": {
        "id": "4nuw6AGNELHt"
      },
      "execution_count": 210,
      "outputs": []
    },
    {
      "cell_type": "code",
      "source": [
        "mlp_model.fit(x_train, y_train, epochs=10, verbose=1)"
      ],
      "metadata": {
        "colab": {
          "base_uri": "https://localhost:8080/"
        },
        "id": "3tLJsxxwESOs",
        "outputId": "bddde1c7-c09d-4531-b081-6027dccb9c7b"
      },
      "execution_count": 211,
      "outputs": [
        {
          "output_type": "stream",
          "name": "stdout",
          "text": [
            "Epoch 1/10\n",
            "452/452 [==============================] - 2s 3ms/step - loss: 0.0016\n",
            "Epoch 2/10\n",
            "452/452 [==============================] - 1s 3ms/step - loss: 1.7760e-04\n",
            "Epoch 3/10\n",
            "452/452 [==============================] - 1s 3ms/step - loss: 1.5829e-04\n",
            "Epoch 4/10\n",
            "452/452 [==============================] - 1s 3ms/step - loss: 1.4044e-04\n",
            "Epoch 5/10\n",
            "452/452 [==============================] - 1s 3ms/step - loss: 1.2882e-04\n",
            "Epoch 6/10\n",
            "452/452 [==============================] - 1s 3ms/step - loss: 1.3370e-04\n",
            "Epoch 7/10\n",
            "452/452 [==============================] - 1s 3ms/step - loss: 1.3205e-04\n",
            "Epoch 8/10\n",
            "452/452 [==============================] - 1s 3ms/step - loss: 1.3358e-04\n",
            "Epoch 9/10\n",
            "452/452 [==============================] - 2s 4ms/step - loss: 1.3478e-04\n",
            "Epoch 10/10\n",
            "452/452 [==============================] - 2s 3ms/step - loss: 1.2382e-04\n"
          ]
        },
        {
          "output_type": "execute_result",
          "data": {
            "text/plain": [
              "<keras.src.callbacks.History at 0x7ac8f6599cf0>"
            ]
          },
          "metadata": {},
          "execution_count": 211
        }
      ]
    },
    {
      "cell_type": "markdown",
      "source": [
        "### 5-1.5 Convolutional Neural Network (CNN) Model:\n"
      ],
      "metadata": {
        "id": "ckXazQjdFAAF"
      }
    },
    {
      "cell_type": "code",
      "source": [
        "from tensorflow.keras.layers import Conv1D, MaxPooling1D, Flatten, Dense, Dropout\n"
      ],
      "metadata": {
        "id": "uvqLQ_6gFF7E"
      },
      "execution_count": 212,
      "outputs": []
    },
    {
      "cell_type": "code",
      "source": [
        "input_shape_cnn = (x_train.shape[1], x_train.shape[2])\n"
      ],
      "metadata": {
        "id": "egasKBGHFIdL"
      },
      "execution_count": 213,
      "outputs": []
    },
    {
      "cell_type": "code",
      "source": [
        "input_shape_cnn_unscaled = (x_train_unscaled.shape[1], x_train_unscaled.shape[2])"
      ],
      "metadata": {
        "id": "49sLcMmf43ge"
      },
      "execution_count": 214,
      "outputs": []
    },
    {
      "cell_type": "code",
      "source": [
        "cnn_model_unscaled = Sequential()\n",
        "cnn_model_unscaled.add(Conv1D(filters=32, kernel_size=3, activation='relu', input_shape=input_shape_cnn_unscaled))\n",
        "cnn_model_unscaled.add(MaxPooling1D(pool_size=2))\n",
        "\n",
        "cnn_model_unscaled.add(Dense(units=1, activation='linear'))\n",
        "cnn_model_unscaled.compile(optimizer='adam', loss='mse')"
      ],
      "metadata": {
        "id": "296VaI1T48pQ"
      },
      "execution_count": 215,
      "outputs": []
    },
    {
      "cell_type": "code",
      "source": [
        "cnn_model_unscaled.fit(x_train_unscaled, y_train_unscaled, epochs=10, verbose=1)"
      ],
      "metadata": {
        "colab": {
          "base_uri": "https://localhost:8080/"
        },
        "id": "57jgusXk5Ehs",
        "outputId": "27afa17e-e711-4f9c-9635-a199c0d95c27"
      },
      "execution_count": 216,
      "outputs": [
        {
          "output_type": "stream",
          "name": "stdout",
          "text": [
            "Epoch 1/10\n",
            "452/452 [==============================] - 2s 3ms/step - loss: 210.3456\n",
            "Epoch 2/10\n",
            "452/452 [==============================] - 1s 3ms/step - loss: 21.0240\n",
            "Epoch 3/10\n",
            "452/452 [==============================] - 1s 3ms/step - loss: 21.0564\n",
            "Epoch 4/10\n",
            "452/452 [==============================] - 1s 3ms/step - loss: 20.6812\n",
            "Epoch 5/10\n",
            "452/452 [==============================] - 1s 3ms/step - loss: 20.4845\n",
            "Epoch 6/10\n",
            "452/452 [==============================] - 1s 3ms/step - loss: 20.5171\n",
            "Epoch 7/10\n",
            "452/452 [==============================] - 2s 5ms/step - loss: 20.3253\n",
            "Epoch 8/10\n",
            "452/452 [==============================] - 2s 4ms/step - loss: 20.1436\n",
            "Epoch 9/10\n",
            "452/452 [==============================] - 1s 3ms/step - loss: 19.7421\n",
            "Epoch 10/10\n",
            "452/452 [==============================] - 1s 3ms/step - loss: 20.3652\n"
          ]
        },
        {
          "output_type": "execute_result",
          "data": {
            "text/plain": [
              "<keras.src.callbacks.History at 0x7ac8f6476e60>"
            ]
          },
          "metadata": {},
          "execution_count": 216
        }
      ]
    },
    {
      "cell_type": "code",
      "source": [
        "cnn_model = Sequential()\n",
        "cnn_model.add(Conv1D(filters=32, kernel_size=3, activation='relu', input_shape=input_shape_cnn))\n",
        "cnn_model.add(MaxPooling1D(pool_size=2))\n",
        "\n",
        "cnn_model.add(Dense(units=1, activation='linear'))\n",
        "cnn_model.compile(optimizer='adam', loss='mse')"
      ],
      "metadata": {
        "id": "iN92F6IXFL2j"
      },
      "execution_count": 217,
      "outputs": []
    },
    {
      "cell_type": "code",
      "source": [
        "cnn_model.fit(x_train, y_train, epochs=10, verbose=1)"
      ],
      "metadata": {
        "colab": {
          "base_uri": "https://localhost:8080/"
        },
        "id": "Rdp6iBdtFSzV",
        "outputId": "065152ce-edd3-4d18-c35d-d2cb3fd510b8"
      },
      "execution_count": 218,
      "outputs": [
        {
          "output_type": "stream",
          "name": "stdout",
          "text": [
            "Epoch 1/10\n",
            "452/452 [==============================] - 2s 3ms/step - loss: 0.0113\n",
            "Epoch 2/10\n",
            "452/452 [==============================] - 1s 3ms/step - loss: 2.7833e-04\n",
            "Epoch 3/10\n",
            "452/452 [==============================] - 1s 3ms/step - loss: 2.7360e-04\n",
            "Epoch 4/10\n",
            "452/452 [==============================] - 1s 3ms/step - loss: 2.7141e-04\n",
            "Epoch 5/10\n",
            "452/452 [==============================] - 2s 5ms/step - loss: 2.6742e-04\n",
            "Epoch 6/10\n",
            "452/452 [==============================] - 2s 4ms/step - loss: 2.5968e-04\n",
            "Epoch 7/10\n",
            "452/452 [==============================] - 1s 3ms/step - loss: 2.5828e-04\n",
            "Epoch 8/10\n",
            "452/452 [==============================] - 1s 3ms/step - loss: 2.5043e-04\n",
            "Epoch 9/10\n",
            "452/452 [==============================] - 1s 3ms/step - loss: 2.4900e-04\n",
            "Epoch 10/10\n",
            "452/452 [==============================] - 1s 3ms/step - loss: 2.4819e-04\n"
          ]
        },
        {
          "output_type": "execute_result",
          "data": {
            "text/plain": [
              "<keras.src.callbacks.History at 0x7ac8f63928f0>"
            ]
          },
          "metadata": {},
          "execution_count": 218
        }
      ]
    },
    {
      "cell_type": "markdown",
      "source": [
        "### 5-1.6 Convolutional LSTM Model:\n",
        "\n"
      ],
      "metadata": {
        "id": "PrWUXRL_FrXW"
      }
    },
    {
      "cell_type": "code",
      "source": [
        "from tensorflow.keras.models import Sequential\n",
        "from tensorflow.keras.layers import ConvLSTM2D, Dense\n",
        "\n",
        "\n",
        "x_train_reshaped_unscaled = x_train_unscaled.reshape((x_train_unscaled.shape[0], x_train_unscaled.shape[1], 1, x_train_unscaled.shape[2], 1))\n",
        "\n",
        "# Build the Conv-LSTM model\n",
        "input_shape_unscaled = (5, 1, 1, 1)\n",
        "conv_lstm_model_unscaled = Sequential()\n",
        "conv_lstm_model_unscaled.add(ConvLSTM2D(filters=50, kernel_size=(1, 3), activation='tanh', padding='same', input_shape=input_shape_unscaled, return_sequences=True))\n",
        "conv_lstm_model_unscaled.add(ConvLSTM2D(filters=50, kernel_size=(1, 3), activation='tanh', padding='same'))\n",
        "conv_lstm_model_unscaled.add(Dense(units=1))\n",
        "\n",
        "conv_lstm_model_unscaled.compile(optimizer='adam', loss='mse')\n",
        "\n",
        "# Train the model with the reshaped data\n",
        "conv_lstm_history_unscaled = conv_lstm_model_unscaled.fit(x_train_reshaped_unscaled, y_train_unscaled, epochs=10, batch_size=150)\n",
        "\n",
        "# Plot the loss\n",
        "plot_loss(conv_lstm_history_unscaled, 'Conv-LSTM')"
      ],
      "metadata": {
        "colab": {
          "base_uri": "https://localhost:8080/",
          "height": 831
        },
        "id": "BsEztlm79rUp",
        "outputId": "3cf291b2-1a43-469a-ddbd-b8263f3ec717"
      },
      "execution_count": 220,
      "outputs": [
        {
          "output_type": "stream",
          "name": "stdout",
          "text": [
            "Epoch 1/10\n",
            "97/97 [==============================] - 11s 41ms/step - loss: 15128.8145\n",
            "Epoch 2/10\n",
            "97/97 [==============================] - 4s 37ms/step - loss: 13785.3779\n",
            "Epoch 3/10\n",
            "97/97 [==============================] - 5s 47ms/step - loss: 12962.2900\n",
            "Epoch 4/10\n",
            "97/97 [==============================] - 6s 63ms/step - loss: 12232.7705\n",
            "Epoch 5/10\n",
            "97/97 [==============================] - 5s 52ms/step - loss: 11577.2031\n",
            "Epoch 6/10\n",
            "97/97 [==============================] - 5s 52ms/step - loss: 10985.1719\n",
            "Epoch 7/10\n",
            "97/97 [==============================] - 5s 47ms/step - loss: 10449.0010\n",
            "Epoch 8/10\n",
            "97/97 [==============================] - 3s 35ms/step - loss: 9967.5664\n",
            "Epoch 9/10\n",
            "97/97 [==============================] - 5s 51ms/step - loss: 9535.5527\n",
            "Epoch 10/10\n",
            "97/97 [==============================] - 4s 36ms/step - loss: 9149.1611\n"
          ]
        },
        {
          "output_type": "display_data",
          "data": {
            "text/plain": [
              "<Figure size 640x480 with 1 Axes>"
            ],
            "image/png": "[encoded data removed]"
          },
          "metadata": {}
        }
      ]
    },
    {
      "cell_type": "code",
      "source": [
        "# Reshape the input data to have the necessary dimensions\n",
        "x_train_reshaped = x_train.reshape((x_train.shape[0], x_train.shape[1], 1, x_train.shape[2], 1))\n",
        "\n",
        "# Build the Conv-LSTM model\n",
        "input_shape = (5, 1, 1, 1)\n",
        "conv_lstm_model = Sequential()\n",
        "conv_lstm_model.add(ConvLSTM2D(filters=50, kernel_size=(1, 3), activation='tanh', padding='same', input_shape=input_shape_unscaled, return_sequences=True))\n",
        "conv_lstm_model.add(ConvLSTM2D(filters=50, kernel_size=(1, 3), activation='tanh', padding='same'))\n",
        "conv_lstm_model.add(Dense(units=1))\n",
        "\n",
        "conv_lstm_model.compile(optimizer='adam', loss='mse')\n",
        "\n",
        "# Train the model with the reshaped data\n",
        "conv_lstm_history = conv_lstm_model.fit(x_train_reshaped, y_train, epochs=10, batch_size=150)\n",
        "\n",
        "# Plot the loss\n",
        "plot_loss(conv_lstm_history, 'Conv-LSTM')\n"
      ],
      "metadata": {
        "colab": {
          "base_uri": "https://localhost:8080/",
          "height": 831
        },
        "id": "SwBky1kn2lIR",
        "outputId": "f3cb2ae0-2207-411f-f234-20d74b0075d6"
      },
      "execution_count": 221,
      "outputs": [
        {
          "output_type": "stream",
          "name": "stdout",
          "text": [
            "Epoch 1/10\n",
            "97/97 [==============================] - 9s 46ms/step - loss: 0.0945\n",
            "Epoch 2/10\n",
            "97/97 [==============================] - 3s 35ms/step - loss: 0.0826\n",
            "Epoch 3/10\n",
            "97/97 [==============================] - 3s 36ms/step - loss: 0.0827\n",
            "Epoch 4/10\n",
            "97/97 [==============================] - 5s 51ms/step - loss: 0.0826\n",
            "Epoch 5/10\n",
            "97/97 [==============================] - 3s 35ms/step - loss: 0.0826\n",
            "Epoch 6/10\n",
            "97/97 [==============================] - 3s 35ms/step - loss: 0.0826\n",
            "Epoch 7/10\n",
            "97/97 [==============================] - 4s 46ms/step - loss: 0.0826\n",
            "Epoch 8/10\n",
            "97/97 [==============================] - 4s 39ms/step - loss: 0.0828\n",
            "Epoch 9/10\n",
            "97/97 [==============================] - 3s 35ms/step - loss: 0.0827\n",
            "Epoch 10/10\n",
            "97/97 [==============================] - 3s 36ms/step - loss: 0.0828\n"
          ]
        },
        {
          "output_type": "display_data",
          "data": {
            "text/plain": [
              "<Figure size 640x480 with 1 Axes>"
            ],
            "image/png": "[encoded data removed]"
          },
          "metadata": {}
        }
      ]
    },
    {
      "cell_type": "code",
      "source": [
        "x_train_reshaped_unscaled\n",
        "prediction_mlp_unscaled = prediction(mlp_model_unscaled)\n",
        "prediction_cnn_unscaled = prediction(cnn_model_unscaled)\n",
        "\n",
        "x_train_reshaped_unscaled = x_train_unscaled.reshape((x_train_unscaled.shape[0], x_train_unscaled.shape[1], 1, x_train_unscaled.shape[2], 1))\n",
        "prediction_conv_lstm_unscaled = conv_lstm_model_unscaled.predict(x_train_reshaped_unscaled)\n",
        "\n",
        "evaluate_prediction(prediction_mlp_unscaled, y_train, 'MLP_unscaled')\n",
        "evaluate_prediction(prediction_cnn_unscaled.reshape((14440, 1)), y_train, 'CNN_unscaled')\n",
        "evaluate_prediction(prediction_conv_lstm_unscaled.reshape((14440, 1)), y_train, 'Conv-LSTM')"
      ],
      "metadata": {
        "colab": {
          "base_uri": "https://localhost:8080/"
        },
        "id": "zol9G2lt5yWm",
        "outputId": "c365788e-451f-4537-c356-6e4116fbcbb6"
      },
      "execution_count": 223,
      "outputs": [
        {
          "output_type": "stream",
          "name": "stdout",
          "text": [
            "452/452 [==============================] - 1s 1ms/step\n",
            "452/452 [==============================] - 1s 2ms/step\n",
            "452/452 [==============================] - 8s 17ms/step\n",
            "MLP_unscaled:\n",
            "Mean Square Error: 0.0036\n",
            "Mean Absolute Error: 0.0581\n",
            "Mean Absolute Percentage Error: 5.8133%\n",
            "\n",
            "CNN_unscaled:\n",
            "Mean Square Error: 0.0346\n",
            "Mean Absolute Error: 0.1851\n",
            "Mean Absolute Percentage Error: 18.5122%\n",
            "\n",
            "Conv-LSTM:\n",
            "Mean Square Error: 2743.5361\n",
            "Mean Absolute Error: 52.3780\n",
            "Mean Absolute Percentage Error: 5237.7873%\n",
            "\n"
          ]
        }
      ]
    },
    {
      "cell_type": "code",
      "source": [
        "prediction_mlp = prediction(mlp_model)\n",
        "prediction_cnn = prediction(cnn_model)\n",
        "\n",
        "x_train_reshaped = x_train.reshape((x_train.shape[0], x_train.shape[1], 1, x_train.shape[2], 1))\n",
        "prediction_conv_lstm = conv_lstm_model.predict(x_train_reshaped)\n",
        "\n",
        "evaluate_prediction(prediction_mlp, y_train, 'MLP')\n",
        "evaluate_prediction(prediction_cnn.reshape((14440, 1)), y_train, 'CNN')\n",
        "evaluate_prediction(prediction_conv_lstm.reshape((14440, 1)), y_train, 'Conv-LSTM')"
      ],
      "metadata": {
        "colab": {
          "base_uri": "https://localhost:8080/"
        },
        "id": "0FHbTBQNkt9p",
        "outputId": "ac963aac-4ac6-4b9a-e648-35108904f714"
      },
      "execution_count": 224,
      "outputs": [
        {
          "output_type": "stream",
          "name": "stdout",
          "text": [
            "452/452 [==============================] - 1s 2ms/step\n",
            "452/452 [==============================] - 1s 2ms/step\n",
            "452/452 [==============================] - 4s 8ms/step\n",
            "MLP:\n",
            "Mean Square Error: 0.0001\n",
            "Mean Absolute Error: 0.0071\n",
            "Mean Absolute Percentage Error: 0.7103%\n",
            "\n",
            "CNN:\n",
            "Mean Square Error: 0.0002\n",
            "Mean Absolute Error: 0.0092\n",
            "Mean Absolute Percentage Error: 0.9178%\n",
            "\n",
            "Conv-LSTM:\n",
            "Mean Square Error: 0.0804\n",
            "Mean Absolute Error: 0.2446\n",
            "Mean Absolute Percentage Error: 24.4605%\n",
            "\n"
          ]
        }
      ]
    },
    {
      "cell_type": "markdown",
      "source": [
        "#Naïve Forecast"
      ],
      "metadata": {
        "id": "Qo_WtTpMuyT7"
      }
    },
    {
      "cell_type": "code",
      "source": [
        "x_train_naive_forcast = x_train.reshape((14440, 5))\n",
        "print(x_train_naive_forcast.shape)"
      ],
      "metadata": {
        "colab": {
          "base_uri": "https://localhost:8080/"
        },
        "id": "BOuUdnDVw0oD",
        "outputId": "25cf2de6-88bc-4bd9-c151-39ea11309348"
      },
      "execution_count": 225,
      "outputs": [
        {
          "output_type": "stream",
          "name": "stdout",
          "text": [
            "(14440, 5)\n"
          ]
        }
      ]
    },
    {
      "cell_type": "code",
      "source": [
        "import numpy as np\n",
        "import matplotlib.pyplot as plt\n",
        "\n",
        "# Function to implement Naïve Forecast for univariate time series\n",
        "def naive_forecast(x_train, y_train):\n",
        "    # Shift the y_train values by one time step\n",
        "    naive_forecasted = np.roll(y_train, shift=1, axis=0)\n",
        "    naive_forecasted[0] = 0  # Set the first value to NaN since there is no previous value for the first time step\n",
        "    return naive_forecasted\n",
        "\n",
        "# Apply Naïve Forecast to the dataset\n",
        "naive_forecasted = naive_forecast(x_train, y_train)\n",
        "\n",
        "# Print the resulting arrays with Naïve Forecast\n",
        "print(\"Original y_train:\\n\", y_train[:, 0])\n",
        "print(\"\\nNaïve Forecast:\\n\", naive_forecasted[:, 0])\n",
        "\n",
        "# Plot the actual values and Naïve Forecast\n",
        "plt.figure(figsize=(15, 10))\n",
        "plt.plot(y_train[:, 0], label='Actual Values')\n",
        "plt.plot(naive_forecasted[:, 0], label='Naïve Forecast', linestyle='dashed', color='red')\n",
        "plt.xlabel('Time Step')\n",
        "plt.ylabel('Normalized Price')\n",
        "plt.legend()\n",
        "plt.title('Naïve Forecast:')\n",
        "plt.show()\n"
      ],
      "metadata": {
        "colab": {
          "base_uri": "https://localhost:8080/",
          "height": 963
        },
        "id": "Ik-4D6RjyPsY",
        "outputId": "b8b0d06c-695c-42b0-d99f-dabd4f66f005"
      },
      "execution_count": 226,
      "outputs": [
        {
          "output_type": "stream",
          "name": "stdout",
          "text": [
            "Original y_train:\n",
            " [0.00403009 0.0033276  0.00275593 ... 0.91517914 0.93052266 0.93741174]\n",
            "\n",
            "Naïve Forecast:\n",
            " [0.         0.00403009 0.0033276  ... 0.90271252 0.91517914 0.93052266]\n"
          ]
        },
        {
          "output_type": "display_data",
          "data": {
            "text/plain": [
              "<Figure size 1500x1000 with 1 Axes>"
            ],
            "image/png": "[encoded data removed]"
          },
          "metadata": {}
        }
      ]
    },
    {
      "cell_type": "code",
      "source": [
        "evaluate_prediction(naive_forecasted, y_train, 'Naïve Forecast')"
      ],
      "metadata": {
        "colab": {
          "base_uri": "https://localhost:8080/"
        },
        "id": "ZjjDR6t_y4DE",
        "outputId": "897e059f-9974-44b1-e1de-2a4af7003c2e"
      },
      "execution_count": 227,
      "outputs": [
        {
          "output_type": "stream",
          "name": "stdout",
          "text": [
            "Naïve Forecast:\n",
            "Mean Square Error: 0.0003\n",
            "Mean Absolute Error: 0.0060\n",
            "Mean Absolute Percentage Error: 0.6023%\n",
            "\n"
          ]
        }
      ]
    }
  ]
}